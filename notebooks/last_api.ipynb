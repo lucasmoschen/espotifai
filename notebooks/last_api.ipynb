{
 "metadata": {
  "language_info": {
   "codemirror_mode": {
    "name": "ipython",
    "version": 3
   },
   "file_extension": ".py",
   "mimetype": "text/x-python",
   "name": "python",
   "nbconvert_exporter": "python",
   "pygments_lexer": "ipython3",
   "version": "3.7.3-final"
  },
  "orig_nbformat": 2,
  "kernelspec": {
   "name": "python3",
   "display_name": "Python 3"
  }
 },
 "nbformat": 4,
 "nbformat_minor": 2,
 "cells": [
  {
   "cell_type": "markdown",
   "metadata": {},
   "source": [
    "# Last API with pylast\n",
    "\n",
    "[Oficial Website](https://www.last.fm/api/)\n",
    "\n",
    "[PyLast Repo](https://github.com/pylast)"
   ]
  },
  {
   "cell_type": "code",
   "execution_count": 1,
   "metadata": {},
   "outputs": [],
   "source": [
    "import requests"
   ]
  },
  {
   "cell_type": "code",
   "execution_count": 2,
   "metadata": {},
   "outputs": [],
   "source": [
    "import pandas as pd \n",
    "import numpy as np \n",
    "import pylast\n",
    "\n",
    "import os\n",
    "import json\n",
    "import sys\n",
    "\n",
    "sys.path.append('../scripts/') #Yes, i'm on windows\n",
    "\n",
    "from create_last_database import User"
   ]
  },
  {
   "cell_type": "code",
   "execution_count": 3,
   "metadata": {},
   "outputs": [],
   "source": [
    "API_KEY = input()\n",
    "API_SECRET = input()\n",
    "\n",
    "network = pylast.LastFMNetwork(api_key=API_KEY, api_secret=API_SECRET)"
   ]
  },
  {
   "cell_type": "markdown",
   "metadata": {},
   "source": [
    "### Writting users by network"
   ]
  },
  {
   "cell_type": "code",
   "execution_count": 4,
   "metadata": {
    "tags": []
   },
   "outputs": [
    {
     "output_type": "stream",
     "name": "stdout",
     "text": "Level 1 compĺeted\n"
    }
   ],
   "source": [
    "known_users = ['arcticmonkeys-','angeloky','allanxguimaraes', 'angeloky']\n",
    "write_users = User(network)\n",
    "write_users.write_users_names(known_users, '../data/users.csv', 5, 8)"
   ]
  },
  {
   "cell_type": "markdown",
   "metadata": {},
   "source": [
    "Now we have a small part of tha data (100 random users from the preview 44 thousand users). We've collected only some of the possible information"
   ]
  },
  {
   "cell_type": "code",
   "execution_count": 118,
   "metadata": {},
   "outputs": [],
   "source": [
    "if not os.path.exists('users_info.json'):\n",
    "    with open('users_info.json', 'w') as f:\n",
    "        json.dump([], f)\n",
    "\n",
    "with open('users_info.json', 'r+') as f: \n",
    "    data = json.load(f)\n",
    "    data.extend(users_info)\n",
    "    f.seek(0)\n",
    "    json.dump(data, f)"
   ]
  }
 ]
}