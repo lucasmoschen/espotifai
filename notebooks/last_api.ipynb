{
 "metadata": {
  "language_info": {
   "codemirror_mode": {
    "name": "ipython",
    "version": 3
   },
   "file_extension": ".py",
   "mimetype": "text/x-python",
   "name": "python",
   "nbconvert_exporter": "python",
   "pygments_lexer": "ipython3",
   "version": "3.7.3-final"
  },
  "orig_nbformat": 2,
  "kernelspec": {
   "name": "python3",
   "display_name": "Python 3"
  }
 },
 "nbformat": 4,
 "nbformat_minor": 2,
 "cells": [
  {
   "cell_type": "markdown",
   "metadata": {},
   "source": [
    "# Last API with pylast"
   ]
  },
  {
   "cell_type": "code",
   "execution_count": 25,
   "metadata": {},
   "outputs": [],
   "source": [
    "import pandas as pd \n",
    "import numpy as np \n",
    "import pylast\n",
    "import os\n",
    "import json"
   ]
  },
  {
   "cell_type": "code",
   "execution_count": 2,
   "metadata": {},
   "outputs": [],
   "source": [
    "API_KEY = input()\n",
    "API_SECRET = input()\n",
    "\n",
    "network = pylast.LastFMNetwork(api_key=API_KEY, api_secret=API_SECRET)"
   ]
  },
  {
   "cell_type": "markdown",
   "metadata": {},
   "source": [
    "### Getting users by network"
   ]
  },
  {
   "cell_type": "code",
   "execution_count": 3,
   "metadata": {
    "tags": []
   },
   "outputs": [],
   "source": [
    "def get_friends(user, limit = 50): \n",
    "    try: \n",
    "        friends = user.get_friends(limit = limit)\n",
    "    except pylast.WSError: \n",
    "        return []\n",
    "    name_friends = [link.name for link in friends]\n",
    "    return name_friends \n",
    "\n",
    "def build_network(network, user, network_list = [], level = 5): \n",
    "    friends = get_friends(user)\n",
    "    write_in_file(friends)\n",
    "    network_list.extend(friends)\n",
    "    if level > 0:\n",
    "        for friend in friends: \n",
    "            build_network(network, network.get_user(friend), network_list, level - 1)\n",
    "    else:\n",
    "        return\n",
    "\n",
    "def write_in_file(lst: list):\n",
    "    with open('users.txt', 'a') as f: \n",
    "        for i in lst:\n",
    "            f.write(i)\n",
    "            f.write('\\n')\n",
    "\n",
    "#user = network.get_user(username = 'allanxguimaraes')\n",
    "#write_in_file(['allanxguimaraes'])\n",
    "#users = [] \n",
    "#build_network(network, user, users, level = 5)"
   ]
  },
  {
   "cell_type": "markdown",
   "metadata": {},
   "source": [
    "## Get user information "
   ]
  },
  {
   "cell_type": "code",
   "execution_count": 65,
   "metadata": {
    "tags": []
   },
   "outputs": [],
   "source": [
    "def get_track_id(track: str, artist: str):\n",
    "    with open('id_tracks.json', 'r+') as f:\n",
    "        data = json.load(f)\n",
    "        try:\n",
    "            track_id = data[track + ';;' + artist][0]\n",
    "        except KeyError: \n",
    "            track_id = len(data.keys())\n",
    "            data.update({track + ';;' + artist: track_id})\n",
    "            print(data)\n",
    "            f.seek(0)\n",
    "            json.dump(data, f)\n",
    "        return track_id\n",
    "\n",
    "def get_track_by_id(track_id: int): \n",
    "    with open('id_tracks.json', 'r') as f:\n",
    "        data = json.load(f)\n",
    "    for t in data.items():\n",
    "        if t[1] == track_id:\n",
    "            return t[0].split(';;') "
   ]
  },
  {
   "cell_type": "code",
   "execution_count": 66,
   "metadata": {},
   "outputs": [],
   "source": [
    "def get_user_info(network, username: str) -> dict: \n",
    "\n",
    "    user = network.get_user(username = username)\n",
    "\n",
    "    info = {}\n",
    "    info['name'] = username\n",
    "    info['country'] = user.get_country().name\n",
    "    info['subscriber'] = int(user.is_subscriber())\n",
    "    info['playcount'] = user.get_playcount()\n",
    "    info['registered_since'] = user.get_registered()\n",
    "    info['loved_tracks'] = []\n",
    "    for loved in user.get_loved_tracks():\n",
    "        track_id = get_track_id(loved.track.title, loved.track.artist.name)\n",
    "        info['loved_tracks'].append(track_id)\n",
    "    info['latest_tracks'] = []\n",
    "    for latest in user.get_recent_tracks(limit = 50):\n",
    "        track_id = get_track_id(latest.track.title, latest.track.artist.name)\n",
    "        info['latest_tracks'].append(track_id)\n",
    "    "
   ]
  },
  {
   "cell_type": "code",
   "execution_count": 38,
   "metadata": {
    "tags": []
   },
   "outputs": [
    {
     "output_type": "stream",
     "name": "stdout",
     "text": "['network', 'ws_prefix', 'name', 'get_name', 'get_artist_tracks', 'get_friends', 'get_loved_tracks', 'get_now_playing', 'get_recent_tracks', 'get_country', 'is_subscriber', 'get_playcount', 'get_registered', 'get_unixtime_registered', 'get_tagged_albums', 'get_tagged_artists', 'get_tagged_tracks', 'get_top_albums', 'get_top_artists', 'get_top_tags', 'get_top_tracks', 'get_track_scrobbles', 'get_image', 'get_url', 'get_library', 'get_wiki_published_date', 'get_wiki_summary', 'get_wiki_content', 'get_wiki', 'get_weekly_chart_dates', 'get_weekly_album_charts', 'get_weekly_artist_charts', 'get_weekly_track_charts', 'get_weekly_charts']\n"
    }
   ],
   "source": [
    "user = network.get_user('allanxguimaraes')\n",
    "print([i for i in user.__dir__() if i[0] != '_'])"
   ]
  },
  {
   "cell_type": "code",
   "execution_count": 30,
   "metadata": {
    "tags": []
   },
   "outputs": [],
   "source": [
    "with open('users.txt', 'r') as f:\n",
    "    text = f.read()\n",
    "    users = text.split(sep = '\\n')\n",
    "\n",
    "users = np.unique(users)\n",
    "chosen_users = np.random.choice(users, size = 100)\n",
    "\n",
    "users_info = []\n",
    "for username in chosen_users:\n",
    "    user = network.get_user(username = username)"
   ]
  },
  {
   "cell_type": "code",
   "execution_count": null,
   "metadata": {},
   "outputs": [],
   "source": []
  }
 ]
}