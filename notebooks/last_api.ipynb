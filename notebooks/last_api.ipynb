{
 "metadata": {
  "language_info": {
   "codemirror_mode": {
    "name": "ipython",
    "version": 3
   },
   "file_extension": ".py",
   "mimetype": "text/x-python",
   "name": "python",
   "nbconvert_exporter": "python",
   "pygments_lexer": "ipython3",
   "version": "3.7.3-final"
  },
  "orig_nbformat": 2,
  "kernelspec": {
   "name": "python3",
   "display_name": "Python 3"
  }
 },
 "nbformat": 4,
 "nbformat_minor": 2,
 "cells": [
  {
   "cell_type": "markdown",
   "metadata": {},
   "source": [
    "# Last API with pylast\n",
    "\n",
    "[Oficial Website](https://www.last.fm/api/)\n",
    "\n",
    "[PyLast Repo](https://github.com/pylast)"
   ]
  },
  {
   "cell_type": "code",
   "execution_count": 25,
   "metadata": {},
   "outputs": [],
   "source": [
    "import pandas as pd \n",
    "import numpy as np \n",
    "import pylast\n",
    "import os\n",
    "import json"
   ]
  },
  {
   "cell_type": "code",
   "execution_count": 2,
   "metadata": {},
   "outputs": [],
   "source": [
    "API_KEY = input()\n",
    "API_SECRET = input()\n",
    "\n",
    "network = pylast.LastFMNetwork(api_key=API_KEY, api_secret=API_SECRET)"
   ]
  },
  {
   "cell_type": "markdown",
   "metadata": {},
   "source": [
    "### Getting users by network"
   ]
  },
  {
   "cell_type": "code",
   "execution_count": 3,
   "metadata": {
    "tags": []
   },
   "outputs": [],
   "source": [
    "def get_friends(user, limit = 50): \n",
    "    try: \n",
    "        friends = user.get_friends(limit = limit)\n",
    "    except pylast.WSError: \n",
    "        return []\n",
    "    name_friends = [link.name for link in friends]\n",
    "    return name_friends \n",
    "\n",
    "def build_network(network, user, network_list = [], level = 5): \n",
    "    friends = get_friends(user)\n",
    "    write_in_file(friends)\n",
    "    network_list.extend(friends)\n",
    "    if level > 0:\n",
    "        for friend in friends: \n",
    "            build_network(network, network.get_user(friend), network_list, level - 1)\n",
    "    else:\n",
    "        return\n",
    "\n",
    "def write_in_file(lst: list):\n",
    "    with open('users.txt', 'a') as f: \n",
    "        for i in lst:\n",
    "            f.write(i)\n",
    "            f.write('\\n')\n",
    "\n",
    "#user = network.get_user(username = 'allanxguimaraes')\n",
    "#write_in_file(['allanxguimaraes'])\n",
    "#users = [] \n",
    "#build_network(network, user, users, level = 5)"
   ]
  },
  {
   "cell_type": "markdown",
   "metadata": {},
   "source": [
    "## Get user information \n",
    "\n",
    "Some auxiliary functions"
   ]
  },
  {
   "cell_type": "code",
   "execution_count": 102,
   "metadata": {
    "tags": []
   },
   "outputs": [],
   "source": [
    "def get_item_id(item: str, artist: str, istrack: bool):\n",
    "\n",
    "    if istrack: filename = 'id_tracks.json'\n",
    "    else: filename = 'album_tracks.json' \n",
    "\n",
    "    with open(filename, 'r+') as f:\n",
    "        data = json.load(f)\n",
    "        try:\n",
    "            item_id = data[item + ';;' + artist]\n",
    "        except KeyError: \n",
    "            item_id = len(data.keys())\n",
    "            data.update({item + ';;' + artist: item_id})\n",
    "            f.seek(0)\n",
    "            json.dump(data, f)\n",
    "        return item_id\n",
    "\n",
    "def get_item_by_id(item_id: int, istrack: bool): \n",
    "\n",
    "    if istrack: filename = 'id_tracks.json'\n",
    "    else: filename = 'album_tracks.json' \n",
    "\n",
    "    with open(filename, 'r') as f:\n",
    "        data = json.load(f)\n",
    "    for t in data.items():\n",
    "        if t[1] == item_id:\n",
    "            return t[0].split(';;') "
   ]
  },
  {
   "cell_type": "code",
   "execution_count": 103,
   "metadata": {},
   "outputs": [],
   "source": [
    "def get_user_info(network, username: str) -> dict: \n",
    "\n",
    "    user = network.get_user(username = username)\n",
    "    info = {}\n",
    "\n",
    "    info['name'] = username\n",
    "    try: \n",
    "        info['country'] = user.get_country().name\n",
    "    except AttributeError: \n",
    "        info['country'] = None\n",
    "        print(username)\n",
    "    info['subscriber'] = int(user.is_subscriber())\n",
    "    info['playcount'] = user.get_playcount()\n",
    "    info['registered_since'] = user.get_registered()\n",
    "\n",
    "    info['loved_tracks'] = []\n",
    "    for loved in user.get_loved_tracks():\n",
    "        track_id = get_item_id(loved.track.title, loved.track.artist.name, True)\n",
    "        info['loved_tracks'].append(track_id)\n",
    "\n",
    "    info['latest_tracks'] = []\n",
    "    for latest in user.get_recent_tracks(limit = 50):\n",
    "        track_id = get_item_id(latest.track.title, latest.track.artist.name, True)\n",
    "        info['latest_tracks'].append(track_id)\n",
    "\n",
    "    info['top_albums'] = []\n",
    "    for album in user.get_top_albums():\n",
    "        album_id = get_item_id(album.item.title, album.item.artist.name, False)\n",
    "        weight = album.weight\n",
    "        info['top_albums'].append((album_id, weight))\n",
    "\n",
    "    info['top_tracks'] = []\n",
    "    for track in user.get_top_tracks():\n",
    "        track_id = get_item_id(track.item.title, track.item.artist.name, True)\n",
    "        weight = track.weight\n",
    "        info['top_tracks'].append((track_id, weight))\n",
    "    \n",
    "    return info "
   ]
  },
  {
   "cell_type": "code",
   "execution_count": 117,
   "metadata": {
    "tags": []
   },
   "outputs": [],
   "source": [
    "with open('users.txt', 'r') as f:\n",
    "    text = f.read()\n",
    "    users = text.split(sep = '\\n')\n",
    "\n",
    "users = np.unique(users)\n",
    "chosen_users = np.random.choice(users, size = 30)\n",
    "\n",
    "users_info = []\n",
    "for username in chosen_users:\n",
    "    info = get_user_info(network, username)\n",
    "    users_info.append(info)"
   ]
  },
  {
   "cell_type": "markdown",
   "metadata": {},
   "source": [
    "Now we have a small part of tha data (100 random users from the preview 44 thousand users). We've collected only some of the possible information"
   ]
  },
  {
   "cell_type": "code",
   "execution_count": 118,
   "metadata": {},
   "outputs": [],
   "source": [
    "if not os.path.exists('users_info.json'):\n",
    "    with open('users_info.json', 'w') as f:\n",
    "        json.dump([], f)\n",
    "\n",
    "with open('users_info.json', 'r+') as f: \n",
    "    data = json.load(f)\n",
    "    data.extend(users_info)\n",
    "    f.seek(0)\n",
    "    json.dump(data, f)"
   ]
  }
 ]
}