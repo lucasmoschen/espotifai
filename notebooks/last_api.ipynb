{
 "metadata": {
  "language_info": {
   "codemirror_mode": {
    "name": "ipython",
    "version": 3
   },
   "file_extension": ".py",
   "mimetype": "text/x-python",
   "name": "python",
   "nbconvert_exporter": "python",
   "pygments_lexer": "ipython3",
   "version": "3.7.3-final"
  },
  "orig_nbformat": 2,
  "kernelspec": {
   "name": "python3",
   "display_name": "Python 3"
  }
 },
 "nbformat": 4,
 "nbformat_minor": 2,
 "cells": [
  {
   "cell_type": "markdown",
   "metadata": {},
   "source": [
    "# Last API with pylast\n",
    "\n",
    "[Oficial Website](https://www.last.fm/api/)\n",
    "\n",
    "[PyLast Repo](https://github.com/pylast)"
   ]
  },
  {
   "cell_type": "code",
   "execution_count": 1,
   "metadata": {},
   "outputs": [],
   "source": [
    "import pandas as pd \n",
    "import numpy as np \n",
    "import pylast\n",
    "\n",
    "import os\n",
    "import json\n",
    "import sys\n",
    "import requests\n",
    "import time \n",
    "\n",
    "sys.path.append('../scripts/') \n",
    "\n",
    "from create_last_database import User\n",
    "from create_last_database import Track\n",
    "from create_last_database import Artist\n",
    "from create_last_database import Album\n",
    "from create_last_database import Tag"
   ]
  },
  {
   "cell_type": "markdown",
   "metadata": {},
   "source": [
    "## Network with the API through PyLast"
   ]
  },
  {
   "cell_type": "code",
   "execution_count": 2,
   "metadata": {},
   "outputs": [],
   "source": [
    "API_KEY = input()\n",
    "API_SECRET = input()\n",
    "\n",
    "network = pylast.LastFMNetwork(api_key=API_KEY, api_secret=API_SECRET)"
   ]
  },
  {
   "cell_type": "markdown",
   "metadata": {},
   "source": [
    "Let's get some random users built by `generate_lastfm_users.py`"
   ]
  },
  {
   "cell_type": "code",
   "execution_count": 3,
   "metadata": {},
   "outputs": [
    {
     "output_type": "execute_result",
     "data": {
      "text/plain": "   user_id  user_name\n0    22330   elleciel\n1    20893   Wolfet93\n2    22057    drewogg\n3    15821   Sharenge\n4    14704  old_urach",
      "text/html": "<div>\n<style scoped>\n    .dataframe tbody tr th:only-of-type {\n        vertical-align: middle;\n    }\n\n    .dataframe tbody tr th {\n        vertical-align: top;\n    }\n\n    .dataframe thead th {\n        text-align: right;\n    }\n</style>\n<table border=\"1\" class=\"dataframe\">\n  <thead>\n    <tr style=\"text-align: right;\">\n      <th></th>\n      <th>user_id</th>\n      <th>user_name</th>\n    </tr>\n  </thead>\n  <tbody>\n    <tr>\n      <td>0</td>\n      <td>22330</td>\n      <td>elleciel</td>\n    </tr>\n    <tr>\n      <td>1</td>\n      <td>20893</td>\n      <td>Wolfet93</td>\n    </tr>\n    <tr>\n      <td>2</td>\n      <td>22057</td>\n      <td>drewogg</td>\n    </tr>\n    <tr>\n      <td>3</td>\n      <td>15821</td>\n      <td>Sharenge</td>\n    </tr>\n    <tr>\n      <td>4</td>\n      <td>14704</td>\n      <td>old_urach</td>\n    </tr>\n  </tbody>\n</table>\n</div>"
     },
     "metadata": {},
     "execution_count": 3
    }
   ],
   "source": [
    "def get_random_users(filepath: str, quantity: int = 1000, random_state: int = 200) -> pd.DataFrame:\n",
    "    \n",
    "    users = pd.read_csv(filepath)\n",
    "    chosen_users = users.sample(n = quantity, replace = False, random_state = random_state, axis = 'index')\n",
    "    chosen_users.index = list(range(0,len(chosen_users)))\n",
    "\n",
    "    return chosen_users\n",
    "\n",
    "user_path = \"../data/lastfm-api/users_lastfm.csv\"\n",
    "\n",
    "users = get_random_users(user_path)\n",
    "users.head()"
   ]
  },
  {
   "cell_type": "markdown",
   "metadata": {},
   "source": [
    "Now we have 1k users, we can build the database for them with the main aspects"
   ]
  },
  {
   "cell_type": "code",
   "execution_count": 10,
   "metadata": {
    "tags": []
   },
   "outputs": [],
   "source": [
    "users_class = User(network, user_path)\n",
    "if not os.path.exists('../data/lastfm-api/1k_users_info_lastfm.json'):\n",
    "    with open('../data/lastfm-api/1k_users_info_lastfm.json', 'w') as f:\n",
    "        json.dump({}, f)\n",
    "for user_id, user_name in users.as_matrix():\n",
    "    with open('../data/lastfm-api/1k_users_info_lastfm.json', 'r+') as f:\n",
    "        data = json.load(f)\n",
    "        if str(user_id) in data:\n",
    "            continue\n",
    "        user_info = users_class.get_user_info(user_name)\n",
    "        data[user_id] = user_info\n",
    "        f.seek(0)\n",
    "        json.dump(data, f)\n",
    "        if len(data) % 100 == 0:\n",
    "            print(len(data))"
   ]
  },
  {
   "cell_type": "markdown",
   "metadata": {},
   "source": []
  }
 ]
}