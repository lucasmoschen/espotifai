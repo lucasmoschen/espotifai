{
 "metadata": {
  "language_info": {
   "codemirror_mode": {
    "name": "ipython",
    "version": 3
   },
   "file_extension": ".py",
   "mimetype": "text/x-python",
   "name": "python",
   "nbconvert_exporter": "python",
   "pygments_lexer": "ipython3",
   "version": "3.7.3-final"
  },
  "orig_nbformat": 2,
  "kernelspec": {
   "name": "python3",
   "display_name": "Python 3"
  }
 },
 "nbformat": 4,
 "nbformat_minor": 2,
 "cells": [
  {
   "cell_type": "markdown",
   "metadata": {},
   "source": [
    "# Last API with pylast\n",
    "\n",
    "[Oficial Website](https://www.last.fm/api/)\n",
    "\n",
    "[PyLast Repo](https://github.com/pylast)"
   ]
  },
  {
   "cell_type": "code",
   "execution_count": 1,
   "metadata": {},
   "outputs": [],
   "source": [
    "import pandas as pd \n",
    "import numpy as np \n",
    "import pylast\n",
    "\n",
    "import os\n",
    "import json\n",
    "import sys\n",
    "import requests\n",
    "import time \n",
    "\n",
    "sys.path.append('../scripts/') \n",
    "\n",
    "from create_last_database import User\n",
    "from create_last_database import Track\n",
    "from create_last_database import Artist\n",
    "from create_last_database import Album\n",
    "from create_last_database import Tag\n",
    "from create_last_database import Library"
   ]
  },
  {
   "cell_type": "markdown",
   "metadata": {},
   "source": [
    "## Network with the API through PyLast"
   ]
  },
  {
   "cell_type": "code",
   "execution_count": 2,
   "metadata": {},
   "outputs": [],
   "source": [
    "API_KEY = 'e1c7232e1969f803afc123fe4fbd7f18' #input()\n",
    "API_SECRET = 'dd1404bb182228426ab6b440425dbff1' #input()\n",
    "\n",
    "network = pylast.LastFMNetwork(api_key=API_KEY, api_secret=API_SECRET)"
   ]
  },
  {
   "cell_type": "markdown",
   "metadata": {},
   "source": [
    "Let's get some random users built by `generate_lastfm_users.py`"
   ]
  },
  {
   "cell_type": "code",
   "execution_count": 3,
   "metadata": {},
   "outputs": [
    {
     "output_type": "execute_result",
     "data": {
      "text/plain": "   user_id  user_name\n0    22330   elleciel\n1    20893   Wolfet93\n2    22057    drewogg\n3    15821   Sharenge\n4    14704  old_urach",
      "text/html": "<div>\n<style scoped>\n    .dataframe tbody tr th:only-of-type {\n        vertical-align: middle;\n    }\n\n    .dataframe tbody tr th {\n        vertical-align: top;\n    }\n\n    .dataframe thead th {\n        text-align: right;\n    }\n</style>\n<table border=\"1\" class=\"dataframe\">\n  <thead>\n    <tr style=\"text-align: right;\">\n      <th></th>\n      <th>user_id</th>\n      <th>user_name</th>\n    </tr>\n  </thead>\n  <tbody>\n    <tr>\n      <th>0</th>\n      <td>22330</td>\n      <td>elleciel</td>\n    </tr>\n    <tr>\n      <th>1</th>\n      <td>20893</td>\n      <td>Wolfet93</td>\n    </tr>\n    <tr>\n      <th>2</th>\n      <td>22057</td>\n      <td>drewogg</td>\n    </tr>\n    <tr>\n      <th>3</th>\n      <td>15821</td>\n      <td>Sharenge</td>\n    </tr>\n    <tr>\n      <th>4</th>\n      <td>14704</td>\n      <td>old_urach</td>\n    </tr>\n  </tbody>\n</table>\n</div>"
     },
     "metadata": {},
     "execution_count": 3
    }
   ],
   "source": [
    "def get_random_users(filepath: str, quantity: int = 1000, random_state: int = 200) -> pd.DataFrame:\n",
    "    \n",
    "    users = pd.read_csv(filepath)\n",
    "    chosen_users = users.sample(n = quantity, replace = False, random_state = random_state, axis = 'index')\n",
    "    chosen_users.index = list(range(0,len(chosen_users)))\n",
    "\n",
    "    return chosen_users\n",
    "\n",
    "user_path = \"../data/lastfm-api/users_lastfm.csv\"\n",
    "\n",
    "users = get_random_users(user_path)\n",
    "users.head()"
   ]
  },
  {
   "cell_type": "markdown",
   "metadata": {},
   "source": [
    "# Creating the database \n",
    "\n",
    "It takes a long, long time. Some problems with MalResponse, Network and Connection are expected. For some especial cases, I just rerun the cell. \n",
    "\n",
    "We start with the users info. All the following information is saved in a json format."
   ]
  },
  {
   "cell_type": "code",
   "execution_count": null,
   "metadata": {
    "tags": []
   },
   "outputs": [],
   "source": [
    "users_class = User(network, user_path)\n",
    "\n",
    "if not os.path.exists('../data/lastfm-api/1k_users_info_lastfm.json'):\n",
    "    with open('../data/lastfm-api/1k_users_info_lastfm.json', 'w') as f:\n",
    "        json.dump({}, f)\n",
    "with open('../data/lastfm-api/1k_users_info_lastfm.json'):\n",
    "    data = json.load(f)\n",
    "for user_id, user_name in users.as_matrix():\n",
    "    if str(user_id) in data:\n",
    "        continue\n",
    "    with open('../data/lastfm-api/1k_users_info_lastfm.json', 'r+') as f:\n",
    "        data = json.load(f)\n",
    "        user_info = users_class.get_user_info(user_name)\n",
    "        data[user_id] = user_info\n",
    "        f.seek(0)\n",
    "        json.dump(data, f)\n",
    "        if len(data) % 100 == 0:\n",
    "            print('{} users - DONE'.format(len(data)))"
   ]
  },
  {
   "cell_type": "markdown",
   "metadata": {},
   "source": [
    "With the `tracks.csv` file, I will build the tracks dataset. It may take long time!"
   ]
  },
  {
   "cell_type": "code",
   "execution_count": null,
   "metadata": {
    "tags": []
   },
   "outputs": [],
   "source": [
    "track_class = Track(network)\n",
    "\n",
    "if not os.path.exists('../data/lastfm-api/tracks_lastfm_info.json'):\n",
    "    with open('../data/lastfm-api/tracks_lastfm_info.json', 'w') as f:\n",
    "        json.dump({}, f)\n",
    "with open('../data/lastfm-api/tracks_lastfm_info.json', 'r+') as f:\n",
    "    data = json.load(f)\n",
    "for track_id, data_track in track_class.tracks_df.iterrows():\n",
    "    if str(track_id) in data:\n",
    "        continue\n",
    "    with open('../data/lastfm-api/tracks_lastfm_info.json', 'r+') as f:\n",
    "        t0 = time.time()\n",
    "        data = json.load(f)\n",
    "        while True:\n",
    "            try: \n",
    "                track_info = track_class.get_track_info(data_track.track_name, data_track.artist_name)\n",
    "            except pylast.NetworkError:\n",
    "                time.sleep(2)\n",
    "                continue\n",
    "            break\n",
    "        data[track_id] = track_info\n",
    "        f.seek(0)\n",
    "        json.dump(data, f)\n",
    "        if len(data) % 100 == 0:\n",
    "            print('{} tracks - DONE'.format(len(data)))"
   ]
  },
  {
   "cell_type": "markdown",
   "metadata": {},
   "source": [
    "Building the artist database"
   ]
  },
  {
   "cell_type": "code",
   "execution_count": 33,
   "metadata": {
    "tags": []
   },
   "outputs": [
    {
     "output_type": "error",
     "ename": "KeyboardInterrupt",
     "evalue": "",
     "traceback": [
      "\u001b[0;31m---------------------------------------------------------------------------\u001b[0m",
      "\u001b[0;31mKeyboardInterrupt\u001b[0m                         Traceback (most recent call last)",
      "\u001b[0;32m<ipython-input-33-d7c5b4f77421>\u001b[0m in \u001b[0;36m<module>\u001b[0;34m\u001b[0m\n\u001b[1;32m     14\u001b[0m         \u001b[0;32mwhile\u001b[0m \u001b[0;32mTrue\u001b[0m\u001b[0;34m:\u001b[0m\u001b[0;34m\u001b[0m\u001b[0;34m\u001b[0m\u001b[0m\n\u001b[1;32m     15\u001b[0m             \u001b[0;32mtry\u001b[0m\u001b[0;34m:\u001b[0m\u001b[0;34m\u001b[0m\u001b[0;34m\u001b[0m\u001b[0m\n\u001b[0;32m---> 16\u001b[0;31m                 \u001b[0martist_info\u001b[0m \u001b[0;34m=\u001b[0m \u001b[0martist_class\u001b[0m\u001b[0;34m.\u001b[0m\u001b[0mget_artist_info\u001b[0m\u001b[0;34m(\u001b[0m\u001b[0mdata_artist\u001b[0m\u001b[0;34m.\u001b[0m\u001b[0martist_name\u001b[0m\u001b[0;34m)\u001b[0m\u001b[0;34m\u001b[0m\u001b[0;34m\u001b[0m\u001b[0m\n\u001b[0m\u001b[1;32m     17\u001b[0m             \u001b[0;32mexcept\u001b[0m \u001b[0mpylast\u001b[0m\u001b[0;34m.\u001b[0m\u001b[0mNetworkError\u001b[0m\u001b[0;34m:\u001b[0m\u001b[0;34m\u001b[0m\u001b[0;34m\u001b[0m\u001b[0m\n\u001b[1;32m     18\u001b[0m                 \u001b[0mtime\u001b[0m\u001b[0;34m.\u001b[0m\u001b[0msleep\u001b[0m\u001b[0;34m(\u001b[0m\u001b[0;36m2\u001b[0m\u001b[0;34m)\u001b[0m\u001b[0;34m\u001b[0m\u001b[0;34m\u001b[0m\u001b[0m\n",
      "\u001b[0;32m~/Documents/GitHub/espotifai/scripts/create_last_database.py\u001b[0m in \u001b[0;36mget_artist_info\u001b[0;34m(self, artist_name, limit)\u001b[0m\n\u001b[1;32m    299\u001b[0m                                     for top in artist.get_top_albums(limit = limit)]\n\u001b[1;32m    300\u001b[0m         artist_info['toptags'] = [(tags.get_id_by_name(top.item.name), top.weight) \n\u001b[0;32m--> 301\u001b[0;31m                                   for top in artist.get_top_tags(limit = limit)]\n\u001b[0m\u001b[1;32m    302\u001b[0m         artist_info['toptracks'] = [(tracks.get_id_by_name(top.item.title, top.item.artist.name), top.weight) \n\u001b[1;32m    303\u001b[0m                                     for top in artist.get_top_tracks(limit = limit)]\n",
      "\u001b[0;32m~/anaconda3/lib/python3.7/site-packages/pylast/__init__.py\u001b[0m in \u001b[0;36mget_top_tags\u001b[0;34m(self, limit)\u001b[0m\n\u001b[1;32m   1378\u001b[0m         \u001b[0;34m\"\"\"Returns a list of the most frequently used Tags on this object.\"\"\"\u001b[0m\u001b[0;34m\u001b[0m\u001b[0;34m\u001b[0m\u001b[0m\n\u001b[1;32m   1379\u001b[0m \u001b[0;34m\u001b[0m\u001b[0m\n\u001b[0;32m-> 1380\u001b[0;31m         \u001b[0mdoc\u001b[0m \u001b[0;34m=\u001b[0m \u001b[0mself\u001b[0m\u001b[0;34m.\u001b[0m\u001b[0m_request\u001b[0m\u001b[0;34m(\u001b[0m\u001b[0mself\u001b[0m\u001b[0;34m.\u001b[0m\u001b[0mws_prefix\u001b[0m \u001b[0;34m+\u001b[0m \u001b[0;34m\".getTopTags\"\u001b[0m\u001b[0;34m,\u001b[0m \u001b[0;32mTrue\u001b[0m\u001b[0;34m)\u001b[0m\u001b[0;34m\u001b[0m\u001b[0;34m\u001b[0m\u001b[0m\n\u001b[0m\u001b[1;32m   1381\u001b[0m \u001b[0;34m\u001b[0m\u001b[0m\n\u001b[1;32m   1382\u001b[0m         \u001b[0melements\u001b[0m \u001b[0;34m=\u001b[0m \u001b[0mdoc\u001b[0m\u001b[0;34m.\u001b[0m\u001b[0mgetElementsByTagName\u001b[0m\u001b[0;34m(\u001b[0m\u001b[0;34m\"tag\"\u001b[0m\u001b[0;34m)\u001b[0m\u001b[0;34m\u001b[0m\u001b[0;34m\u001b[0m\u001b[0m\n",
      "\u001b[0;32m~/anaconda3/lib/python3.7/site-packages/pylast/__init__.py\u001b[0m in \u001b[0;36m_request\u001b[0;34m(self, method_name, cacheable, params)\u001b[0m\n\u001b[1;32m   1124\u001b[0m             \u001b[0mparams\u001b[0m \u001b[0;34m=\u001b[0m \u001b[0mself\u001b[0m\u001b[0;34m.\u001b[0m\u001b[0m_get_params\u001b[0m\u001b[0;34m(\u001b[0m\u001b[0;34m)\u001b[0m\u001b[0;34m\u001b[0m\u001b[0;34m\u001b[0m\u001b[0m\n\u001b[1;32m   1125\u001b[0m \u001b[0;34m\u001b[0m\u001b[0m\n\u001b[0;32m-> 1126\u001b[0;31m         \u001b[0;32mreturn\u001b[0m \u001b[0m_Request\u001b[0m\u001b[0;34m(\u001b[0m\u001b[0mself\u001b[0m\u001b[0;34m.\u001b[0m\u001b[0mnetwork\u001b[0m\u001b[0;34m,\u001b[0m \u001b[0mmethod_name\u001b[0m\u001b[0;34m,\u001b[0m \u001b[0mparams\u001b[0m\u001b[0;34m)\u001b[0m\u001b[0;34m.\u001b[0m\u001b[0mexecute\u001b[0m\u001b[0;34m(\u001b[0m\u001b[0mcacheable\u001b[0m\u001b[0;34m)\u001b[0m\u001b[0;34m\u001b[0m\u001b[0;34m\u001b[0m\u001b[0m\n\u001b[0m\u001b[1;32m   1127\u001b[0m \u001b[0;34m\u001b[0m\u001b[0m\n\u001b[1;32m   1128\u001b[0m     \u001b[0;32mdef\u001b[0m \u001b[0m_get_params\u001b[0m\u001b[0;34m(\u001b[0m\u001b[0mself\u001b[0m\u001b[0;34m)\u001b[0m\u001b[0;34m:\u001b[0m\u001b[0;34m\u001b[0m\u001b[0;34m\u001b[0m\u001b[0m\n",
      "\u001b[0;32m~/anaconda3/lib/python3.7/site-packages/pylast/__init__.py\u001b[0m in \u001b[0;36mexecute\u001b[0;34m(self, cacheable)\u001b[0m\n\u001b[1;32m    957\u001b[0m             \u001b[0mresponse\u001b[0m \u001b[0;34m=\u001b[0m \u001b[0mself\u001b[0m\u001b[0;34m.\u001b[0m\u001b[0m_get_cached_response\u001b[0m\u001b[0;34m(\u001b[0m\u001b[0;34m)\u001b[0m\u001b[0;34m\u001b[0m\u001b[0;34m\u001b[0m\u001b[0m\n\u001b[1;32m    958\u001b[0m         \u001b[0;32melse\u001b[0m\u001b[0;34m:\u001b[0m\u001b[0;34m\u001b[0m\u001b[0;34m\u001b[0m\u001b[0m\n\u001b[0;32m--> 959\u001b[0;31m             \u001b[0mresponse\u001b[0m \u001b[0;34m=\u001b[0m \u001b[0mself\u001b[0m\u001b[0;34m.\u001b[0m\u001b[0m_download_response\u001b[0m\u001b[0;34m(\u001b[0m\u001b[0;34m)\u001b[0m\u001b[0;34m\u001b[0m\u001b[0;34m\u001b[0m\u001b[0m\n\u001b[0m\u001b[1;32m    960\u001b[0m \u001b[0;34m\u001b[0m\u001b[0m\n\u001b[1;32m    961\u001b[0m         \u001b[0;32mreturn\u001b[0m \u001b[0mminidom\u001b[0m\u001b[0;34m.\u001b[0m\u001b[0mparseString\u001b[0m\u001b[0;34m(\u001b[0m\u001b[0m_string\u001b[0m\u001b[0;34m(\u001b[0m\u001b[0mresponse\u001b[0m\u001b[0;34m)\u001b[0m\u001b[0;34m.\u001b[0m\u001b[0mreplace\u001b[0m\u001b[0;34m(\u001b[0m\u001b[0;34m\"opensearch:\"\u001b[0m\u001b[0;34m,\u001b[0m \u001b[0;34m\"\"\u001b[0m\u001b[0;34m)\u001b[0m\u001b[0;34m)\u001b[0m\u001b[0;34m\u001b[0m\u001b[0;34m\u001b[0m\u001b[0m\n",
      "\u001b[0;32m~/anaconda3/lib/python3.7/site-packages/pylast/__init__.py\u001b[0m in \u001b[0;36m_download_response\u001b[0;34m(self)\u001b[0m\n\u001b[1;32m    928\u001b[0m \u001b[0;34m\u001b[0m\u001b[0m\n\u001b[1;32m    929\u001b[0m             \u001b[0;32mtry\u001b[0m\u001b[0;34m:\u001b[0m\u001b[0;34m\u001b[0m\u001b[0;34m\u001b[0m\u001b[0m\n\u001b[0;32m--> 930\u001b[0;31m                 \u001b[0mconn\u001b[0m\u001b[0;34m.\u001b[0m\u001b[0mrequest\u001b[0m\u001b[0;34m(\u001b[0m\u001b[0mmethod\u001b[0m\u001b[0;34m=\u001b[0m\u001b[0;34m\"POST\"\u001b[0m\u001b[0;34m,\u001b[0m \u001b[0murl\u001b[0m\u001b[0;34m=\u001b[0m\u001b[0mhost_subdir\u001b[0m\u001b[0;34m,\u001b[0m \u001b[0mbody\u001b[0m\u001b[0;34m=\u001b[0m\u001b[0mdata\u001b[0m\u001b[0;34m,\u001b[0m \u001b[0mheaders\u001b[0m\u001b[0;34m=\u001b[0m\u001b[0mheaders\u001b[0m\u001b[0;34m)\u001b[0m\u001b[0;34m\u001b[0m\u001b[0;34m\u001b[0m\u001b[0m\n\u001b[0m\u001b[1;32m    931\u001b[0m             \u001b[0;32mexcept\u001b[0m \u001b[0mException\u001b[0m \u001b[0;32mas\u001b[0m \u001b[0me\u001b[0m\u001b[0;34m:\u001b[0m\u001b[0;34m\u001b[0m\u001b[0;34m\u001b[0m\u001b[0m\n\u001b[1;32m    932\u001b[0m                 \u001b[0;32mraise\u001b[0m \u001b[0mNetworkError\u001b[0m\u001b[0;34m(\u001b[0m\u001b[0mself\u001b[0m\u001b[0;34m.\u001b[0m\u001b[0mnetwork\u001b[0m\u001b[0;34m,\u001b[0m \u001b[0me\u001b[0m\u001b[0;34m)\u001b[0m\u001b[0;34m\u001b[0m\u001b[0;34m\u001b[0m\u001b[0m\n",
      "\u001b[0;32m~/anaconda3/lib/python3.7/http/client.py\u001b[0m in \u001b[0;36mrequest\u001b[0;34m(self, method, url, body, headers, encode_chunked)\u001b[0m\n\u001b[1;32m   1227\u001b[0m                 encode_chunked=False):\n\u001b[1;32m   1228\u001b[0m         \u001b[0;34m\"\"\"Send a complete request to the server.\"\"\"\u001b[0m\u001b[0;34m\u001b[0m\u001b[0;34m\u001b[0m\u001b[0m\n\u001b[0;32m-> 1229\u001b[0;31m         \u001b[0mself\u001b[0m\u001b[0;34m.\u001b[0m\u001b[0m_send_request\u001b[0m\u001b[0;34m(\u001b[0m\u001b[0mmethod\u001b[0m\u001b[0;34m,\u001b[0m \u001b[0murl\u001b[0m\u001b[0;34m,\u001b[0m \u001b[0mbody\u001b[0m\u001b[0;34m,\u001b[0m \u001b[0mheaders\u001b[0m\u001b[0;34m,\u001b[0m \u001b[0mencode_chunked\u001b[0m\u001b[0;34m)\u001b[0m\u001b[0;34m\u001b[0m\u001b[0;34m\u001b[0m\u001b[0m\n\u001b[0m\u001b[1;32m   1230\u001b[0m \u001b[0;34m\u001b[0m\u001b[0m\n\u001b[1;32m   1231\u001b[0m     \u001b[0;32mdef\u001b[0m \u001b[0m_send_request\u001b[0m\u001b[0;34m(\u001b[0m\u001b[0mself\u001b[0m\u001b[0;34m,\u001b[0m \u001b[0mmethod\u001b[0m\u001b[0;34m,\u001b[0m \u001b[0murl\u001b[0m\u001b[0;34m,\u001b[0m \u001b[0mbody\u001b[0m\u001b[0;34m,\u001b[0m \u001b[0mheaders\u001b[0m\u001b[0;34m,\u001b[0m \u001b[0mencode_chunked\u001b[0m\u001b[0;34m)\u001b[0m\u001b[0;34m:\u001b[0m\u001b[0;34m\u001b[0m\u001b[0;34m\u001b[0m\u001b[0m\n",
      "\u001b[0;32m~/anaconda3/lib/python3.7/http/client.py\u001b[0m in \u001b[0;36m_send_request\u001b[0;34m(self, method, url, body, headers, encode_chunked)\u001b[0m\n\u001b[1;32m   1273\u001b[0m             \u001b[0;31m# default charset of iso-8859-1.\u001b[0m\u001b[0;34m\u001b[0m\u001b[0;34m\u001b[0m\u001b[0;34m\u001b[0m\u001b[0m\n\u001b[1;32m   1274\u001b[0m             \u001b[0mbody\u001b[0m \u001b[0;34m=\u001b[0m \u001b[0m_encode\u001b[0m\u001b[0;34m(\u001b[0m\u001b[0mbody\u001b[0m\u001b[0;34m,\u001b[0m \u001b[0;34m'body'\u001b[0m\u001b[0;34m)\u001b[0m\u001b[0;34m\u001b[0m\u001b[0;34m\u001b[0m\u001b[0m\n\u001b[0;32m-> 1275\u001b[0;31m         \u001b[0mself\u001b[0m\u001b[0;34m.\u001b[0m\u001b[0mendheaders\u001b[0m\u001b[0;34m(\u001b[0m\u001b[0mbody\u001b[0m\u001b[0;34m,\u001b[0m \u001b[0mencode_chunked\u001b[0m\u001b[0;34m=\u001b[0m\u001b[0mencode_chunked\u001b[0m\u001b[0;34m)\u001b[0m\u001b[0;34m\u001b[0m\u001b[0;34m\u001b[0m\u001b[0m\n\u001b[0m\u001b[1;32m   1276\u001b[0m \u001b[0;34m\u001b[0m\u001b[0m\n\u001b[1;32m   1277\u001b[0m     \u001b[0;32mdef\u001b[0m \u001b[0mgetresponse\u001b[0m\u001b[0;34m(\u001b[0m\u001b[0mself\u001b[0m\u001b[0;34m)\u001b[0m\u001b[0;34m:\u001b[0m\u001b[0;34m\u001b[0m\u001b[0;34m\u001b[0m\u001b[0m\n",
      "\u001b[0;32m~/anaconda3/lib/python3.7/http/client.py\u001b[0m in \u001b[0;36mendheaders\u001b[0;34m(self, message_body, encode_chunked)\u001b[0m\n\u001b[1;32m   1222\u001b[0m         \u001b[0;32melse\u001b[0m\u001b[0;34m:\u001b[0m\u001b[0;34m\u001b[0m\u001b[0;34m\u001b[0m\u001b[0m\n\u001b[1;32m   1223\u001b[0m             \u001b[0;32mraise\u001b[0m \u001b[0mCannotSendHeader\u001b[0m\u001b[0;34m(\u001b[0m\u001b[0;34m)\u001b[0m\u001b[0;34m\u001b[0m\u001b[0;34m\u001b[0m\u001b[0m\n\u001b[0;32m-> 1224\u001b[0;31m         \u001b[0mself\u001b[0m\u001b[0;34m.\u001b[0m\u001b[0m_send_output\u001b[0m\u001b[0;34m(\u001b[0m\u001b[0mmessage_body\u001b[0m\u001b[0;34m,\u001b[0m \u001b[0mencode_chunked\u001b[0m\u001b[0;34m=\u001b[0m\u001b[0mencode_chunked\u001b[0m\u001b[0;34m)\u001b[0m\u001b[0;34m\u001b[0m\u001b[0;34m\u001b[0m\u001b[0m\n\u001b[0m\u001b[1;32m   1225\u001b[0m \u001b[0;34m\u001b[0m\u001b[0m\n\u001b[1;32m   1226\u001b[0m     def request(self, method, url, body=None, headers={}, *,\n",
      "\u001b[0;32m~/anaconda3/lib/python3.7/http/client.py\u001b[0m in \u001b[0;36m_send_output\u001b[0;34m(self, message_body, encode_chunked)\u001b[0m\n\u001b[1;32m   1014\u001b[0m         \u001b[0mmsg\u001b[0m \u001b[0;34m=\u001b[0m \u001b[0;34mb\"\\r\\n\"\u001b[0m\u001b[0;34m.\u001b[0m\u001b[0mjoin\u001b[0m\u001b[0;34m(\u001b[0m\u001b[0mself\u001b[0m\u001b[0;34m.\u001b[0m\u001b[0m_buffer\u001b[0m\u001b[0;34m)\u001b[0m\u001b[0;34m\u001b[0m\u001b[0;34m\u001b[0m\u001b[0m\n\u001b[1;32m   1015\u001b[0m         \u001b[0;32mdel\u001b[0m \u001b[0mself\u001b[0m\u001b[0;34m.\u001b[0m\u001b[0m_buffer\u001b[0m\u001b[0;34m[\u001b[0m\u001b[0;34m:\u001b[0m\u001b[0;34m]\u001b[0m\u001b[0;34m\u001b[0m\u001b[0;34m\u001b[0m\u001b[0m\n\u001b[0;32m-> 1016\u001b[0;31m         \u001b[0mself\u001b[0m\u001b[0;34m.\u001b[0m\u001b[0msend\u001b[0m\u001b[0;34m(\u001b[0m\u001b[0mmsg\u001b[0m\u001b[0;34m)\u001b[0m\u001b[0;34m\u001b[0m\u001b[0;34m\u001b[0m\u001b[0m\n\u001b[0m\u001b[1;32m   1017\u001b[0m \u001b[0;34m\u001b[0m\u001b[0m\n\u001b[1;32m   1018\u001b[0m         \u001b[0;32mif\u001b[0m \u001b[0mmessage_body\u001b[0m \u001b[0;32mis\u001b[0m \u001b[0;32mnot\u001b[0m \u001b[0;32mNone\u001b[0m\u001b[0;34m:\u001b[0m\u001b[0;34m\u001b[0m\u001b[0;34m\u001b[0m\u001b[0m\n",
      "\u001b[0;32m~/anaconda3/lib/python3.7/http/client.py\u001b[0m in \u001b[0;36msend\u001b[0;34m(self, data)\u001b[0m\n\u001b[1;32m    954\u001b[0m         \u001b[0;32mif\u001b[0m \u001b[0mself\u001b[0m\u001b[0;34m.\u001b[0m\u001b[0msock\u001b[0m \u001b[0;32mis\u001b[0m \u001b[0;32mNone\u001b[0m\u001b[0;34m:\u001b[0m\u001b[0;34m\u001b[0m\u001b[0;34m\u001b[0m\u001b[0m\n\u001b[1;32m    955\u001b[0m             \u001b[0;32mif\u001b[0m \u001b[0mself\u001b[0m\u001b[0;34m.\u001b[0m\u001b[0mauto_open\u001b[0m\u001b[0;34m:\u001b[0m\u001b[0;34m\u001b[0m\u001b[0;34m\u001b[0m\u001b[0m\n\u001b[0;32m--> 956\u001b[0;31m                 \u001b[0mself\u001b[0m\u001b[0;34m.\u001b[0m\u001b[0mconnect\u001b[0m\u001b[0;34m(\u001b[0m\u001b[0;34m)\u001b[0m\u001b[0;34m\u001b[0m\u001b[0;34m\u001b[0m\u001b[0m\n\u001b[0m\u001b[1;32m    957\u001b[0m             \u001b[0;32melse\u001b[0m\u001b[0;34m:\u001b[0m\u001b[0;34m\u001b[0m\u001b[0;34m\u001b[0m\u001b[0m\n\u001b[1;32m    958\u001b[0m                 \u001b[0;32mraise\u001b[0m \u001b[0mNotConnected\u001b[0m\u001b[0;34m(\u001b[0m\u001b[0;34m)\u001b[0m\u001b[0;34m\u001b[0m\u001b[0;34m\u001b[0m\u001b[0m\n",
      "\u001b[0;32m~/anaconda3/lib/python3.7/http/client.py\u001b[0m in \u001b[0;36mconnect\u001b[0;34m(self)\u001b[0m\n\u001b[1;32m   1390\u001b[0m \u001b[0;34m\u001b[0m\u001b[0m\n\u001b[1;32m   1391\u001b[0m             self.sock = self._context.wrap_socket(self.sock,\n\u001b[0;32m-> 1392\u001b[0;31m                                                   server_hostname=server_hostname)\n\u001b[0m\u001b[1;32m   1393\u001b[0m \u001b[0;34m\u001b[0m\u001b[0m\n\u001b[1;32m   1394\u001b[0m     \u001b[0m__all__\u001b[0m\u001b[0;34m.\u001b[0m\u001b[0mappend\u001b[0m\u001b[0;34m(\u001b[0m\u001b[0;34m\"HTTPSConnection\"\u001b[0m\u001b[0;34m)\u001b[0m\u001b[0;34m\u001b[0m\u001b[0;34m\u001b[0m\u001b[0m\n",
      "\u001b[0;32m~/anaconda3/lib/python3.7/ssl.py\u001b[0m in \u001b[0;36mwrap_socket\u001b[0;34m(self, sock, server_side, do_handshake_on_connect, suppress_ragged_eofs, server_hostname, session)\u001b[0m\n\u001b[1;32m    410\u001b[0m             \u001b[0mserver_hostname\u001b[0m\u001b[0;34m=\u001b[0m\u001b[0mserver_hostname\u001b[0m\u001b[0;34m,\u001b[0m\u001b[0;34m\u001b[0m\u001b[0;34m\u001b[0m\u001b[0m\n\u001b[1;32m    411\u001b[0m             \u001b[0mcontext\u001b[0m\u001b[0;34m=\u001b[0m\u001b[0mself\u001b[0m\u001b[0;34m,\u001b[0m\u001b[0;34m\u001b[0m\u001b[0;34m\u001b[0m\u001b[0m\n\u001b[0;32m--> 412\u001b[0;31m             \u001b[0msession\u001b[0m\u001b[0;34m=\u001b[0m\u001b[0msession\u001b[0m\u001b[0;34m\u001b[0m\u001b[0;34m\u001b[0m\u001b[0m\n\u001b[0m\u001b[1;32m    413\u001b[0m         )\n\u001b[1;32m    414\u001b[0m \u001b[0;34m\u001b[0m\u001b[0m\n",
      "\u001b[0;32m~/anaconda3/lib/python3.7/ssl.py\u001b[0m in \u001b[0;36m_create\u001b[0;34m(cls, sock, server_side, do_handshake_on_connect, suppress_ragged_eofs, server_hostname, context, session)\u001b[0m\n\u001b[1;32m    851\u001b[0m                         \u001b[0;31m# non-blocking\u001b[0m\u001b[0;34m\u001b[0m\u001b[0;34m\u001b[0m\u001b[0;34m\u001b[0m\u001b[0m\n\u001b[1;32m    852\u001b[0m                         \u001b[0;32mraise\u001b[0m \u001b[0mValueError\u001b[0m\u001b[0;34m(\u001b[0m\u001b[0;34m\"do_handshake_on_connect should not be specified for non-blocking sockets\"\u001b[0m\u001b[0;34m)\u001b[0m\u001b[0;34m\u001b[0m\u001b[0;34m\u001b[0m\u001b[0m\n\u001b[0;32m--> 853\u001b[0;31m                     \u001b[0mself\u001b[0m\u001b[0;34m.\u001b[0m\u001b[0mdo_handshake\u001b[0m\u001b[0;34m(\u001b[0m\u001b[0;34m)\u001b[0m\u001b[0;34m\u001b[0m\u001b[0;34m\u001b[0m\u001b[0m\n\u001b[0m\u001b[1;32m    854\u001b[0m             \u001b[0;32mexcept\u001b[0m \u001b[0;34m(\u001b[0m\u001b[0mOSError\u001b[0m\u001b[0;34m,\u001b[0m \u001b[0mValueError\u001b[0m\u001b[0;34m)\u001b[0m\u001b[0;34m:\u001b[0m\u001b[0;34m\u001b[0m\u001b[0;34m\u001b[0m\u001b[0m\n\u001b[1;32m    855\u001b[0m                 \u001b[0mself\u001b[0m\u001b[0;34m.\u001b[0m\u001b[0mclose\u001b[0m\u001b[0;34m(\u001b[0m\u001b[0;34m)\u001b[0m\u001b[0;34m\u001b[0m\u001b[0;34m\u001b[0m\u001b[0m\n",
      "\u001b[0;32m~/anaconda3/lib/python3.7/ssl.py\u001b[0m in \u001b[0;36mdo_handshake\u001b[0;34m(self, block)\u001b[0m\n\u001b[1;32m   1115\u001b[0m             \u001b[0;32mif\u001b[0m \u001b[0mtimeout\u001b[0m \u001b[0;34m==\u001b[0m \u001b[0;36m0.0\u001b[0m \u001b[0;32mand\u001b[0m \u001b[0mblock\u001b[0m\u001b[0;34m:\u001b[0m\u001b[0;34m\u001b[0m\u001b[0;34m\u001b[0m\u001b[0m\n\u001b[1;32m   1116\u001b[0m                 \u001b[0mself\u001b[0m\u001b[0;34m.\u001b[0m\u001b[0msettimeout\u001b[0m\u001b[0;34m(\u001b[0m\u001b[0;32mNone\u001b[0m\u001b[0;34m)\u001b[0m\u001b[0;34m\u001b[0m\u001b[0;34m\u001b[0m\u001b[0m\n\u001b[0;32m-> 1117\u001b[0;31m             \u001b[0mself\u001b[0m\u001b[0;34m.\u001b[0m\u001b[0m_sslobj\u001b[0m\u001b[0;34m.\u001b[0m\u001b[0mdo_handshake\u001b[0m\u001b[0;34m(\u001b[0m\u001b[0;34m)\u001b[0m\u001b[0;34m\u001b[0m\u001b[0;34m\u001b[0m\u001b[0m\n\u001b[0m\u001b[1;32m   1118\u001b[0m         \u001b[0;32mfinally\u001b[0m\u001b[0;34m:\u001b[0m\u001b[0;34m\u001b[0m\u001b[0;34m\u001b[0m\u001b[0m\n\u001b[1;32m   1119\u001b[0m             \u001b[0mself\u001b[0m\u001b[0;34m.\u001b[0m\u001b[0msettimeout\u001b[0m\u001b[0;34m(\u001b[0m\u001b[0mtimeout\u001b[0m\u001b[0;34m)\u001b[0m\u001b[0;34m\u001b[0m\u001b[0;34m\u001b[0m\u001b[0m\n",
      "\u001b[0;31mKeyboardInterrupt\u001b[0m: "
     ]
    }
   ],
   "source": [
    "artist_class = Artist(network)\n",
    "\n",
    "if not os.path.exists('../data/lastfm-api/artists_lastfm_info.json'):\n",
    "    with open('../data/lastfm-api/artists_lastfm_info.json', 'w') as f:\n",
    "        json.dump({}, f)\n",
    "with open('../data/lastfm-api/artists_lastfm_info.json', 'r+') as f:\n",
    "    data = json.load(f)\n",
    "for artist_id, data_artist in artist_class.artists_df.iterrows():\n",
    "    if str(artist_id) in data:\n",
    "        continue\n",
    "    with open('../data/lastfm-api/artists_lastfm_info.json', 'r+') as f:\n",
    "        t0 = time.time()\n",
    "        data = json.load(f)\n",
    "        while True:\n",
    "            try: \n",
    "                artist_info = artist_class.get_artist_info(data_artist.artist_name)\n",
    "            except pylast.NetworkError:\n",
    "                time.sleep(2)\n",
    "                continue\n",
    "            break\n",
    "        data[artist_id] = artist_info\n",
    "        f.seek(0)\n",
    "        json.dump(data, f)\n",
    "        if len(data) % 100 == 0:\n",
    "            print('{} artists - DONE'.format(len(data)))"
   ]
  },
  {
   "cell_type": "markdown",
   "metadata": {},
   "source": [
    "Building the dabase for the tags"
   ]
  },
  {
   "cell_type": "code",
   "execution_count": null,
   "metadata": {
    "tags": []
   },
   "outputs": [],
   "source": [
    "tag_class = Tag(network)\n",
    "\n",
    "if not os.path.exists('../data/lastfm-api/tags_lastfm_info.json'):\n",
    "    with open('../data/lastfm-api/tags_lastfm_info.json', 'w') as f:\n",
    "        json.dump({}, f)\n",
    "with open('../data/lastfm-api/tags_lastfm_info.json', 'r+') as f:\n",
    "    data = json.load(f)\n",
    "for tag_id, data_tag in tag_class.tags_df.iterrows():\n",
    "    if str(tag_id) in data:\n",
    "        continue\n",
    "    with open('../data/lastfm-api/tags_lastfm_info.json', 'r+') as f:\n",
    "        t0 = time.time()\n",
    "        data = json.load(f)\n",
    "        while True:\n",
    "            try: \n",
    "                tag_info = tag_class.get_tag_info(data_tag.tag)\n",
    "            except pylast.NetworkError:\n",
    "                time.sleep(2)\n",
    "                continue\n",
    "            break\n",
    "        data[tag_id] = tag_info\n",
    "        f.seek(0)\n",
    "        json.dump(data, f)\n",
    "        if len(data) % 100 == 0:\n",
    "            print('{} tag - DONE'.format(len(data)))"
   ]
  },
  {
   "cell_type": "markdown",
   "metadata": {},
   "source": [
    "Converting similar tracks in track info to index. I separate of the original code cause it was lazy!"
   ]
  },
  {
   "cell_type": "code",
   "execution_count": 9,
   "metadata": {
    "tags": [
     "outputPrepend"
    ]
   },
   "outputs": [
    {
     "output_type": "stream",
     "name": "stdout",
     "text": " - DONE\n8180 - DONE\n8181 - DONE\n8182 - DONE\n8183 - DONE\n8184 - DONE\n8185 - DONE\n8186 - DONE\n8187 - DONE\n8188 - DONE\n8189 - DONE\n8190 - DONE\n8191 - DONE\n8192 - DONE\n8193 - DONE\n8194 - DONE\n8195 - DONE\n8196 - DONE\n8197 - DONE\n8198 - DONE\n8199 - DONE\n8200 - DONE\n8201 - DONE\n8202 - DONE\n8203 - DONE\n8204 - DONE\n8205 - DONE\n8206 - DONE\n8207 - DONE\n8208 - DONE\n8209 - DONE\n8210 - DONE\n8211 - DONE\n8212 - DONE\n8213 - DONE\n8214 - DONE\n8215 - DONE\n8216 - DONE\n8217 - DONE\n8218 - DONE\n8219 - DONE\n8220 - DONE\n8221 - DONE\n8222 - DONE\n8223 - DONE\n8224 - DONE\n8225 - DONE\n8226 - DONE\n8227 - DONE\n8228 - DONE\n8229 - DONE\n8230 - DONE\n8231 - DONE\n8232 - DONE\n8233 - DONE\n8234 - DONE\n8235 - DONE\n8236 - DONE\n8237 - DONE\n8238 - DONE\n8239 - DONE\n8240 - DONE\n8241 - DONE\n8242 - DONE\n8243 - DONE\n8244 - DONE\n8245 - DONE\n8246 - DONE\n8247 - DONE\n8248 - DONE\n8250 - DONE\n8251 - DONE\n8252 - DONE\n8253 - DONE\n8256 - DONE\n8257 - DONE\n8258 - DONE\n8259 - DONE\n8260 - DONE\n8261 - DONE\n8262 - DONE\n8263 - DONE\n8264 - DONE\n8266 - DONE\n8267 - DONE\n8268 - DONE\n8269 - DONE\n8270 - DONE\n8271 - DONE\n8272 - DONE\n8273 - DONE\n8274 - DONE\n8275 - DONE\n8276 - DONE\n8277 - DONE\n8278 - DONE\n8279 - DONE\n8280 - DONE\n8281 - DONE\n8282 - DONE\n8283 - DONE\n8284 - DONE\n8285 - DONE\n8286 - DONE\n8287 - DONE\n8288 - DONE\n8289 - DONE\n8290 - DONE\n8291 - DONE\n8292 - DONE\n8293 - DONE\n8294 - DONE\n8295 - DONE\n8296 - DONE\n8297 - DONE\n8298 - DONE\n8299 - DONE\n8300 - DONE\n8301 - DONE\n8302 - DONE\n8303 - DONE\n8304 - DONE\n8305 - DONE\n8306 - DONE\n8307 - DONE\n8308 - DONE\n8309 - DONE\n8310 - DONE\n8311 - DONE\n8312 - DONE\n8313 - DONE\n8314 - DONE\n8315 - DONE\n8316 - DONE\n8317 - DONE\n8318 - DONE\n8319 - DONE\n8320 - DONE\n8321 - DONE\n8322 - DONE\n8323 - DONE\n8324 - DONE\n8325 - DONE\n8326 - DONE\n8327 - DONE\n8328 - DONE\n8329 - DONE\n8330 - DONE\n8331 - DONE\n8332 - DONE\n8333 - DONE\n8334 - DONE\n8335 - DONE\n8336 - DONE\n8337 - DONE\n8338 - DONE\n8339 - DONE\n8340 - DONE\n8341 - DONE\n8342 - DONE\n8343 - DONE\n8344 - DONE\n8345 - DONE\n8346 - DONE\n8347 - DONE\n8348 - DONE\n8349 - DONE\n8350 - DONE\n8351 - DONE\n8352 - DONE\n8353 - DONE\n8355 - DONE\n8356 - DONE\n8357 - DONE\n8358 - DONE\n8359 - DONE\n8360 - DONE\n8361 - DONE\n8362 - DONE\n8363 - DONE\n8364 - DONE\n8366 - DONE\n8367 - DONE\n8368 - DONE\n8369 - DONE\n8370 - DONE\n8371 - DONE\n8372 - DONE\n8373 - DONE\n8374 - DONE\n8375 - DONE\n8377 - DONE\n8378 - DONE\n8379 - DONE\n8380 - DONE\n8381 - DONE\n8382 - DONE\n8383 - DONE\n8384 - DONE\n8385 - DONE\n8386 - DONE\n8387 - DONE\n8388 - DONE\n8389 - DONE\n8390 - DONE\n8391 - DONE\n8392 - DONE\n8393 - DONE\n8394 - DONE\n8395 - DONE\n8396 - DONE\n8397 - DONE\n8398 - DONE\n8399 - DONE\n8400 - DONE\n8401 - DONE\n8402 - DONE\n8403 - DONE\n8404 - DONE\n8405 - DONE\n8406 - DONE\n8407 - DONE\n8408 - DONE\n8409 - DONE\n8410 - DONE\n8411 - DONE\n8412 - DONE\n8413 - DONE\n8414 - DONE\n8415 - DONE\n8416 - DONE\n8417 - DONE\n8418 - DONE\n8419 - DONE\n8420 - DONE\n8422 - DONE\n8423 - DONE\n8424 - DONE\n8425 - DONE\n8426 - DONE\n8427 - DONE\n8428 - DONE\n8429 - DONE\n8430 - DONE\n8431 - DONE\n8432 - DONE\n8433 - DONE\n8434 - DONE\n8435 - DONE\n8436 - DONE\n8437 - DONE\n8438 - DONE\n8439 - DONE\n8440 - DONE\n8441 - DONE\n8442 - DONE\n8443 - DONE\n8444 - DONE\n8445 - DONE\n8446 - DONE\n8447 - DONE\n8448 - DONE\n8450 - DONE\n8451 - DONE\n8452 - DONE\n8453 - DONE\n8454 - DONE\n8455 - DONE\n8456 - DONE\n8457 - DONE\n8458 - DONE\n8459 - DONE\n8460 - DONE\n8461 - DONE\n8462 - DONE\n8463 - DONE\n8464 - DONE\n8465 - DONE\n8466 - DONE\n8467 - DONE\n8468 - DONE\n8469 - DONE\n8470 - DONE\n8471 - DONE\n8472 - DONE\n8473 - DONE\n8474 - DONE\n8475 - DONE\n8476 - DONE\n8477 - DONE\n8478 - DONE\n8479 - DONE\n8480 - DONE\n8481 - DONE\n8482 - DONE\n8483 - DONE\n8484 - DONE\n8485 - DONE\n8486 - DONE\n8487 - DONE\n8488 - DONE\n8489 - DONE\n8490 - DONE\n8491 - DONE\n8492 - DONE\n8493 - DONE\n8494 - DONE\n8495 - DONE\n8496 - DONE\n8497 - DONE\n8498 - DONE\n8499 - DONE\n8500 - DONE\n8501 - DONE\n8502 - DONE\n8503 - DONE\n8504 - DONE\n8505 - DONE\n8506 - DONE\n8507 - DONE\n8508 - DONE\n8509 - DONE\n8510 - DONE\n8511 - DONE\n8512 - DONE\n8513 - DONE\n8514 - DONE\n8515 - DONE\n8516 - DONE\n8517 - DONE\n8518 - DONE\n8519 - DONE\n8520 - DONE\n8521 - DONE\n8522 - DONE\n8523 - DONE\n8524 - DONE\n8525 - DONE\n8526 - DONE\n8527 - DONE\n8528 - DONE\n8529 - DONE\n8530 - DONE\n8531 - DONE\n8532 - DONE\n8533 - DONE\n8534 - DONE\n8535 - DONE\n8536 - DONE\n8537 - DONE\n8538 - DONE\n8539 - DONE\n8540 - DONE\n8541 - DONE\n8542 - DONE\n8543 - DONE\n8544 - DONE\n8545 - DONE\n8546 - DONE\n8547 - DONE\n8548 - DONE\n8549 - DONE\n8550 - DONE\n8551 - DONE\n8552 - DONE\n8553 - DONE\n8554 - DONE\n8555 - DONE\n8556 - DONE\n8557 - DONE\n8558 - DONE\n8559 - DONE\n8560 - DONE\n8561 - DONE\n8562 - DONE\n8563 - DONE\n8564 - DONE\n8565 - DONE\n8566 - DONE\n8567 - DONE\n8568 - DONE\n8569 - DONE\n8570 - DONE\n8571 - DONE\n8572 - DONE\n8573 - DONE\n8574 - DONE\n8575 - DONE\n8577 - DONE\n8578 - DONE\n8579 - DONE\n8580 - DONE\n8581 - DONE\n8582 - DONE\n8583 - DONE\n8584 - DONE\n8585 - DONE\n8586 - DONE\n8587 - DONE\n8588 - DONE\n8589 - DONE\n8590 - DONE\n8591 - DONE\n8592 - DONE\n8593 - DONE\n8594 - DONE\n8595 - DONE\n8596 - DONE\n8597 - DONE\n8598 - DONE\n8599 - DONE\n8600 - DONE\n8601 - DONE\n8602 - DONE\n8603 - DONE\n8604 - DONE\n8605 - DONE\n8606 - DONE\n8607 - DONE\n8608 - DONE\n8609 - DONE\n8610 - DONE\n8611 - DONE\n8612 - DONE\n8613 - DONE\n8614 - DONE\n8615 - DONE\n8616 - DONE\n8617 - DONE\n8618 - DONE\n8619 - DONE\n8620 - DONE\n8621 - DONE\n8622 - DONE\n8623 - DONE\n8624 - DONE\n8625 - DONE\n8626 - DONE\n8627 - DONE\n8628 - DONE\n8629 - DONE\n8630 - DONE\n8631 - DONE\n8632 - DONE\n8633 - DONE\n8634 - DONE\n8635 - DONE\n8636 - DONE\n8637 - DONE\n8638 - DONE\n8639 - DONE\n8640 - DONE\n8641 - DONE\n8642 - DONE\n8643 - DONE\n8644 - DONE\n8646 - DONE\n8647 - DONE\n8648 - DONE\n8649 - DONE\n8650 - DONE\n8651 - DONE\n8652 - DONE\n8653 - DONE\n8654 - DONE\n8655 - DONE\n8656 - DONE\n8657 - DONE\n8658 - DONE\n8659 - DONE\n8660 - DONE\n8661 - DONE\n8662 - DONE\n8663 - DONE\n8664 - DONE\n8665 - DONE\n8666 - DONE\n8667 - DONE\n8668 - DONE\n8669 - DONE\n8670 - DONE\n8671 - DONE\n8672 - DONE\n8673 - DONE\n8674 - DONE\n8675 - DONE\n8676 - DONE\n8677 - DONE\n8678 - DONE\n8679 - DONE\n8680 - DONE\n8681 - DONE\n8682 - DONE\n8683 - DONE\n8684 - DONE\n8685 - DONE\n8686 - DONE\n8687 - DONE\n8688 - DONE\n8689 - DONE\n8690 - DONE\n8692 - DONE\n8693 - DONE\n8694 - DONE\n8695 - DONE\n8696 - DONE\n8697 - DONE\n8698 - DONE\n8699 - DONE\n8700 - DONE\n8701 - DONE\n8702 - DONE\n8703 - DONE\n8704 - DONE\n8706 - DONE\n8707 - DONE\n8708 - DONE\n8709 - DONE\n8710 - DONE\n8711 - DONE\n8712 - DONE\n8714 - DONE\n8715 - DONE\n8717 - DONE\n8719 - DONE\n8720 - DONE\n8721 - DONE\n8722 - DONE\n8723 - DONE\n8724 - DONE\n8726 - DONE\n8727 - DONE\n8728 - DONE\n8730 - DONE\n8731 - DONE\n8732 - DONE\n8733 - DONE\n8734 - DONE\n8736 - DONE\n8737 - DONE\n8738 - DONE\n8739 - DONE\n8740 - DONE\n8741 - DONE\n8742 - DONE\n8743 - DONE\n8744 - DONE\n8745 - DONE\n8746 - DONE\n8747 - DONE\n8748 - DONE\n8749 - DONE\n8750 - DONE\n8751 - DONE\n8752 - DONE\n8753 - DONE\n8754 - DONE\n8755 - DONE\n8756 - DONE\n8757 - DONE\n8758 - DONE\n8759 - DONE\n8760 - DONE\n8761 - DONE\n8762 - DONE\n8763 - DONE\n8764 - DONE\n8765 - DONE\n8766 - DONE\n8767 - DONE\n8768 - DONE\n8769 - DONE\n8770 - DONE\n8771 - DONE\n8772 - DONE\n8773 - DONE\n8774 - DONE\n8775 - DONE\n8777 - DONE\n8778 - DONE\n8779 - DONE\n8780 - DONE\n8781 - DONE\n8783 - DONE\n8784 - DONE\n8785 - DONE\n8786 - DONE\n8787 - DONE\n8788 - DONE\n8790 - DONE\n8791 - DONE\n8792 - DONE\n8793 - DONE\n8795 - DONE\n8796 - DONE\n8797 - DONE\n8798 - DONE\n8799 - DONE\n8800 - DONE\n8801 - DONE\n8802 - DONE\n8803 - DONE\n8804 - DONE\n8805 - DONE\n8806 - DONE\n8807 - DONE\n8808 - DONE\n8809 - DONE\n8810 - DONE\n8811 - DONE\n8812 - DONE\n8813 - DONE\n8814 - DONE\n8815 - DONE\n8816 - DONE\n8817 - DONE\n8818 - DONE\n8819 - DONE\n8820 - DONE\n8821 - DONE\n8822 - DONE\n8823 - DONE\n8824 - DONE\n8825 - DONE\n8826 - DONE\n8827 - DONE\n8828 - DONE\n8829 - DONE\n8830 - DONE\n8831 - DONE\n8832 - DONE\n8833 - DONE\n8835 - DONE\n8836 - DONE\n8837 - DONE\n8838 - DONE\n8839 - DONE\n8840 - DONE\n8841 - DONE\n8842 - DONE\n8843 - DONE\n8844 - DONE\n8845 - DONE\n8846 - DONE\n8847 - DONE\n8848 - DONE\n8849 - DONE\n8850 - DONE\n8851 - DONE\n8852 - DONE\n8853 - DONE\n8854 - DONE\n8855 - DONE\n8856 - DONE\n8857 - DONE\n8858 - DONE\n8859 - DONE\n8860 - DONE\n8861 - DONE\n8862 - DONE\n8863 - DONE\n8864 - DONE\n8865 - DONE\n8866 - DONE\n8867 - DONE\n8868 - DONE\n8869 - DONE\n8870 - DONE\n8871 - DONE\n8873 - DONE\n8874 - DONE\n8875 - DONE\n8876 - DONE\n8877 - DONE\n8878 - DONE\n8879 - DONE\n8880 - DONE\n8881 - DONE\n8882 - DONE\n8883 - DONE\n8884 - DONE\n8885 - DONE\n8886 - DONE\n8887 - DONE\n8888 - DONE\n8889 - DONE\n8890 - DONE\n8891 - DONE\n8892 - DONE\n8893 - DONE\n8894 - DONE\n8895 - DONE\n8896 - DONE\n8897 - DONE\n8898 - DONE\n8899 - DONE\n8900 - DONE\n8902 - DONE\n8903 - DONE\n8904 - DONE\n8905 - DONE\n8906 - DONE\n8907 - DONE\n8908 - DONE\n8909 - DONE\n8910 - DONE\n8911 - DONE\n8912 - DONE\n8913 - DONE\n8914 - DONE\n8916 - DONE\n8917 - DONE\n8918 - DONE\n8919 - DONE\n8920 - DONE\n8921 - DONE\n8922 - DONE\n8923 - DONE\n8924 - DONE\n8925 - DONE\n8926 - DONE\n8927 - DONE\n8928 - DONE\n8929 - DONE\n8930 - DONE\n8931 - DONE\n8932 - DONE\n8933 - DONE\n8934 - DONE\n8935 - DONE\n8936 - DONE\n8937 - DONE\n8938 - DONE\n8939 - DONE\n8940 - DONE\n8941 - DONE\n8942 - DONE\n8943 - DONE\n8944 - DONE\n8945 - DONE\n8946 - DONE\n8947 - DONE\n8948 - DONE\n8949 - DONE\n8950 - DONE\n8951 - DONE\n8952 - DONE\n8953 - DONE\n8954 - DONE\n8955 - DONE\n8956 - DONE\n8957 - DONE\n8958 - DONE\n8959 - DONE\n8960 - DONE\n8961 - DONE\n8962 - DONE\n8963 - DONE\n8964 - DONE\n8965 - DONE\n8966 - DONE\n8967 - DONE\n8968 - DONE\n8969 - DONE\n8970 - DONE\n8971 - DONE\n8972 - DONE\n8973 - DONE\n8974 - DONE\n8975 - DONE\n8976 - DONE\n8977 - DONE\n8978 - DONE\n8979 - DONE\n8980 - DONE\n8981 - DONE\n8982 - DONE\n8983 - DONE\n8984 - DONE\n8985 - DONE\n8986 - DONE\n8987 - DONE\n8988 - DONE\n8989 - DONE\n8990 - DONE\n8991 - DONE\n8992 - DONE\n8993 - DONE\n8994 - DONE\n8995 - DONE\n8996 - DONE\n8997 - DONE\n8998 - DONE\n8999 - DONE\n9000 - DONE\n9001 - DONE\n9003 - DONE\n9004 - DONE\n9005 - DONE\n9006 - DONE\n9007 - DONE\n9008 - DONE\n9010 - DONE\n9011 - DONE\n9014 - DONE\n9016 - DONE\n9017 - DONE\n9018 - DONE\n9019 - DONE\n9021 - DONE\n9022 - DONE\n9023 - DONE\n9024 - DONE\n9025 - DONE\n9026 - DONE\n9027 - DONE\n9028 - DONE\n9029 - DONE\n9030 - DONE\n9031 - DONE\n9032 - DONE\n9033 - DONE\n9034 - DONE\n9035 - DONE\n9036 - DONE\n9037 - DONE\n9038 - DONE\n9039 - DONE\n9040 - DONE\n9041 - DONE\n9042 - DONE\n9043 - DONE\n9044 - DONE\n9045 - DONE\n9046 - DONE\n9047 - DONE\n9048 - DONE\n9049 - DONE\n9050 - DONE\n9051 - DONE\n9052 - DONE\n9053 - DONE\n9054 - DONE\n9055 - DONE\n9056 - DONE\n9057 - DONE\n9058 - DONE\n9059 - DONE\n9060 - DONE\n9061 - DONE\n9062 - DONE\n9063 - DONE\n9064 - DONE\n9065 - DONE\n9066 - DONE\n9067 - DONE\n9068 - DONE\n9069 - DONE\n9070 - DONE\n9071 - DONE\n9072 - DONE\n9073 - DONE\n9074 - DONE\n9075 - DONE\n9076 - DONE\n9077 - DONE\n9078 - DONE\n9079 - DONE\n9080 - DONE\n9081 - DONE\n9082 - DONE\n9083 - DONE\n9084 - DONE\n9085 - DONE\n9086 - DONE\n9087 - DONE\n9088 - DONE\n9089 - DONE\n9090 - DONE\n9091 - DONE\n9092 - DONE\n9093 - DONE\n9094 - DONE\n9095 - DONE\n9096 - DONE\n9097 - DONE\n9098 - DONE\n9099 - DONE\n9100 - DONE\n9101 - DONE\n9102 - DONE\n9103 - DONE\n9104 - DONE\n9105 - DONE\n9106 - DONE\n9107 - DONE\n9108 - DONE\n9109 - DONE\n9110 - DONE\n9111 - DONE\n9112 - DONE\n9113 - DONE\n9114 - DONE\n9115 - DONE\n9116 - DONE\n9117 - DONE\n9118 - DONE\n9119 - DONE\n9120 - DONE\n9121 - DONE\n9122 - DONE\n9123 - DONE\n9124 - DONE\n9125 - DONE\n9126 - DONE\n9127 - DONE\n9128 - DONE\n9130 - DONE\n9131 - DONE\n9132 - DONE\n9133 - DONE\n9134 - DONE\n9135 - DONE\n9136 - DONE\n9137 - DONE\n9138 - DONE\n9139 - DONE\n9140 - DONE\n9141 - DONE\n9142 - DONE\n9143 - DONE\n9144 - DONE\n9145 - DONE\n9146 - DONE\n9147 - DONE\n9149 - DONE\n9150 - DONE\n9151 - DONE\n9152 - DONE\n9153 - DONE\n9154 - DONE\n9155 - DONE\n9156 - DONE\n9157 - DONE\n9158 - DONE\n9159 - DONE\n9160 - DONE\n9162 - DONE\n9163 - DONE\n9164 - DONE\n9165 - DONE\n9166 - DONE\n9167 - DONE\n9168 - DONE\n9169 - DONE\n9170 - DONE\n9171 - DONE\n9172 - DONE\n9173 - DONE\n9174 - DONE\n9175 - DONE\n9177 - DONE\n9178 - DONE\n9179 - DONE\n9181 - DONE\n9182 - DONE\n9183 - DONE\n9184 - DONE\n9185 - DONE\n9186 - DONE\n9187 - DONE\n9188 - DONE\n9189 - DONE\n9190 - DONE\n9191 - DONE\n9192 - DONE\n9193 - DONE\n9194 - DONE\n9195 - DONE\n9196 - DONE\n9197 - DONE\n9198 - DONE\n9199 - DONE\n9200 - DONE\n9201 - DONE\n9202 - DONE\n9203 - DONE\n9204 - DONE\n9205 - DONE\n9206 - DONE\n9207 - DONE\n9208 - DONE\n9209 - DONE\n9210 - DONE\n9211 - DONE\n9212 - DONE\n9213 - DONE\n9214 - DONE\n9216 - DONE\n9217 - DONE\n9218 - DONE\n9219 - DONE\n9220 - DONE\n9221 - DONE\n9222 - DONE\n9223 - DONE\n9224 - DONE\n9225 - DONE\n9226 - DONE\n9227 - DONE\n9228 - DONE\n9229 - DONE\n9230 - DONE\n9231 - DONE\n9232 - DONE\n9233 - DONE\n9234 - DONE\n9235 - DONE\n9236 - DONE\n9237 - DONE\n9238 - DONE\n9239 - DONE\n9240 - DONE\n9241 - DONE\n9242 - DONE\n9243 - DONE\n9244 - DONE\n9245 - DONE\n9246 - DONE\n9247 - DONE\n9248 - DONE\n9249 - DONE\n9250 - DONE\n9251 - DONE\n9252 - DONE\n9253 - DONE\n9254 - DONE\n9255 - DONE\n9256 - DONE\n9257 - DONE\n9258 - DONE\n9259 - DONE\n9260 - DONE\n9261 - DONE\n9262 - DONE\n9263 - DONE\n9264 - DONE\n9265 - DONE\n9266 - DONE\n9268 - DONE\n9269 - DONE\n9270 - DONE\n9271 - DONE\n9272 - DONE\n9273 - DONE\n9274 - DONE\n9275 - DONE\n9276 - DONE\n9277 - DONE\n9278 - DONE\n9279 - DONE\n9280 - DONE\n9281 - DONE\n9282 - DONE\n9283 - DONE\n9284 - DONE\n9285 - DONE\n9286 - DONE\n9287 - DONE\n9288 - DONE\n9289 - DONE\n9290 - DONE\n9291 - DONE\n9292 - DONE\n9293 - DONE\n9294 - DONE\n9295 - DONE\n9296 - DONE\n9297 - DONE\n9298 - DONE\n9299 - DONE\n9300 - DONE\n9301 - DONE\n9302 - DONE\n9303 - DONE\n9304 - DONE\n9305 - DONE\n9306 - DONE\n9307 - DONE\n9308 - DONE\n9309 - DONE\n9310 - DONE\n9311 - DONE\n9312 - DONE\n9313 - DONE\n9314 - DONE\n9315 - DONE\n9316 - DONE\n9317 - DONE\n9318 - DONE\n9319 - DONE\n9320 - DONE\n9321 - DONE\n9323 - DONE\n9324 - DONE\n9325 - DONE\n9326 - DONE\n9327 - DONE\n9328 - DONE\n9329 - DONE\n9330 - DONE\n9331 - DONE\n9332 - DONE\n9333 - DONE\n9334 - DONE\n9335 - DONE\n9336 - DONE\n9337 - DONE\n9338 - DONE\n9339 - DONE\n9340 - DONE\n9341 - DONE\n9342 - DONE\n9343 - DONE\n9344 - DONE\n9345 - DONE\n9346 - DONE\n9347 - DONE\n9348 - DONE\n9349 - DONE\n9350 - DONE\n9351 - DONE\n9352 - DONE\n9353 - DONE\n9354 - DONE\n9355 - DONE\n9356 - DONE\n9358 - DONE\n9359 - DONE\n9360 - DONE\n9362 - DONE\n9363 - DONE\n9365 - DONE\n9366 - DONE\n9367 - DONE\n9368 - DONE\n9369 - DONE\n9370 - DONE\n9371 - DONE\n9372 - DONE\n9373 - DONE\n9374 - DONE\n9375 - DONE\n9376 - DONE\n9377 - DONE\n9378 - DONE\n9379 - DONE\n9380 - DONE\n9381 - DONE\n9382 - DONE\n9383 - DONE\n9384 - DONE\n9386 - DONE\n9387 - DONE\n9388 - DONE\n9389 - DONE\n9390 - DONE\n9391 - DONE\n9393 - DONE\n9394 - DONE\n9395 - DONE\n9396 - DONE\n9397 - DONE\n9398 - DONE\n9399 - DONE\n9400 - DONE\n9401 - DONE\n9402 - DONE\n9403 - DONE\n9404 - DONE\n9405 - DONE\n9406 - DONE\n9407 - DONE\n9408 - DONE\n9411 - DONE\n9412 - DONE\n9413 - DONE\n9414 - DONE\n9415 - DONE\n9416 - DONE\n9417 - DONE\n9418 - DONE\n9419 - DONE\n9420 - DONE\n9421 - DONE\n9422 - DONE\n9423 - DONE\n9424 - DONE\n9425 - DONE\n9426 - DONE\n9427 - DONE\n9428 - DONE\n9429 - DONE\n9430 - DONE\n9431 - DONE\n9432 - DONE\n9433 - DONE\n9434 - DONE\n9435 - DONE\n9436 - DONE\n9438 - DONE\n9439 - DONE\n9440 - DONE\n9441 - DONE\n9442 - DONE\n9443 - DONE\n9444 - DONE\n9445 - DONE\n9446 - DONE\n9447 - DONE\n9448 - DONE\n9449 - DONE\n9450 - DONE\n9451 - DONE\n9452 - DONE\n9453 - DONE\n9454 - DONE\n9456 - DONE\n9457 - DONE\n9458 - DONE\n9459 - DONE\n9460 - DONE\n9461 - DONE\n9462 - DONE\n9463 - DONE\n9464 - DONE\n9465 - DONE\n9466 - DONE\n9467 - DONE\n9468 - DONE\n9469 - DONE\n9470 - DONE\n9471 - DONE\n9472 - DONE\n9473 - DONE\n9474 - DONE\n9475 - DONE\n9476 - DONE\n9477 - DONE\n9478 - DONE\n9479 - DONE\n9480 - DONE\n9481 - DONE\n9482 - DONE\n9483 - DONE\n9484 - DONE\n9485 - DONE\n9486 - DONE\n9487 - DONE\n9488 - DONE\n9489 - DONE\n9490 - DONE\n9491 - DONE\n9492 - DONE\n9493 - DONE\n9494 - DONE\n9495 - DONE\n9496 - DONE\n9497 - DONE\n9498 - DONE\n9499 - DONE\n9500 - DONE\n9501 - DONE\n9502 - DONE\n9503 - DONE\n9504 - DONE\n9505 - DONE\n9506 - DONE\n9507 - DONE\n9508 - DONE\n9509 - DONE\n9510 - DONE\n9511 - DONE\n9512 - DONE\n9513 - DONE\n9514 - DONE\n9515 - DONE\n9516 - DONE\n9517 - DONE\n9518 - DONE\n9519 - DONE\n9520 - DONE\n9521 - DONE\n9522 - DONE\n9523 - DONE\n9524 - DONE\n9525 - DONE\n9526 - DONE\n9527 - DONE\n9529 - DONE\n9530 - DONE\n9531 - DONE\n9532 - DONE\n9533 - DONE\n9534 - DONE\n9535 - DONE\n9536 - DONE\n9537 - DONE\n9538 - DONE\n9539 - DONE\n9540 - DONE\n9541 - DONE\n9542 - DONE\n9543 - DONE\n9544 - DONE\n9545 - DONE\n9546 - DONE\n9547 - DONE\n9548 - DONE\n9549 - DONE\n9550 - DONE\n9551 - DONE\n9552 - DONE\n9553 - DONE\n9554 - DONE\n9555 - DONE\n9556 - DONE\n9557 - DONE\n9558 - DONE\n9559 - DONE\n9560 - DONE\n9561 - DONE\n9562 - DONE\n9563 - DONE\n9564 - DONE\n9565 - DONE\n9566 - DONE\n9567 - DONE\n9568 - DONE\n9569 - DONE\n9570 - DONE\n9571 - DONE\n9572 - DONE\n9573 - DONE\n9574 - DONE\n9575 - DONE\n9576 - DONE\n9577 - DONE\n9578 - DONE\n9579 - DONE\n9580 - DONE\n9581 - DONE\n9582 - DONE\n9583 - DONE\n9584 - DONE\n9585 - DONE\n9586 - DONE\n9587 - DONE\n9588 - DONE\n9589 - DONE\n9590 - DONE\n9591 - DONE\n9592 - DONE\n9593 - DONE\n9594 - DONE\n9595 - DONE\n9596 - DONE\n9597 - DONE\n9598 - DONE\n9600 - DONE\n9601 - DONE\n9602 - DONE\n9603 - DONE\n9604 - DONE\n9605 - DONE\n9606 - DONE\n9607 - DONE\n9608 - DONE\n9609 - DONE\n9610 - DONE\n9611 - DONE\n9612 - DONE\n9613 - DONE\n9614 - DONE\n9615 - DONE\n9616 - DONE\n9617 - DONE\n9618 - DONE\n9619 - DONE\n9620 - DONE\n9621 - DONE\n9622 - DONE\n9623 - DONE\n9624 - DONE\n9625 - DONE\n9626 - DONE\n9627 - DONE\n9628 - DONE\n9629 - DONE\n9630 - DONE\n9631 - DONE\n9632 - DONE\n9633 - DONE\n9634 - DONE\n9635 - DONE\n9636 - DONE\n9637 - DONE\n9638 - DONE\n9639 - DONE\n9640 - DONE\n9641 - DONE\n9642 - DONE\n9643 - DONE\n9644 - DONE\n9645 - DONE\n9646 - DONE\n9647 - DONE\n9648 - DONE\n9649 - DONE\n9650 - DONE\n9651 - DONE\n9652 - DONE\n9653 - DONE\n9654 - DONE\n9655 - DONE\n9656 - DONE\n9657 - DONE\n9658 - DONE\n9659 - DONE\n9660 - DONE\n9661 - DONE\n9662 - DONE\n9663 - DONE\n9664 - DONE\n9665 - DONE\n9666 - DONE\n9667 - DONE\n9668 - DONE\n9669 - DONE\n9670 - DONE\n9671 - DONE\n9672 - DONE\n9673 - DONE\n9674 - DONE\n9675 - DONE\n9676 - DONE\n9677 - DONE\n9678 - DONE\n9679 - DONE\n9680 - DONE\n9681 - DONE\n9682 - DONE\n9683 - DONE\n9684 - DONE\n9685 - DONE\n9686 - DONE\n9687 - DONE\n9688 - DONE\n9690 - DONE\n9691 - DONE\n9692 - DONE\n9693 - DONE\n9694 - DONE\n9695 - DONE\n9697 - DONE\n9698 - DONE\n9699 - DONE\n9700 - DONE\n9701 - DONE\n9702 - DONE\n9703 - DONE\n9704 - DONE\n9705 - DONE\n9706 - DONE\n9707 - DONE\n9708 - DONE\n9709 - DONE\n9710 - DONE\n9711 - DONE\n9712 - DONE\n9713 - DONE\n9714 - DONE\n9715 - DONE\n9716 - DONE\n9717 - DONE\n9718 - DONE\n9719 - DONE\n9720 - DONE\n9721 - DONE\n9722 - DONE\n9723 - DONE\n9724 - DONE\n9725 - DONE\n9726 - DONE\n9727 - DONE\n9728 - DONE\n9729 - DONE\n9730 - DONE\n9731 - DONE\n9732 - DONE\n9733 - DONE\n9734 - DONE\n9735 - DONE\n9736 - DONE\n9737 - DONE\n9738 - DONE\n9739 - DONE\n9740 - DONE\n9741 - DONE\n9742 - DONE\n9743 - DONE\n9744 - DONE\n9745 - DONE\n9746 - DONE\n9747 - DONE\n9748 - DONE\n9749 - DONE\n9750 - DONE\n9751 - DONE\n9752 - DONE\n9753 - DONE\n9754 - DONE\n9755 - DONE\n9756 - DONE\n9757 - DONE\n9758 - DONE\n9759 - DONE\n9760 - DONE\n9761 - DONE\n9762 - DONE\n9763 - DONE\n9764 - DONE\n9765 - DONE\n9766 - DONE\n9767 - DONE\n9768 - DONE\n9769 - DONE\n9770 - DONE\n9771 - DONE\n9772 - DONE\n9773 - DONE\n9774 - DONE\n9775 - DONE\n9776 - DONE\n9777 - DONE\n9778 - DONE\n9779 - DONE\n9780 - DONE\n9781 - DONE\n9782 - DONE\n9783 - DONE\n9784 - DONE\n9785 - DONE\n9786 - DONE\n9787 - DONE\n9788 - DONE\n9789 - DONE\n9790 - DONE\n9791 - DONE\n9792 - DONE\n9793 - DONE\n9794 - DONE\n9795 - DONE\n9796 - DONE\n9797 - DONE\n9798 - DONE\n9799 - DONE\n9800 - DONE\n9801 - DONE\n9802 - DONE\n9803 - DONE\n9804 - DONE\n9805 - DONE\n9806 - DONE\n9807 - DONE\n9808 - DONE\n9809 - DONE\n9810 - DONE\n9811 - DONE\n9812 - DONE\n9813 - DONE\n9814 - DONE\n9815 - DONE\n9816 - DONE\n9817 - DONE\n9818 - DONE\n9819 - DONE\n9820 - DONE\n9821 - DONE\n9822 - DONE\n9823 - DONE\n9824 - DONE\n9825 - DONE\n9826 - DONE\n9827 - DONE\n9828 - DONE\n9829 - DONE\n9830 - DONE\n9831 - DONE\n9833 - DONE\n9834 - DONE\n9835 - DONE\n9836 - DONE\n9837 - DONE\n9838 - DONE\n9839 - DONE\n9840 - DONE\n9841 - DONE\n9842 - DONE\n9843 - DONE\n9844 - DONE\n9845 - DONE\n9846 - DONE\n9847 - DONE\n9848 - DONE\n9849 - DONE\n9850 - DONE\n9851 - DONE\n9852 - DONE\n9853 - DONE\n9854 - DONE\n9855 - DONE\n9856 - DONE\n9857 - DONE\n9858 - DONE\n9859 - DONE\n9860 - DONE\n9861 - DONE\n9862 - DONE\n9863 - DONE\n9864 - DONE\n9865 - DONE\n9866 - DONE\n9867 - DONE\n9868 - DONE\n9869 - DONE\n9870 - DONE\n9871 - DONE\n9872 - DONE\n9873 - DONE\n9874 - DONE\n9875 - DONE\n9876 - DONE\n9877 - DONE\n9878 - DONE\n9879 - DONE\n9880 - DONE\n9881 - DONE\n9882 - DONE\n9883 - DONE\n9884 - DONE\n9885 - DONE\n9886 - DONE\n9888 - DONE\n9889 - DONE\n9890 - DONE\n9891 - DONE\n9892 - DONE\n9893 - DONE\n9894 - DONE\n9895 - DONE\n9896 - DONE\n9897 - DONE\n9898 - DONE\n9899 - DONE\n9900 - DONE\n9901 - DONE\n"
    }
   ],
   "source": [
    "track_class = Track(network)\n",
    "artist_class = Artist(network)\n",
    "\n",
    "with open('../data/lastfm-api/tracks_lastfm_info.json', 'r+') as f:\n",
    "    data = json.load(f)\n",
    "for index_ex, key in enumerate(data.keys()):\n",
    "    if len(data[key]) == 0: \n",
    "        continue\n",
    "    for index, info in enumerate(data[key]['similar']): \n",
    "        data[key]['similar'][index] = [track_class.get_id_by_name(info[0], info[1]), info[2]]\n",
    "    if index_ex % 100 == 0: \n",
    "        print(\"{} - DONE\".format(index_ex))\n",
    "\n",
    "with open('../data/lastfm-api/tracks_lastfm_info1.json', 'w') as f: \n",
    "    json.dump(data, f)"
   ]
  },
  {
   "cell_type": "code",
   "execution_count": 10,
   "metadata": {},
   "outputs": [],
   "source": [
    "with open('../data/lastfm-api/artists_lastfm_info.json', 'r+') as f:\n",
    "    data = json.load(f)\n",
    "for key in data.keys():\n",
    "    if len(data[key]) == 0: \n",
    "        continue\n",
    "    for index, info in enumerate(data[key]['similar']): \n",
    "        data[key]['similar'][index] = [artist_class.get_id_by_name(info[0]), info[1]]\n",
    "\n",
    "with open('../data/lastfm-api/artists_lastfm_info1.json', 'w') as f: \n",
    "    json.dump(data, f)"
   ]
  },
  {
   "cell_type": "markdown",
   "metadata": {},
   "source": [
    "Writting the new artists and tracks "
   ]
  },
  {
   "cell_type": "code",
   "execution_count": 11,
   "metadata": {},
   "outputs": [],
   "source": [
    "artist_class.write_to_csv()\n",
    "track_class.write_to_csv()"
   ]
  },
  {
   "cell_type": "markdown",
   "metadata": {},
   "source": [
    "## Getting a Library for 50 users"
   ]
  },
  {
   "cell_type": "code",
   "execution_count": 19,
   "metadata": {},
   "outputs": [],
   "source": [
    "artist_library = Library(network)\n",
    "if not os.path.exists('../data/lastfm-api/users50_library.json'):\n",
    "    with open('../data/lastfm-api/users50_library.json', 'w') as f:\n",
    "        json.dump({}, f)\n",
    "else: \n",
    "    with open('../data/lastfm-api/users50_library.json', 'r') as f:\n",
    "        users50_library = json.load(f)"
   ]
  },
  {
   "cell_type": "code",
   "execution_count": 23,
   "metadata": {
    "tags": []
   },
   "outputs": [
    {
     "output_type": "stream",
     "name": "stdout",
     "text": "17331\nThere are 24 pages.\n17331 - DONE\n4901\nThere are 132 pages.\ndict_keys(['error', 'message'])\ndict_keys(['error', 'message'])\ndict_keys(['error', 'message'])\n4901 - DONE\n7373\nThere are 8 pages.\n7373 - DONE\n8847\nThere are 12 pages.\n8847 - DONE\n21267\nThere are 83 pages.\n21267 - DONE\n8910\nThere are 45 pages.\n8910 - DONE\n12116\nThere are 6 pages.\n12116 - DONE\n8552\nThere are 11 pages.\n8552 - DONE\n20169\nThere are 8 pages.\n20169 - DONE\n2418\nThere are 45 pages.\ndict_keys(['error', 'message'])\n2418 - DONE\n32159\nThere are 38 pages.\n32159 - DONE\n28602\nThere are 77 pages.\n28602 - DONE\n8882\nThere are 42 pages.\n8882 - DONE\n22183\nThere are 24 pages.\n22183 - DONE\n166\nThere are 9 pages.\n166 - DONE\n10895\nThere are 5 pages.\n10895 - DONE\n14268\nThere are 40 pages.\n14268 - DONE\n"
    }
   ],
   "source": [
    "for i, user in users.iterrows():\n",
    "    if i >= 50: break\n",
    "    if str(user['user_id']) in users50_library:\n",
    "        continue\n",
    "    print(user['user_id'])\n",
    "    user_library = artist_library.get_library(user['user_name'], printing=False)\n",
    "    users50_library[user['user_id']] = user_library\n",
    "    print('{} - DONE'.format(user['user_id']))"
   ]
  },
  {
   "cell_type": "code",
   "execution_count": 24,
   "metadata": {},
   "outputs": [],
   "source": [
    "with open('../data/lastfm-api/users50_library.json', 'w') as f:\n",
    "    json.dump(users50_library, f)"
   ]
  },
  {
   "cell_type": "code",
   "execution_count": null,
   "metadata": {},
   "outputs": [],
   "source": []
  }
 ]
}