{
 "metadata": {
  "language_info": {
   "codemirror_mode": {
    "name": "ipython",
    "version": 3
   },
   "file_extension": ".py",
   "mimetype": "text/x-python",
   "name": "python",
   "nbconvert_exporter": "python",
   "pygments_lexer": "ipython3",
   "version": "3.7.3-final"
  },
  "orig_nbformat": 2,
  "kernelspec": {
   "name": "python3",
   "display_name": "Python 3"
  }
 },
 "nbformat": 4,
 "nbformat_minor": 2,
 "cells": [
  {
   "cell_type": "markdown",
   "metadata": {},
   "source": [
    "# Last API with pylast"
   ]
  },
  {
   "cell_type": "code",
   "execution_count": 3,
   "metadata": {},
   "outputs": [],
   "source": [
    "import pandas as pd \n",
    "import numpy as np \n",
    "import pylast"
   ]
  },
  {
   "cell_type": "code",
   "execution_count": 4,
   "metadata": {},
   "outputs": [],
   "source": [
    "API_KEY = input()\n",
    "API_SECRET = input()\n",
    "\n",
    "network = pylast.LastFMNetwork(api_key=API_KEY, api_secret=API_SECRET)"
   ]
  },
  {
   "cell_type": "code",
   "execution_count": 31,
   "metadata": {
    "tags": []
   },
   "outputs": [
    {
     "output_type": "stream",
     "name": "stdout",
     "text": "2\n2\n1\n1\n1\n2\n1\n1\n1\n"
    }
   ],
   "source": [
    "def \n",
    "\n",
    "def get_friends(user): \n",
    "    try: \n",
    "        friends = user.get_friends(limit = 50)\n",
    "    except pylast.WSError: \n",
    "        return []\n",
    "    name_friends = [link.name for link in friends]\n",
    "    return name_friends \n",
    "\n",
    "def build_network(network, user, network_list = [], level = 5): \n",
    "    friends = get_friends(user)\n",
    "    write_in_file(friends)\n",
    "    network_list.extend(friends)\n",
    "    if level > 0:\n",
    "        for friend in friends: \n",
    "            build_network(network, network.get_user(friend), network_list, level - 1)\n",
    "    else:\n",
    "        return\n",
    "\n",
    "def write_in_file(lst: list):\n",
    "    with open('users.txt', 'a') as f: \n",
    "        for i in lst:\n",
    "            f.write(i)\n",
    "            f.write('\\n')\n",
    "\n",
    "user = network.get_user(username = 'allanxguimaraes')\n",
    "users = [] \n",
    "build_network(network, user, users, level = 5)"
   ]
  },
  {
   "cell_type": "code",
   "execution_count": null,
   "metadata": {},
   "outputs": [],
   "source": []
  }
 ]
}