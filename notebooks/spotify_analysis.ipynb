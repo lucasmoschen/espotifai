{
 "cells": [
  {
   "cell_type": "markdown",
   "metadata": {},
   "source": [
    "# Spotify dataset analysis"
   ]
  },
  {
   "cell_type": "markdown",
   "metadata": {},
   "source": [
    "O Spotify possui uma Web API e essa API possui uma tradução para Python chamada Spotipy. Ela permite buscar informações de músicas, playlists artistas. Dentre as informações disponíveis, existem as chamadas *audio features*, que são métricas musicais do tipo `danceability`, `loudness` e `instrumentalness`, que podem ser importantes para modelos de recomendação.\n",
    "\n",
    "Os dados foram capturados utilizando a API. A abordagem foi a seguinte:\n",
    "1. Iniciamos com um conjunto grande de usuários do Last.fm, que permite a busca em rede (usuários e seus seguidores);\n",
    "2. Selecionamos um subconjunto de 1000 desses usuários que também possuem conta no Spotify;\n",
    "3. Selecionamos suas playlists públicas;\n",
    "4. Selecionamos as músicas dessas playlists;\n",
    "5. We selected the audio features and the artists from these tracks.\n",
    "\n",
    "It's important to note that songs don't have genres using this API. Who has genre is the artist of the track. So it's necessary to gather the artists of the tracks.\n",
    "\n",
    "At the end, we have:\n",
    "- Users **tracks** dataset;\n",
    "- List of **users**;\n",
    "- **Playlists** of the tracks;\n",
    "- **Audio features** of the tracks;\n",
    "- **Artists** of the tracks.\n",
    "\n",
    "We now make some exploration in order to get known the data and have insights for the recommendation models."
   ]
  },
  {
   "cell_type": "code",
   "execution_count": 1,
   "metadata": {},
   "outputs": [],
   "source": [
    "import pandas as pd\n",
    "import glob"
   ]
  },
  {
   "cell_type": "code",
   "execution_count": 2,
   "metadata": {},
   "outputs": [],
   "source": [
    "import numpy as np"
   ]
  },
  {
   "cell_type": "code",
   "execution_count": 3,
   "metadata": {},
   "outputs": [],
   "source": [
    "# Necessary to improve exploration\n",
    "pd.set_option('display.max_columns', None)"
   ]
  },
  {
   "cell_type": "markdown",
   "metadata": {},
   "source": [
    "## Initial exploration: datasets"
   ]
  },
  {
   "cell_type": "markdown",
   "metadata": {},
   "source": [
    "We have many datasets, and we wanna know its variables. Let's sample them."
   ]
  },
  {
   "cell_type": "markdown",
   "metadata": {},
   "source": [
    "### Tracks dataset"
   ]
  },
  {
   "cell_type": "code",
   "execution_count": 4,
   "metadata": {},
   "outputs": [
    {
     "data": {
      "text/html": [
       "<div>\n",
       "<style scoped>\n",
       "    .dataframe tbody tr th:only-of-type {\n",
       "        vertical-align: middle;\n",
       "    }\n",
       "\n",
       "    .dataframe tbody tr th {\n",
       "        vertical-align: top;\n",
       "    }\n",
       "\n",
       "    .dataframe thead th {\n",
       "        text-align: right;\n",
       "    }\n",
       "</style>\n",
       "<table border=\"1\" class=\"dataframe\">\n",
       "  <thead>\n",
       "    <tr style=\"text-align: right;\">\n",
       "      <th></th>\n",
       "      <th>added_at</th>\n",
       "      <th>added_by</th>\n",
       "      <th>is_local</th>\n",
       "      <th>playlist_id</th>\n",
       "      <th>available_markets</th>\n",
       "      <th>disc_number</th>\n",
       "      <th>duration_ms</th>\n",
       "      <th>explicit</th>\n",
       "      <th>id</th>\n",
       "      <th>name</th>\n",
       "      <th>popularity</th>\n",
       "      <th>track_number</th>\n",
       "      <th>album_type</th>\n",
       "      <th>album_available_markets</th>\n",
       "      <th>album_id</th>\n",
       "      <th>album_name</th>\n",
       "      <th>album_release_date</th>\n",
       "      <th>artists_ids</th>\n",
       "      <th>artists_names</th>\n",
       "      <th>album_artists_ids</th>\n",
       "      <th>album_artists_names</th>\n",
       "    </tr>\n",
       "  </thead>\n",
       "  <tbody>\n",
       "    <tr>\n",
       "      <th>2375</th>\n",
       "      <td>1970-01-01 00:00:00+00:00</td>\n",
       "      <td></td>\n",
       "      <td>False</td>\n",
       "      <td>0tKjSLKwT7TB5gL3wuK9QW</td>\n",
       "      <td>[]</td>\n",
       "      <td>1.0</td>\n",
       "      <td>193506.0</td>\n",
       "      <td>False</td>\n",
       "      <td>6p1giQj176BzBYmxMDuxNj</td>\n",
       "      <td>I Know What I Know - Remastered Album Version</td>\n",
       "      <td>0.0</td>\n",
       "      <td>3.0</td>\n",
       "      <td>album</td>\n",
       "      <td>[]</td>\n",
       "      <td>5u8rXBddedO6UtjNpHWRyJ</td>\n",
       "      <td>Graceland (US Release)</td>\n",
       "      <td>1986-08-12</td>\n",
       "      <td>[2CvCyf1gEVhI0mX6aFXmVI]</td>\n",
       "      <td>[Paul Simon]</td>\n",
       "      <td>[2CvCyf1gEVhI0mX6aFXmVI]</td>\n",
       "      <td>[Paul Simon]</td>\n",
       "    </tr>\n",
       "  </tbody>\n",
       "</table>\n",
       "</div>"
      ],
      "text/plain": [
       "                      added_at added_by  is_local             playlist_id  \\\n",
       "2375 1970-01-01 00:00:00+00:00              False  0tKjSLKwT7TB5gL3wuK9QW   \n",
       "\n",
       "     available_markets  disc_number  duration_ms explicit  \\\n",
       "2375                []          1.0     193506.0    False   \n",
       "\n",
       "                          id                                           name  \\\n",
       "2375  6p1giQj176BzBYmxMDuxNj  I Know What I Know - Remastered Album Version   \n",
       "\n",
       "      popularity  track_number album_type album_available_markets  \\\n",
       "2375         0.0           3.0      album                      []   \n",
       "\n",
       "                    album_id              album_name album_release_date  \\\n",
       "2375  5u8rXBddedO6UtjNpHWRyJ  Graceland (US Release)         1986-08-12   \n",
       "\n",
       "                   artists_ids artists_names         album_artists_ids  \\\n",
       "2375  [2CvCyf1gEVhI0mX6aFXmVI]  [Paul Simon]  [2CvCyf1gEVhI0mX6aFXmVI]   \n",
       "\n",
       "     album_artists_names  \n",
       "2375        [Paul Simon]  "
      ]
     },
     "execution_count": 4,
     "metadata": {},
     "output_type": "execute_result"
    }
   ],
   "source": [
    "tracks = pd.read_pickle('../data/sp_tracks_ready_999.pkl')\n",
    "tracks.sample()"
   ]
  },
  {
   "cell_type": "markdown",
   "metadata": {},
   "source": [
    "**Tracks** dataset is big enough to make we split it in many files. So we did it. At now we have 11 files just for the tracks. But the other datasets are compressed in a single file each one."
   ]
  },
  {
   "cell_type": "code",
   "execution_count": 5,
   "metadata": {},
   "outputs": [
    {
     "data": {
      "text/plain": [
       "['added_at',\n",
       " 'added_by',\n",
       " 'is_local',\n",
       " 'playlist_id',\n",
       " 'available_markets',\n",
       " 'disc_number',\n",
       " 'duration_ms',\n",
       " 'explicit',\n",
       " 'id',\n",
       " 'name',\n",
       " 'popularity',\n",
       " 'track_number',\n",
       " 'album_type',\n",
       " 'album_available_markets',\n",
       " 'album_id',\n",
       " 'album_name',\n",
       " 'album_release_date',\n",
       " 'artists_ids',\n",
       " 'artists_names',\n",
       " 'album_artists_ids',\n",
       " 'album_artists_names']"
      ]
     },
     "execution_count": 5,
     "metadata": {},
     "output_type": "execute_result"
    }
   ],
   "source": [
    "list(tracks.columns)"
   ]
  },
  {
   "cell_type": "markdown",
   "metadata": {},
   "source": [
    "It's important to note that everything on Spotify have an ID. So when we have a song and know the ID of one playlist that contains it, we can use this playlist ID to search for the playlist data.\n",
    "\n",
    "In the dataset, we see that a track have many features, which can be viewed as:\n",
    "- **Playlist** features: information about the playlists, like when the song was added, who added it and the ID of the playlist.\n",
    "- **Track** features: like `disc_number`, its duration, if its explicit, `id`, its name, popularity and its number.\n",
    "- **Album** features, including artists of the album;\n",
    "- **Artists** features: their IDs and names.\n",
    "\n",
    "Many features have lists as values. It's because some of them have values which vary in length, like the `artists_ids`. We don't know if we will have 1, 2 or 32 artists. It will happen with other datasets too."
   ]
  },
  {
   "cell_type": "markdown",
   "metadata": {},
   "source": [
    "### Playlists dataset"
   ]
  },
  {
   "cell_type": "code",
   "execution_count": 6,
   "metadata": {},
   "outputs": [],
   "source": [
    "playlists = pd.read_pickle('../data/sp_playlists.pkl')"
   ]
  },
  {
   "cell_type": "code",
   "execution_count": 7,
   "metadata": {},
   "outputs": [
    {
     "data": {
      "text/html": [
       "<div>\n",
       "<style scoped>\n",
       "    .dataframe tbody tr th:only-of-type {\n",
       "        vertical-align: middle;\n",
       "    }\n",
       "\n",
       "    .dataframe tbody tr th {\n",
       "        vertical-align: top;\n",
       "    }\n",
       "\n",
       "    .dataframe thead th {\n",
       "        text-align: right;\n",
       "    }\n",
       "</style>\n",
       "<table border=\"1\" class=\"dataframe\">\n",
       "  <thead>\n",
       "    <tr style=\"text-align: right;\">\n",
       "      <th></th>\n",
       "      <th>collaborative</th>\n",
       "      <th>description</th>\n",
       "      <th>id</th>\n",
       "      <th>name</th>\n",
       "      <th>primary_color</th>\n",
       "      <th>public</th>\n",
       "      <th>tracks</th>\n",
       "      <th>owner_id</th>\n",
       "    </tr>\n",
       "  </thead>\n",
       "  <tbody>\n",
       "    <tr>\n",
       "      <th>3992</th>\n",
       "      <td>False</td>\n",
       "      <td></td>\n",
       "      <td>3UuOn6KoHubwMvYuiPKx7E</td>\n",
       "      <td>Koh Lantana – Silent Moments</td>\n",
       "      <td>None</td>\n",
       "      <td>True</td>\n",
       "      <td>{'href': 'https://api.spotify.com/v1/playlists...</td>\n",
       "      <td>realjaco</td>\n",
       "    </tr>\n",
       "  </tbody>\n",
       "</table>\n",
       "</div>"
      ],
      "text/plain": [
       "      collaborative description                      id  \\\n",
       "3992          False              3UuOn6KoHubwMvYuiPKx7E   \n",
       "\n",
       "                              name primary_color  public  \\\n",
       "3992  Koh Lantana – Silent Moments          None    True   \n",
       "\n",
       "                                                 tracks  owner_id  \n",
       "3992  {'href': 'https://api.spotify.com/v1/playlists...  realjaco  "
      ]
     },
     "execution_count": 7,
     "metadata": {},
     "output_type": "execute_result"
    }
   ],
   "source": [
    "playlists.sample()"
   ]
  },
  {
   "cell_type": "markdown",
   "metadata": {},
   "source": [
    "Here we have basic information about a public playlist. One thing to note is that everything Spotipy returns is a JSON file, in the 'records' format. So in the column `tracks` we have a dict containing information about the tracks."
   ]
  },
  {
   "cell_type": "code",
   "execution_count": 8,
   "metadata": {},
   "outputs": [
    {
     "data": {
      "text/plain": [
       "{'href': 'https://api.spotify.com/v1/playlists/0itjZK4e1qZzHL9fNInUJR/tracks',\n",
       " 'total': 63}"
      ]
     },
     "execution_count": 8,
     "metadata": {},
     "output_type": "execute_result"
    }
   ],
   "source": [
    "playlists.loc[0, 'tracks']"
   ]
  },
  {
   "cell_type": "markdown",
   "metadata": {},
   "source": [
    "It's little information, but it's not important. The tracks was gathered from the playlist using the ID of the playlist."
   ]
  },
  {
   "cell_type": "markdown",
   "metadata": {},
   "source": [
    "### Audio features dataset"
   ]
  },
  {
   "cell_type": "markdown",
   "metadata": {},
   "source": [
    "Maybe only track information is not enough to make good recommendation systems. So we gather more information, this time more technician:"
   ]
  },
  {
   "cell_type": "code",
   "execution_count": 9,
   "metadata": {},
   "outputs": [],
   "source": [
    "audio_features = pd.read_pickle('../data/sp_audio_features.pkl')"
   ]
  },
  {
   "cell_type": "code",
   "execution_count": 10,
   "metadata": {},
   "outputs": [
    {
     "data": {
      "text/html": [
       "<div>\n",
       "<style scoped>\n",
       "    .dataframe tbody tr th:only-of-type {\n",
       "        vertical-align: middle;\n",
       "    }\n",
       "\n",
       "    .dataframe tbody tr th {\n",
       "        vertical-align: top;\n",
       "    }\n",
       "\n",
       "    .dataframe thead th {\n",
       "        text-align: right;\n",
       "    }\n",
       "</style>\n",
       "<table border=\"1\" class=\"dataframe\">\n",
       "  <thead>\n",
       "    <tr style=\"text-align: right;\">\n",
       "      <th></th>\n",
       "      <th>danceability</th>\n",
       "      <th>energy</th>\n",
       "      <th>key</th>\n",
       "      <th>loudness</th>\n",
       "      <th>mode</th>\n",
       "      <th>speechiness</th>\n",
       "      <th>acousticness</th>\n",
       "      <th>instrumentalness</th>\n",
       "      <th>liveness</th>\n",
       "      <th>valence</th>\n",
       "      <th>tempo</th>\n",
       "      <th>id</th>\n",
       "      <th>duration_ms</th>\n",
       "      <th>time_signature</th>\n",
       "    </tr>\n",
       "  </thead>\n",
       "  <tbody>\n",
       "    <tr>\n",
       "      <th>452117</th>\n",
       "      <td>0.462</td>\n",
       "      <td>0.727</td>\n",
       "      <td>7</td>\n",
       "      <td>-4.298</td>\n",
       "      <td>1</td>\n",
       "      <td>0.0383</td>\n",
       "      <td>0.212</td>\n",
       "      <td>0.0</td>\n",
       "      <td>0.192</td>\n",
       "      <td>0.475</td>\n",
       "      <td>138.806</td>\n",
       "      <td>45I1Wx82w8ArHSpV7dBp09</td>\n",
       "      <td>227440</td>\n",
       "      <td>3</td>\n",
       "    </tr>\n",
       "  </tbody>\n",
       "</table>\n",
       "</div>"
      ],
      "text/plain": [
       "        danceability  energy  key  loudness  mode  speechiness  acousticness  \\\n",
       "452117         0.462   0.727    7    -4.298     1       0.0383         0.212   \n",
       "\n",
       "        instrumentalness  liveness  valence    tempo                      id  \\\n",
       "452117               0.0     0.192    0.475  138.806  45I1Wx82w8ArHSpV7dBp09   \n",
       "\n",
       "        duration_ms  time_signature  \n",
       "452117       227440               3  "
      ]
     },
     "execution_count": 10,
     "metadata": {},
     "output_type": "execute_result"
    }
   ],
   "source": [
    "audio_features.sample()"
   ]
  },
  {
   "cell_type": "markdown",
   "metadata": {},
   "source": [
    "Here we have the ID of the track and its features, like ` liveness` and `speechiness`. More information about this technical parte can be found on the [documentation of the Web API](https://developer.spotify.com/documentation/web-api/reference/tracks/get-audio-features/)."
   ]
  },
  {
   "cell_type": "markdown",
   "metadata": {},
   "source": [
    "Another thing to note is that some of `duration_ms` differs from the ones in the tracks database. Let's see:"
   ]
  },
  {
   "cell_type": "code",
   "execution_count": 19,
   "metadata": {},
   "outputs": [],
   "source": [
    "my_id = None\n",
    "while pd.isnull(my_id):\n",
    "    my_id = tracks.sample().id.iloc[0] "
   ]
  },
  {
   "cell_type": "code",
   "execution_count": 20,
   "metadata": {},
   "outputs": [
    {
     "name": "stdout",
     "output_type": "stream",
     "text": [
      "256546.0 256547\n"
     ]
    }
   ],
   "source": [
    "print(\n",
    "    tracks[tracks.id == my_id].duration_ms.iloc[0],\n",
    "    audio_features[audio_features.id == my_id].duration_ms.iloc[0]\n",
    ")"
   ]
  },
  {
   "cell_type": "markdown",
   "metadata": {},
   "source": [
    "### Artists dataset"
   ]
  },
  {
   "cell_type": "code",
   "execution_count": 22,
   "metadata": {},
   "outputs": [],
   "source": [
    "artists = pd.read_pickle('../data/sp_artists.pkl')"
   ]
  },
  {
   "cell_type": "code",
   "execution_count": 23,
   "metadata": {},
   "outputs": [
    {
     "data": {
      "text/html": [
       "<div>\n",
       "<style scoped>\n",
       "    .dataframe tbody tr th:only-of-type {\n",
       "        vertical-align: middle;\n",
       "    }\n",
       "\n",
       "    .dataframe tbody tr th {\n",
       "        vertical-align: top;\n",
       "    }\n",
       "\n",
       "    .dataframe thead th {\n",
       "        text-align: right;\n",
       "    }\n",
       "</style>\n",
       "<table border=\"1\" class=\"dataframe\">\n",
       "  <thead>\n",
       "    <tr style=\"text-align: right;\">\n",
       "      <th></th>\n",
       "      <th>followers</th>\n",
       "      <th>genres</th>\n",
       "      <th>id</th>\n",
       "      <th>name</th>\n",
       "      <th>popularity</th>\n",
       "    </tr>\n",
       "  </thead>\n",
       "  <tbody>\n",
       "    <tr>\n",
       "      <th>65337</th>\n",
       "      <td>37284</td>\n",
       "      <td>[alternative pop, alternative rock]</td>\n",
       "      <td>5LEUigTSXpwrtERRcSW1N4</td>\n",
       "      <td>Urge Overkill</td>\n",
       "      <td>51</td>\n",
       "    </tr>\n",
       "  </tbody>\n",
       "</table>\n",
       "</div>"
      ],
      "text/plain": [
       "       followers                               genres                      id  \\\n",
       "65337      37284  [alternative pop, alternative rock]  5LEUigTSXpwrtERRcSW1N4   \n",
       "\n",
       "                name  popularity  \n",
       "65337  Urge Overkill          51  "
      ]
     },
     "execution_count": 23,
     "metadata": {},
     "output_type": "execute_result"
    }
   ],
   "source": [
    "artists.sample()"
   ]
  },
  {
   "cell_type": "markdown",
   "metadata": {},
   "source": [
    "Artists datasets are simple and autoexplanative. It's important to note `genres` features, because each cell is a list of genres. As already said, the only way to classify a song in a genre is with the genres of its artists."
   ]
  },
  {
   "cell_type": "markdown",
   "metadata": {},
   "source": [
    "## Exploration"
   ]
  },
  {
   "cell_type": "markdown",
   "metadata": {},
   "source": [
    "Now he have the intuition and the knowlegde to explore the data."
   ]
  },
  {
   "cell_type": "markdown",
   "metadata": {},
   "source": [
    "### Tracks"
   ]
  },
  {
   "cell_type": "markdown",
   "metadata": {},
   "source": [
    "#### Missing values and data types"
   ]
  },
  {
   "cell_type": "markdown",
   "metadata": {},
   "source": [
    "Let's do the homework. The missing values:"
   ]
  },
  {
   "cell_type": "code",
   "execution_count": 24,
   "metadata": {},
   "outputs": [
    {
     "data": {
      "text/plain": [
       "added_at                   datetime64[ns, UTC]\n",
       "added_by                                object\n",
       "is_local                                  bool\n",
       "playlist_id                             object\n",
       "available_markets                       object\n",
       "disc_number                            float64\n",
       "duration_ms                            float64\n",
       "explicit                                object\n",
       "id                                      object\n",
       "name                                    object\n",
       "popularity                             float64\n",
       "track_number                           float64\n",
       "album_type                              object\n",
       "album_available_markets                 object\n",
       "album_id                                object\n",
       "album_name                              object\n",
       "album_release_date                      object\n",
       "artists_ids                             object\n",
       "artists_names                           object\n",
       "album_artists_ids                       object\n",
       "album_artists_names                     object\n",
       "dtype: object"
      ]
     },
     "execution_count": 24,
     "metadata": {},
     "output_type": "execute_result"
    }
   ],
   "source": [
    "tracks.dtypes"
   ]
  },
  {
   "cell_type": "markdown",
   "metadata": {},
   "source": [
    "dtypes seems to be OK, with exception of `explicit` (should be a bool) and `album_release_date` (should be a date). But they are extremely easy to deal with."
   ]
  },
  {
   "cell_type": "code",
   "execution_count": 47,
   "metadata": {},
   "outputs": [
    {
     "data": {
      "text/plain": [
       "added_at                       0\n",
       "added_by                       0\n",
       "is_local                       0\n",
       "playlist_id                    0\n",
       "available_markets            240\n",
       "disc_number                  240\n",
       "duration_ms                  240\n",
       "explicit                     240\n",
       "id                         39115\n",
       "name                         240\n",
       "popularity                   240\n",
       "track_number                 240\n",
       "album_type                 39115\n",
       "album_available_markets      240\n",
       "album_id                   39115\n",
       "album_name                   240\n",
       "album_release_date         39115\n",
       "artists_ids                39115\n",
       "artists_names                240\n",
       "album_artists_ids          39115\n",
       "album_artists_names        39115\n",
       "dtype: int64"
      ]
     },
     "execution_count": 47,
     "metadata": {},
     "output_type": "execute_result"
    }
   ],
   "source": [
    "sum([pd.read_pickle(file).isnull().sum() for file in glob.glob('../data/sp_tracks_ready_*.pkl')])"
   ]
  },
  {
   "cell_type": "markdown",
   "metadata": {},
   "source": [
    "He have many missing values, in some specific tracks (the numbers coincide). Let's look into one of them:"
   ]
  },
  {
   "cell_type": "code",
   "execution_count": 25,
   "metadata": {},
   "outputs": [
    {
     "data": {
      "text/html": [
       "<div>\n",
       "<style scoped>\n",
       "    .dataframe tbody tr th:only-of-type {\n",
       "        vertical-align: middle;\n",
       "    }\n",
       "\n",
       "    .dataframe tbody tr th {\n",
       "        vertical-align: top;\n",
       "    }\n",
       "\n",
       "    .dataframe thead th {\n",
       "        text-align: right;\n",
       "    }\n",
       "</style>\n",
       "<table border=\"1\" class=\"dataframe\">\n",
       "  <thead>\n",
       "    <tr style=\"text-align: right;\">\n",
       "      <th></th>\n",
       "      <th>added_at</th>\n",
       "      <th>added_by</th>\n",
       "      <th>is_local</th>\n",
       "      <th>playlist_id</th>\n",
       "      <th>available_markets</th>\n",
       "      <th>disc_number</th>\n",
       "      <th>duration_ms</th>\n",
       "      <th>explicit</th>\n",
       "      <th>id</th>\n",
       "      <th>name</th>\n",
       "      <th>popularity</th>\n",
       "      <th>track_number</th>\n",
       "      <th>album_type</th>\n",
       "      <th>album_available_markets</th>\n",
       "      <th>album_id</th>\n",
       "      <th>album_name</th>\n",
       "      <th>album_release_date</th>\n",
       "      <th>artists_ids</th>\n",
       "      <th>artists_names</th>\n",
       "      <th>album_artists_ids</th>\n",
       "      <th>album_artists_names</th>\n",
       "    </tr>\n",
       "  </thead>\n",
       "  <tbody>\n",
       "    <tr>\n",
       "      <th>60258</th>\n",
       "      <td>2016-05-14 18:44:15+00:00</td>\n",
       "      <td>marcosmoretto</td>\n",
       "      <td>True</td>\n",
       "      <td>00RyLvaDIOBJo2yfEq2Ewr</td>\n",
       "      <td>[]</td>\n",
       "      <td>0.0</td>\n",
       "      <td>204000.0</td>\n",
       "      <td>False</td>\n",
       "      <td>None</td>\n",
       "      <td>Timber (feat. Ke$ha)</td>\n",
       "      <td>0.0</td>\n",
       "      <td>0.0</td>\n",
       "      <td>None</td>\n",
       "      <td>[]</td>\n",
       "      <td>None</td>\n",
       "      <td>Timber (feat. Ke$ha) - Single</td>\n",
       "      <td>None</td>\n",
       "      <td>NaN</td>\n",
       "      <td>[Pitbull]</td>\n",
       "      <td>NaN</td>\n",
       "      <td>NaN</td>\n",
       "    </tr>\n",
       "  </tbody>\n",
       "</table>\n",
       "</div>"
      ],
      "text/plain": [
       "                       added_at       added_by  is_local  \\\n",
       "60258 2016-05-14 18:44:15+00:00  marcosmoretto      True   \n",
       "\n",
       "                  playlist_id available_markets  disc_number  duration_ms  \\\n",
       "60258  00RyLvaDIOBJo2yfEq2Ewr                []          0.0     204000.0   \n",
       "\n",
       "      explicit    id                  name  popularity  track_number  \\\n",
       "60258    False  None  Timber (feat. Ke$ha)         0.0           0.0   \n",
       "\n",
       "      album_type album_available_markets album_id  \\\n",
       "60258       None                      []     None   \n",
       "\n",
       "                          album_name album_release_date artists_ids  \\\n",
       "60258  Timber (feat. Ke$ha) - Single               None         NaN   \n",
       "\n",
       "      artists_names album_artists_ids album_artists_names  \n",
       "60258     [Pitbull]               NaN                 NaN  "
      ]
     },
     "execution_count": 25,
     "metadata": {},
     "output_type": "execute_result"
    }
   ],
   "source": [
    "# One of the 39115\n",
    "tracks[pd.isnull(tracks.id)].sample()"
   ]
  },
  {
   "cell_type": "code",
   "execution_count": 26,
   "metadata": {},
   "outputs": [
    {
     "data": {
      "text/html": [
       "<div>\n",
       "<style scoped>\n",
       "    .dataframe tbody tr th:only-of-type {\n",
       "        vertical-align: middle;\n",
       "    }\n",
       "\n",
       "    .dataframe tbody tr th {\n",
       "        vertical-align: top;\n",
       "    }\n",
       "\n",
       "    .dataframe thead th {\n",
       "        text-align: right;\n",
       "    }\n",
       "</style>\n",
       "<table border=\"1\" class=\"dataframe\">\n",
       "  <thead>\n",
       "    <tr style=\"text-align: right;\">\n",
       "      <th></th>\n",
       "      <th>added_at</th>\n",
       "      <th>added_by</th>\n",
       "      <th>is_local</th>\n",
       "      <th>playlist_id</th>\n",
       "      <th>available_markets</th>\n",
       "      <th>disc_number</th>\n",
       "      <th>duration_ms</th>\n",
       "      <th>explicit</th>\n",
       "      <th>id</th>\n",
       "      <th>name</th>\n",
       "      <th>popularity</th>\n",
       "      <th>track_number</th>\n",
       "      <th>album_type</th>\n",
       "      <th>album_available_markets</th>\n",
       "      <th>album_id</th>\n",
       "      <th>album_name</th>\n",
       "      <th>album_release_date</th>\n",
       "      <th>artists_ids</th>\n",
       "      <th>artists_names</th>\n",
       "      <th>album_artists_ids</th>\n",
       "      <th>album_artists_names</th>\n",
       "    </tr>\n",
       "  </thead>\n",
       "  <tbody>\n",
       "    <tr>\n",
       "      <th>51042</th>\n",
       "      <td>2020-07-31 17:18:56+00:00</td>\n",
       "      <td>katrin1994</td>\n",
       "      <td>False</td>\n",
       "      <td>7yh6OSV88noq3xosMtml7e</td>\n",
       "      <td>NaN</td>\n",
       "      <td>NaN</td>\n",
       "      <td>NaN</td>\n",
       "      <td>NaN</td>\n",
       "      <td>NaN</td>\n",
       "      <td>NaN</td>\n",
       "      <td>NaN</td>\n",
       "      <td>NaN</td>\n",
       "      <td>NaN</td>\n",
       "      <td>NaN</td>\n",
       "      <td>NaN</td>\n",
       "      <td>NaN</td>\n",
       "      <td>NaN</td>\n",
       "      <td>NaN</td>\n",
       "      <td>NaN</td>\n",
       "      <td>NaN</td>\n",
       "      <td>NaN</td>\n",
       "    </tr>\n",
       "  </tbody>\n",
       "</table>\n",
       "</div>"
      ],
      "text/plain": [
       "                       added_at    added_by  is_local             playlist_id  \\\n",
       "51042 2020-07-31 17:18:56+00:00  katrin1994     False  7yh6OSV88noq3xosMtml7e   \n",
       "\n",
       "      available_markets  disc_number  duration_ms explicit   id name  \\\n",
       "51042               NaN          NaN          NaN      NaN  NaN  NaN   \n",
       "\n",
       "       popularity  track_number album_type album_available_markets album_id  \\\n",
       "51042         NaN           NaN        NaN                     NaN      NaN   \n",
       "\n",
       "      album_name album_release_date artists_ids artists_names  \\\n",
       "51042        NaN                NaN         NaN           NaN   \n",
       "\n",
       "      album_artists_ids album_artists_names  \n",
       "51042               NaN                 NaN  "
      ]
     },
     "execution_count": 26,
     "metadata": {},
     "output_type": "execute_result"
    }
   ],
   "source": [
    "# One of the 240\n",
    "tracks[pd.isnull(tracks.duration_ms)].sample()"
   ]
  },
  {
   "cell_type": "code",
   "execution_count": 53,
   "metadata": {},
   "outputs": [
    {
     "data": {
      "text/plain": [
       "849397"
      ]
     },
     "execution_count": 53,
     "metadata": {},
     "output_type": "execute_result"
    }
   ],
   "source": [
    "# Number of tracks (it's huge)\n",
    "sum([len(pd.read_pickle(file)) for file in glob.glob('../data/sp_tracks_ready_*.pkl')])"
   ]
  },
  {
   "cell_type": "code",
   "execution_count": 28,
   "metadata": {},
   "outputs": [
    {
     "name": "stdout",
     "output_type": "stream",
     "text": [
      "Approx. 4.605% of the data has missing values.\n"
     ]
    }
   ],
   "source": [
    "print('Approx. {:.3f}% of the data has missing values.'.format((39115)/849397*100))"
   ]
  },
  {
   "cell_type": "markdown",
   "metadata": {},
   "source": [
    "It's seems not to be a problem to drop these rows, because of the dropped data will be just a little. One problem is that it will affect the other datasets."
   ]
  },
  {
   "cell_type": "markdown",
   "metadata": {},
   "source": [
    "#### Features distribution"
   ]
  },
  {
   "cell_type": "markdown",
   "metadata": {},
   "source": [
    "We will look into the distribution of the data, like the dates, the number and the categories. We will check for duplicity and will make a `describe`."
   ]
  },
  {
   "cell_type": "markdown",
   "metadata": {},
   "source": [
    "A track is dupplicated when it's the same track in the same playlist and was added at the same time."
   ]
  },
  {
   "cell_type": "code",
   "execution_count": 34,
   "metadata": {},
   "outputs": [
    {
     "name": "stdout",
     "output_type": "stream",
     "text": [
      "43781\n"
     ]
    }
   ],
   "source": [
    "duplicated = 0\n",
    "for file in glob.glob('../data/sp_tracks_ready_*.pkl'):\n",
    "    df = pd.read_pickle(file)\n",
    "    duplicated += len(df[(df.id + df.playlist_id + df.added_at.apply(str)).duplicated()])\n",
    "print(duplicated)"
   ]
  },
  {
   "cell_type": "markdown",
   "metadata": {},
   "source": [
    "We have many duplicated values. But the IDs where unified when dealling with audio features and artists."
   ]
  },
  {
   "cell_type": "markdown",
   "metadata": {},
   "source": [
    "We also found a playlist with the same song added 2048 times, with 1024 of them added at the same time!"
   ]
  },
  {
   "cell_type": "code",
   "execution_count": 35,
   "metadata": {},
   "outputs": [
    {
     "data": {
      "text/html": [
       "<div>\n",
       "<style scoped>\n",
       "    .dataframe tbody tr th:only-of-type {\n",
       "        vertical-align: middle;\n",
       "    }\n",
       "\n",
       "    .dataframe tbody tr th {\n",
       "        vertical-align: top;\n",
       "    }\n",
       "\n",
       "    .dataframe thead th {\n",
       "        text-align: right;\n",
       "    }\n",
       "</style>\n",
       "<table border=\"1\" class=\"dataframe\">\n",
       "  <thead>\n",
       "    <tr style=\"text-align: right;\">\n",
       "      <th></th>\n",
       "      <th>added_at</th>\n",
       "      <th>added_by</th>\n",
       "      <th>is_local</th>\n",
       "      <th>playlist_id</th>\n",
       "      <th>available_markets</th>\n",
       "      <th>disc_number</th>\n",
       "      <th>duration_ms</th>\n",
       "      <th>explicit</th>\n",
       "      <th>id</th>\n",
       "      <th>name</th>\n",
       "      <th>popularity</th>\n",
       "      <th>track_number</th>\n",
       "      <th>album_type</th>\n",
       "      <th>album_available_markets</th>\n",
       "      <th>album_id</th>\n",
       "      <th>album_name</th>\n",
       "      <th>album_release_date</th>\n",
       "      <th>artists_ids</th>\n",
       "      <th>artists_names</th>\n",
       "      <th>album_artists_ids</th>\n",
       "      <th>album_artists_names</th>\n",
       "    </tr>\n",
       "  </thead>\n",
       "  <tbody>\n",
       "    <tr>\n",
       "      <th>17191</th>\n",
       "      <td>2018-01-01 09:27:46+00:00</td>\n",
       "      <td>stabbedmeat</td>\n",
       "      <td>False</td>\n",
       "      <td>3MPa29N5KpS3ZOk2B4PlUq</td>\n",
       "      <td>[AD, AE, AL, AR, AT, AU, BA, BE, BG, BH, BO, B...</td>\n",
       "      <td>1.0</td>\n",
       "      <td>205760.0</td>\n",
       "      <td>True</td>\n",
       "      <td>3vllUzZChqpEaAat9brOYV</td>\n",
       "      <td>FACK</td>\n",
       "      <td>41.0</td>\n",
       "      <td>2.0</td>\n",
       "      <td>compilation</td>\n",
       "      <td>[AD, AE, AL, AR, AT, AU, BA, BE, BG, BH, BO, B...</td>\n",
       "      <td>1zUY4PAFrNUOCeaEBrEHzh</td>\n",
       "      <td>Curtain Call: The Hits</td>\n",
       "      <td>2005-12-06</td>\n",
       "      <td>[7dGJo4pcD2V6oG8kP0tJRR]</td>\n",
       "      <td>[Eminem]</td>\n",
       "      <td>[7dGJo4pcD2V6oG8kP0tJRR]</td>\n",
       "      <td>[Eminem]</td>\n",
       "    </tr>\n",
       "    <tr>\n",
       "      <th>17192</th>\n",
       "      <td>2018-01-01 09:27:46+00:00</td>\n",
       "      <td>stabbedmeat</td>\n",
       "      <td>False</td>\n",
       "      <td>3MPa29N5KpS3ZOk2B4PlUq</td>\n",
       "      <td>[AD, AE, AL, AR, AT, AU, BA, BE, BG, BH, BO, B...</td>\n",
       "      <td>1.0</td>\n",
       "      <td>205760.0</td>\n",
       "      <td>True</td>\n",
       "      <td>3vllUzZChqpEaAat9brOYV</td>\n",
       "      <td>FACK</td>\n",
       "      <td>41.0</td>\n",
       "      <td>2.0</td>\n",
       "      <td>compilation</td>\n",
       "      <td>[AD, AE, AL, AR, AT, AU, BA, BE, BG, BH, BO, B...</td>\n",
       "      <td>1zUY4PAFrNUOCeaEBrEHzh</td>\n",
       "      <td>Curtain Call: The Hits</td>\n",
       "      <td>2005-12-06</td>\n",
       "      <td>[7dGJo4pcD2V6oG8kP0tJRR]</td>\n",
       "      <td>[Eminem]</td>\n",
       "      <td>[7dGJo4pcD2V6oG8kP0tJRR]</td>\n",
       "      <td>[Eminem]</td>\n",
       "    </tr>\n",
       "    <tr>\n",
       "      <th>17193</th>\n",
       "      <td>2018-01-01 09:27:46+00:00</td>\n",
       "      <td>stabbedmeat</td>\n",
       "      <td>False</td>\n",
       "      <td>3MPa29N5KpS3ZOk2B4PlUq</td>\n",
       "      <td>[AD, AE, AL, AR, AT, AU, BA, BE, BG, BH, BO, B...</td>\n",
       "      <td>1.0</td>\n",
       "      <td>205760.0</td>\n",
       "      <td>True</td>\n",
       "      <td>3vllUzZChqpEaAat9brOYV</td>\n",
       "      <td>FACK</td>\n",
       "      <td>41.0</td>\n",
       "      <td>2.0</td>\n",
       "      <td>compilation</td>\n",
       "      <td>[AD, AE, AL, AR, AT, AU, BA, BE, BG, BH, BO, B...</td>\n",
       "      <td>1zUY4PAFrNUOCeaEBrEHzh</td>\n",
       "      <td>Curtain Call: The Hits</td>\n",
       "      <td>2005-12-06</td>\n",
       "      <td>[7dGJo4pcD2V6oG8kP0tJRR]</td>\n",
       "      <td>[Eminem]</td>\n",
       "      <td>[7dGJo4pcD2V6oG8kP0tJRR]</td>\n",
       "      <td>[Eminem]</td>\n",
       "    </tr>\n",
       "    <tr>\n",
       "      <th>17194</th>\n",
       "      <td>2018-01-01 09:27:46+00:00</td>\n",
       "      <td>stabbedmeat</td>\n",
       "      <td>False</td>\n",
       "      <td>3MPa29N5KpS3ZOk2B4PlUq</td>\n",
       "      <td>[AD, AE, AL, AR, AT, AU, BA, BE, BG, BH, BO, B...</td>\n",
       "      <td>1.0</td>\n",
       "      <td>205760.0</td>\n",
       "      <td>True</td>\n",
       "      <td>3vllUzZChqpEaAat9brOYV</td>\n",
       "      <td>FACK</td>\n",
       "      <td>41.0</td>\n",
       "      <td>2.0</td>\n",
       "      <td>compilation</td>\n",
       "      <td>[AD, AE, AL, AR, AT, AU, BA, BE, BG, BH, BO, B...</td>\n",
       "      <td>1zUY4PAFrNUOCeaEBrEHzh</td>\n",
       "      <td>Curtain Call: The Hits</td>\n",
       "      <td>2005-12-06</td>\n",
       "      <td>[7dGJo4pcD2V6oG8kP0tJRR]</td>\n",
       "      <td>[Eminem]</td>\n",
       "      <td>[7dGJo4pcD2V6oG8kP0tJRR]</td>\n",
       "      <td>[Eminem]</td>\n",
       "    </tr>\n",
       "    <tr>\n",
       "      <th>17195</th>\n",
       "      <td>2018-01-01 09:27:46+00:00</td>\n",
       "      <td>stabbedmeat</td>\n",
       "      <td>False</td>\n",
       "      <td>3MPa29N5KpS3ZOk2B4PlUq</td>\n",
       "      <td>[AD, AE, AL, AR, AT, AU, BA, BE, BG, BH, BO, B...</td>\n",
       "      <td>1.0</td>\n",
       "      <td>205760.0</td>\n",
       "      <td>True</td>\n",
       "      <td>3vllUzZChqpEaAat9brOYV</td>\n",
       "      <td>FACK</td>\n",
       "      <td>41.0</td>\n",
       "      <td>2.0</td>\n",
       "      <td>compilation</td>\n",
       "      <td>[AD, AE, AL, AR, AT, AU, BA, BE, BG, BH, BO, B...</td>\n",
       "      <td>1zUY4PAFrNUOCeaEBrEHzh</td>\n",
       "      <td>Curtain Call: The Hits</td>\n",
       "      <td>2005-12-06</td>\n",
       "      <td>[7dGJo4pcD2V6oG8kP0tJRR]</td>\n",
       "      <td>[Eminem]</td>\n",
       "      <td>[7dGJo4pcD2V6oG8kP0tJRR]</td>\n",
       "      <td>[Eminem]</td>\n",
       "    </tr>\n",
       "    <tr>\n",
       "      <th>...</th>\n",
       "      <td>...</td>\n",
       "      <td>...</td>\n",
       "      <td>...</td>\n",
       "      <td>...</td>\n",
       "      <td>...</td>\n",
       "      <td>...</td>\n",
       "      <td>...</td>\n",
       "      <td>...</td>\n",
       "      <td>...</td>\n",
       "      <td>...</td>\n",
       "      <td>...</td>\n",
       "      <td>...</td>\n",
       "      <td>...</td>\n",
       "      <td>...</td>\n",
       "      <td>...</td>\n",
       "      <td>...</td>\n",
       "      <td>...</td>\n",
       "      <td>...</td>\n",
       "      <td>...</td>\n",
       "      <td>...</td>\n",
       "      <td>...</td>\n",
       "    </tr>\n",
       "    <tr>\n",
       "      <th>18210</th>\n",
       "      <td>2018-01-01 09:27:46+00:00</td>\n",
       "      <td>stabbedmeat</td>\n",
       "      <td>False</td>\n",
       "      <td>3MPa29N5KpS3ZOk2B4PlUq</td>\n",
       "      <td>[AD, AE, AL, AR, AT, AU, BA, BE, BG, BH, BO, B...</td>\n",
       "      <td>1.0</td>\n",
       "      <td>205760.0</td>\n",
       "      <td>True</td>\n",
       "      <td>3vllUzZChqpEaAat9brOYV</td>\n",
       "      <td>FACK</td>\n",
       "      <td>41.0</td>\n",
       "      <td>2.0</td>\n",
       "      <td>compilation</td>\n",
       "      <td>[AD, AE, AL, AR, AT, AU, BA, BE, BG, BH, BO, B...</td>\n",
       "      <td>1zUY4PAFrNUOCeaEBrEHzh</td>\n",
       "      <td>Curtain Call: The Hits</td>\n",
       "      <td>2005-12-06</td>\n",
       "      <td>[7dGJo4pcD2V6oG8kP0tJRR]</td>\n",
       "      <td>[Eminem]</td>\n",
       "      <td>[7dGJo4pcD2V6oG8kP0tJRR]</td>\n",
       "      <td>[Eminem]</td>\n",
       "    </tr>\n",
       "    <tr>\n",
       "      <th>18211</th>\n",
       "      <td>2018-01-01 09:27:46+00:00</td>\n",
       "      <td>stabbedmeat</td>\n",
       "      <td>False</td>\n",
       "      <td>3MPa29N5KpS3ZOk2B4PlUq</td>\n",
       "      <td>[AD, AE, AL, AR, AT, AU, BA, BE, BG, BH, BO, B...</td>\n",
       "      <td>1.0</td>\n",
       "      <td>205760.0</td>\n",
       "      <td>True</td>\n",
       "      <td>3vllUzZChqpEaAat9brOYV</td>\n",
       "      <td>FACK</td>\n",
       "      <td>41.0</td>\n",
       "      <td>2.0</td>\n",
       "      <td>compilation</td>\n",
       "      <td>[AD, AE, AL, AR, AT, AU, BA, BE, BG, BH, BO, B...</td>\n",
       "      <td>1zUY4PAFrNUOCeaEBrEHzh</td>\n",
       "      <td>Curtain Call: The Hits</td>\n",
       "      <td>2005-12-06</td>\n",
       "      <td>[7dGJo4pcD2V6oG8kP0tJRR]</td>\n",
       "      <td>[Eminem]</td>\n",
       "      <td>[7dGJo4pcD2V6oG8kP0tJRR]</td>\n",
       "      <td>[Eminem]</td>\n",
       "    </tr>\n",
       "    <tr>\n",
       "      <th>18212</th>\n",
       "      <td>2018-01-01 09:27:46+00:00</td>\n",
       "      <td>stabbedmeat</td>\n",
       "      <td>False</td>\n",
       "      <td>3MPa29N5KpS3ZOk2B4PlUq</td>\n",
       "      <td>[AD, AE, AL, AR, AT, AU, BA, BE, BG, BH, BO, B...</td>\n",
       "      <td>1.0</td>\n",
       "      <td>205760.0</td>\n",
       "      <td>True</td>\n",
       "      <td>3vllUzZChqpEaAat9brOYV</td>\n",
       "      <td>FACK</td>\n",
       "      <td>41.0</td>\n",
       "      <td>2.0</td>\n",
       "      <td>compilation</td>\n",
       "      <td>[AD, AE, AL, AR, AT, AU, BA, BE, BG, BH, BO, B...</td>\n",
       "      <td>1zUY4PAFrNUOCeaEBrEHzh</td>\n",
       "      <td>Curtain Call: The Hits</td>\n",
       "      <td>2005-12-06</td>\n",
       "      <td>[7dGJo4pcD2V6oG8kP0tJRR]</td>\n",
       "      <td>[Eminem]</td>\n",
       "      <td>[7dGJo4pcD2V6oG8kP0tJRR]</td>\n",
       "      <td>[Eminem]</td>\n",
       "    </tr>\n",
       "    <tr>\n",
       "      <th>18213</th>\n",
       "      <td>2018-01-01 09:27:46+00:00</td>\n",
       "      <td>stabbedmeat</td>\n",
       "      <td>False</td>\n",
       "      <td>3MPa29N5KpS3ZOk2B4PlUq</td>\n",
       "      <td>[AD, AE, AL, AR, AT, AU, BA, BE, BG, BH, BO, B...</td>\n",
       "      <td>1.0</td>\n",
       "      <td>205760.0</td>\n",
       "      <td>True</td>\n",
       "      <td>3vllUzZChqpEaAat9brOYV</td>\n",
       "      <td>FACK</td>\n",
       "      <td>41.0</td>\n",
       "      <td>2.0</td>\n",
       "      <td>compilation</td>\n",
       "      <td>[AD, AE, AL, AR, AT, AU, BA, BE, BG, BH, BO, B...</td>\n",
       "      <td>1zUY4PAFrNUOCeaEBrEHzh</td>\n",
       "      <td>Curtain Call: The Hits</td>\n",
       "      <td>2005-12-06</td>\n",
       "      <td>[7dGJo4pcD2V6oG8kP0tJRR]</td>\n",
       "      <td>[Eminem]</td>\n",
       "      <td>[7dGJo4pcD2V6oG8kP0tJRR]</td>\n",
       "      <td>[Eminem]</td>\n",
       "    </tr>\n",
       "    <tr>\n",
       "      <th>18214</th>\n",
       "      <td>2018-01-01 09:27:46+00:00</td>\n",
       "      <td>stabbedmeat</td>\n",
       "      <td>False</td>\n",
       "      <td>3MPa29N5KpS3ZOk2B4PlUq</td>\n",
       "      <td>[AD, AE, AL, AR, AT, AU, BA, BE, BG, BH, BO, B...</td>\n",
       "      <td>1.0</td>\n",
       "      <td>205760.0</td>\n",
       "      <td>True</td>\n",
       "      <td>3vllUzZChqpEaAat9brOYV</td>\n",
       "      <td>FACK</td>\n",
       "      <td>41.0</td>\n",
       "      <td>2.0</td>\n",
       "      <td>compilation</td>\n",
       "      <td>[AD, AE, AL, AR, AT, AU, BA, BE, BG, BH, BO, B...</td>\n",
       "      <td>1zUY4PAFrNUOCeaEBrEHzh</td>\n",
       "      <td>Curtain Call: The Hits</td>\n",
       "      <td>2005-12-06</td>\n",
       "      <td>[7dGJo4pcD2V6oG8kP0tJRR]</td>\n",
       "      <td>[Eminem]</td>\n",
       "      <td>[7dGJo4pcD2V6oG8kP0tJRR]</td>\n",
       "      <td>[Eminem]</td>\n",
       "    </tr>\n",
       "  </tbody>\n",
       "</table>\n",
       "<p>1024 rows × 21 columns</p>\n",
       "</div>"
      ],
      "text/plain": [
       "                       added_at     added_by  is_local  \\\n",
       "17191 2018-01-01 09:27:46+00:00  stabbedmeat     False   \n",
       "17192 2018-01-01 09:27:46+00:00  stabbedmeat     False   \n",
       "17193 2018-01-01 09:27:46+00:00  stabbedmeat     False   \n",
       "17194 2018-01-01 09:27:46+00:00  stabbedmeat     False   \n",
       "17195 2018-01-01 09:27:46+00:00  stabbedmeat     False   \n",
       "...                         ...          ...       ...   \n",
       "18210 2018-01-01 09:27:46+00:00  stabbedmeat     False   \n",
       "18211 2018-01-01 09:27:46+00:00  stabbedmeat     False   \n",
       "18212 2018-01-01 09:27:46+00:00  stabbedmeat     False   \n",
       "18213 2018-01-01 09:27:46+00:00  stabbedmeat     False   \n",
       "18214 2018-01-01 09:27:46+00:00  stabbedmeat     False   \n",
       "\n",
       "                  playlist_id  \\\n",
       "17191  3MPa29N5KpS3ZOk2B4PlUq   \n",
       "17192  3MPa29N5KpS3ZOk2B4PlUq   \n",
       "17193  3MPa29N5KpS3ZOk2B4PlUq   \n",
       "17194  3MPa29N5KpS3ZOk2B4PlUq   \n",
       "17195  3MPa29N5KpS3ZOk2B4PlUq   \n",
       "...                       ...   \n",
       "18210  3MPa29N5KpS3ZOk2B4PlUq   \n",
       "18211  3MPa29N5KpS3ZOk2B4PlUq   \n",
       "18212  3MPa29N5KpS3ZOk2B4PlUq   \n",
       "18213  3MPa29N5KpS3ZOk2B4PlUq   \n",
       "18214  3MPa29N5KpS3ZOk2B4PlUq   \n",
       "\n",
       "                                       available_markets  disc_number  \\\n",
       "17191  [AD, AE, AL, AR, AT, AU, BA, BE, BG, BH, BO, B...          1.0   \n",
       "17192  [AD, AE, AL, AR, AT, AU, BA, BE, BG, BH, BO, B...          1.0   \n",
       "17193  [AD, AE, AL, AR, AT, AU, BA, BE, BG, BH, BO, B...          1.0   \n",
       "17194  [AD, AE, AL, AR, AT, AU, BA, BE, BG, BH, BO, B...          1.0   \n",
       "17195  [AD, AE, AL, AR, AT, AU, BA, BE, BG, BH, BO, B...          1.0   \n",
       "...                                                  ...          ...   \n",
       "18210  [AD, AE, AL, AR, AT, AU, BA, BE, BG, BH, BO, B...          1.0   \n",
       "18211  [AD, AE, AL, AR, AT, AU, BA, BE, BG, BH, BO, B...          1.0   \n",
       "18212  [AD, AE, AL, AR, AT, AU, BA, BE, BG, BH, BO, B...          1.0   \n",
       "18213  [AD, AE, AL, AR, AT, AU, BA, BE, BG, BH, BO, B...          1.0   \n",
       "18214  [AD, AE, AL, AR, AT, AU, BA, BE, BG, BH, BO, B...          1.0   \n",
       "\n",
       "       duration_ms explicit                      id  name  popularity  \\\n",
       "17191     205760.0     True  3vllUzZChqpEaAat9brOYV  FACK        41.0   \n",
       "17192     205760.0     True  3vllUzZChqpEaAat9brOYV  FACK        41.0   \n",
       "17193     205760.0     True  3vllUzZChqpEaAat9brOYV  FACK        41.0   \n",
       "17194     205760.0     True  3vllUzZChqpEaAat9brOYV  FACK        41.0   \n",
       "17195     205760.0     True  3vllUzZChqpEaAat9brOYV  FACK        41.0   \n",
       "...            ...      ...                     ...   ...         ...   \n",
       "18210     205760.0     True  3vllUzZChqpEaAat9brOYV  FACK        41.0   \n",
       "18211     205760.0     True  3vllUzZChqpEaAat9brOYV  FACK        41.0   \n",
       "18212     205760.0     True  3vllUzZChqpEaAat9brOYV  FACK        41.0   \n",
       "18213     205760.0     True  3vllUzZChqpEaAat9brOYV  FACK        41.0   \n",
       "18214     205760.0     True  3vllUzZChqpEaAat9brOYV  FACK        41.0   \n",
       "\n",
       "       track_number   album_type  \\\n",
       "17191           2.0  compilation   \n",
       "17192           2.0  compilation   \n",
       "17193           2.0  compilation   \n",
       "17194           2.0  compilation   \n",
       "17195           2.0  compilation   \n",
       "...             ...          ...   \n",
       "18210           2.0  compilation   \n",
       "18211           2.0  compilation   \n",
       "18212           2.0  compilation   \n",
       "18213           2.0  compilation   \n",
       "18214           2.0  compilation   \n",
       "\n",
       "                                 album_available_markets  \\\n",
       "17191  [AD, AE, AL, AR, AT, AU, BA, BE, BG, BH, BO, B...   \n",
       "17192  [AD, AE, AL, AR, AT, AU, BA, BE, BG, BH, BO, B...   \n",
       "17193  [AD, AE, AL, AR, AT, AU, BA, BE, BG, BH, BO, B...   \n",
       "17194  [AD, AE, AL, AR, AT, AU, BA, BE, BG, BH, BO, B...   \n",
       "17195  [AD, AE, AL, AR, AT, AU, BA, BE, BG, BH, BO, B...   \n",
       "...                                                  ...   \n",
       "18210  [AD, AE, AL, AR, AT, AU, BA, BE, BG, BH, BO, B...   \n",
       "18211  [AD, AE, AL, AR, AT, AU, BA, BE, BG, BH, BO, B...   \n",
       "18212  [AD, AE, AL, AR, AT, AU, BA, BE, BG, BH, BO, B...   \n",
       "18213  [AD, AE, AL, AR, AT, AU, BA, BE, BG, BH, BO, B...   \n",
       "18214  [AD, AE, AL, AR, AT, AU, BA, BE, BG, BH, BO, B...   \n",
       "\n",
       "                     album_id              album_name album_release_date  \\\n",
       "17191  1zUY4PAFrNUOCeaEBrEHzh  Curtain Call: The Hits         2005-12-06   \n",
       "17192  1zUY4PAFrNUOCeaEBrEHzh  Curtain Call: The Hits         2005-12-06   \n",
       "17193  1zUY4PAFrNUOCeaEBrEHzh  Curtain Call: The Hits         2005-12-06   \n",
       "17194  1zUY4PAFrNUOCeaEBrEHzh  Curtain Call: The Hits         2005-12-06   \n",
       "17195  1zUY4PAFrNUOCeaEBrEHzh  Curtain Call: The Hits         2005-12-06   \n",
       "...                       ...                     ...                ...   \n",
       "18210  1zUY4PAFrNUOCeaEBrEHzh  Curtain Call: The Hits         2005-12-06   \n",
       "18211  1zUY4PAFrNUOCeaEBrEHzh  Curtain Call: The Hits         2005-12-06   \n",
       "18212  1zUY4PAFrNUOCeaEBrEHzh  Curtain Call: The Hits         2005-12-06   \n",
       "18213  1zUY4PAFrNUOCeaEBrEHzh  Curtain Call: The Hits         2005-12-06   \n",
       "18214  1zUY4PAFrNUOCeaEBrEHzh  Curtain Call: The Hits         2005-12-06   \n",
       "\n",
       "                    artists_ids artists_names         album_artists_ids  \\\n",
       "17191  [7dGJo4pcD2V6oG8kP0tJRR]      [Eminem]  [7dGJo4pcD2V6oG8kP0tJRR]   \n",
       "17192  [7dGJo4pcD2V6oG8kP0tJRR]      [Eminem]  [7dGJo4pcD2V6oG8kP0tJRR]   \n",
       "17193  [7dGJo4pcD2V6oG8kP0tJRR]      [Eminem]  [7dGJo4pcD2V6oG8kP0tJRR]   \n",
       "17194  [7dGJo4pcD2V6oG8kP0tJRR]      [Eminem]  [7dGJo4pcD2V6oG8kP0tJRR]   \n",
       "17195  [7dGJo4pcD2V6oG8kP0tJRR]      [Eminem]  [7dGJo4pcD2V6oG8kP0tJRR]   \n",
       "...                         ...           ...                       ...   \n",
       "18210  [7dGJo4pcD2V6oG8kP0tJRR]      [Eminem]  [7dGJo4pcD2V6oG8kP0tJRR]   \n",
       "18211  [7dGJo4pcD2V6oG8kP0tJRR]      [Eminem]  [7dGJo4pcD2V6oG8kP0tJRR]   \n",
       "18212  [7dGJo4pcD2V6oG8kP0tJRR]      [Eminem]  [7dGJo4pcD2V6oG8kP0tJRR]   \n",
       "18213  [7dGJo4pcD2V6oG8kP0tJRR]      [Eminem]  [7dGJo4pcD2V6oG8kP0tJRR]   \n",
       "18214  [7dGJo4pcD2V6oG8kP0tJRR]      [Eminem]  [7dGJo4pcD2V6oG8kP0tJRR]   \n",
       "\n",
       "      album_artists_names  \n",
       "17191            [Eminem]  \n",
       "17192            [Eminem]  \n",
       "17193            [Eminem]  \n",
       "17194            [Eminem]  \n",
       "17195            [Eminem]  \n",
       "...                   ...  \n",
       "18210            [Eminem]  \n",
       "18211            [Eminem]  \n",
       "18212            [Eminem]  \n",
       "18213            [Eminem]  \n",
       "18214            [Eminem]  \n",
       "\n",
       "[1024 rows x 21 columns]"
      ]
     },
     "execution_count": 35,
     "metadata": {},
     "output_type": "execute_result"
    }
   ],
   "source": [
    "tracks[(tracks.id == '3vllUzZChqpEaAat9brOYV') & (tracks.playlist_id == '3MPa29N5KpS3ZOk2B4PlUq') & (tracks.added_at == '2018-01-01 09:27:46+00:00')]"
   ]
  },
  {
   "cell_type": "markdown",
   "metadata": {},
   "source": [
    "Let's make a `describe`."
   ]
  },
  {
   "cell_type": "code",
   "execution_count": 36,
   "metadata": {},
   "outputs": [
    {
     "data": {
      "text/html": [
       "<div>\n",
       "<style scoped>\n",
       "    .dataframe tbody tr th:only-of-type {\n",
       "        vertical-align: middle;\n",
       "    }\n",
       "\n",
       "    .dataframe tbody tr th {\n",
       "        vertical-align: top;\n",
       "    }\n",
       "\n",
       "    .dataframe thead th {\n",
       "        text-align: right;\n",
       "    }\n",
       "</style>\n",
       "<table border=\"1\" class=\"dataframe\">\n",
       "  <thead>\n",
       "    <tr style=\"text-align: right;\">\n",
       "      <th></th>\n",
       "      <th>disc_number</th>\n",
       "      <th>duration_ms</th>\n",
       "      <th>popularity</th>\n",
       "      <th>track_number</th>\n",
       "    </tr>\n",
       "  </thead>\n",
       "  <tbody>\n",
       "    <tr>\n",
       "      <th>count</th>\n",
       "      <td>62628.000000</td>\n",
       "      <td>6.262800e+04</td>\n",
       "      <td>62628.000000</td>\n",
       "      <td>62628.000000</td>\n",
       "    </tr>\n",
       "    <tr>\n",
       "      <th>mean</th>\n",
       "      <td>1.000782</td>\n",
       "      <td>2.345405e+05</td>\n",
       "      <td>27.463116</td>\n",
       "      <td>5.116769</td>\n",
       "    </tr>\n",
       "    <tr>\n",
       "      <th>std</th>\n",
       "      <td>0.474441</td>\n",
       "      <td>9.027254e+04</td>\n",
       "      <td>26.100438</td>\n",
       "      <td>6.330573</td>\n",
       "    </tr>\n",
       "    <tr>\n",
       "      <th>min</th>\n",
       "      <td>0.000000</td>\n",
       "      <td>0.000000e+00</td>\n",
       "      <td>0.000000</td>\n",
       "      <td>0.000000</td>\n",
       "    </tr>\n",
       "    <tr>\n",
       "      <th>25%</th>\n",
       "      <td>1.000000</td>\n",
       "      <td>1.919060e+05</td>\n",
       "      <td>0.000000</td>\n",
       "      <td>1.000000</td>\n",
       "    </tr>\n",
       "    <tr>\n",
       "      <th>50%</th>\n",
       "      <td>1.000000</td>\n",
       "      <td>2.202930e+05</td>\n",
       "      <td>25.000000</td>\n",
       "      <td>3.000000</td>\n",
       "    </tr>\n",
       "    <tr>\n",
       "      <th>75%</th>\n",
       "      <td>1.000000</td>\n",
       "      <td>2.618800e+05</td>\n",
       "      <td>49.000000</td>\n",
       "      <td>7.000000</td>\n",
       "    </tr>\n",
       "    <tr>\n",
       "      <th>max</th>\n",
       "      <td>43.000000</td>\n",
       "      <td>4.681906e+06</td>\n",
       "      <td>100.000000</td>\n",
       "      <td>159.000000</td>\n",
       "    </tr>\n",
       "  </tbody>\n",
       "</table>\n",
       "</div>"
      ],
      "text/plain": [
       "        disc_number   duration_ms    popularity  track_number\n",
       "count  62628.000000  6.262800e+04  62628.000000  62628.000000\n",
       "mean       1.000782  2.345405e+05     27.463116      5.116769\n",
       "std        0.474441  9.027254e+04     26.100438      6.330573\n",
       "min        0.000000  0.000000e+00      0.000000      0.000000\n",
       "25%        1.000000  1.919060e+05      0.000000      1.000000\n",
       "50%        1.000000  2.202930e+05     25.000000      3.000000\n",
       "75%        1.000000  2.618800e+05     49.000000      7.000000\n",
       "max       43.000000  4.681906e+06    100.000000    159.000000"
      ]
     },
     "execution_count": 36,
     "metadata": {},
     "output_type": "execute_result"
    }
   ],
   "source": [
    "tracks.describe()"
   ]
  },
  {
   "cell_type": "markdown",
   "metadata": {},
   "source": [
    "There are tracks with duration 0:"
   ]
  },
  {
   "cell_type": "code",
   "execution_count": 37,
   "metadata": {},
   "outputs": [
    {
     "data": {
      "text/html": [
       "<div>\n",
       "<style scoped>\n",
       "    .dataframe tbody tr th:only-of-type {\n",
       "        vertical-align: middle;\n",
       "    }\n",
       "\n",
       "    .dataframe tbody tr th {\n",
       "        vertical-align: top;\n",
       "    }\n",
       "\n",
       "    .dataframe thead th {\n",
       "        text-align: right;\n",
       "    }\n",
       "</style>\n",
       "<table border=\"1\" class=\"dataframe\">\n",
       "  <thead>\n",
       "    <tr style=\"text-align: right;\">\n",
       "      <th></th>\n",
       "      <th>added_at</th>\n",
       "      <th>added_by</th>\n",
       "      <th>is_local</th>\n",
       "      <th>playlist_id</th>\n",
       "      <th>available_markets</th>\n",
       "      <th>disc_number</th>\n",
       "      <th>duration_ms</th>\n",
       "      <th>explicit</th>\n",
       "      <th>id</th>\n",
       "      <th>name</th>\n",
       "      <th>popularity</th>\n",
       "      <th>track_number</th>\n",
       "      <th>album_type</th>\n",
       "      <th>album_available_markets</th>\n",
       "      <th>album_id</th>\n",
       "      <th>album_name</th>\n",
       "      <th>album_release_date</th>\n",
       "      <th>artists_ids</th>\n",
       "      <th>artists_names</th>\n",
       "      <th>album_artists_ids</th>\n",
       "      <th>album_artists_names</th>\n",
       "    </tr>\n",
       "  </thead>\n",
       "  <tbody>\n",
       "    <tr>\n",
       "      <th>39096</th>\n",
       "      <td>2010-12-08 20:23:57+00:00</td>\n",
       "      <td></td>\n",
       "      <td>False</td>\n",
       "      <td>6KDJ5FumLzap9zJ2Ekaaxf</td>\n",
       "      <td>[]</td>\n",
       "      <td>1.0</td>\n",
       "      <td>0.0</td>\n",
       "      <td>False</td>\n",
       "      <td>2h0PVoVGyPLYONgXDs6V6i</td>\n",
       "      <td>Too Late For Goodbye</td>\n",
       "      <td>0.0</td>\n",
       "      <td>3.0</td>\n",
       "      <td>album</td>\n",
       "      <td>[]</td>\n",
       "      <td>4p6822xC4ni8qkEbLsHCjK</td>\n",
       "      <td>Burning The Day</td>\n",
       "      <td>2010-01-01</td>\n",
       "      <td>[04DUpHOyQqwbHFyvIhcGi3]</td>\n",
       "      <td>[Randy Rogers Band]</td>\n",
       "      <td>[04DUpHOyQqwbHFyvIhcGi3]</td>\n",
       "      <td>[Randy Rogers Band]</td>\n",
       "    </tr>\n",
       "  </tbody>\n",
       "</table>\n",
       "</div>"
      ],
      "text/plain": [
       "                       added_at added_by  is_local             playlist_id  \\\n",
       "39096 2010-12-08 20:23:57+00:00              False  6KDJ5FumLzap9zJ2Ekaaxf   \n",
       "\n",
       "      available_markets  disc_number  duration_ms explicit  \\\n",
       "39096                []          1.0          0.0    False   \n",
       "\n",
       "                           id                  name  popularity  track_number  \\\n",
       "39096  2h0PVoVGyPLYONgXDs6V6i  Too Late For Goodbye         0.0           3.0   \n",
       "\n",
       "      album_type album_available_markets                album_id  \\\n",
       "39096      album                      []  4p6822xC4ni8qkEbLsHCjK   \n",
       "\n",
       "            album_name album_release_date               artists_ids  \\\n",
       "39096  Burning The Day         2010-01-01  [04DUpHOyQqwbHFyvIhcGi3]   \n",
       "\n",
       "             artists_names         album_artists_ids  album_artists_names  \n",
       "39096  [Randy Rogers Band]  [04DUpHOyQqwbHFyvIhcGi3]  [Randy Rogers Band]  "
      ]
     },
     "execution_count": 37,
     "metadata": {},
     "output_type": "execute_result"
    }
   ],
   "source": [
    "tracks[tracks.duration_ms == 0]"
   ]
  },
  {
   "cell_type": "markdown",
   "metadata": {},
   "source": [
    "In fact the song has 3min40s."
   ]
  },
  {
   "cell_type": "markdown",
   "metadata": {},
   "source": [
    "### Playlists"
   ]
  },
  {
   "cell_type": "markdown",
   "metadata": {},
   "source": [
    "#### Missing values and data types"
   ]
  },
  {
   "cell_type": "code",
   "execution_count": 40,
   "metadata": {},
   "outputs": [
    {
     "data": {
      "text/plain": [
       "collaborative      bool\n",
       "description      object\n",
       "id               object\n",
       "name             object\n",
       "primary_color    object\n",
       "public             bool\n",
       "tracks           object\n",
       "owner_id         object\n",
       "dtype: object"
      ]
     },
     "execution_count": 40,
     "metadata": {},
     "output_type": "execute_result"
    }
   ],
   "source": [
    "playlists.dtypes"
   ]
  },
  {
   "cell_type": "markdown",
   "metadata": {},
   "source": [
    "It seems OK."
   ]
  },
  {
   "cell_type": "code",
   "execution_count": 41,
   "metadata": {},
   "outputs": [
    {
     "data": {
      "text/plain": [
       "collaborative        0\n",
       "description          0\n",
       "id                   0\n",
       "name                 0\n",
       "primary_color    11617\n",
       "public               0\n",
       "tracks               0\n",
       "owner_id             0\n",
       "dtype: int64"
      ]
     },
     "execution_count": 41,
     "metadata": {},
     "output_type": "execute_result"
    }
   ],
   "source": [
    "playlists.isnull().sum()"
   ]
  },
  {
   "cell_type": "code",
   "execution_count": 42,
   "metadata": {},
   "outputs": [
    {
     "data": {
      "text/plain": [
       "11617"
      ]
     },
     "execution_count": 42,
     "metadata": {},
     "output_type": "execute_result"
    }
   ],
   "source": [
    "len(playlists)"
   ]
  },
  {
   "cell_type": "markdown",
   "metadata": {},
   "source": [
    "There are no `primary_colors`."
   ]
  },
  {
   "cell_type": "markdown",
   "metadata": {},
   "source": [
    "#### Features distribution"
   ]
  },
  {
   "cell_type": "markdown",
   "metadata": {},
   "source": [
    "A track is dupplicated when it's the same track in the same playlist and was added at the same time."
   ]
  },
  {
   "cell_type": "code",
   "execution_count": 45,
   "metadata": {},
   "outputs": [
    {
     "data": {
      "text/plain": [
       "690"
      ]
     },
     "execution_count": 45,
     "metadata": {},
     "output_type": "execute_result"
    }
   ],
   "source": [
    "playlists.duplicated('id').sum()"
   ]
  },
  {
   "cell_type": "markdown",
   "metadata": {},
   "source": [
    "He have a lot of repeated playlists, but it was treated when dealing with the tracks!"
   ]
  },
  {
   "cell_type": "markdown",
   "metadata": {},
   "source": [
    "### Audio features"
   ]
  },
  {
   "cell_type": "markdown",
   "metadata": {},
   "source": [
    "#### Missing values and data types"
   ]
  },
  {
   "cell_type": "code",
   "execution_count": 49,
   "metadata": {},
   "outputs": [
    {
     "data": {
      "text/plain": [
       "danceability        float64\n",
       "energy              float64\n",
       "key                   int64\n",
       "loudness            float64\n",
       "mode                  int64\n",
       "speechiness         float64\n",
       "acousticness        float64\n",
       "instrumentalness    float64\n",
       "liveness            float64\n",
       "valence             float64\n",
       "tempo               float64\n",
       "id                   object\n",
       "duration_ms           int64\n",
       "time_signature        int64\n",
       "dtype: object"
      ]
     },
     "execution_count": 49,
     "metadata": {},
     "output_type": "execute_result"
    }
   ],
   "source": [
    "audio_features.dtypes"
   ]
  },
  {
   "cell_type": "markdown",
   "metadata": {},
   "source": [
    "It seems OK."
   ]
  },
  {
   "cell_type": "code",
   "execution_count": 50,
   "metadata": {},
   "outputs": [
    {
     "data": {
      "text/plain": [
       "danceability        0\n",
       "energy              0\n",
       "key                 0\n",
       "loudness            0\n",
       "mode                0\n",
       "speechiness         0\n",
       "acousticness        0\n",
       "instrumentalness    0\n",
       "liveness            0\n",
       "valence             0\n",
       "tempo               0\n",
       "id                  0\n",
       "duration_ms         0\n",
       "time_signature      0\n",
       "dtype: int64"
      ]
     },
     "execution_count": 50,
     "metadata": {},
     "output_type": "execute_result"
    }
   ],
   "source": [
    "audio_features.isnull().sum()"
   ]
  },
  {
   "cell_type": "markdown",
   "metadata": {},
   "source": [
    "Nice!"
   ]
  },
  {
   "cell_type": "markdown",
   "metadata": {},
   "source": [
    "#### Features distribution"
   ]
  },
  {
   "cell_type": "code",
   "execution_count": 52,
   "metadata": {},
   "outputs": [
    {
     "data": {
      "text/plain": [
       "0"
      ]
     },
     "execution_count": 52,
     "metadata": {},
     "output_type": "execute_result"
    }
   ],
   "source": [
    "audio_features.duplicated('id').sum()"
   ]
  },
  {
   "cell_type": "markdown",
   "metadata": {},
   "source": [
    "Nice too!"
   ]
  },
  {
   "cell_type": "code",
   "execution_count": 54,
   "metadata": {
    "scrolled": true
   },
   "outputs": [
    {
     "data": {
      "text/html": [
       "<div>\n",
       "<style scoped>\n",
       "    .dataframe tbody tr th:only-of-type {\n",
       "        vertical-align: middle;\n",
       "    }\n",
       "\n",
       "    .dataframe tbody tr th {\n",
       "        vertical-align: top;\n",
       "    }\n",
       "\n",
       "    .dataframe thead th {\n",
       "        text-align: right;\n",
       "    }\n",
       "</style>\n",
       "<table border=\"1\" class=\"dataframe\">\n",
       "  <thead>\n",
       "    <tr style=\"text-align: right;\">\n",
       "      <th></th>\n",
       "      <th>danceability</th>\n",
       "      <th>energy</th>\n",
       "      <th>key</th>\n",
       "      <th>loudness</th>\n",
       "      <th>mode</th>\n",
       "      <th>speechiness</th>\n",
       "      <th>acousticness</th>\n",
       "      <th>instrumentalness</th>\n",
       "      <th>liveness</th>\n",
       "      <th>valence</th>\n",
       "      <th>tempo</th>\n",
       "      <th>duration_ms</th>\n",
       "      <th>time_signature</th>\n",
       "    </tr>\n",
       "  </thead>\n",
       "  <tbody>\n",
       "    <tr>\n",
       "      <th>count</th>\n",
       "      <td>491595.000000</td>\n",
       "      <td>491595.000000</td>\n",
       "      <td>491595.000000</td>\n",
       "      <td>491595.000000</td>\n",
       "      <td>491595.000000</td>\n",
       "      <td>491595.000000</td>\n",
       "      <td>491595.000000</td>\n",
       "      <td>491595.000000</td>\n",
       "      <td>491595.000000</td>\n",
       "      <td>491595.000000</td>\n",
       "      <td>491595.000000</td>\n",
       "      <td>4.915950e+05</td>\n",
       "      <td>491595.000000</td>\n",
       "    </tr>\n",
       "    <tr>\n",
       "      <th>mean</th>\n",
       "      <td>0.555357</td>\n",
       "      <td>0.636276</td>\n",
       "      <td>5.281917</td>\n",
       "      <td>-8.746491</td>\n",
       "      <td>0.623934</td>\n",
       "      <td>0.096430</td>\n",
       "      <td>0.273871</td>\n",
       "      <td>0.202287</td>\n",
       "      <td>0.204890</td>\n",
       "      <td>0.470628</td>\n",
       "      <td>121.422468</td>\n",
       "      <td>2.426466e+05</td>\n",
       "      <td>3.905933</td>\n",
       "    </tr>\n",
       "    <tr>\n",
       "      <th>std</th>\n",
       "      <td>0.176397</td>\n",
       "      <td>0.248168</td>\n",
       "      <td>3.578772</td>\n",
       "      <td>4.880195</td>\n",
       "      <td>0.484397</td>\n",
       "      <td>0.143514</td>\n",
       "      <td>0.318675</td>\n",
       "      <td>0.331959</td>\n",
       "      <td>0.179179</td>\n",
       "      <td>0.257163</td>\n",
       "      <td>29.159548</td>\n",
       "      <td>1.205123e+05</td>\n",
       "      <td>0.435442</td>\n",
       "    </tr>\n",
       "    <tr>\n",
       "      <th>min</th>\n",
       "      <td>0.000000</td>\n",
       "      <td>0.000000</td>\n",
       "      <td>0.000000</td>\n",
       "      <td>-60.000000</td>\n",
       "      <td>0.000000</td>\n",
       "      <td>0.000000</td>\n",
       "      <td>0.000000</td>\n",
       "      <td>0.000000</td>\n",
       "      <td>0.000000</td>\n",
       "      <td>0.000000</td>\n",
       "      <td>0.000000</td>\n",
       "      <td>1.347000e+03</td>\n",
       "      <td>0.000000</td>\n",
       "    </tr>\n",
       "    <tr>\n",
       "      <th>25%</th>\n",
       "      <td>0.438000</td>\n",
       "      <td>0.466000</td>\n",
       "      <td>2.000000</td>\n",
       "      <td>-10.730000</td>\n",
       "      <td>0.000000</td>\n",
       "      <td>0.035500</td>\n",
       "      <td>0.010500</td>\n",
       "      <td>0.000001</td>\n",
       "      <td>0.096400</td>\n",
       "      <td>0.260000</td>\n",
       "      <td>99.875500</td>\n",
       "      <td>1.869330e+05</td>\n",
       "      <td>4.000000</td>\n",
       "    </tr>\n",
       "    <tr>\n",
       "      <th>50%</th>\n",
       "      <td>0.569000</td>\n",
       "      <td>0.679000</td>\n",
       "      <td>5.000000</td>\n",
       "      <td>-7.551000</td>\n",
       "      <td>1.000000</td>\n",
       "      <td>0.048300</td>\n",
       "      <td>0.116000</td>\n",
       "      <td>0.001000</td>\n",
       "      <td>0.129000</td>\n",
       "      <td>0.460000</td>\n",
       "      <td>121.030000</td>\n",
       "      <td>2.239600e+05</td>\n",
       "      <td>4.000000</td>\n",
       "    </tr>\n",
       "    <tr>\n",
       "      <th>75%</th>\n",
       "      <td>0.686000</td>\n",
       "      <td>0.843000</td>\n",
       "      <td>9.000000</td>\n",
       "      <td>-5.438000</td>\n",
       "      <td>1.000000</td>\n",
       "      <td>0.086100</td>\n",
       "      <td>0.494000</td>\n",
       "      <td>0.302000</td>\n",
       "      <td>0.263000</td>\n",
       "      <td>0.676000</td>\n",
       "      <td>138.700000</td>\n",
       "      <td>2.740400e+05</td>\n",
       "      <td>4.000000</td>\n",
       "    </tr>\n",
       "    <tr>\n",
       "      <th>max</th>\n",
       "      <td>0.993000</td>\n",
       "      <td>1.000000</td>\n",
       "      <td>11.000000</td>\n",
       "      <td>5.118000</td>\n",
       "      <td>1.000000</td>\n",
       "      <td>0.971000</td>\n",
       "      <td>0.996000</td>\n",
       "      <td>1.000000</td>\n",
       "      <td>1.000000</td>\n",
       "      <td>1.000000</td>\n",
       "      <td>249.987000</td>\n",
       "      <td>5.925082e+06</td>\n",
       "      <td>5.000000</td>\n",
       "    </tr>\n",
       "  </tbody>\n",
       "</table>\n",
       "</div>"
      ],
      "text/plain": [
       "        danceability         energy            key       loudness  \\\n",
       "count  491595.000000  491595.000000  491595.000000  491595.000000   \n",
       "mean        0.555357       0.636276       5.281917      -8.746491   \n",
       "std         0.176397       0.248168       3.578772       4.880195   \n",
       "min         0.000000       0.000000       0.000000     -60.000000   \n",
       "25%         0.438000       0.466000       2.000000     -10.730000   \n",
       "50%         0.569000       0.679000       5.000000      -7.551000   \n",
       "75%         0.686000       0.843000       9.000000      -5.438000   \n",
       "max         0.993000       1.000000      11.000000       5.118000   \n",
       "\n",
       "                mode    speechiness   acousticness  instrumentalness  \\\n",
       "count  491595.000000  491595.000000  491595.000000     491595.000000   \n",
       "mean        0.623934       0.096430       0.273871          0.202287   \n",
       "std         0.484397       0.143514       0.318675          0.331959   \n",
       "min         0.000000       0.000000       0.000000          0.000000   \n",
       "25%         0.000000       0.035500       0.010500          0.000001   \n",
       "50%         1.000000       0.048300       0.116000          0.001000   \n",
       "75%         1.000000       0.086100       0.494000          0.302000   \n",
       "max         1.000000       0.971000       0.996000          1.000000   \n",
       "\n",
       "            liveness        valence          tempo   duration_ms  \\\n",
       "count  491595.000000  491595.000000  491595.000000  4.915950e+05   \n",
       "mean        0.204890       0.470628     121.422468  2.426466e+05   \n",
       "std         0.179179       0.257163      29.159548  1.205123e+05   \n",
       "min         0.000000       0.000000       0.000000  1.347000e+03   \n",
       "25%         0.096400       0.260000      99.875500  1.869330e+05   \n",
       "50%         0.129000       0.460000     121.030000  2.239600e+05   \n",
       "75%         0.263000       0.676000     138.700000  2.740400e+05   \n",
       "max         1.000000       1.000000     249.987000  5.925082e+06   \n",
       "\n",
       "       time_signature  \n",
       "count   491595.000000  \n",
       "mean         3.905933  \n",
       "std          0.435442  \n",
       "min          0.000000  \n",
       "25%          4.000000  \n",
       "50%          4.000000  \n",
       "75%          4.000000  \n",
       "max          5.000000  "
      ]
     },
     "execution_count": 54,
     "metadata": {},
     "output_type": "execute_result"
    }
   ],
   "source": [
    "audio_features.describe()"
   ]
  },
  {
   "cell_type": "markdown",
   "metadata": {},
   "source": [
    "### Artists"
   ]
  },
  {
   "cell_type": "markdown",
   "metadata": {},
   "source": [
    "#### Missing values and data types"
   ]
  },
  {
   "cell_type": "code",
   "execution_count": 55,
   "metadata": {},
   "outputs": [
    {
     "data": {
      "text/plain": [
       "followers      int64\n",
       "genres        object\n",
       "id            object\n",
       "name          object\n",
       "popularity     int64\n",
       "dtype: object"
      ]
     },
     "execution_count": 55,
     "metadata": {},
     "output_type": "execute_result"
    }
   ],
   "source": [
    "artists.dtypes"
   ]
  },
  {
   "cell_type": "code",
   "execution_count": 56,
   "metadata": {},
   "outputs": [
    {
     "data": {
      "text/plain": [
       "followers     0\n",
       "genres        0\n",
       "id            0\n",
       "name          0\n",
       "popularity    0\n",
       "dtype: int64"
      ]
     },
     "execution_count": 56,
     "metadata": {},
     "output_type": "execute_result"
    }
   ],
   "source": [
    "artists.isnull().sum()"
   ]
  },
  {
   "cell_type": "markdown",
   "metadata": {},
   "source": [
    "It seems nice."
   ]
  },
  {
   "cell_type": "markdown",
   "metadata": {},
   "source": [
    "#### Features distribution"
   ]
  },
  {
   "cell_type": "code",
   "execution_count": 58,
   "metadata": {},
   "outputs": [
    {
     "data": {
      "text/plain": [
       "1"
      ]
     },
     "execution_count": 58,
     "metadata": {},
     "output_type": "execute_result"
    }
   ],
   "source": [
    "artists.duplicated('id').sum()"
   ]
  },
  {
   "cell_type": "code",
   "execution_count": 59,
   "metadata": {},
   "outputs": [
    {
     "data": {
      "text/html": [
       "<div>\n",
       "<style scoped>\n",
       "    .dataframe tbody tr th:only-of-type {\n",
       "        vertical-align: middle;\n",
       "    }\n",
       "\n",
       "    .dataframe tbody tr th {\n",
       "        vertical-align: top;\n",
       "    }\n",
       "\n",
       "    .dataframe thead th {\n",
       "        text-align: right;\n",
       "    }\n",
       "</style>\n",
       "<table border=\"1\" class=\"dataframe\">\n",
       "  <thead>\n",
       "    <tr style=\"text-align: right;\">\n",
       "      <th></th>\n",
       "      <th>followers</th>\n",
       "      <th>genres</th>\n",
       "      <th>id</th>\n",
       "      <th>name</th>\n",
       "      <th>popularity</th>\n",
       "    </tr>\n",
       "  </thead>\n",
       "  <tbody>\n",
       "    <tr>\n",
       "      <th>54492</th>\n",
       "      <td>46903</td>\n",
       "      <td>[jazz funk, jazz fusion, jazz guitar]</td>\n",
       "      <td>3zX0EMvB00JzxnRi5EIICP</td>\n",
       "      <td>Mike Stern</td>\n",
       "      <td>36</td>\n",
       "    </tr>\n",
       "  </tbody>\n",
       "</table>\n",
       "</div>"
      ],
      "text/plain": [
       "       followers                                 genres  \\\n",
       "54492      46903  [jazz funk, jazz fusion, jazz guitar]   \n",
       "\n",
       "                           id        name  popularity  \n",
       "54492  3zX0EMvB00JzxnRi5EIICP  Mike Stern          36  "
      ]
     },
     "execution_count": 59,
     "metadata": {},
     "output_type": "execute_result"
    }
   ],
   "source": [
    "artists[artists.duplicated('id')]"
   ]
  },
  {
   "cell_type": "code",
   "execution_count": 60,
   "metadata": {},
   "outputs": [
    {
     "data": {
      "text/html": [
       "<div>\n",
       "<style scoped>\n",
       "    .dataframe tbody tr th:only-of-type {\n",
       "        vertical-align: middle;\n",
       "    }\n",
       "\n",
       "    .dataframe tbody tr th {\n",
       "        vertical-align: top;\n",
       "    }\n",
       "\n",
       "    .dataframe thead th {\n",
       "        text-align: right;\n",
       "    }\n",
       "</style>\n",
       "<table border=\"1\" class=\"dataframe\">\n",
       "  <thead>\n",
       "    <tr style=\"text-align: right;\">\n",
       "      <th></th>\n",
       "      <th>followers</th>\n",
       "      <th>genres</th>\n",
       "      <th>id</th>\n",
       "      <th>name</th>\n",
       "      <th>popularity</th>\n",
       "    </tr>\n",
       "  </thead>\n",
       "  <tbody>\n",
       "    <tr>\n",
       "      <th>1554</th>\n",
       "      <td>0</td>\n",
       "      <td>[jazz funk, jazz fusion, jazz guitar]</td>\n",
       "      <td>3zX0EMvB00JzxnRi5EIICP</td>\n",
       "      <td>Mike Stern</td>\n",
       "      <td>36</td>\n",
       "    </tr>\n",
       "    <tr>\n",
       "      <th>54492</th>\n",
       "      <td>46903</td>\n",
       "      <td>[jazz funk, jazz fusion, jazz guitar]</td>\n",
       "      <td>3zX0EMvB00JzxnRi5EIICP</td>\n",
       "      <td>Mike Stern</td>\n",
       "      <td>36</td>\n",
       "    </tr>\n",
       "  </tbody>\n",
       "</table>\n",
       "</div>"
      ],
      "text/plain": [
       "       followers                                 genres  \\\n",
       "1554           0  [jazz funk, jazz fusion, jazz guitar]   \n",
       "54492      46903  [jazz funk, jazz fusion, jazz guitar]   \n",
       "\n",
       "                           id        name  popularity  \n",
       "1554   3zX0EMvB00JzxnRi5EIICP  Mike Stern          36  \n",
       "54492  3zX0EMvB00JzxnRi5EIICP  Mike Stern          36  "
      ]
     },
     "execution_count": 60,
     "metadata": {},
     "output_type": "execute_result"
    }
   ],
   "source": [
    "artists[artists.id == '3zX0EMvB00JzxnRi5EIICP']"
   ]
  },
  {
   "cell_type": "markdown",
   "metadata": {},
   "source": [
    "We have only one artist duplicated."
   ]
  },
  {
   "cell_type": "markdown",
   "metadata": {},
   "source": [
    "Let's make a `describe`."
   ]
  },
  {
   "cell_type": "code",
   "execution_count": 61,
   "metadata": {},
   "outputs": [
    {
     "data": {
      "text/html": [
       "<div>\n",
       "<style scoped>\n",
       "    .dataframe tbody tr th:only-of-type {\n",
       "        vertical-align: middle;\n",
       "    }\n",
       "\n",
       "    .dataframe tbody tr th {\n",
       "        vertical-align: top;\n",
       "    }\n",
       "\n",
       "    .dataframe thead th {\n",
       "        text-align: right;\n",
       "    }\n",
       "</style>\n",
       "<table border=\"1\" class=\"dataframe\">\n",
       "  <thead>\n",
       "    <tr style=\"text-align: right;\">\n",
       "      <th></th>\n",
       "      <th>followers</th>\n",
       "      <th>popularity</th>\n",
       "    </tr>\n",
       "  </thead>\n",
       "  <tbody>\n",
       "    <tr>\n",
       "      <th>count</th>\n",
       "      <td>1.076220e+05</td>\n",
       "      <td>107622.000000</td>\n",
       "    </tr>\n",
       "    <tr>\n",
       "      <th>mean</th>\n",
       "      <td>7.451927e+04</td>\n",
       "      <td>28.218738</td>\n",
       "    </tr>\n",
       "    <tr>\n",
       "      <th>std</th>\n",
       "      <td>6.882583e+05</td>\n",
       "      <td>18.822269</td>\n",
       "    </tr>\n",
       "    <tr>\n",
       "      <th>min</th>\n",
       "      <td>0.000000e+00</td>\n",
       "      <td>0.000000</td>\n",
       "    </tr>\n",
       "    <tr>\n",
       "      <th>25%</th>\n",
       "      <td>1.950000e+02</td>\n",
       "      <td>12.000000</td>\n",
       "    </tr>\n",
       "    <tr>\n",
       "      <th>50%</th>\n",
       "      <td>1.628000e+03</td>\n",
       "      <td>28.000000</td>\n",
       "    </tr>\n",
       "    <tr>\n",
       "      <th>75%</th>\n",
       "      <td>1.212900e+04</td>\n",
       "      <td>42.000000</td>\n",
       "    </tr>\n",
       "    <tr>\n",
       "      <th>max</th>\n",
       "      <td>6.757670e+07</td>\n",
       "      <td>100.000000</td>\n",
       "    </tr>\n",
       "  </tbody>\n",
       "</table>\n",
       "</div>"
      ],
      "text/plain": [
       "          followers     popularity\n",
       "count  1.076220e+05  107622.000000\n",
       "mean   7.451927e+04      28.218738\n",
       "std    6.882583e+05      18.822269\n",
       "min    0.000000e+00       0.000000\n",
       "25%    1.950000e+02      12.000000\n",
       "50%    1.628000e+03      28.000000\n",
       "75%    1.212900e+04      42.000000\n",
       "max    6.757670e+07     100.000000"
      ]
     },
     "execution_count": 61,
     "metadata": {},
     "output_type": "execute_result"
    }
   ],
   "source": [
    "artists.describe()"
   ]
  },
  {
   "cell_type": "markdown",
   "metadata": {},
   "source": [
    "The most followed artist:"
   ]
  },
  {
   "cell_type": "code",
   "execution_count": 63,
   "metadata": {},
   "outputs": [
    {
     "data": {
      "text/html": [
       "<div>\n",
       "<style scoped>\n",
       "    .dataframe tbody tr th:only-of-type {\n",
       "        vertical-align: middle;\n",
       "    }\n",
       "\n",
       "    .dataframe tbody tr th {\n",
       "        vertical-align: top;\n",
       "    }\n",
       "\n",
       "    .dataframe thead th {\n",
       "        text-align: right;\n",
       "    }\n",
       "</style>\n",
       "<table border=\"1\" class=\"dataframe\">\n",
       "  <thead>\n",
       "    <tr style=\"text-align: right;\">\n",
       "      <th></th>\n",
       "      <th>followers</th>\n",
       "      <th>genres</th>\n",
       "      <th>id</th>\n",
       "      <th>name</th>\n",
       "      <th>popularity</th>\n",
       "    </tr>\n",
       "  </thead>\n",
       "  <tbody>\n",
       "    <tr>\n",
       "      <th>84115</th>\n",
       "      <td>67576701</td>\n",
       "      <td>[pop, uk pop]</td>\n",
       "      <td>6eUKZXaKkcviH0Ku9w2n3V</td>\n",
       "      <td>Ed Sheeran</td>\n",
       "      <td>92</td>\n",
       "    </tr>\n",
       "  </tbody>\n",
       "</table>\n",
       "</div>"
      ],
      "text/plain": [
       "       followers         genres                      id        name  \\\n",
       "84115   67576701  [pop, uk pop]  6eUKZXaKkcviH0Ku9w2n3V  Ed Sheeran   \n",
       "\n",
       "       popularity  \n",
       "84115          92  "
      ]
     },
     "execution_count": 63,
     "metadata": {},
     "output_type": "execute_result"
    }
   ],
   "source": [
    "artists[artists.followers == artists.followers.max()]"
   ]
  }
 ],
 "metadata": {
  "kernelspec": {
   "display_name": "Python 3",
   "language": "python",
   "name": "python3"
  },
  "language_info": {
   "codemirror_mode": {
    "name": "ipython",
    "version": 3
   },
   "file_extension": ".py",
   "mimetype": "text/x-python",
   "name": "python",
   "nbconvert_exporter": "python",
   "pygments_lexer": "ipython3",
   "version": "3.8.3"
  }
 },
 "nbformat": 4,
 "nbformat_minor": 4
}
