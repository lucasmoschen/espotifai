{
 "cells": [
  {
   "cell_type": "markdown",
   "metadata": {},
   "source": [
    "# Create playlists database"
   ]
  },
  {
   "cell_type": "code",
   "execution_count": null,
   "metadata": {},
   "outputs": [],
   "source": [
    "from spotipy.oauth2 import SpotifyClientCredentials\n",
    "from tqdm.notebook import tqdm\n",
    "import pandas as pd\n",
    "import random\n",
    "import spotipy"
   ]
  },
  {
   "cell_type": "code",
   "execution_count": null,
   "metadata": {},
   "outputs": [],
   "source": [
    "auth_manager = SpotifyClientCredentials()\n",
    "sp = spotipy.Spotify(auth_manager=auth_manager)"
   ]
  },
  {
   "cell_type": "markdown",
   "metadata": {},
   "source": [
    "## Read Spotify users file"
   ]
  },
  {
   "cell_type": "code",
   "execution_count": null,
   "metadata": {},
   "outputs": [],
   "source": [
    "with open('../../data/sp_users.txt') as f:\n",
    "    users = [line.rstrip('\\n') for line in f]"
   ]
  },
  {
   "cell_type": "markdown",
   "metadata": {},
   "source": [
    "## Gather the playlists of the users"
   ]
  },
  {
   "cell_type": "code",
   "execution_count": null,
   "metadata": {},
   "outputs": [],
   "source": [
    "playlists = []\n",
    "for user in tqdm(users):\n",
    "    their_playlists = sp.user_playlists(user)\n",
    "    playlists.extend(their_playlists['items'])\n",
    "    while their_playlists['next']:\n",
    "        their_playlists = sp.next(their_playlists)\n",
    "        playlists.extend(their_playlists['items'])        "
   ]
  },
  {
   "cell_type": "markdown",
   "metadata": {},
   "source": [
    "### Optional: get number of followers info"
   ]
  },
  {
   "cell_type": "code",
   "execution_count": null,
   "metadata": {
    "scrolled": true
   },
   "outputs": [],
   "source": [
    "# for i, playlist in tqdm(enumerate(playlists.copy()), total=len(playlists.copy())):\n",
    "#     playlists[i] = sp.playlist(playlists[i]['id'])"
   ]
  },
  {
   "cell_type": "markdown",
   "metadata": {},
   "source": [
    "## Treat dataset"
   ]
  },
  {
   "cell_type": "code",
   "execution_count": null,
   "metadata": {},
   "outputs": [],
   "source": [
    "# Filter columns\n",
    "df = pd.DataFrame(playlists, columns=[\n",
    "    'collaborative',\n",
    "    'description',\n",
    "#     'external_urls',\n",
    "#     'followers',\n",
    "#     'href',\n",
    "    'id',\n",
    "#     'images',\n",
    "    'name',\n",
    "    'owner',\n",
    "    'primary_color',\n",
    "    'public',\n",
    "#     'snapshot_id',\n",
    "    'tracks',\n",
    "#     'type',\n",
    "#     'uri'\n",
    "])\n",
    "\n",
    "# Expand owner dict\n",
    "df2 = df['owner'].apply(pd.Series)[['display_name', 'id']]\n",
    "df2.rename(columns={\n",
    "    'display_name': 'owner_display_name',\n",
    "    'id': 'owner_id'\n",
    "}, inplace=True)\n",
    "df = df.join(df2)\n",
    "df.drop(columns='owner', inplace=True)\n",
    "\n",
    "# Remove duplicates\n",
    "df.drop_duplicates('id')\n",
    "\n",
    "# Playlist ID as index\n",
    "df.set_index('id', inplace=True)"
   ]
  },
  {
   "cell_type": "markdown",
   "metadata": {},
   "source": [
    "## Write CSV"
   ]
  },
  {
   "cell_type": "code",
   "execution_count": null,
   "metadata": {},
   "outputs": [],
   "source": [
    "df.to_csv('../../data/sp_playlists.csv')"
   ]
  }
 ],
 "metadata": {
  "kernelspec": {
   "display_name": "Python 3",
   "language": "python",
   "name": "python3"
  },
  "language_info": {
   "codemirror_mode": {
    "name": "ipython",
    "version": 3
   },
   "file_extension": ".py",
   "mimetype": "text/x-python",
   "name": "python",
   "nbconvert_exporter": "python",
   "pygments_lexer": "ipython3",
   "version": "3.8.3"
  }
 },
 "nbformat": 4,
 "nbformat_minor": 4
}
