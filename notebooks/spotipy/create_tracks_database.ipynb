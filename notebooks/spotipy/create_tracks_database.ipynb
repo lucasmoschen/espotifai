{
 "cells": [
  {
   "cell_type": "markdown",
   "metadata": {},
   "source": [
    "# Create tracks database"
   ]
  },
  {
   "cell_type": "code",
   "execution_count": null,
   "metadata": {},
   "outputs": [],
   "source": [
    "from spotipy.oauth2 import SpotifyClientCredentials\n",
    "from tqdm.notebook import tqdm\n",
    "import pandas as pd\n",
    "import spotipy"
   ]
  },
  {
   "cell_type": "code",
   "execution_count": null,
   "metadata": {},
   "outputs": [],
   "source": [
    "auth_manager = SpotifyClientCredentials()\n",
    "sp = spotipy.Spotify(auth_manager=auth_manager)"
   ]
  },
  {
   "cell_type": "markdown",
   "metadata": {},
   "source": [
    "## Read CSV"
   ]
  },
  {
   "cell_type": "code",
   "execution_count": null,
   "metadata": {},
   "outputs": [],
   "source": [
    "playlists = pd.read_csv('../../data/sp_playlists.csv', index_col=0)"
   ]
  },
  {
   "cell_type": "markdown",
   "metadata": {},
   "source": [
    "## Iterate through playlists to get tracks"
   ]
  },
  {
   "cell_type": "code",
   "execution_count": null,
   "metadata": {},
   "outputs": [],
   "source": [
    "# We will need playlist ID\n",
    "playlists['id'] = playlists.index\n",
    "\n",
    "# Conversion\n",
    "playlists = playlists.to_dict('records')\n",
    "\n",
    "# Iteration\n",
    "tracks = []\n",
    "for playlist in tqdm(playlists):\n",
    "    q = sp.playlist_tracks(playlist['id'])\n",
    "    items = q['items'].copy()\n",
    "    for item in items:\n",
    "        item.update({'playlist_id': playlist['id']})\n",
    "        if pd.isna(item['track']['id']):\n",
    "            print(True)\n",
    "    tracks.extend(items)\n",
    "    while q['next']:\n",
    "        q = sp.next(q)\n",
    "        items = q['items'].copy()\n",
    "        for item in items:\n",
    "            item.update({'playlist_id': playlist['id']})\n",
    "            if pd.isna(item['track']['id']):\n",
    "                print(True)\n",
    "        tracks.extend(items)"
   ]
  },
  {
   "cell_type": "markdown",
   "metadata": {},
   "source": [
    "## Treat database"
   ]
  },
  {
   "cell_type": "code",
   "execution_count": null,
   "metadata": {},
   "outputs": [],
   "source": [
    "# Filter\n",
    "df = pd.DataFrame(tracks, columns=[\n",
    "    'added_at',\n",
    "    'added_by',\n",
    "    'is_local',\n",
    "    'primary_color',\n",
    "    'track',\n",
    "#     'video_thumbnail',\n",
    "    'playlist_id',\n",
    "\n",
    "])"
   ]
  },
  {
   "cell_type": "code",
   "execution_count": null,
   "metadata": {},
   "outputs": [],
   "source": [
    "# Parse dates\n",
    "df.added_at = pd.to_datetime(df.added_at)"
   ]
  },
  {
   "cell_type": "code",
   "execution_count": null,
   "metadata": {},
   "outputs": [],
   "source": [
    "# Expand added_by column\n",
    "df['added_by'] = df.added_by.apply(pd.Series).id"
   ]
  },
  {
   "cell_type": "code",
   "execution_count": null,
   "metadata": {},
   "outputs": [],
   "source": [
    "# Expand track column\n",
    "\n",
    "df2 = df.track.apply(pd.Series).copy()\n",
    "df2 = df2[[\n",
    "    'album',\n",
    "    'artists',\n",
    "    'available_markets',\n",
    "    'disc_number',\n",
    "    'duration_ms',\n",
    "#     'episode',\n",
    "    'explicit',\n",
    "#     'external_ids',\n",
    "#     'external_urls',\n",
    "#     'href',\n",
    "    'id',\n",
    "#     'is_local',\n",
    "    'name',\n",
    "    'popularity',\n",
    "#     'preview_url',\n",
    "#     'track',\n",
    "    'track_number',\n",
    "#     'type',\n",
    "#     'uri',\n",
    "#     'linked_from'\n",
    "]]\n",
    "df = df.join(df2)\n",
    "df.drop(columns='track', inplace=True)"
   ]
  },
  {
   "cell_type": "code",
   "execution_count": null,
   "metadata": {},
   "outputs": [],
   "source": [
    "# Expand album column\n",
    "\n",
    "df2 = df.album.apply(pd.Series).copy()\n",
    "df2 = df2[[\n",
    "    'album_type',\n",
    "    'artists',\n",
    "    'available_markets',\n",
    "#     'external_urls',\n",
    "#     'href',\n",
    "    'id',\n",
    "#     'images',\n",
    "    'name',\n",
    "    'release_date',\n",
    "#     'release_date_precision',\n",
    "#     'total_tracks',\n",
    "#     'type',\n",
    "#     'uri'\n",
    "]]\n",
    "df2.rename(columns={\n",
    "    'artists': 'album_artists',\n",
    "    'available_markets': 'album_available_markets',\n",
    "    'id': 'album_id',\n",
    "    'name': 'album_name',\n",
    "    'release_date': 'album_release_date'\n",
    "}, inplace=True)\n",
    "df = df.join(df2)\n",
    "df.drop(columns='album', inplace=True)"
   ]
  },
  {
   "cell_type": "code",
   "execution_count": null,
   "metadata": {},
   "outputs": [],
   "source": [
    "# Expand artists column\n",
    "\n",
    "df['artists_ids'] = df.artists.apply(lambda x: [i['id'] for i in x])\n",
    "df['artists_names'] = df.artists.apply(lambda x: [i['name'] for i in x])\n",
    "df.drop(columns='artists', inplace=True)"
   ]
  },
  {
   "cell_type": "code",
   "execution_count": null,
   "metadata": {},
   "outputs": [],
   "source": [
    "# Expand album_artists column\n",
    "\n",
    "df['album_artists_ids'] = df.album_artists.apply(lambda x: [i['id'] for i in x])\n",
    "df['album_artists_names'] = df.album_artists.apply(lambda x: [i['name'] for i in x])\n",
    "df.drop(columns='album_artists', inplace=True)"
   ]
  },
  {
   "cell_type": "markdown",
   "metadata": {},
   "source": [
    "## Write CSV file"
   ]
  },
  {
   "cell_type": "code",
   "execution_count": null,
   "metadata": {},
   "outputs": [],
   "source": [
    "df.to_csv('../../data/pd_tracks.csv')"
   ]
  }
 ],
 "metadata": {
  "kernelspec": {
   "display_name": "Python 3",
   "language": "python",
   "name": "python3"
  },
  "language_info": {
   "codemirror_mode": {
    "name": "ipython",
    "version": 3
   },
   "file_extension": ".py",
   "mimetype": "text/x-python",
   "name": "python",
   "nbconvert_exporter": "python",
   "pygments_lexer": "ipython3",
   "version": "3.8.3"
  }
 },
 "nbformat": 4,
 "nbformat_minor": 4
}
