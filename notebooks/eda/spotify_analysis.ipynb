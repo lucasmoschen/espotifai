{
 "cells": [
  {
   "cell_type": "markdown",
   "metadata": {},
   "source": [
    "# Spotify dataset analysis"
   ]
  },
  {
   "cell_type": "markdown",
   "metadata": {},
   "source": [
    "Spotify has a web API, and this API has a translation to Python called Spotipy. It allows us to search for tracks, playlists and artists data. Among all the information available, there exists what is called *audio features*, that is, musical metrics like `danceability`, `loudness` and `instrumentalness`, which could be important for recommendation systems.\n",
    "\n",
    "Data was captured using the API. The approach was:\n",
    "1. We started with a big number of Last.fm users, because Last.fm allows network search (search for the friends of a user, and its friends, and so on...);\n",
    "2. We select a subset of 1000 random users which also has a Spotify account;\n",
    "3. We selected their public playlists;\n",
    "4. We selected the tracks from these playlists;\n",
    "5. We selected the audio features and the artists from these tracks.\n",
    "\n",
    "It's important to note that songs don't have genres using this API. Who has genre is the artist of the track. So it's necessary to gather the artists of the tracks in order to have genre information.\n",
    "\n",
    "At the end, we have:\n",
    "- Users **tracks** dataset;\n",
    "- List of **users**;\n",
    "- **Playlists** of the tracks;\n",
    "- **Audio features** of the tracks;\n",
    "- **Artists** of the tracks.\n",
    "\n",
    "We now make some exploration in order to get known the data and have insights for the recommendation models."
   ]
  },
  {
   "cell_type": "code",
   "execution_count": 1,
   "metadata": {},
   "outputs": [],
   "source": [
    "from collections import Counter\n",
    "import glob\n",
    "import matplotlib.pyplot as plt\n",
    "import numpy as np\n",
    "import pandas as pd\n",
    "import seaborn as sns"
   ]
  },
  {
   "cell_type": "code",
   "execution_count": 2,
   "metadata": {},
   "outputs": [],
   "source": [
    "# Necessary to improve exploration\n",
    "pd.set_option('display.max_columns', None)\n",
    "\n",
    "# Beautiful Seaborn\n",
    "sns.set()"
   ]
  },
  {
   "cell_type": "markdown",
   "metadata": {},
   "source": [
    "## Initial exploration: datasets"
   ]
  },
  {
   "cell_type": "markdown",
   "metadata": {},
   "source": [
    "We have many datasets, and we wanna know its variables. Let's sample them."
   ]
  },
  {
   "cell_type": "markdown",
   "metadata": {},
   "source": [
    "### Tracks dataset"
   ]
  },
  {
   "cell_type": "code",
   "execution_count": 3,
   "metadata": {},
   "outputs": [
    {
     "data": {
      "text/html": [
       "<div>\n",
       "<style scoped>\n",
       "    .dataframe tbody tr th:only-of-type {\n",
       "        vertical-align: middle;\n",
       "    }\n",
       "\n",
       "    .dataframe tbody tr th {\n",
       "        vertical-align: top;\n",
       "    }\n",
       "\n",
       "    .dataframe thead th {\n",
       "        text-align: right;\n",
       "    }\n",
       "</style>\n",
       "<table border=\"1\" class=\"dataframe\">\n",
       "  <thead>\n",
       "    <tr style=\"text-align: right;\">\n",
       "      <th></th>\n",
       "      <th>added_at</th>\n",
       "      <th>added_by</th>\n",
       "      <th>is_local</th>\n",
       "      <th>playlist_id</th>\n",
       "      <th>available_markets</th>\n",
       "      <th>disc_number</th>\n",
       "      <th>duration_ms</th>\n",
       "      <th>explicit</th>\n",
       "      <th>id</th>\n",
       "      <th>name</th>\n",
       "      <th>popularity</th>\n",
       "      <th>track_number</th>\n",
       "      <th>album_type</th>\n",
       "      <th>album_available_markets</th>\n",
       "      <th>album_id</th>\n",
       "      <th>album_name</th>\n",
       "      <th>album_release_date</th>\n",
       "      <th>artists_ids</th>\n",
       "      <th>artists_names</th>\n",
       "      <th>album_artists_ids</th>\n",
       "      <th>album_artists_names</th>\n",
       "    </tr>\n",
       "  </thead>\n",
       "  <tbody>\n",
       "    <tr>\n",
       "      <th>15746</th>\n",
       "      <td>2018-06-23 20:54:16+00:00</td>\n",
       "      <td>isab3lla</td>\n",
       "      <td>False</td>\n",
       "      <td>3sBVA5SQr1uzHRSSzidYNy</td>\n",
       "      <td>[SE]</td>\n",
       "      <td>1.0</td>\n",
       "      <td>176293.0</td>\n",
       "      <td>False</td>\n",
       "      <td>1J8teo08q8FlNWIJh9QFr3</td>\n",
       "      <td>Dör för dig</td>\n",
       "      <td>56.0</td>\n",
       "      <td>3.0</td>\n",
       "      <td>album</td>\n",
       "      <td>[SE]</td>\n",
       "      <td>2OdXQFZiCbEsb2rSimTLeM</td>\n",
       "      <td>Hör vad du säger men jag har glömt vad du sa</td>\n",
       "      <td>2016-03-18</td>\n",
       "      <td>[5tVyieWwN9j09jXUovK2zN]</td>\n",
       "      <td>[Danny Saucedo]</td>\n",
       "      <td>[5tVyieWwN9j09jXUovK2zN]</td>\n",
       "      <td>[Danny Saucedo]</td>\n",
       "    </tr>\n",
       "  </tbody>\n",
       "</table>\n",
       "</div>"
      ],
      "text/plain": [
       "                       added_at  added_by  is_local             playlist_id  \\\n",
       "15746 2018-06-23 20:54:16+00:00  isab3lla     False  3sBVA5SQr1uzHRSSzidYNy   \n",
       "\n",
       "      available_markets  disc_number  duration_ms explicit  \\\n",
       "15746              [SE]          1.0     176293.0    False   \n",
       "\n",
       "                           id         name  popularity  track_number  \\\n",
       "15746  1J8teo08q8FlNWIJh9QFr3  Dör för dig        56.0           3.0   \n",
       "\n",
       "      album_type album_available_markets                album_id  \\\n",
       "15746      album                    [SE]  2OdXQFZiCbEsb2rSimTLeM   \n",
       "\n",
       "                                         album_name album_release_date  \\\n",
       "15746  Hör vad du säger men jag har glömt vad du sa         2016-03-18   \n",
       "\n",
       "                    artists_ids    artists_names         album_artists_ids  \\\n",
       "15746  [5tVyieWwN9j09jXUovK2zN]  [Danny Saucedo]  [5tVyieWwN9j09jXUovK2zN]   \n",
       "\n",
       "      album_artists_names  \n",
       "15746     [Danny Saucedo]  "
      ]
     },
     "execution_count": 3,
     "metadata": {},
     "output_type": "execute_result"
    }
   ],
   "source": [
    "tracks = pd.read_pickle('../../data/sp_tracks_ready_999.pkl')\n",
    "tracks.sample()"
   ]
  },
  {
   "cell_type": "markdown",
   "metadata": {},
   "source": [
    "**Tracks** dataset is big enough to make we split it in many files. So we did it. At now we have 11 files just for the tracks. But the other datasets are compressed in a single file each one."
   ]
  },
  {
   "cell_type": "code",
   "execution_count": 4,
   "metadata": {},
   "outputs": [
    {
     "data": {
      "text/plain": [
       "['added_at',\n",
       " 'added_by',\n",
       " 'is_local',\n",
       " 'playlist_id',\n",
       " 'available_markets',\n",
       " 'disc_number',\n",
       " 'duration_ms',\n",
       " 'explicit',\n",
       " 'id',\n",
       " 'name',\n",
       " 'popularity',\n",
       " 'track_number',\n",
       " 'album_type',\n",
       " 'album_available_markets',\n",
       " 'album_id',\n",
       " 'album_name',\n",
       " 'album_release_date',\n",
       " 'artists_ids',\n",
       " 'artists_names',\n",
       " 'album_artists_ids',\n",
       " 'album_artists_names']"
      ]
     },
     "execution_count": 4,
     "metadata": {},
     "output_type": "execute_result"
    }
   ],
   "source": [
    "list(tracks.columns)"
   ]
  },
  {
   "cell_type": "markdown",
   "metadata": {},
   "source": [
    "It's important to note that everything on Spotify have an ID. So when we have a song and know the ID of one playlist that contains it, we can use this playlist ID to search for the playlist data.\n",
    "\n",
    "In the dataset, we see that a track have many features, which can be viewed as:\n",
    "- **Playlist** features: information about the playlists, like when the song was added, who added it and the ID of the playlist.\n",
    "- **Track** features: like `disc_number`, its duration, if its explicit, `id`, its name, popularity and its number.\n",
    "- **Album** features, including artists of the album;\n",
    "- **Artists** features: their IDs and names.\n",
    "\n",
    "Many features have lists as values. It's because some of them have values which vary in length, like the `artists_ids`. We don't know if we will have 1, 2 or 32 artists. It will happen with other datasets too."
   ]
  },
  {
   "cell_type": "markdown",
   "metadata": {},
   "source": [
    "### Playlists dataset"
   ]
  },
  {
   "cell_type": "code",
   "execution_count": 5,
   "metadata": {},
   "outputs": [
    {
     "data": {
      "text/html": [
       "<div>\n",
       "<style scoped>\n",
       "    .dataframe tbody tr th:only-of-type {\n",
       "        vertical-align: middle;\n",
       "    }\n",
       "\n",
       "    .dataframe tbody tr th {\n",
       "        vertical-align: top;\n",
       "    }\n",
       "\n",
       "    .dataframe thead th {\n",
       "        text-align: right;\n",
       "    }\n",
       "</style>\n",
       "<table border=\"1\" class=\"dataframe\">\n",
       "  <thead>\n",
       "    <tr style=\"text-align: right;\">\n",
       "      <th></th>\n",
       "      <th>collaborative</th>\n",
       "      <th>description</th>\n",
       "      <th>id</th>\n",
       "      <th>name</th>\n",
       "      <th>primary_color</th>\n",
       "      <th>public</th>\n",
       "      <th>tracks</th>\n",
       "      <th>owner_id</th>\n",
       "    </tr>\n",
       "  </thead>\n",
       "  <tbody>\n",
       "    <tr>\n",
       "      <th>915</th>\n",
       "      <td>False</td>\n",
       "      <td></td>\n",
       "      <td>4cbOOTE5HPaKHd7dbgRk8L</td>\n",
       "      <td>The Hellacopters Top Hits</td>\n",
       "      <td>None</td>\n",
       "      <td>True</td>\n",
       "      <td>{'href': 'https://api.spotify.com/v1/playlists...</td>\n",
       "      <td>henkestrummer</td>\n",
       "    </tr>\n",
       "  </tbody>\n",
       "</table>\n",
       "</div>"
      ],
      "text/plain": [
       "     collaborative description                      id  \\\n",
       "915          False              4cbOOTE5HPaKHd7dbgRk8L   \n",
       "\n",
       "                          name primary_color  public  \\\n",
       "915  The Hellacopters Top Hits          None    True   \n",
       "\n",
       "                                                tracks       owner_id  \n",
       "915  {'href': 'https://api.spotify.com/v1/playlists...  henkestrummer  "
      ]
     },
     "execution_count": 5,
     "metadata": {},
     "output_type": "execute_result"
    }
   ],
   "source": [
    "playlists = pd.read_pickle('../../data/sp_playlists.pkl')\n",
    "playlists.sample()"
   ]
  },
  {
   "cell_type": "markdown",
   "metadata": {},
   "source": [
    "Here we have basic information about a public playlist. One thing to note is that everything Spotipy returns is a JSON file, in the 'records' format. So in the column `tracks` we have a dict containing information about the tracks."
   ]
  },
  {
   "cell_type": "code",
   "execution_count": 6,
   "metadata": {},
   "outputs": [
    {
     "data": {
      "text/plain": [
       "{'href': 'https://api.spotify.com/v1/playlists/0itjZK4e1qZzHL9fNInUJR/tracks',\n",
       " 'total': 63}"
      ]
     },
     "execution_count": 6,
     "metadata": {},
     "output_type": "execute_result"
    }
   ],
   "source": [
    "playlists.loc[0, 'tracks']"
   ]
  },
  {
   "cell_type": "markdown",
   "metadata": {},
   "source": [
    "It's little information, but it's not important. The tracks was gathered from the playlist using the ID of the playlist."
   ]
  },
  {
   "cell_type": "markdown",
   "metadata": {},
   "source": [
    "### Audio features dataset"
   ]
  },
  {
   "cell_type": "markdown",
   "metadata": {},
   "source": [
    "Maybe only track information is not enough to make good recommendation systems. So we gather more information, this time more technician:"
   ]
  },
  {
   "cell_type": "code",
   "execution_count": 7,
   "metadata": {},
   "outputs": [
    {
     "data": {
      "text/html": [
       "<div>\n",
       "<style scoped>\n",
       "    .dataframe tbody tr th:only-of-type {\n",
       "        vertical-align: middle;\n",
       "    }\n",
       "\n",
       "    .dataframe tbody tr th {\n",
       "        vertical-align: top;\n",
       "    }\n",
       "\n",
       "    .dataframe thead th {\n",
       "        text-align: right;\n",
       "    }\n",
       "</style>\n",
       "<table border=\"1\" class=\"dataframe\">\n",
       "  <thead>\n",
       "    <tr style=\"text-align: right;\">\n",
       "      <th></th>\n",
       "      <th>danceability</th>\n",
       "      <th>energy</th>\n",
       "      <th>key</th>\n",
       "      <th>loudness</th>\n",
       "      <th>mode</th>\n",
       "      <th>speechiness</th>\n",
       "      <th>acousticness</th>\n",
       "      <th>instrumentalness</th>\n",
       "      <th>liveness</th>\n",
       "      <th>valence</th>\n",
       "      <th>tempo</th>\n",
       "      <th>id</th>\n",
       "      <th>duration_ms</th>\n",
       "      <th>time_signature</th>\n",
       "    </tr>\n",
       "  </thead>\n",
       "  <tbody>\n",
       "    <tr>\n",
       "      <th>37769</th>\n",
       "      <td>0.553</td>\n",
       "      <td>0.67</td>\n",
       "      <td>6</td>\n",
       "      <td>-4.601</td>\n",
       "      <td>1</td>\n",
       "      <td>0.0302</td>\n",
       "      <td>0.0213</td>\n",
       "      <td>0.0</td>\n",
       "      <td>0.073</td>\n",
       "      <td>0.132</td>\n",
       "      <td>94.949</td>\n",
       "      <td>0q0lOQwPrpjVYacNlkf59c</td>\n",
       "      <td>226013</td>\n",
       "      <td>4</td>\n",
       "    </tr>\n",
       "  </tbody>\n",
       "</table>\n",
       "</div>"
      ],
      "text/plain": [
       "       danceability  energy  key  loudness  mode  speechiness  acousticness  \\\n",
       "37769         0.553    0.67    6    -4.601     1       0.0302        0.0213   \n",
       "\n",
       "       instrumentalness  liveness  valence   tempo                      id  \\\n",
       "37769               0.0     0.073    0.132  94.949  0q0lOQwPrpjVYacNlkf59c   \n",
       "\n",
       "       duration_ms  time_signature  \n",
       "37769       226013               4  "
      ]
     },
     "execution_count": 7,
     "metadata": {},
     "output_type": "execute_result"
    }
   ],
   "source": [
    "audio_features = pd.read_pickle('../../data/sp_audio_features.pkl')\n",
    "audio_features.sample()"
   ]
  },
  {
   "cell_type": "markdown",
   "metadata": {},
   "source": [
    "Here we have the ID of the track and its features, like ` liveness` and `speechiness`. More information about this technical parte can be found on the [documentation of the Web API](https://developer.spotify.com/documentation/web-api/reference/tracks/get-audio-features/)."
   ]
  },
  {
   "cell_type": "markdown",
   "metadata": {},
   "source": [
    "Another thing to note is that some of `duration_ms` differs from the ones in the tracks database. Let's see:"
   ]
  },
  {
   "cell_type": "code",
   "execution_count": 27,
   "metadata": {},
   "outputs": [],
   "source": [
    "my_id = None\n",
    "while pd.isnull(my_id):\n",
    "    my_id = tracks.sample().id.iloc[0] "
   ]
  },
  {
   "cell_type": "code",
   "execution_count": 28,
   "metadata": {},
   "outputs": [
    {
     "name": "stdout",
     "output_type": "stream",
     "text": [
      "248266.0 248267\n"
     ]
    }
   ],
   "source": [
    "print(\n",
    "    tracks[tracks.id == my_id].duration_ms.iloc[0],\n",
    "    audio_features[audio_features.id == my_id].duration_ms.iloc[0]\n",
    ")"
   ]
  },
  {
   "cell_type": "markdown",
   "metadata": {},
   "source": [
    "### Artists dataset"
   ]
  },
  {
   "cell_type": "code",
   "execution_count": 33,
   "metadata": {},
   "outputs": [
    {
     "data": {
      "text/html": [
       "<div>\n",
       "<style scoped>\n",
       "    .dataframe tbody tr th:only-of-type {\n",
       "        vertical-align: middle;\n",
       "    }\n",
       "\n",
       "    .dataframe tbody tr th {\n",
       "        vertical-align: top;\n",
       "    }\n",
       "\n",
       "    .dataframe thead th {\n",
       "        text-align: right;\n",
       "    }\n",
       "</style>\n",
       "<table border=\"1\" class=\"dataframe\">\n",
       "  <thead>\n",
       "    <tr style=\"text-align: right;\">\n",
       "      <th></th>\n",
       "      <th>followers</th>\n",
       "      <th>genres</th>\n",
       "      <th>id</th>\n",
       "      <th>name</th>\n",
       "      <th>popularity</th>\n",
       "    </tr>\n",
       "  </thead>\n",
       "  <tbody>\n",
       "    <tr>\n",
       "      <th>48244</th>\n",
       "      <td>4560</td>\n",
       "      <td>[australian metal, melodic progressive metal]</td>\n",
       "      <td>1DuzOaU8hyIpzzRQFpAO9b</td>\n",
       "      <td>Hemina</td>\n",
       "      <td>21</td>\n",
       "    </tr>\n",
       "  </tbody>\n",
       "</table>\n",
       "</div>"
      ],
      "text/plain": [
       "       followers                                         genres  \\\n",
       "48244       4560  [australian metal, melodic progressive metal]   \n",
       "\n",
       "                           id    name  popularity  \n",
       "48244  1DuzOaU8hyIpzzRQFpAO9b  Hemina          21  "
      ]
     },
     "execution_count": 33,
     "metadata": {},
     "output_type": "execute_result"
    }
   ],
   "source": [
    "artists = pd.read_pickle('../../data/sp_artists.pkl')\n",
    "artists.sample()"
   ]
  },
  {
   "cell_type": "markdown",
   "metadata": {},
   "source": [
    "Artists datasets are simple and autoexplanative. It's important to note `genres` features, because each cell is a list of genres. As already said, the only way to classify a song in a genre is with the genres of its artists."
   ]
  },
  {
   "cell_type": "markdown",
   "metadata": {},
   "source": [
    "## Exploration"
   ]
  },
  {
   "cell_type": "markdown",
   "metadata": {},
   "source": [
    "Now he have the intuition and the knowlegde to explore the data."
   ]
  },
  {
   "cell_type": "markdown",
   "metadata": {},
   "source": [
    "### Tracks"
   ]
  },
  {
   "cell_type": "markdown",
   "metadata": {},
   "source": [
    "#### Missing values and data types"
   ]
  },
  {
   "cell_type": "markdown",
   "metadata": {},
   "source": [
    "Let's do the homework. The missing values:"
   ]
  },
  {
   "cell_type": "code",
   "execution_count": 34,
   "metadata": {},
   "outputs": [
    {
     "data": {
      "text/plain": [
       "added_at                   datetime64[ns, UTC]\n",
       "added_by                                object\n",
       "is_local                                  bool\n",
       "playlist_id                             object\n",
       "available_markets                       object\n",
       "disc_number                            float64\n",
       "duration_ms                            float64\n",
       "explicit                                object\n",
       "id                                      object\n",
       "name                                    object\n",
       "popularity                             float64\n",
       "track_number                           float64\n",
       "album_type                              object\n",
       "album_available_markets                 object\n",
       "album_id                                object\n",
       "album_name                              object\n",
       "album_release_date                      object\n",
       "artists_ids                             object\n",
       "artists_names                           object\n",
       "album_artists_ids                       object\n",
       "album_artists_names                     object\n",
       "dtype: object"
      ]
     },
     "execution_count": 34,
     "metadata": {},
     "output_type": "execute_result"
    }
   ],
   "source": [
    "tracks.dtypes"
   ]
  },
  {
   "cell_type": "markdown",
   "metadata": {},
   "source": [
    "dtypes seems to be OK, with exception of `explicit` (should be a bool) and `album_release_date` (should be a date). But they are extremely easy to deal with."
   ]
  },
  {
   "cell_type": "code",
   "execution_count": 35,
   "metadata": {},
   "outputs": [
    {
     "data": {
      "text/plain": [
       "added_at                       0\n",
       "added_by                       0\n",
       "is_local                       0\n",
       "playlist_id                    0\n",
       "available_markets            240\n",
       "disc_number                  240\n",
       "duration_ms                  240\n",
       "explicit                     240\n",
       "id                         39115\n",
       "name                         240\n",
       "popularity                   240\n",
       "track_number                 240\n",
       "album_type                 39115\n",
       "album_available_markets      240\n",
       "album_id                   39115\n",
       "album_name                   240\n",
       "album_release_date         39115\n",
       "artists_ids                39115\n",
       "artists_names                240\n",
       "album_artists_ids          39115\n",
       "album_artists_names        39115\n",
       "dtype: int64"
      ]
     },
     "execution_count": 35,
     "metadata": {},
     "output_type": "execute_result"
    }
   ],
   "source": [
    "sum([pd.read_pickle(file).isnull().sum() for file in glob.glob('../../data/sp_tracks_ready_*.pkl')])"
   ]
  },
  {
   "cell_type": "markdown",
   "metadata": {},
   "source": [
    "He have many missing values, in some specific tracks (the numbers coincide). Let's look into some of them:"
   ]
  },
  {
   "cell_type": "code",
   "execution_count": 36,
   "metadata": {},
   "outputs": [
    {
     "data": {
      "text/html": [
       "<div>\n",
       "<style scoped>\n",
       "    .dataframe tbody tr th:only-of-type {\n",
       "        vertical-align: middle;\n",
       "    }\n",
       "\n",
       "    .dataframe tbody tr th {\n",
       "        vertical-align: top;\n",
       "    }\n",
       "\n",
       "    .dataframe thead th {\n",
       "        text-align: right;\n",
       "    }\n",
       "</style>\n",
       "<table border=\"1\" class=\"dataframe\">\n",
       "  <thead>\n",
       "    <tr style=\"text-align: right;\">\n",
       "      <th></th>\n",
       "      <th>added_at</th>\n",
       "      <th>added_by</th>\n",
       "      <th>is_local</th>\n",
       "      <th>playlist_id</th>\n",
       "      <th>available_markets</th>\n",
       "      <th>disc_number</th>\n",
       "      <th>duration_ms</th>\n",
       "      <th>explicit</th>\n",
       "      <th>id</th>\n",
       "      <th>name</th>\n",
       "      <th>popularity</th>\n",
       "      <th>track_number</th>\n",
       "      <th>album_type</th>\n",
       "      <th>album_available_markets</th>\n",
       "      <th>album_id</th>\n",
       "      <th>album_name</th>\n",
       "      <th>album_release_date</th>\n",
       "      <th>artists_ids</th>\n",
       "      <th>artists_names</th>\n",
       "      <th>album_artists_ids</th>\n",
       "      <th>album_artists_names</th>\n",
       "    </tr>\n",
       "  </thead>\n",
       "  <tbody>\n",
       "    <tr>\n",
       "      <th>6477</th>\n",
       "      <td>1970-01-01 00:00:00+00:00</td>\n",
       "      <td></td>\n",
       "      <td>True</td>\n",
       "      <td>3hwVcAajKHjKS4ia3IIlS1</td>\n",
       "      <td>[]</td>\n",
       "      <td>0.0</td>\n",
       "      <td>183000.0</td>\n",
       "      <td>False</td>\n",
       "      <td>None</td>\n",
       "      <td>Ceramic</td>\n",
       "      <td>0.0</td>\n",
       "      <td>0.0</td>\n",
       "      <td>None</td>\n",
       "      <td>[]</td>\n",
       "      <td>None</td>\n",
       "      <td>Bitterness The Star</td>\n",
       "      <td>None</td>\n",
       "      <td>NaN</td>\n",
       "      <td>[36 Crazyfists]</td>\n",
       "      <td>NaN</td>\n",
       "      <td>NaN</td>\n",
       "    </tr>\n",
       "  </tbody>\n",
       "</table>\n",
       "</div>"
      ],
      "text/plain": [
       "                      added_at added_by  is_local             playlist_id  \\\n",
       "6477 1970-01-01 00:00:00+00:00               True  3hwVcAajKHjKS4ia3IIlS1   \n",
       "\n",
       "     available_markets  disc_number  duration_ms explicit    id     name  \\\n",
       "6477                []          0.0     183000.0    False  None  Ceramic   \n",
       "\n",
       "      popularity  track_number album_type album_available_markets album_id  \\\n",
       "6477         0.0           0.0       None                      []     None   \n",
       "\n",
       "               album_name album_release_date artists_ids    artists_names  \\\n",
       "6477  Bitterness The Star               None         NaN  [36 Crazyfists]   \n",
       "\n",
       "     album_artists_ids album_artists_names  \n",
       "6477               NaN                 NaN  "
      ]
     },
     "execution_count": 36,
     "metadata": {},
     "output_type": "execute_result"
    }
   ],
   "source": [
    "# One of the 39115\n",
    "tracks[pd.isnull(tracks.id)].sample()"
   ]
  },
  {
   "cell_type": "code",
   "execution_count": 37,
   "metadata": {},
   "outputs": [
    {
     "data": {
      "text/html": [
       "<div>\n",
       "<style scoped>\n",
       "    .dataframe tbody tr th:only-of-type {\n",
       "        vertical-align: middle;\n",
       "    }\n",
       "\n",
       "    .dataframe tbody tr th {\n",
       "        vertical-align: top;\n",
       "    }\n",
       "\n",
       "    .dataframe thead th {\n",
       "        text-align: right;\n",
       "    }\n",
       "</style>\n",
       "<table border=\"1\" class=\"dataframe\">\n",
       "  <thead>\n",
       "    <tr style=\"text-align: right;\">\n",
       "      <th></th>\n",
       "      <th>added_at</th>\n",
       "      <th>added_by</th>\n",
       "      <th>is_local</th>\n",
       "      <th>playlist_id</th>\n",
       "      <th>available_markets</th>\n",
       "      <th>disc_number</th>\n",
       "      <th>duration_ms</th>\n",
       "      <th>explicit</th>\n",
       "      <th>id</th>\n",
       "      <th>name</th>\n",
       "      <th>popularity</th>\n",
       "      <th>track_number</th>\n",
       "      <th>album_type</th>\n",
       "      <th>album_available_markets</th>\n",
       "      <th>album_id</th>\n",
       "      <th>album_name</th>\n",
       "      <th>album_release_date</th>\n",
       "      <th>artists_ids</th>\n",
       "      <th>artists_names</th>\n",
       "      <th>album_artists_ids</th>\n",
       "      <th>album_artists_names</th>\n",
       "    </tr>\n",
       "  </thead>\n",
       "  <tbody>\n",
       "    <tr>\n",
       "      <th>16062</th>\n",
       "      <td>2020-07-24 12:51:05+00:00</td>\n",
       "      <td></td>\n",
       "      <td>False</td>\n",
       "      <td>37i9dQZF1DXc0iyNwZI144</td>\n",
       "      <td>NaN</td>\n",
       "      <td>NaN</td>\n",
       "      <td>NaN</td>\n",
       "      <td>NaN</td>\n",
       "      <td>NaN</td>\n",
       "      <td>NaN</td>\n",
       "      <td>NaN</td>\n",
       "      <td>NaN</td>\n",
       "      <td>NaN</td>\n",
       "      <td>NaN</td>\n",
       "      <td>NaN</td>\n",
       "      <td>NaN</td>\n",
       "      <td>NaN</td>\n",
       "      <td>NaN</td>\n",
       "      <td>NaN</td>\n",
       "      <td>NaN</td>\n",
       "      <td>NaN</td>\n",
       "    </tr>\n",
       "  </tbody>\n",
       "</table>\n",
       "</div>"
      ],
      "text/plain": [
       "                       added_at added_by  is_local             playlist_id  \\\n",
       "16062 2020-07-24 12:51:05+00:00              False  37i9dQZF1DXc0iyNwZI144   \n",
       "\n",
       "      available_markets  disc_number  duration_ms explicit   id name  \\\n",
       "16062               NaN          NaN          NaN      NaN  NaN  NaN   \n",
       "\n",
       "       popularity  track_number album_type album_available_markets album_id  \\\n",
       "16062         NaN           NaN        NaN                     NaN      NaN   \n",
       "\n",
       "      album_name album_release_date artists_ids artists_names  \\\n",
       "16062        NaN                NaN         NaN           NaN   \n",
       "\n",
       "      album_artists_ids album_artists_names  \n",
       "16062               NaN                 NaN  "
      ]
     },
     "execution_count": 37,
     "metadata": {},
     "output_type": "execute_result"
    }
   ],
   "source": [
    "# One of the 240\n",
    "tracks[pd.isnull(tracks.duration_ms)].sample()"
   ]
  },
  {
   "cell_type": "code",
   "execution_count": 38,
   "metadata": {},
   "outputs": [
    {
     "data": {
      "text/plain": [
       "849397"
      ]
     },
     "execution_count": 38,
     "metadata": {},
     "output_type": "execute_result"
    }
   ],
   "source": [
    "# Number of tracks (it's huge)\n",
    "sum([len(pd.read_pickle(file)) for file in glob.glob('../../data/sp_tracks_ready_*.pkl')])"
   ]
  },
  {
   "cell_type": "code",
   "execution_count": 39,
   "metadata": {},
   "outputs": [
    {
     "name": "stdout",
     "output_type": "stream",
     "text": [
      "Approx. 4.605% of the data has missing values.\n"
     ]
    }
   ],
   "source": [
    "print('Approx. {:.3f}% of the data has missing values.'.format((39115)/849397*100))"
   ]
  },
  {
   "cell_type": "markdown",
   "metadata": {},
   "source": [
    "It's seems not to be a problem to drop these rows, because the dropped data will be just a few data. One problem is that it will affect the other datasets too."
   ]
  },
  {
   "cell_type": "markdown",
   "metadata": {},
   "source": [
    "#### Features distribution"
   ]
  },
  {
   "cell_type": "markdown",
   "metadata": {},
   "source": [
    "We will look into the distribution of the data, like the dates, the number and the categories. We will check for duplicity and will make a `describe`."
   ]
  },
  {
   "cell_type": "markdown",
   "metadata": {},
   "source": [
    "A track is dupplicated when it's the same track in the same playlist and was added at the same time."
   ]
  },
  {
   "cell_type": "code",
   "execution_count": 40,
   "metadata": {},
   "outputs": [
    {
     "name": "stdout",
     "output_type": "stream",
     "text": [
      "43781\n"
     ]
    }
   ],
   "source": [
    "duplicated = 0\n",
    "for file in glob.glob('../../data/sp_tracks_ready_*.pkl'):\n",
    "    df = pd.read_pickle(file)\n",
    "    duplicated += len(df[(df.id + df.playlist_id + df.added_at.apply(str)).duplicated()])\n",
    "print(duplicated)"
   ]
  },
  {
   "cell_type": "markdown",
   "metadata": {},
   "source": [
    "We have many duplicated values in tracks dataset. But the IDs where unified when dealling with audio features and artists."
   ]
  },
  {
   "cell_type": "markdown",
   "metadata": {},
   "source": [
    "We also found a playlist with the same song added 2048 times, with 1024 of them added at the same time!"
   ]
  },
  {
   "cell_type": "code",
   "execution_count": 43,
   "metadata": {},
   "outputs": [
    {
     "data": {
      "text/html": [
       "<div>\n",
       "<style scoped>\n",
       "    .dataframe tbody tr th:only-of-type {\n",
       "        vertical-align: middle;\n",
       "    }\n",
       "\n",
       "    .dataframe tbody tr th {\n",
       "        vertical-align: top;\n",
       "    }\n",
       "\n",
       "    .dataframe thead th {\n",
       "        text-align: right;\n",
       "    }\n",
       "</style>\n",
       "<table border=\"1\" class=\"dataframe\">\n",
       "  <thead>\n",
       "    <tr style=\"text-align: right;\">\n",
       "      <th></th>\n",
       "      <th>added_at</th>\n",
       "      <th>added_by</th>\n",
       "      <th>is_local</th>\n",
       "      <th>playlist_id</th>\n",
       "      <th>available_markets</th>\n",
       "      <th>disc_number</th>\n",
       "      <th>duration_ms</th>\n",
       "      <th>explicit</th>\n",
       "      <th>id</th>\n",
       "      <th>name</th>\n",
       "      <th>popularity</th>\n",
       "      <th>track_number</th>\n",
       "      <th>album_type</th>\n",
       "      <th>album_available_markets</th>\n",
       "      <th>album_id</th>\n",
       "      <th>album_name</th>\n",
       "      <th>album_release_date</th>\n",
       "      <th>artists_ids</th>\n",
       "      <th>artists_names</th>\n",
       "      <th>album_artists_ids</th>\n",
       "      <th>album_artists_names</th>\n",
       "    </tr>\n",
       "  </thead>\n",
       "  <tbody>\n",
       "    <tr>\n",
       "      <th>18067</th>\n",
       "      <td>2018-01-01 09:27:46+00:00</td>\n",
       "      <td>stabbedmeat</td>\n",
       "      <td>False</td>\n",
       "      <td>3MPa29N5KpS3ZOk2B4PlUq</td>\n",
       "      <td>[AD, AE, AL, AR, AT, AU, BA, BE, BG, BH, BO, B...</td>\n",
       "      <td>1.0</td>\n",
       "      <td>205760.0</td>\n",
       "      <td>True</td>\n",
       "      <td>3vllUzZChqpEaAat9brOYV</td>\n",
       "      <td>FACK</td>\n",
       "      <td>41.0</td>\n",
       "      <td>2.0</td>\n",
       "      <td>compilation</td>\n",
       "      <td>[AD, AE, AL, AR, AT, AU, BA, BE, BG, BH, BO, B...</td>\n",
       "      <td>1zUY4PAFrNUOCeaEBrEHzh</td>\n",
       "      <td>Curtain Call: The Hits</td>\n",
       "      <td>2005-12-06</td>\n",
       "      <td>[7dGJo4pcD2V6oG8kP0tJRR]</td>\n",
       "      <td>[Eminem]</td>\n",
       "      <td>[7dGJo4pcD2V6oG8kP0tJRR]</td>\n",
       "      <td>[Eminem]</td>\n",
       "    </tr>\n",
       "    <tr>\n",
       "      <th>17778</th>\n",
       "      <td>2018-01-01 09:27:46+00:00</td>\n",
       "      <td>stabbedmeat</td>\n",
       "      <td>False</td>\n",
       "      <td>3MPa29N5KpS3ZOk2B4PlUq</td>\n",
       "      <td>[AD, AE, AL, AR, AT, AU, BA, BE, BG, BH, BO, B...</td>\n",
       "      <td>1.0</td>\n",
       "      <td>205760.0</td>\n",
       "      <td>True</td>\n",
       "      <td>3vllUzZChqpEaAat9brOYV</td>\n",
       "      <td>FACK</td>\n",
       "      <td>41.0</td>\n",
       "      <td>2.0</td>\n",
       "      <td>compilation</td>\n",
       "      <td>[AD, AE, AL, AR, AT, AU, BA, BE, BG, BH, BO, B...</td>\n",
       "      <td>1zUY4PAFrNUOCeaEBrEHzh</td>\n",
       "      <td>Curtain Call: The Hits</td>\n",
       "      <td>2005-12-06</td>\n",
       "      <td>[7dGJo4pcD2V6oG8kP0tJRR]</td>\n",
       "      <td>[Eminem]</td>\n",
       "      <td>[7dGJo4pcD2V6oG8kP0tJRR]</td>\n",
       "      <td>[Eminem]</td>\n",
       "    </tr>\n",
       "    <tr>\n",
       "      <th>17941</th>\n",
       "      <td>2018-01-01 09:27:46+00:00</td>\n",
       "      <td>stabbedmeat</td>\n",
       "      <td>False</td>\n",
       "      <td>3MPa29N5KpS3ZOk2B4PlUq</td>\n",
       "      <td>[AD, AE, AL, AR, AT, AU, BA, BE, BG, BH, BO, B...</td>\n",
       "      <td>1.0</td>\n",
       "      <td>205760.0</td>\n",
       "      <td>True</td>\n",
       "      <td>3vllUzZChqpEaAat9brOYV</td>\n",
       "      <td>FACK</td>\n",
       "      <td>41.0</td>\n",
       "      <td>2.0</td>\n",
       "      <td>compilation</td>\n",
       "      <td>[AD, AE, AL, AR, AT, AU, BA, BE, BG, BH, BO, B...</td>\n",
       "      <td>1zUY4PAFrNUOCeaEBrEHzh</td>\n",
       "      <td>Curtain Call: The Hits</td>\n",
       "      <td>2005-12-06</td>\n",
       "      <td>[7dGJo4pcD2V6oG8kP0tJRR]</td>\n",
       "      <td>[Eminem]</td>\n",
       "      <td>[7dGJo4pcD2V6oG8kP0tJRR]</td>\n",
       "      <td>[Eminem]</td>\n",
       "    </tr>\n",
       "    <tr>\n",
       "      <th>17880</th>\n",
       "      <td>2018-01-01 09:27:46+00:00</td>\n",
       "      <td>stabbedmeat</td>\n",
       "      <td>False</td>\n",
       "      <td>3MPa29N5KpS3ZOk2B4PlUq</td>\n",
       "      <td>[AD, AE, AL, AR, AT, AU, BA, BE, BG, BH, BO, B...</td>\n",
       "      <td>1.0</td>\n",
       "      <td>205760.0</td>\n",
       "      <td>True</td>\n",
       "      <td>3vllUzZChqpEaAat9brOYV</td>\n",
       "      <td>FACK</td>\n",
       "      <td>41.0</td>\n",
       "      <td>2.0</td>\n",
       "      <td>compilation</td>\n",
       "      <td>[AD, AE, AL, AR, AT, AU, BA, BE, BG, BH, BO, B...</td>\n",
       "      <td>1zUY4PAFrNUOCeaEBrEHzh</td>\n",
       "      <td>Curtain Call: The Hits</td>\n",
       "      <td>2005-12-06</td>\n",
       "      <td>[7dGJo4pcD2V6oG8kP0tJRR]</td>\n",
       "      <td>[Eminem]</td>\n",
       "      <td>[7dGJo4pcD2V6oG8kP0tJRR]</td>\n",
       "      <td>[Eminem]</td>\n",
       "    </tr>\n",
       "    <tr>\n",
       "      <th>17449</th>\n",
       "      <td>2018-01-01 09:27:46+00:00</td>\n",
       "      <td>stabbedmeat</td>\n",
       "      <td>False</td>\n",
       "      <td>3MPa29N5KpS3ZOk2B4PlUq</td>\n",
       "      <td>[AD, AE, AL, AR, AT, AU, BA, BE, BG, BH, BO, B...</td>\n",
       "      <td>1.0</td>\n",
       "      <td>205760.0</td>\n",
       "      <td>True</td>\n",
       "      <td>3vllUzZChqpEaAat9brOYV</td>\n",
       "      <td>FACK</td>\n",
       "      <td>41.0</td>\n",
       "      <td>2.0</td>\n",
       "      <td>compilation</td>\n",
       "      <td>[AD, AE, AL, AR, AT, AU, BA, BE, BG, BH, BO, B...</td>\n",
       "      <td>1zUY4PAFrNUOCeaEBrEHzh</td>\n",
       "      <td>Curtain Call: The Hits</td>\n",
       "      <td>2005-12-06</td>\n",
       "      <td>[7dGJo4pcD2V6oG8kP0tJRR]</td>\n",
       "      <td>[Eminem]</td>\n",
       "      <td>[7dGJo4pcD2V6oG8kP0tJRR]</td>\n",
       "      <td>[Eminem]</td>\n",
       "    </tr>\n",
       "  </tbody>\n",
       "</table>\n",
       "</div>"
      ],
      "text/plain": [
       "                       added_at     added_by  is_local  \\\n",
       "18067 2018-01-01 09:27:46+00:00  stabbedmeat     False   \n",
       "17778 2018-01-01 09:27:46+00:00  stabbedmeat     False   \n",
       "17941 2018-01-01 09:27:46+00:00  stabbedmeat     False   \n",
       "17880 2018-01-01 09:27:46+00:00  stabbedmeat     False   \n",
       "17449 2018-01-01 09:27:46+00:00  stabbedmeat     False   \n",
       "\n",
       "                  playlist_id  \\\n",
       "18067  3MPa29N5KpS3ZOk2B4PlUq   \n",
       "17778  3MPa29N5KpS3ZOk2B4PlUq   \n",
       "17941  3MPa29N5KpS3ZOk2B4PlUq   \n",
       "17880  3MPa29N5KpS3ZOk2B4PlUq   \n",
       "17449  3MPa29N5KpS3ZOk2B4PlUq   \n",
       "\n",
       "                                       available_markets  disc_number  \\\n",
       "18067  [AD, AE, AL, AR, AT, AU, BA, BE, BG, BH, BO, B...          1.0   \n",
       "17778  [AD, AE, AL, AR, AT, AU, BA, BE, BG, BH, BO, B...          1.0   \n",
       "17941  [AD, AE, AL, AR, AT, AU, BA, BE, BG, BH, BO, B...          1.0   \n",
       "17880  [AD, AE, AL, AR, AT, AU, BA, BE, BG, BH, BO, B...          1.0   \n",
       "17449  [AD, AE, AL, AR, AT, AU, BA, BE, BG, BH, BO, B...          1.0   \n",
       "\n",
       "       duration_ms explicit                      id  name  popularity  \\\n",
       "18067     205760.0     True  3vllUzZChqpEaAat9brOYV  FACK        41.0   \n",
       "17778     205760.0     True  3vllUzZChqpEaAat9brOYV  FACK        41.0   \n",
       "17941     205760.0     True  3vllUzZChqpEaAat9brOYV  FACK        41.0   \n",
       "17880     205760.0     True  3vllUzZChqpEaAat9brOYV  FACK        41.0   \n",
       "17449     205760.0     True  3vllUzZChqpEaAat9brOYV  FACK        41.0   \n",
       "\n",
       "       track_number   album_type  \\\n",
       "18067           2.0  compilation   \n",
       "17778           2.0  compilation   \n",
       "17941           2.0  compilation   \n",
       "17880           2.0  compilation   \n",
       "17449           2.0  compilation   \n",
       "\n",
       "                                 album_available_markets  \\\n",
       "18067  [AD, AE, AL, AR, AT, AU, BA, BE, BG, BH, BO, B...   \n",
       "17778  [AD, AE, AL, AR, AT, AU, BA, BE, BG, BH, BO, B...   \n",
       "17941  [AD, AE, AL, AR, AT, AU, BA, BE, BG, BH, BO, B...   \n",
       "17880  [AD, AE, AL, AR, AT, AU, BA, BE, BG, BH, BO, B...   \n",
       "17449  [AD, AE, AL, AR, AT, AU, BA, BE, BG, BH, BO, B...   \n",
       "\n",
       "                     album_id              album_name album_release_date  \\\n",
       "18067  1zUY4PAFrNUOCeaEBrEHzh  Curtain Call: The Hits         2005-12-06   \n",
       "17778  1zUY4PAFrNUOCeaEBrEHzh  Curtain Call: The Hits         2005-12-06   \n",
       "17941  1zUY4PAFrNUOCeaEBrEHzh  Curtain Call: The Hits         2005-12-06   \n",
       "17880  1zUY4PAFrNUOCeaEBrEHzh  Curtain Call: The Hits         2005-12-06   \n",
       "17449  1zUY4PAFrNUOCeaEBrEHzh  Curtain Call: The Hits         2005-12-06   \n",
       "\n",
       "                    artists_ids artists_names         album_artists_ids  \\\n",
       "18067  [7dGJo4pcD2V6oG8kP0tJRR]      [Eminem]  [7dGJo4pcD2V6oG8kP0tJRR]   \n",
       "17778  [7dGJo4pcD2V6oG8kP0tJRR]      [Eminem]  [7dGJo4pcD2V6oG8kP0tJRR]   \n",
       "17941  [7dGJo4pcD2V6oG8kP0tJRR]      [Eminem]  [7dGJo4pcD2V6oG8kP0tJRR]   \n",
       "17880  [7dGJo4pcD2V6oG8kP0tJRR]      [Eminem]  [7dGJo4pcD2V6oG8kP0tJRR]   \n",
       "17449  [7dGJo4pcD2V6oG8kP0tJRR]      [Eminem]  [7dGJo4pcD2V6oG8kP0tJRR]   \n",
       "\n",
       "      album_artists_names  \n",
       "18067            [Eminem]  \n",
       "17778            [Eminem]  \n",
       "17941            [Eminem]  \n",
       "17880            [Eminem]  \n",
       "17449            [Eminem]  "
      ]
     },
     "execution_count": 43,
     "metadata": {},
     "output_type": "execute_result"
    }
   ],
   "source": [
    "tracks[\n",
    "    (tracks.id == '3vllUzZChqpEaAat9brOYV') &\n",
    "    (tracks.playlist_id == '3MPa29N5KpS3ZOk2B4PlUq') &\n",
    "    (tracks.added_at == '2018-01-01 09:27:46+00:00')\n",
    "].sample(5)"
   ]
  },
  {
   "cell_type": "markdown",
   "metadata": {},
   "source": [
    "Let's make a `describe`."
   ]
  },
  {
   "cell_type": "code",
   "execution_count": 44,
   "metadata": {},
   "outputs": [
    {
     "data": {
      "text/html": [
       "<div>\n",
       "<style scoped>\n",
       "    .dataframe tbody tr th:only-of-type {\n",
       "        vertical-align: middle;\n",
       "    }\n",
       "\n",
       "    .dataframe tbody tr th {\n",
       "        vertical-align: top;\n",
       "    }\n",
       "\n",
       "    .dataframe thead th {\n",
       "        text-align: right;\n",
       "    }\n",
       "</style>\n",
       "<table border=\"1\" class=\"dataframe\">\n",
       "  <thead>\n",
       "    <tr style=\"text-align: right;\">\n",
       "      <th></th>\n",
       "      <th>disc_number</th>\n",
       "      <th>duration_ms</th>\n",
       "      <th>popularity</th>\n",
       "      <th>track_number</th>\n",
       "    </tr>\n",
       "  </thead>\n",
       "  <tbody>\n",
       "    <tr>\n",
       "      <th>count</th>\n",
       "      <td>62628.000000</td>\n",
       "      <td>6.262800e+04</td>\n",
       "      <td>62628.000000</td>\n",
       "      <td>62628.000000</td>\n",
       "    </tr>\n",
       "    <tr>\n",
       "      <th>mean</th>\n",
       "      <td>1.000782</td>\n",
       "      <td>2.345405e+05</td>\n",
       "      <td>27.463116</td>\n",
       "      <td>5.116769</td>\n",
       "    </tr>\n",
       "    <tr>\n",
       "      <th>std</th>\n",
       "      <td>0.474441</td>\n",
       "      <td>9.027254e+04</td>\n",
       "      <td>26.100438</td>\n",
       "      <td>6.330573</td>\n",
       "    </tr>\n",
       "    <tr>\n",
       "      <th>min</th>\n",
       "      <td>0.000000</td>\n",
       "      <td>0.000000e+00</td>\n",
       "      <td>0.000000</td>\n",
       "      <td>0.000000</td>\n",
       "    </tr>\n",
       "    <tr>\n",
       "      <th>25%</th>\n",
       "      <td>1.000000</td>\n",
       "      <td>1.919060e+05</td>\n",
       "      <td>0.000000</td>\n",
       "      <td>1.000000</td>\n",
       "    </tr>\n",
       "    <tr>\n",
       "      <th>50%</th>\n",
       "      <td>1.000000</td>\n",
       "      <td>2.202930e+05</td>\n",
       "      <td>25.000000</td>\n",
       "      <td>3.000000</td>\n",
       "    </tr>\n",
       "    <tr>\n",
       "      <th>75%</th>\n",
       "      <td>1.000000</td>\n",
       "      <td>2.618800e+05</td>\n",
       "      <td>49.000000</td>\n",
       "      <td>7.000000</td>\n",
       "    </tr>\n",
       "    <tr>\n",
       "      <th>max</th>\n",
       "      <td>43.000000</td>\n",
       "      <td>4.681906e+06</td>\n",
       "      <td>100.000000</td>\n",
       "      <td>159.000000</td>\n",
       "    </tr>\n",
       "  </tbody>\n",
       "</table>\n",
       "</div>"
      ],
      "text/plain": [
       "        disc_number   duration_ms    popularity  track_number\n",
       "count  62628.000000  6.262800e+04  62628.000000  62628.000000\n",
       "mean       1.000782  2.345405e+05     27.463116      5.116769\n",
       "std        0.474441  9.027254e+04     26.100438      6.330573\n",
       "min        0.000000  0.000000e+00      0.000000      0.000000\n",
       "25%        1.000000  1.919060e+05      0.000000      1.000000\n",
       "50%        1.000000  2.202930e+05     25.000000      3.000000\n",
       "75%        1.000000  2.618800e+05     49.000000      7.000000\n",
       "max       43.000000  4.681906e+06    100.000000    159.000000"
      ]
     },
     "execution_count": 44,
     "metadata": {},
     "output_type": "execute_result"
    }
   ],
   "source": [
    "tracks.describe()"
   ]
  },
  {
   "cell_type": "markdown",
   "metadata": {},
   "source": [
    "There are tracks with duration 0:"
   ]
  },
  {
   "cell_type": "code",
   "execution_count": 45,
   "metadata": {},
   "outputs": [
    {
     "data": {
      "text/html": [
       "<div>\n",
       "<style scoped>\n",
       "    .dataframe tbody tr th:only-of-type {\n",
       "        vertical-align: middle;\n",
       "    }\n",
       "\n",
       "    .dataframe tbody tr th {\n",
       "        vertical-align: top;\n",
       "    }\n",
       "\n",
       "    .dataframe thead th {\n",
       "        text-align: right;\n",
       "    }\n",
       "</style>\n",
       "<table border=\"1\" class=\"dataframe\">\n",
       "  <thead>\n",
       "    <tr style=\"text-align: right;\">\n",
       "      <th></th>\n",
       "      <th>added_at</th>\n",
       "      <th>added_by</th>\n",
       "      <th>is_local</th>\n",
       "      <th>playlist_id</th>\n",
       "      <th>available_markets</th>\n",
       "      <th>disc_number</th>\n",
       "      <th>duration_ms</th>\n",
       "      <th>explicit</th>\n",
       "      <th>id</th>\n",
       "      <th>name</th>\n",
       "      <th>popularity</th>\n",
       "      <th>track_number</th>\n",
       "      <th>album_type</th>\n",
       "      <th>album_available_markets</th>\n",
       "      <th>album_id</th>\n",
       "      <th>album_name</th>\n",
       "      <th>album_release_date</th>\n",
       "      <th>artists_ids</th>\n",
       "      <th>artists_names</th>\n",
       "      <th>album_artists_ids</th>\n",
       "      <th>album_artists_names</th>\n",
       "    </tr>\n",
       "  </thead>\n",
       "  <tbody>\n",
       "    <tr>\n",
       "      <th>39096</th>\n",
       "      <td>2010-12-08 20:23:57+00:00</td>\n",
       "      <td></td>\n",
       "      <td>False</td>\n",
       "      <td>6KDJ5FumLzap9zJ2Ekaaxf</td>\n",
       "      <td>[]</td>\n",
       "      <td>1.0</td>\n",
       "      <td>0.0</td>\n",
       "      <td>False</td>\n",
       "      <td>2h0PVoVGyPLYONgXDs6V6i</td>\n",
       "      <td>Too Late For Goodbye</td>\n",
       "      <td>0.0</td>\n",
       "      <td>3.0</td>\n",
       "      <td>album</td>\n",
       "      <td>[]</td>\n",
       "      <td>4p6822xC4ni8qkEbLsHCjK</td>\n",
       "      <td>Burning The Day</td>\n",
       "      <td>2010-01-01</td>\n",
       "      <td>[04DUpHOyQqwbHFyvIhcGi3]</td>\n",
       "      <td>[Randy Rogers Band]</td>\n",
       "      <td>[04DUpHOyQqwbHFyvIhcGi3]</td>\n",
       "      <td>[Randy Rogers Band]</td>\n",
       "    </tr>\n",
       "  </tbody>\n",
       "</table>\n",
       "</div>"
      ],
      "text/plain": [
       "                       added_at added_by  is_local             playlist_id  \\\n",
       "39096 2010-12-08 20:23:57+00:00              False  6KDJ5FumLzap9zJ2Ekaaxf   \n",
       "\n",
       "      available_markets  disc_number  duration_ms explicit  \\\n",
       "39096                []          1.0          0.0    False   \n",
       "\n",
       "                           id                  name  popularity  track_number  \\\n",
       "39096  2h0PVoVGyPLYONgXDs6V6i  Too Late For Goodbye         0.0           3.0   \n",
       "\n",
       "      album_type album_available_markets                album_id  \\\n",
       "39096      album                      []  4p6822xC4ni8qkEbLsHCjK   \n",
       "\n",
       "            album_name album_release_date               artists_ids  \\\n",
       "39096  Burning The Day         2010-01-01  [04DUpHOyQqwbHFyvIhcGi3]   \n",
       "\n",
       "             artists_names         album_artists_ids  album_artists_names  \n",
       "39096  [Randy Rogers Band]  [04DUpHOyQqwbHFyvIhcGi3]  [Randy Rogers Band]  "
      ]
     },
     "execution_count": 45,
     "metadata": {},
     "output_type": "execute_result"
    }
   ],
   "source": [
    "tracks[tracks.duration_ms == 0]"
   ]
  },
  {
   "cell_type": "markdown",
   "metadata": {},
   "source": [
    "In fact the song has 3min40s."
   ]
  },
  {
   "cell_type": "markdown",
   "metadata": {},
   "source": [
    "We also found some tracks which were added in 1970! It's obviously not true."
   ]
  },
  {
   "cell_type": "code",
   "execution_count": 46,
   "metadata": {},
   "outputs": [
    {
     "data": {
      "text/plain": [
       "Timestamp('1970-01-01 00:00:00+0000', tz='UTC')"
      ]
     },
     "execution_count": 46,
     "metadata": {},
     "output_type": "execute_result"
    }
   ],
   "source": [
    "tracks.added_at.min()"
   ]
  },
  {
   "cell_type": "code",
   "execution_count": 47,
   "metadata": {},
   "outputs": [
    {
     "data": {
      "text/plain": [
       "Timestamp('2020-08-04 03:59:31+0000', tz='UTC')"
      ]
     },
     "execution_count": 47,
     "metadata": {},
     "output_type": "execute_result"
    }
   ],
   "source": [
    "tracks.added_at.max()"
   ]
  },
  {
   "cell_type": "markdown",
   "metadata": {},
   "source": [
    "### Playlists"
   ]
  },
  {
   "cell_type": "markdown",
   "metadata": {},
   "source": [
    "#### Missing values and data types"
   ]
  },
  {
   "cell_type": "code",
   "execution_count": 48,
   "metadata": {},
   "outputs": [
    {
     "data": {
      "text/plain": [
       "collaborative      bool\n",
       "description      object\n",
       "id               object\n",
       "name             object\n",
       "primary_color    object\n",
       "public             bool\n",
       "tracks           object\n",
       "owner_id         object\n",
       "dtype: object"
      ]
     },
     "execution_count": 48,
     "metadata": {},
     "output_type": "execute_result"
    }
   ],
   "source": [
    "playlists.dtypes"
   ]
  },
  {
   "cell_type": "markdown",
   "metadata": {},
   "source": [
    "It seems OK."
   ]
  },
  {
   "cell_type": "code",
   "execution_count": 49,
   "metadata": {},
   "outputs": [
    {
     "data": {
      "text/plain": [
       "collaborative        0\n",
       "description          0\n",
       "id                   0\n",
       "name                 0\n",
       "primary_color    11617\n",
       "public               0\n",
       "tracks               0\n",
       "owner_id             0\n",
       "dtype: int64"
      ]
     },
     "execution_count": 49,
     "metadata": {},
     "output_type": "execute_result"
    }
   ],
   "source": [
    "playlists.isnull().sum()"
   ]
  },
  {
   "cell_type": "code",
   "execution_count": 50,
   "metadata": {},
   "outputs": [
    {
     "data": {
      "text/plain": [
       "11617"
      ]
     },
     "execution_count": 50,
     "metadata": {},
     "output_type": "execute_result"
    }
   ],
   "source": [
    "len(playlists)"
   ]
  },
  {
   "cell_type": "markdown",
   "metadata": {},
   "source": [
    "There are no `primary_colors`."
   ]
  },
  {
   "cell_type": "markdown",
   "metadata": {},
   "source": [
    "#### Features distribution"
   ]
  },
  {
   "cell_type": "code",
   "execution_count": 53,
   "metadata": {},
   "outputs": [
    {
     "data": {
      "text/plain": [
       "690"
      ]
     },
     "execution_count": 53,
     "metadata": {},
     "output_type": "execute_result"
    }
   ],
   "source": [
    "playlists.duplicated('id').sum()"
   ]
  },
  {
   "cell_type": "code",
   "execution_count": 54,
   "metadata": {},
   "outputs": [
    {
     "data": {
      "text/plain": [
       "0.05939571317896187"
      ]
     },
     "execution_count": 54,
     "metadata": {},
     "output_type": "execute_result"
    }
   ],
   "source": [
    "playlists.duplicated('id').sum()/len(playlists)"
   ]
  },
  {
   "cell_type": "markdown",
   "metadata": {},
   "source": [
    "He have a lot of repeated playlists, but it was treated when dealing with the tracks!"
   ]
  },
  {
   "cell_type": "markdown",
   "metadata": {},
   "source": [
    "### Audio features"
   ]
  },
  {
   "cell_type": "markdown",
   "metadata": {},
   "source": [
    "#### Missing values and data types"
   ]
  },
  {
   "cell_type": "code",
   "execution_count": 55,
   "metadata": {},
   "outputs": [
    {
     "data": {
      "text/plain": [
       "danceability        float64\n",
       "energy              float64\n",
       "key                   int64\n",
       "loudness            float64\n",
       "mode                  int64\n",
       "speechiness         float64\n",
       "acousticness        float64\n",
       "instrumentalness    float64\n",
       "liveness            float64\n",
       "valence             float64\n",
       "tempo               float64\n",
       "id                   object\n",
       "duration_ms           int64\n",
       "time_signature        int64\n",
       "dtype: object"
      ]
     },
     "execution_count": 55,
     "metadata": {},
     "output_type": "execute_result"
    }
   ],
   "source": [
    "audio_features.dtypes"
   ]
  },
  {
   "cell_type": "markdown",
   "metadata": {},
   "source": [
    "It seems OK."
   ]
  },
  {
   "cell_type": "code",
   "execution_count": 56,
   "metadata": {},
   "outputs": [
    {
     "data": {
      "text/plain": [
       "danceability        0\n",
       "energy              0\n",
       "key                 0\n",
       "loudness            0\n",
       "mode                0\n",
       "speechiness         0\n",
       "acousticness        0\n",
       "instrumentalness    0\n",
       "liveness            0\n",
       "valence             0\n",
       "tempo               0\n",
       "id                  0\n",
       "duration_ms         0\n",
       "time_signature      0\n",
       "dtype: int64"
      ]
     },
     "execution_count": 56,
     "metadata": {},
     "output_type": "execute_result"
    }
   ],
   "source": [
    "audio_features.isnull().sum()"
   ]
  },
  {
   "cell_type": "markdown",
   "metadata": {},
   "source": [
    "Nice!"
   ]
  },
  {
   "cell_type": "markdown",
   "metadata": {},
   "source": [
    "#### Features distribution"
   ]
  },
  {
   "cell_type": "code",
   "execution_count": 57,
   "metadata": {},
   "outputs": [
    {
     "data": {
      "text/plain": [
       "0"
      ]
     },
     "execution_count": 57,
     "metadata": {},
     "output_type": "execute_result"
    }
   ],
   "source": [
    "audio_features.duplicated('id').sum()"
   ]
  },
  {
   "cell_type": "markdown",
   "metadata": {},
   "source": [
    "Nice too!"
   ]
  },
  {
   "cell_type": "code",
   "execution_count": 58,
   "metadata": {
    "scrolled": true
   },
   "outputs": [
    {
     "data": {
      "text/html": [
       "<div>\n",
       "<style scoped>\n",
       "    .dataframe tbody tr th:only-of-type {\n",
       "        vertical-align: middle;\n",
       "    }\n",
       "\n",
       "    .dataframe tbody tr th {\n",
       "        vertical-align: top;\n",
       "    }\n",
       "\n",
       "    .dataframe thead th {\n",
       "        text-align: right;\n",
       "    }\n",
       "</style>\n",
       "<table border=\"1\" class=\"dataframe\">\n",
       "  <thead>\n",
       "    <tr style=\"text-align: right;\">\n",
       "      <th></th>\n",
       "      <th>danceability</th>\n",
       "      <th>energy</th>\n",
       "      <th>key</th>\n",
       "      <th>loudness</th>\n",
       "      <th>mode</th>\n",
       "      <th>speechiness</th>\n",
       "      <th>acousticness</th>\n",
       "      <th>instrumentalness</th>\n",
       "      <th>liveness</th>\n",
       "      <th>valence</th>\n",
       "      <th>tempo</th>\n",
       "      <th>duration_ms</th>\n",
       "      <th>time_signature</th>\n",
       "    </tr>\n",
       "  </thead>\n",
       "  <tbody>\n",
       "    <tr>\n",
       "      <th>count</th>\n",
       "      <td>491595.000000</td>\n",
       "      <td>491595.000000</td>\n",
       "      <td>491595.000000</td>\n",
       "      <td>491595.000000</td>\n",
       "      <td>491595.000000</td>\n",
       "      <td>491595.000000</td>\n",
       "      <td>491595.000000</td>\n",
       "      <td>491595.000000</td>\n",
       "      <td>491595.000000</td>\n",
       "      <td>491595.000000</td>\n",
       "      <td>491595.000000</td>\n",
       "      <td>4.915950e+05</td>\n",
       "      <td>491595.000000</td>\n",
       "    </tr>\n",
       "    <tr>\n",
       "      <th>mean</th>\n",
       "      <td>0.555357</td>\n",
       "      <td>0.636276</td>\n",
       "      <td>5.281917</td>\n",
       "      <td>-8.746491</td>\n",
       "      <td>0.623934</td>\n",
       "      <td>0.096430</td>\n",
       "      <td>0.273871</td>\n",
       "      <td>0.202287</td>\n",
       "      <td>0.204890</td>\n",
       "      <td>0.470628</td>\n",
       "      <td>121.422468</td>\n",
       "      <td>2.426466e+05</td>\n",
       "      <td>3.905933</td>\n",
       "    </tr>\n",
       "    <tr>\n",
       "      <th>std</th>\n",
       "      <td>0.176397</td>\n",
       "      <td>0.248168</td>\n",
       "      <td>3.578772</td>\n",
       "      <td>4.880195</td>\n",
       "      <td>0.484397</td>\n",
       "      <td>0.143514</td>\n",
       "      <td>0.318675</td>\n",
       "      <td>0.331959</td>\n",
       "      <td>0.179179</td>\n",
       "      <td>0.257163</td>\n",
       "      <td>29.159548</td>\n",
       "      <td>1.205123e+05</td>\n",
       "      <td>0.435442</td>\n",
       "    </tr>\n",
       "    <tr>\n",
       "      <th>min</th>\n",
       "      <td>0.000000</td>\n",
       "      <td>0.000000</td>\n",
       "      <td>0.000000</td>\n",
       "      <td>-60.000000</td>\n",
       "      <td>0.000000</td>\n",
       "      <td>0.000000</td>\n",
       "      <td>0.000000</td>\n",
       "      <td>0.000000</td>\n",
       "      <td>0.000000</td>\n",
       "      <td>0.000000</td>\n",
       "      <td>0.000000</td>\n",
       "      <td>1.347000e+03</td>\n",
       "      <td>0.000000</td>\n",
       "    </tr>\n",
       "    <tr>\n",
       "      <th>25%</th>\n",
       "      <td>0.438000</td>\n",
       "      <td>0.466000</td>\n",
       "      <td>2.000000</td>\n",
       "      <td>-10.730000</td>\n",
       "      <td>0.000000</td>\n",
       "      <td>0.035500</td>\n",
       "      <td>0.010500</td>\n",
       "      <td>0.000001</td>\n",
       "      <td>0.096400</td>\n",
       "      <td>0.260000</td>\n",
       "      <td>99.875500</td>\n",
       "      <td>1.869330e+05</td>\n",
       "      <td>4.000000</td>\n",
       "    </tr>\n",
       "    <tr>\n",
       "      <th>50%</th>\n",
       "      <td>0.569000</td>\n",
       "      <td>0.679000</td>\n",
       "      <td>5.000000</td>\n",
       "      <td>-7.551000</td>\n",
       "      <td>1.000000</td>\n",
       "      <td>0.048300</td>\n",
       "      <td>0.116000</td>\n",
       "      <td>0.001000</td>\n",
       "      <td>0.129000</td>\n",
       "      <td>0.460000</td>\n",
       "      <td>121.030000</td>\n",
       "      <td>2.239600e+05</td>\n",
       "      <td>4.000000</td>\n",
       "    </tr>\n",
       "    <tr>\n",
       "      <th>75%</th>\n",
       "      <td>0.686000</td>\n",
       "      <td>0.843000</td>\n",
       "      <td>9.000000</td>\n",
       "      <td>-5.438000</td>\n",
       "      <td>1.000000</td>\n",
       "      <td>0.086100</td>\n",
       "      <td>0.494000</td>\n",
       "      <td>0.302000</td>\n",
       "      <td>0.263000</td>\n",
       "      <td>0.676000</td>\n",
       "      <td>138.700000</td>\n",
       "      <td>2.740400e+05</td>\n",
       "      <td>4.000000</td>\n",
       "    </tr>\n",
       "    <tr>\n",
       "      <th>max</th>\n",
       "      <td>0.993000</td>\n",
       "      <td>1.000000</td>\n",
       "      <td>11.000000</td>\n",
       "      <td>5.118000</td>\n",
       "      <td>1.000000</td>\n",
       "      <td>0.971000</td>\n",
       "      <td>0.996000</td>\n",
       "      <td>1.000000</td>\n",
       "      <td>1.000000</td>\n",
       "      <td>1.000000</td>\n",
       "      <td>249.987000</td>\n",
       "      <td>5.925082e+06</td>\n",
       "      <td>5.000000</td>\n",
       "    </tr>\n",
       "  </tbody>\n",
       "</table>\n",
       "</div>"
      ],
      "text/plain": [
       "        danceability         energy            key       loudness  \\\n",
       "count  491595.000000  491595.000000  491595.000000  491595.000000   \n",
       "mean        0.555357       0.636276       5.281917      -8.746491   \n",
       "std         0.176397       0.248168       3.578772       4.880195   \n",
       "min         0.000000       0.000000       0.000000     -60.000000   \n",
       "25%         0.438000       0.466000       2.000000     -10.730000   \n",
       "50%         0.569000       0.679000       5.000000      -7.551000   \n",
       "75%         0.686000       0.843000       9.000000      -5.438000   \n",
       "max         0.993000       1.000000      11.000000       5.118000   \n",
       "\n",
       "                mode    speechiness   acousticness  instrumentalness  \\\n",
       "count  491595.000000  491595.000000  491595.000000     491595.000000   \n",
       "mean        0.623934       0.096430       0.273871          0.202287   \n",
       "std         0.484397       0.143514       0.318675          0.331959   \n",
       "min         0.000000       0.000000       0.000000          0.000000   \n",
       "25%         0.000000       0.035500       0.010500          0.000001   \n",
       "50%         1.000000       0.048300       0.116000          0.001000   \n",
       "75%         1.000000       0.086100       0.494000          0.302000   \n",
       "max         1.000000       0.971000       0.996000          1.000000   \n",
       "\n",
       "            liveness        valence          tempo   duration_ms  \\\n",
       "count  491595.000000  491595.000000  491595.000000  4.915950e+05   \n",
       "mean        0.204890       0.470628     121.422468  2.426466e+05   \n",
       "std         0.179179       0.257163      29.159548  1.205123e+05   \n",
       "min         0.000000       0.000000       0.000000  1.347000e+03   \n",
       "25%         0.096400       0.260000      99.875500  1.869330e+05   \n",
       "50%         0.129000       0.460000     121.030000  2.239600e+05   \n",
       "75%         0.263000       0.676000     138.700000  2.740400e+05   \n",
       "max         1.000000       1.000000     249.987000  5.925082e+06   \n",
       "\n",
       "       time_signature  \n",
       "count   491595.000000  \n",
       "mean         3.905933  \n",
       "std          0.435442  \n",
       "min          0.000000  \n",
       "25%          4.000000  \n",
       "50%          4.000000  \n",
       "75%          4.000000  \n",
       "max          5.000000  "
      ]
     },
     "execution_count": 58,
     "metadata": {},
     "output_type": "execute_result"
    }
   ],
   "source": [
    "audio_features.describe()"
   ]
  },
  {
   "cell_type": "markdown",
   "metadata": {},
   "source": [
    "At the first sight, it seems OK."
   ]
  },
  {
   "cell_type": "markdown",
   "metadata": {},
   "source": [
    "### Artists"
   ]
  },
  {
   "cell_type": "markdown",
   "metadata": {},
   "source": [
    "#### Missing values and data types"
   ]
  },
  {
   "cell_type": "code",
   "execution_count": 60,
   "metadata": {},
   "outputs": [
    {
     "data": {
      "text/plain": [
       "followers      int64\n",
       "genres        object\n",
       "id            object\n",
       "name          object\n",
       "popularity     int64\n",
       "dtype: object"
      ]
     },
     "execution_count": 60,
     "metadata": {},
     "output_type": "execute_result"
    }
   ],
   "source": [
    "artists.dtypes"
   ]
  },
  {
   "cell_type": "code",
   "execution_count": 61,
   "metadata": {},
   "outputs": [
    {
     "data": {
      "text/plain": [
       "followers     0\n",
       "genres        0\n",
       "id            0\n",
       "name          0\n",
       "popularity    0\n",
       "dtype: int64"
      ]
     },
     "execution_count": 61,
     "metadata": {},
     "output_type": "execute_result"
    }
   ],
   "source": [
    "artists.isnull().sum()"
   ]
  },
  {
   "cell_type": "markdown",
   "metadata": {},
   "source": [
    "It seems nice."
   ]
  },
  {
   "cell_type": "markdown",
   "metadata": {},
   "source": [
    "#### Features distribution"
   ]
  },
  {
   "cell_type": "code",
   "execution_count": 62,
   "metadata": {},
   "outputs": [
    {
     "data": {
      "text/plain": [
       "1"
      ]
     },
     "execution_count": 62,
     "metadata": {},
     "output_type": "execute_result"
    }
   ],
   "source": [
    "artists.duplicated('id').sum()"
   ]
  },
  {
   "cell_type": "code",
   "execution_count": 63,
   "metadata": {},
   "outputs": [
    {
     "data": {
      "text/html": [
       "<div>\n",
       "<style scoped>\n",
       "    .dataframe tbody tr th:only-of-type {\n",
       "        vertical-align: middle;\n",
       "    }\n",
       "\n",
       "    .dataframe tbody tr th {\n",
       "        vertical-align: top;\n",
       "    }\n",
       "\n",
       "    .dataframe thead th {\n",
       "        text-align: right;\n",
       "    }\n",
       "</style>\n",
       "<table border=\"1\" class=\"dataframe\">\n",
       "  <thead>\n",
       "    <tr style=\"text-align: right;\">\n",
       "      <th></th>\n",
       "      <th>followers</th>\n",
       "      <th>genres</th>\n",
       "      <th>id</th>\n",
       "      <th>name</th>\n",
       "      <th>popularity</th>\n",
       "    </tr>\n",
       "  </thead>\n",
       "  <tbody>\n",
       "    <tr>\n",
       "      <th>54492</th>\n",
       "      <td>46903</td>\n",
       "      <td>[jazz funk, jazz fusion, jazz guitar]</td>\n",
       "      <td>3zX0EMvB00JzxnRi5EIICP</td>\n",
       "      <td>Mike Stern</td>\n",
       "      <td>36</td>\n",
       "    </tr>\n",
       "  </tbody>\n",
       "</table>\n",
       "</div>"
      ],
      "text/plain": [
       "       followers                                 genres  \\\n",
       "54492      46903  [jazz funk, jazz fusion, jazz guitar]   \n",
       "\n",
       "                           id        name  popularity  \n",
       "54492  3zX0EMvB00JzxnRi5EIICP  Mike Stern          36  "
      ]
     },
     "execution_count": 63,
     "metadata": {},
     "output_type": "execute_result"
    }
   ],
   "source": [
    "artists[artists.duplicated('id')]"
   ]
  },
  {
   "cell_type": "code",
   "execution_count": 64,
   "metadata": {},
   "outputs": [
    {
     "data": {
      "text/html": [
       "<div>\n",
       "<style scoped>\n",
       "    .dataframe tbody tr th:only-of-type {\n",
       "        vertical-align: middle;\n",
       "    }\n",
       "\n",
       "    .dataframe tbody tr th {\n",
       "        vertical-align: top;\n",
       "    }\n",
       "\n",
       "    .dataframe thead th {\n",
       "        text-align: right;\n",
       "    }\n",
       "</style>\n",
       "<table border=\"1\" class=\"dataframe\">\n",
       "  <thead>\n",
       "    <tr style=\"text-align: right;\">\n",
       "      <th></th>\n",
       "      <th>followers</th>\n",
       "      <th>genres</th>\n",
       "      <th>id</th>\n",
       "      <th>name</th>\n",
       "      <th>popularity</th>\n",
       "    </tr>\n",
       "  </thead>\n",
       "  <tbody>\n",
       "    <tr>\n",
       "      <th>1554</th>\n",
       "      <td>0</td>\n",
       "      <td>[jazz funk, jazz fusion, jazz guitar]</td>\n",
       "      <td>3zX0EMvB00JzxnRi5EIICP</td>\n",
       "      <td>Mike Stern</td>\n",
       "      <td>36</td>\n",
       "    </tr>\n",
       "    <tr>\n",
       "      <th>54492</th>\n",
       "      <td>46903</td>\n",
       "      <td>[jazz funk, jazz fusion, jazz guitar]</td>\n",
       "      <td>3zX0EMvB00JzxnRi5EIICP</td>\n",
       "      <td>Mike Stern</td>\n",
       "      <td>36</td>\n",
       "    </tr>\n",
       "  </tbody>\n",
       "</table>\n",
       "</div>"
      ],
      "text/plain": [
       "       followers                                 genres  \\\n",
       "1554           0  [jazz funk, jazz fusion, jazz guitar]   \n",
       "54492      46903  [jazz funk, jazz fusion, jazz guitar]   \n",
       "\n",
       "                           id        name  popularity  \n",
       "1554   3zX0EMvB00JzxnRi5EIICP  Mike Stern          36  \n",
       "54492  3zX0EMvB00JzxnRi5EIICP  Mike Stern          36  "
      ]
     },
     "execution_count": 64,
     "metadata": {},
     "output_type": "execute_result"
    }
   ],
   "source": [
    "artists[artists.id == '3zX0EMvB00JzxnRi5EIICP']"
   ]
  },
  {
   "cell_type": "markdown",
   "metadata": {},
   "source": [
    "We have only one artist duplicated."
   ]
  },
  {
   "cell_type": "markdown",
   "metadata": {},
   "source": [
    "Let's make a `describe`."
   ]
  },
  {
   "cell_type": "code",
   "execution_count": 65,
   "metadata": {},
   "outputs": [
    {
     "data": {
      "text/html": [
       "<div>\n",
       "<style scoped>\n",
       "    .dataframe tbody tr th:only-of-type {\n",
       "        vertical-align: middle;\n",
       "    }\n",
       "\n",
       "    .dataframe tbody tr th {\n",
       "        vertical-align: top;\n",
       "    }\n",
       "\n",
       "    .dataframe thead th {\n",
       "        text-align: right;\n",
       "    }\n",
       "</style>\n",
       "<table border=\"1\" class=\"dataframe\">\n",
       "  <thead>\n",
       "    <tr style=\"text-align: right;\">\n",
       "      <th></th>\n",
       "      <th>followers</th>\n",
       "      <th>popularity</th>\n",
       "    </tr>\n",
       "  </thead>\n",
       "  <tbody>\n",
       "    <tr>\n",
       "      <th>count</th>\n",
       "      <td>1.076220e+05</td>\n",
       "      <td>107622.000000</td>\n",
       "    </tr>\n",
       "    <tr>\n",
       "      <th>mean</th>\n",
       "      <td>7.451927e+04</td>\n",
       "      <td>28.218738</td>\n",
       "    </tr>\n",
       "    <tr>\n",
       "      <th>std</th>\n",
       "      <td>6.882583e+05</td>\n",
       "      <td>18.822269</td>\n",
       "    </tr>\n",
       "    <tr>\n",
       "      <th>min</th>\n",
       "      <td>0.000000e+00</td>\n",
       "      <td>0.000000</td>\n",
       "    </tr>\n",
       "    <tr>\n",
       "      <th>25%</th>\n",
       "      <td>1.950000e+02</td>\n",
       "      <td>12.000000</td>\n",
       "    </tr>\n",
       "    <tr>\n",
       "      <th>50%</th>\n",
       "      <td>1.628000e+03</td>\n",
       "      <td>28.000000</td>\n",
       "    </tr>\n",
       "    <tr>\n",
       "      <th>75%</th>\n",
       "      <td>1.212900e+04</td>\n",
       "      <td>42.000000</td>\n",
       "    </tr>\n",
       "    <tr>\n",
       "      <th>max</th>\n",
       "      <td>6.757670e+07</td>\n",
       "      <td>100.000000</td>\n",
       "    </tr>\n",
       "  </tbody>\n",
       "</table>\n",
       "</div>"
      ],
      "text/plain": [
       "          followers     popularity\n",
       "count  1.076220e+05  107622.000000\n",
       "mean   7.451927e+04      28.218738\n",
       "std    6.882583e+05      18.822269\n",
       "min    0.000000e+00       0.000000\n",
       "25%    1.950000e+02      12.000000\n",
       "50%    1.628000e+03      28.000000\n",
       "75%    1.212900e+04      42.000000\n",
       "max    6.757670e+07     100.000000"
      ]
     },
     "execution_count": 65,
     "metadata": {},
     "output_type": "execute_result"
    }
   ],
   "source": [
    "artists.describe()"
   ]
  },
  {
   "cell_type": "markdown",
   "metadata": {},
   "source": [
    "The most followed artist:"
   ]
  },
  {
   "cell_type": "code",
   "execution_count": 66,
   "metadata": {},
   "outputs": [
    {
     "data": {
      "text/html": [
       "<div>\n",
       "<style scoped>\n",
       "    .dataframe tbody tr th:only-of-type {\n",
       "        vertical-align: middle;\n",
       "    }\n",
       "\n",
       "    .dataframe tbody tr th {\n",
       "        vertical-align: top;\n",
       "    }\n",
       "\n",
       "    .dataframe thead th {\n",
       "        text-align: right;\n",
       "    }\n",
       "</style>\n",
       "<table border=\"1\" class=\"dataframe\">\n",
       "  <thead>\n",
       "    <tr style=\"text-align: right;\">\n",
       "      <th></th>\n",
       "      <th>followers</th>\n",
       "      <th>genres</th>\n",
       "      <th>id</th>\n",
       "      <th>name</th>\n",
       "      <th>popularity</th>\n",
       "    </tr>\n",
       "  </thead>\n",
       "  <tbody>\n",
       "    <tr>\n",
       "      <th>84115</th>\n",
       "      <td>67576701</td>\n",
       "      <td>[pop, uk pop]</td>\n",
       "      <td>6eUKZXaKkcviH0Ku9w2n3V</td>\n",
       "      <td>Ed Sheeran</td>\n",
       "      <td>92</td>\n",
       "    </tr>\n",
       "  </tbody>\n",
       "</table>\n",
       "</div>"
      ],
      "text/plain": [
       "       followers         genres                      id        name  \\\n",
       "84115   67576701  [pop, uk pop]  6eUKZXaKkcviH0Ku9w2n3V  Ed Sheeran   \n",
       "\n",
       "       popularity  \n",
       "84115          92  "
      ]
     },
     "execution_count": 66,
     "metadata": {},
     "output_type": "execute_result"
    }
   ],
   "source": [
    "artists[artists.followers == artists.followers.max()]"
   ]
  },
  {
   "cell_type": "markdown",
   "metadata": {},
   "source": [
    "It seems reasonable."
   ]
  },
  {
   "cell_type": "markdown",
   "metadata": {},
   "source": [
    "## Visualizations"
   ]
  },
  {
   "cell_type": "markdown",
   "metadata": {},
   "source": [
    "We will try to anwer questions about the data using visualizations."
   ]
  },
  {
   "cell_type": "markdown",
   "metadata": {},
   "source": [
    "### When a track was added to a playlist?"
   ]
  },
  {
   "cell_type": "code",
   "execution_count": 67,
   "metadata": {},
   "outputs": [
    {
     "data": {
      "image/png": "[encoded data removed]",
      "text/plain": [
       "<Figure size 432x288 with 1 Axes>"
      ]
     },
     "metadata": {},
     "output_type": "display_data"
    }
   ],
   "source": [
    "data = pd.concat(\n",
    "    [pd.read_pickle(file)['added_at'] for file in glob.glob('../../data/sp_tracks_ready_*.pkl')],\n",
    "    ignore_index=True\n",
    ")\n",
    "\n",
    "sns.distplot(data.dt.year, kde=False)\n",
    "plt.title(\"Histogram of added_at\")\n",
    "plt.xlabel(\"Year\")\n",
    "plt.show()"
   ]
  },
  {
   "cell_type": "markdown",
   "metadata": {},
   "source": [
    "The max date is:"
   ]
  },
  {
   "cell_type": "code",
   "execution_count": 68,
   "metadata": {},
   "outputs": [
    {
     "data": {
      "text/plain": [
       "Timestamp('2042-07-07 10:02:09+0000', tz='UTC')"
      ]
     },
     "execution_count": 68,
     "metadata": {},
     "output_type": "execute_result"
    }
   ],
   "source": [
    "data.max()"
   ]
  },
  {
   "cell_type": "markdown",
   "metadata": {},
   "source": [
    "We see some outliers, so we filter them:"
   ]
  },
  {
   "cell_type": "code",
   "execution_count": 69,
   "metadata": {},
   "outputs": [
    {
     "data": {
      "image/png": "[encoded data removed]",
      "text/plain": [
       "<Figure size 432x288 with 1 Axes>"
      ]
     },
     "metadata": {},
     "output_type": "display_data"
    }
   ],
   "source": [
    "sns.distplot(data[(data > '2000') & (data < '2021')].dt.year, kde=False, bins=10)\n",
    "plt.title(\"Histogram of added_at\")\n",
    "plt.xlabel(\"Year\")\n",
    "plt.show()"
   ]
  },
  {
   "cell_type": "markdown",
   "metadata": {},
   "source": [
    "Most of the songs were added recently."
   ]
  },
  {
   "cell_type": "markdown",
   "metadata": {},
   "source": [
    "### How much time does a track take?"
   ]
  },
  {
   "cell_type": "code",
   "execution_count": 70,
   "metadata": {},
   "outputs": [
    {
     "data": {
      "image/png": "[encoded data removed]",
      "text/plain": [
       "<Figure size 432x288 with 1 Axes>"
      ]
     },
     "metadata": {},
     "output_type": "display_data"
    }
   ],
   "source": [
    "data = pd.concat(\n",
    "    [pd.read_pickle(file)['duration_ms'] for file in glob.glob('../../data/sp_tracks_ready_*.pkl')],\n",
    "    ignore_index=True\n",
    ")\n",
    "\n",
    "sns.distplot(data[data < 1e6], kde=False)\n",
    "plt.title(\"Distribution of the duration of the tracks (in ms)\")\n",
    "plt.show()"
   ]
  },
  {
   "cell_type": "markdown",
   "metadata": {},
   "source": [
    "The mode of the songs has 3min20s."
   ]
  },
  {
   "cell_type": "markdown",
   "metadata": {},
   "source": [
    "### Are the tracks popular?"
   ]
  },
  {
   "cell_type": "code",
   "execution_count": 72,
   "metadata": {},
   "outputs": [
    {
     "data": {
      "image/png": "[encoded data removed]",
      "text/plain": [
       "<Figure size 432x288 with 1 Axes>"
      ]
     },
     "metadata": {},
     "output_type": "display_data"
    }
   ],
   "source": [
    "data = pd.concat(\n",
    "    [pd.read_pickle(file)['popularity'] for file in glob.glob('../../data/sp_tracks_ready_*.pkl')],\n",
    "    ignore_index=True\n",
    ")\n",
    "\n",
    "sns.distplot(data, kde=False)\n",
    "plt.title(\"Distribution of the popularity of the tracks\")\n",
    "plt.show()"
   ]
  },
  {
   "cell_type": "markdown",
   "metadata": {},
   "source": [
    "We see that a lot of songs are not popular at all, maybe it's a missing value."
   ]
  },
  {
   "cell_type": "code",
   "execution_count": 73,
   "metadata": {},
   "outputs": [
    {
     "data": {
      "image/png": "[encoded data removed]",
      "text/plain": [
       "<Figure size 432x288 with 1 Axes>"
      ]
     },
     "metadata": {},
     "output_type": "display_data"
    }
   ],
   "source": [
    "sns.distplot(data[data > 0], kde=False)\n",
    "plt.title(\"Distribution of the popularity (> 0) of the tracks\")\n",
    "plt.show()"
   ]
  },
  {
   "cell_type": "markdown",
   "metadata": {},
   "source": [
    "Most of songs are not popular, but those who are popular have mode at approx. 42. A few tracks have big popularities. For example, the most popular track in our dataset:"
   ]
  },
  {
   "cell_type": "code",
   "execution_count": 74,
   "metadata": {},
   "outputs": [
    {
     "data": {
      "text/plain": [
       "'ROCKSTAR (feat. Roddy Ricch)'"
      ]
     },
     "execution_count": 74,
     "metadata": {},
     "output_type": "execute_result"
    }
   ],
   "source": [
    "tracks[tracks.popularity == tracks.popularity.max()].name.iloc[0]"
   ]
  },
  {
   "cell_type": "code",
   "execution_count": 75,
   "metadata": {},
   "outputs": [
    {
     "data": {
      "text/plain": [
       "['DaBaby', 'Roddy Ricch']"
      ]
     },
     "execution_count": 75,
     "metadata": {},
     "output_type": "execute_result"
    }
   ],
   "source": [
    "tracks[tracks.popularity == tracks.popularity.max()].artists_names.iloc[0]"
   ]
  },
  {
   "cell_type": "code",
   "execution_count": 76,
   "metadata": {},
   "outputs": [
    {
     "data": {
      "text/html": [
       "<div>\n",
       "<style scoped>\n",
       "    .dataframe tbody tr th:only-of-type {\n",
       "        vertical-align: middle;\n",
       "    }\n",
       "\n",
       "    .dataframe tbody tr th {\n",
       "        vertical-align: top;\n",
       "    }\n",
       "\n",
       "    .dataframe thead th {\n",
       "        text-align: right;\n",
       "    }\n",
       "</style>\n",
       "<table border=\"1\" class=\"dataframe\">\n",
       "  <thead>\n",
       "    <tr style=\"text-align: right;\">\n",
       "      <th></th>\n",
       "      <th>followers</th>\n",
       "      <th>genres</th>\n",
       "      <th>id</th>\n",
       "      <th>name</th>\n",
       "      <th>popularity</th>\n",
       "    </tr>\n",
       "  </thead>\n",
       "  <tbody>\n",
       "    <tr>\n",
       "      <th>59207</th>\n",
       "      <td>3884369</td>\n",
       "      <td>[north carolina hip hop, rap]</td>\n",
       "      <td>4r63FhuTkUYltbVAg5TQnk</td>\n",
       "      <td>DaBaby</td>\n",
       "      <td>94</td>\n",
       "    </tr>\n",
       "    <tr>\n",
       "      <th>65851</th>\n",
       "      <td>3646033</td>\n",
       "      <td>[melodic rap, rap]</td>\n",
       "      <td>757aE44tKEUQEqRuT6GnEB</td>\n",
       "      <td>Roddy Ricch</td>\n",
       "      <td>93</td>\n",
       "    </tr>\n",
       "  </tbody>\n",
       "</table>\n",
       "</div>"
      ],
      "text/plain": [
       "       followers                         genres                      id  \\\n",
       "59207    3884369  [north carolina hip hop, rap]  4r63FhuTkUYltbVAg5TQnk   \n",
       "65851    3646033             [melodic rap, rap]  757aE44tKEUQEqRuT6GnEB   \n",
       "\n",
       "              name  popularity  \n",
       "59207       DaBaby          94  \n",
       "65851  Roddy Ricch          93  "
      ]
     },
     "execution_count": 76,
     "metadata": {},
     "output_type": "execute_result"
    }
   ],
   "source": [
    "artists[(artists.name == 'DaBaby') | (artists.name == 'Roddy Ricch')]"
   ]
  },
  {
   "cell_type": "markdown",
   "metadata": {},
   "source": [
    "The artists of the track are very popular."
   ]
  },
  {
   "cell_type": "markdown",
   "metadata": {},
   "source": [
    "### How many playlists does a user have?"
   ]
  },
  {
   "cell_type": "code",
   "execution_count": 77,
   "metadata": {},
   "outputs": [
    {
     "data": {
      "text/plain": [
       "owner_id\n",
       "henkestrummer    849\n",
       "spotify          809\n",
       "littlestar19     704\n",
       "chrispis         334\n",
       "symboliccross    215\n",
       "                ... \n",
       "kimmiebee          1\n",
       "kieron             1\n",
       "kidvector          1\n",
       "kgstrat            1\n",
       "!lu.               1\n",
       "Name: id, Length: 1372, dtype: int64"
      ]
     },
     "execution_count": 77,
     "metadata": {},
     "output_type": "execute_result"
    }
   ],
   "source": [
    "playlists.groupby('owner_id').count().id.sort_values(ascending=False)"
   ]
  },
  {
   "cell_type": "markdown",
   "metadata": {},
   "source": [
    "Of course, Spotify is one of the biggest playlists owner. But it's not the first one in our dataset!"
   ]
  },
  {
   "cell_type": "markdown",
   "metadata": {},
   "source": [
    "### How is the distribution of the number of tracks among playlists?"
   ]
  },
  {
   "cell_type": "code",
   "execution_count": 78,
   "metadata": {},
   "outputs": [
    {
     "data": {
      "image/png": "[encoded data removed]",
      "text/plain": [
       "<Figure size 432x288 with 1 Axes>"
      ]
     },
     "metadata": {},
     "output_type": "display_data"
    }
   ],
   "source": [
    "total = playlists.tracks.apply(lambda x: x['total'])\n",
    "\n",
    "sns.distplot(total, kde=False)\n",
    "plt.title(\"Distribution of number of tracks\")\n",
    "plt.xlabel(\"Number of tracks\")\n",
    "plt.ylabel(\"Number of playlists\")\n",
    "plt.show()"
   ]
  },
  {
   "cell_type": "markdown",
   "metadata": {},
   "source": [
    "There are playlists with many many tracks. This one have more than 13 thousand!"
   ]
  },
  {
   "cell_type": "code",
   "execution_count": 80,
   "metadata": {},
   "outputs": [
    {
     "data": {
      "text/html": [
       "<div>\n",
       "<style scoped>\n",
       "    .dataframe tbody tr th:only-of-type {\n",
       "        vertical-align: middle;\n",
       "    }\n",
       "\n",
       "    .dataframe tbody tr th {\n",
       "        vertical-align: top;\n",
       "    }\n",
       "\n",
       "    .dataframe thead th {\n",
       "        text-align: right;\n",
       "    }\n",
       "</style>\n",
       "<table border=\"1\" class=\"dataframe\">\n",
       "  <thead>\n",
       "    <tr style=\"text-align: right;\">\n",
       "      <th></th>\n",
       "      <th>collaborative</th>\n",
       "      <th>description</th>\n",
       "      <th>id</th>\n",
       "      <th>name</th>\n",
       "      <th>primary_color</th>\n",
       "      <th>public</th>\n",
       "      <th>tracks</th>\n",
       "      <th>owner_id</th>\n",
       "    </tr>\n",
       "  </thead>\n",
       "  <tbody>\n",
       "    <tr>\n",
       "      <th>1398</th>\n",
       "      <td>False</td>\n",
       "      <td></td>\n",
       "      <td>2ksOblphviHyEj35xjvnm2</td>\n",
       "      <td>New Playlist</td>\n",
       "      <td>None</td>\n",
       "      <td>True</td>\n",
       "      <td>{'href': 'https://api.spotify.com/v1/playlists...</td>\n",
       "      <td>bendelvio</td>\n",
       "    </tr>\n",
       "  </tbody>\n",
       "</table>\n",
       "</div>"
      ],
      "text/plain": [
       "      collaborative description                      id          name  \\\n",
       "1398          False              2ksOblphviHyEj35xjvnm2  New Playlist   \n",
       "\n",
       "     primary_color  public                                             tracks  \\\n",
       "1398          None    True  {'href': 'https://api.spotify.com/v1/playlists...   \n",
       "\n",
       "       owner_id  \n",
       "1398  bendelvio  "
      ]
     },
     "execution_count": 80,
     "metadata": {},
     "output_type": "execute_result"
    }
   ],
   "source": [
    "playlists[total > 13000]"
   ]
  },
  {
   "cell_type": "code",
   "execution_count": 81,
   "metadata": {},
   "outputs": [
    {
     "data": {
      "text/plain": [
       "13459"
      ]
     },
     "execution_count": 81,
     "metadata": {},
     "output_type": "execute_result"
    }
   ],
   "source": [
    "playlists[total > 13000].iloc[0, 6]['total']"
   ]
  },
  {
   "cell_type": "markdown",
   "metadata": {},
   "source": [
    "Without these outliers, what's the distribution?"
   ]
  },
  {
   "cell_type": "code",
   "execution_count": 82,
   "metadata": {},
   "outputs": [
    {
     "data": {
      "image/png": "[encoded data removed]",
      "text/plain": [
       "<Figure size 432x288 with 1 Axes>"
      ]
     },
     "metadata": {},
     "output_type": "display_data"
    }
   ],
   "source": [
    "sns.distplot(playlists[total < 500].tracks.apply(lambda x: x['total']), kde=False)\n",
    "plt.title(\"Distribution of number of tracks\")\n",
    "plt.xlabel(\"Number of tracks\")\n",
    "plt.ylabel(\"Number of playlists\")\n",
    "plt.show()"
   ]
  },
  {
   "cell_type": "markdown",
   "metadata": {},
   "source": [
    "Most of playlists have few (100 or less) songs."
   ]
  },
  {
   "cell_type": "markdown",
   "metadata": {},
   "source": [
    "### How danceable, louder, ... are the songs?"
   ]
  },
  {
   "cell_type": "markdown",
   "metadata": {},
   "source": [
    "Audio features dataset has a lot of variables, so we explore some of them."
   ]
  },
  {
   "cell_type": "code",
   "execution_count": 83,
   "metadata": {
    "scrolled": false
   },
   "outputs": [
    {
     "data": {
      "image/png": "[encoded data removed]",
      "text/plain": [
       "<Figure size 432x288 with 1 Axes>"
      ]
     },
     "metadata": {},
     "output_type": "display_data"
    },
    {
     "data": {
      "image/png": "[encoded data removed]",
      "text/plain": [
       "<Figure size 432x288 with 1 Axes>"
      ]
     },
     "metadata": {},
     "output_type": "display_data"
    },
    {
     "data": {
      "image/png": "[encoded data removed]",
      "text/plain": [
       "<Figure size 432x288 with 1 Axes>"
      ]
     },
     "metadata": {},
     "output_type": "display_data"
    },
    {
     "data": {
      "image/png": "[encoded data removed]",
      "text/plain": [
       "<Figure size 432x288 with 1 Axes>"
      ]
     },
     "metadata": {},
     "output_type": "display_data"
    }
   ],
   "source": [
    "for variable in ['danceability', 'loudness', 'instrumentalness', 'tempo']:\n",
    "    sns.distplot(audio_features[variable], kde=False)\n",
    "    plt.title('Distribution of ' + variable)\n",
    "    if variable == 'loudness':\n",
    "        plt.xlabel('loudness (dB)')\n",
    "    elif variable == 'tempo':\n",
    "        plt.xlabel('tempo (BPM)')\n",
    "    plt.show()"
   ]
  },
  {
   "cell_type": "markdown",
   "metadata": {},
   "source": [
    "The features above describe a confidence or a metric made by Spotify. We see that `danceability` (how danceable a track is) has a very nice distribution, that is, most of songs are quite danceable. `Loudness` (in dB) concentrates itself around -10dB.\n",
    "\n",
    "The distribution of `instrumentalness` is curious: there are tracks we may say they are instrumental (around 0.9), there are tracks we would say it's not instrumental (close to, but not equal to, zero), and there are many many songs we are sure they are not instrumental (very close to or equal to zero). Maybe it's because it's easy to say a song is not instrumental (it's easy to recognize voice), but the reverse is not so true, that is, to ensure the song is instrumental. `temp` is another variable with a quite nice distribution. Songs vary it's tempo (in BPM) around 120."
   ]
  },
  {
   "cell_type": "markdown",
   "metadata": {},
   "source": [
    "One thing to say is that these graphs are quite compatible with those from [Spotify's Web API](https://developer.spotify.com/documentation/web-api/reference/tracks/get-audio-features/). It suggests that we are in the right way with our data."
   ]
  },
  {
   "cell_type": "markdown",
   "metadata": {},
   "source": [
    "### How popular are the artists?"
   ]
  },
  {
   "cell_type": "code",
   "execution_count": 84,
   "metadata": {},
   "outputs": [
    {
     "data": {
      "image/png": "[encoded data removed]",
      "text/plain": [
       "<Figure size 432x288 with 1 Axes>"
      ]
     },
     "metadata": {},
     "output_type": "display_data"
    }
   ],
   "source": [
    "sns.distplot(artists.popularity, kde=False)\n",
    "plt.title('Distribution of artists popularity')\n",
    "plt.show()"
   ]
  },
  {
   "cell_type": "markdown",
   "metadata": {},
   "source": [
    "This distribution is very close to the distribution of the popularity of the songs, curiously."
   ]
  },
  {
   "cell_type": "markdown",
   "metadata": {},
   "source": [
    "### Which are the genres with more artists?"
   ]
  },
  {
   "cell_type": "code",
   "execution_count": 85,
   "metadata": {},
   "outputs": [
    {
     "data": {
      "image/png": "[encoded data removed]",
      "text/plain": [
       "<Figure size 432x288 with 1 Axes>"
      ]
     },
     "metadata": {},
     "output_type": "display_data"
    }
   ],
   "source": [
    "genres = []\n",
    "for item in artists.genres.to_list():\n",
    "    if type(item) == list:\n",
    "        for genre in item:\n",
    "            genres.append(genre)\n",
    "\n",
    "counter = Counter(genres)\n",
    "\n",
    "ax = sns.barplot(\n",
    "    list(list(zip(*counter.most_common()))[0][:15]),\n",
    "    [i/len(genres) for i in list(zip(*counter.most_common()))[1]][:15]\n",
    ")\n",
    "plt.xticks(rotation=90)\n",
    "plt.title(\"Genres with more artists\")\n",
    "\n",
    "# https://stackoverflow.com/a/31357733\n",
    "vals = ax.get_yticks()\n",
    "ax.set_yticklabels(['{:,.2%}'.format(x) for x in vals])\n",
    "\n",
    "plt.show()"
   ]
  },
  {
   "cell_type": "markdown",
   "metadata": {},
   "source": [
    "These are the 10 genres with more artists. It seems very reasonable to have pop, rock, hip hop, rap and pop rock in this list. The percentages seems to be small, but it's because we have a lot of genres. That is:"
   ]
  },
  {
   "cell_type": "code",
   "execution_count": 86,
   "metadata": {},
   "outputs": [
    {
     "data": {
      "text/plain": [
       "4210"
      ]
     },
     "execution_count": 86,
     "metadata": {},
     "output_type": "execute_result"
    }
   ],
   "source": [
    "len(set(genres))"
   ]
  },
  {
   "cell_type": "markdown",
   "metadata": {},
   "source": [
    "### Finnaly, what are the genres with more tracks?"
   ]
  },
  {
   "cell_type": "code",
   "execution_count": 87,
   "metadata": {},
   "outputs": [
    {
     "data": {
      "image/png": "[encoded data removed]",
      "text/plain": [
       "<Figure size 432x288 with 1 Axes>"
      ]
     },
     "metadata": {},
     "output_type": "display_data"
    }
   ],
   "source": [
    "# We will only sample data because the datasets are big\n",
    "# This cell takes a while to run\n",
    "\n",
    "data = pd.concat(\n",
    "    [pd.read_pickle(file)['artists_ids'].sample(1000) for file in glob.glob('../../data/sp_tracks_ready_*.pkl')],\n",
    "    ignore_index=True\n",
    ")\n",
    "\n",
    "artist_ids = []\n",
    "for item in data.to_list():\n",
    "    if type(item) == list:\n",
    "        for artist_id in item:\n",
    "            artist_ids.append(artist_id)\n",
    "\n",
    "genres = []\n",
    "for id in artist_ids:\n",
    "    q = artists[artists.id == id].genres.iloc[0]\n",
    "    if type(q) == list:\n",
    "        genres.extend(q)\n",
    "\n",
    "counter = Counter(genres)\n",
    "\n",
    "ax = sns.barplot(\n",
    "    list(list(zip(*counter.most_common()))[0][:15]),\n",
    "    [i/len(genres) for i in list(zip(*counter.most_common()))[1]][:15]\n",
    ")\n",
    "plt.xticks(rotation=90)\n",
    "plt.title(\"Genres with more tracks\")\n",
    "\n",
    "# https://stackoverflow.com/a/31357733\n",
    "vals = ax.get_yticks()\n",
    "ax.set_yticklabels(['{:,.2%}'.format(x) for x in vals])\n",
    "\n",
    "plt.show()"
   ]
  },
  {
   "cell_type": "markdown",
   "metadata": {},
   "source": [
    "Again, that's pretty reasonable. Pop and rock was expected to be in this list, so as rap and hip hop. Again, maybe the percentages seem small, but we have a lot of them (only in the sample):"
   ]
  },
  {
   "cell_type": "code",
   "execution_count": 88,
   "metadata": {},
   "outputs": [
    {
     "data": {
      "text/plain": [
       "2297"
      ]
     },
     "execution_count": 88,
     "metadata": {},
     "output_type": "execute_result"
    }
   ],
   "source": [
    "len(set(genres))"
   ]
  },
  {
   "cell_type": "markdown",
   "metadata": {},
   "source": [
    "Many of the genres as sub-sub-subgenres, as you can see:"
   ]
  },
  {
   "cell_type": "code",
   "execution_count": 89,
   "metadata": {},
   "outputs": [
    {
     "data": {
      "text/plain": [
       "['piseiro',\n",
       " 'latin rock',\n",
       " 'alternative dance',\n",
       " 'instrumental rock',\n",
       " 'baile pop',\n",
       " 'indie soul',\n",
       " 'rock',\n",
       " 'swedish synthpop',\n",
       " 'singer-songwriter',\n",
       " 'alternative hip hop',\n",
       " 'skate punk',\n",
       " 'shimmer pop',\n",
       " 'dance pop',\n",
       " 'hip hop',\n",
       " 'german underground rap']"
      ]
     },
     "execution_count": 89,
     "metadata": {},
     "output_type": "execute_result"
    }
   ],
   "source": [
    "[genres[np.random.randint(len(genres))] for _ in range(15)]"
   ]
  },
  {
   "cell_type": "markdown",
   "metadata": {},
   "source": [
    "### Are there correlations between numerical variables?"
   ]
  },
  {
   "cell_type": "markdown",
   "metadata": {},
   "source": [
    "Let's analyse correlation in audio features dataset."
   ]
  },
  {
   "cell_type": "code",
   "execution_count": 90,
   "metadata": {},
   "outputs": [
    {
     "data": {
      "image/png": "[encoded data removed]",
      "text/plain": [
       "<Figure size 432x288 with 2 Axes>"
      ]
     },
     "metadata": {},
     "output_type": "display_data"
    }
   ],
   "source": [
    "sns.heatmap(audio_features.corr())\n",
    "plt.title(\"Correlation between audio features\")\n",
    "plt.show()"
   ]
  },
  {
   "cell_type": "code",
   "execution_count": 91,
   "metadata": {},
   "outputs": [
    {
     "data": {
      "image/png": "[encoded data removed]",
      "text/plain": [
       "<Figure size 360x360 with 1 Axes>"
      ]
     },
     "metadata": {},
     "output_type": "display_data"
    }
   ],
   "source": [
    "fig, ax = plt.subplots(figsize=(5, 5))\n",
    "sns.heatmap(audio_features.corr().abs() > 0.3, cbar=False, ax=ax)\n",
    "plt.title(\"Audio features with abs(corr) > 0.3\")\n",
    "plt.show()"
   ]
  },
  {
   "cell_type": "markdown",
   "metadata": {},
   "source": [
    "We see strong correlations between\n",
    "- `acousticness` and `energy`: they have strong negative correlation, because acoustic tracks in general are more calm;\n",
    "- `acousticness` and `loudness`: the same as the latter;\n",
    "- `energy` and `loudness`: the more energy the song, the louder it is;\n",
    "- `valence` and `danceability`: the more valence (positiveness), the more danceable it is.\n",
    "- `instrumental` and `loudness`: we found that a instrumental song tends to be less louder."
   ]
  },
  {
   "cell_type": "markdown",
   "metadata": {},
   "source": [
    "## Conclusion"
   ]
  },
  {
   "cell_type": "markdown",
   "metadata": {},
   "source": [
    "We have few datasets which only few problems to solve, like missing values, duplicates and outliers. In this way, we can concentrate to build the recommendation model."
   ]
  },
  {
   "cell_type": "code",
   "execution_count": null,
   "metadata": {},
   "outputs": [],
   "source": []
  }
 ],
 "metadata": {
  "kernelspec": {
   "display_name": "Python 3",
   "language": "python",
   "name": "python3"
  },
  "language_info": {
   "codemirror_mode": {
    "name": "ipython",
    "version": 3
   },
   "file_extension": ".py",
   "mimetype": "text/x-python",
   "name": "python",
   "nbconvert_exporter": "python",
   "pygments_lexer": "ipython3",
   "version": "3.8.3"
  }
 },
 "nbformat": 4,
 "nbformat_minor": 4
}
