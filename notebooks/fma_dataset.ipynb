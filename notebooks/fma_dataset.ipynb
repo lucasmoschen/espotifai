{
 "metadata": {
  "language_info": {
   "codemirror_mode": {
    "name": "ipython",
    "version": 3
   },
   "file_extension": ".py",
   "mimetype": "text/x-python",
   "name": "python",
   "nbconvert_exporter": "python",
   "pygments_lexer": "ipython3",
   "version": "3.7.3-final"
  },
  "orig_nbformat": 2,
  "kernelspec": {
   "name": "python3",
   "display_name": "Python 3"
  }
 },
 "nbformat": 4,
 "nbformat_minor": 2,
 "cells": [
  {
   "cell_type": "markdown",
   "metadata": {},
   "source": [
    "# FMA: A Dataset For Music Analysis\n",
    "\n",
    "[Paper](https://arxiv.org/abs/1612.01840)\n",
    "\n",
    "[Repository](https://github.com/mdeff/fma)\n",
    "\n",
    "Download the file `fma_small.zip`, unzip it and put inside a data folder."
   ]
  },
  {
   "cell_type": "code",
   "execution_count": 3,
   "metadata": {},
   "outputs": [],
   "source": [
    "import os\n",
    "\n",
    "import IPython.display as ipd\n",
    "import numpy as np\n",
    "import pandas as pd"
   ]
  },
  {
   "cell_type": "code",
   "execution_count": 4,
   "metadata": {},
   "outputs": [],
   "source": [
    "tracks = pd.read_csv('../data/fma_metadata/tracks.csv')\n",
    "genres = pd.read_csv('../data/fma_metadata/genres.csv')\n",
    "features = pd.read_csv('../data/fma_metadata/features.csv')\n",
    "echonest = pd.read_csv('../data/fma_metadata/echonest.csv')"
   ]
  },
  {
   "cell_type": "code",
   "execution_count": 5,
   "metadata": {
    "tags": []
   },
   "outputs": [
    {
     "output_type": "stream",
     "name": "stdout",
     "text": "(106576, 53) (163, 5) (106577, 519) (13132, 250)\n"
    }
   ],
   "source": [
    "print(tracks.shape, genres.shape, features.shape, echonest.shape)"
   ]
  },
  {
   "cell_type": "code",
   "execution_count": null,
   "metadata": {},
   "outputs": [],
   "source": []
  }
 ]
}