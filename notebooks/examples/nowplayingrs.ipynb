{
 "metadata": {
  "language_info": {
   "codemirror_mode": {
    "name": "ipython",
    "version": 3
   },
   "file_extension": ".py",
   "mimetype": "text/x-python",
   "name": "python",
   "nbconvert_exporter": "python",
   "pygments_lexer": "ipython3",
   "version": "3.7.3-final"
  },
  "orig_nbformat": 2,
  "kernelspec": {
   "name": "python3",
   "display_name": "Python 3"
  }
 },
 "nbformat": 4,
 "nbformat_minor": 2,
 "cells": [
  {
   "cell_type": "markdown",
   "metadata": {},
   "source": [
    "## #nowplayingrs Dataset\n",
    "\n",
    "[Dataset](https://zenodo.org/record/3247476#.XxedMXVKgWR)"
   ]
  },
  {
   "cell_type": "code",
   "execution_count": 35,
   "metadata": {
    "tags": []
   },
   "outputs": [
    {
     "output_type": "stream",
     "name": "stdout",
     "text": "NOWPLAYING-RS DATASET\n************************************\n\nThe nowplaying-rs dataset features context- and content features of listening events. It contains 11.6 million music listening events of 139K users and 346K tracks collected from Twitter. The dataset comes with a rich set of item content features and user context features, as well as timestamps of the listening events. Moreover, some of the user context features imply the cultural origin of the users, and some others - like hashtags - give clues to the emotional state of a user underlying a listening event.\n\nThe dataset contains three files:\n* user_track_hashtag_timestamp.csv contains basic information about each listening event. For each listening event, we provide an id, the user_id, track_id, hashtag, created_at\n* context_content_features.csv: contains all context and content features. For each listening event, we provide the id of the event, user_id, track_id, artist_id, content features regarding the track mentioned in the event (instrumentalness, liveness, speechiness, danceability, valence, loudness, tempo, acousticness, energy, mode, key) and context features regarding the listening event (coordinates (as geoJSON), place (as geoJSON), geo (as geoJSON), tweet_language, created_at, user_lang, time_zone contained in the tweet). \n* sentiment_values.csv contains sentiment information for hashtags. It contains the hashtag itself and the sentiment values gathered via four different sentiment\ndictionaries: AFINN, Opinion Lexicon, Sentistrength Lexicon and vader. For each of these dictionaries we list the minimum, maximum, sum and average of all\nsentiments of the tokens of the hashtag (if available, else we list empty values). However, as most hashtags only consist of a single token, these\nvalues are equal in most cases. Please note that the lexica are rather diverse and therefore, are able to resolve very different terms against a score. Hence,\nthe resulting csv is rather sparse. The file contains the following comma-separated values: <hashtag, vader_min, vader_max, vader_sum,vader_avg,  afinn_min, afinn_max,\nafinn_sum, afinn_avg, ol_min, ol_max, ol_sum, ol_avg, ss_min, ss_max, ss_sum, ss_avg >, where we abbreviate all scores gathered over the Opinion Lexicon with the\nprefix 'ol'. Similarly, 'ss' stands for SentiStrength.\n\n\nPlease note that user_track_hashtag_timestamp.csv and context_content_features.csv partly provide the same features. We deliberately chose to do so to be able to provide useable files that do not have to be matched and joined with each other to perform e.g., simple recommendation tasks.\n\nPlease find the training and test-splits for the dataset on https://dbis-nowplaying.uibk.ac.at. Also, Asmita provides prototypical implementations of a context-aware recommender system based on the dataset at https://github.com/asmitapoddar/nowplaying-RS-Music-Reco-FM.\n\n\nIf you make use of this dataset, please cite the following paper where we describe and experiment with the dataset:\n\n@inproceedings{smc18,\ntitle = {#nowplaying-RS: A New Benchmark Dataset for Building Context-Aware Music Recommender Systems},\nauthor = {Asmita Poddar and Eva Zangerle and Yi-Hsuan Yang},\nurl = {http://mac.citi.sinica.edu.tw/~yang/pub/poddar18smc.pdf},\nyear = {2018},\ndate = {2018-07-04},\nbooktitle = {Proceedings of the 15th Sound & Music Computing Conference},\naddress = {Limassol, Cyprus},\nnote = {code at https://github.com/asmitapoddar/nowplaying-RS-Music-Reco-FM},\ntppubtype = {inproceedings}\n}\n\n\ncontact: \nAsmita Poddar\nEva Zangerle\nYi-Hsuan Yang\n\n"
    }
   ],
   "source": [
    "with open('../data/nowplayingrs/README.txt', 'r') as f:\n",
    "    info = f.read()\n",
    "\n",
    "print(info)"
   ]
  },
  {
   "cell_type": "code",
   "execution_count": 1,
   "metadata": {},
   "outputs": [],
   "source": [
    "import os\n",
    "import re\n",
    "import numpy as np \n",
    "import pandas as pd \n",
    "\n",
    "pathfile = '../data/nowplayingrs/'"
   ]
  },
  {
   "cell_type": "markdown",
   "metadata": {},
   "source": [
    "## Cleaning Data"
   ]
  },
  {
   "cell_type": "code",
   "execution_count": 9,
   "metadata": {
    "tags": []
   },
   "outputs": [
    {
     "output_type": "stream",
     "name": "stdout",
     "text": "44779\n"
    }
   ],
   "source": [
    "def among_quotations(text: str): \n",
    "    expressions = re.findall(r'\".*?\"', text)\n",
    "    for exp in expressions:\n",
    "        text = text.replace(exp, '')\n",
    "    try: \n",
    "        exp = re.findall(r'(,,[0-9]*,[0-9]*)\\n',text)[0]\n",
    "        text = text.replace(exp, exp[1:])\n",
    "    except IndexError:\n",
    "        print(text)\n",
    "    return text\n",
    "\n",
    "with open(pathfile + 'context_content_features.csv', 'r') as f:\n",
    "    many = 0\n",
    "    text = ''\n",
    "    line = f.readline()\n",
    "    while line != '':\n",
    "        text = text + line\n",
    "        line = f.readline()\n",
    "        if len(line.split(',')) != 22: \n",
    "            many += 1\n",
    "            line = among_quotations(line)\n",
    "print(many)\n",
    "with open(pathfile + 'content_features_cleaned.csv', 'w') as f:\n",
    "    f.write(text)\n",
    "del text"
   ]
  },
  {
   "cell_type": "code",
   "execution_count": 25,
   "metadata": {
    "tags": []
   },
   "outputs": [],
   "source": [
    "#user_track_hashtag = pd.read_csv(pathfile + 'user_track_hashtag_timestamp.csv')\n",
    "#del user_track_hashtag\n",
    "#content_features = pd.read_csv(pathfile + 'content_features_cleaned.csv')\n",
    "chunksize = 1e5\n",
    "content_features_chunk = pd.read_csv(pathfile + 'content_features_cleaned.csv', chunksize=chunksize)\n",
    "df_features_1 = content_features_chunk.get_chunk()"
   ]
  },
  {
   "cell_type": "code",
   "execution_count": 6,
   "metadata": {
    "tags": []
   },
   "outputs": [
    {
     "output_type": "display_data",
     "data": {
      "text/plain": "Index(['coordinates', 'instrumentalness', 'liveness', 'speechiness',\n       'danceability', 'valence', 'loudness', 'tempo', 'acousticness',\n       'energy', 'mode', 'key', 'artist_id', 'place', 'geo', 'tweet_lang',\n       'track_id', 'created_at', 'lang', 'time_zone', 'user_id', 'id'],\n      dtype='object')"
     },
     "metadata": {}
    },
    {
     "output_type": "display_data",
     "data": {
      "text/plain": "(11614671, 22)"
     },
     "metadata": {}
    },
    {
     "output_type": "stream",
     "name": "stdout",
     "text": "<class 'pandas.core.frame.DataFrame'>\nRangeIndex: 11614671 entries, 0 to 11614670\nData columns (total 22 columns):\ncoordinates         float64\ninstrumentalness    float64\nliveness            float64\nspeechiness         float64\ndanceability        float64\nvalence             float64\nloudness            float64\ntempo               float64\nacousticness        float64\nenergy              float64\nmode                float64\nkey                 float64\nartist_id           object\nplace               float64\ngeo                 float64\ntweet_lang          object\ntrack_id            object\ncreated_at          object\nlang                object\ntime_zone           object\nuser_id             int64\nid                  float64\ndtypes: float64(15), int64(1), object(6)\nmemory usage: 1.9+ GB\n"
    },
    {
     "output_type": "display_data",
     "data": {
      "text/plain": "None"
     },
     "metadata": {}
    }
   ],
   "source": [
    "display(content_features.columns)\n",
    "display(content_features.shape)\n",
    "display(content_features.info())"
   ]
  },
  {
   "cell_type": "code",
   "execution_count": 22,
   "metadata": {},
   "outputs": [
    {
     "output_type": "execute_result",
     "data": {
      "text/plain": "       coordinates  instrumentalness      liveness   speechiness  \\\ncount          0.0      99988.000000  99988.000000  99982.000000   \nmean           NaN          0.100447      0.191940      0.067348   \nstd            NaN          0.243220      0.159699      0.067289   \nmin            NaN          0.000000      0.007030      0.021600   \n25%            NaN          0.000000      0.092800      0.033200   \n50%            NaN          0.000050      0.127000      0.043100   \n75%            NaN          0.011700      0.250000      0.068800   \nmax            NaN          0.996000      0.993000      0.943000   \n\n       danceability       valence       loudness          tempo  acousticness  \\\ncount  99982.000000  99978.000000  100000.000000  100000.000000  99988.000000   \nmean       0.561634      0.513645      -7.495994     123.017737      0.203126   \nstd        0.157631      0.244927       3.723678      28.347900      0.263657   \nmin        0.058200      0.017500     -60.000000       0.000000      0.000000   \n25%        0.457000      0.319000      -9.424000     101.692000      0.008498   \n50%        0.566000      0.510000      -6.650000     121.684000      0.074100   \n75%        0.674000      0.711000      -4.857000     139.962000      0.311000   \nmax        0.980000      0.991000       2.769000     244.091000      0.996000   \n\n             energy          mode           key  place  geo       user_id  \\\ncount  99988.000000  99988.000000  99988.000000    0.0  0.0  1.000000e+05   \nmean       0.685829      0.664370      5.264632    NaN  NaN  1.214549e+14   \nstd        0.211004      0.472213      3.551152    NaN  NaN  7.131042e+15   \nmin        0.000020      0.000000      0.000000    NaN  NaN  7.137130e+05   \n25%        0.547000      0.000000      2.000000    NaN  NaN  1.298655e+08   \n50%        0.724000      1.000000      5.000000    NaN  NaN  4.165121e+08   \n75%        0.855000      1.000000      8.000000    NaN  NaN  1.164556e+09   \nmax        1.000000      1.000000     11.000000    NaN  NaN  4.192578e+17   \n\n                 id  \ncount  9.997100e+04  \nmean   4.187765e+17  \nstd    2.963966e+14  \nmin    4.182438e+17  \n25%    4.185215e+17  \n50%    4.187783e+17  \n75%    4.190366e+17  \nmax    4.192814e+17  ",
      "text/html": "<div>\n<style scoped>\n    .dataframe tbody tr th:only-of-type {\n        vertical-align: middle;\n    }\n\n    .dataframe tbody tr th {\n        vertical-align: top;\n    }\n\n    .dataframe thead th {\n        text-align: right;\n    }\n</style>\n<table border=\"1\" class=\"dataframe\">\n  <thead>\n    <tr style=\"text-align: right;\">\n      <th></th>\n      <th>coordinates</th>\n      <th>instrumentalness</th>\n      <th>liveness</th>\n      <th>speechiness</th>\n      <th>danceability</th>\n      <th>valence</th>\n      <th>loudness</th>\n      <th>tempo</th>\n      <th>acousticness</th>\n      <th>energy</th>\n      <th>mode</th>\n      <th>key</th>\n      <th>place</th>\n      <th>geo</th>\n      <th>user_id</th>\n      <th>id</th>\n    </tr>\n  </thead>\n  <tbody>\n    <tr>\n      <td>count</td>\n      <td>0.0</td>\n      <td>99988.000000</td>\n      <td>99988.000000</td>\n      <td>99982.000000</td>\n      <td>99982.000000</td>\n      <td>99978.000000</td>\n      <td>100000.000000</td>\n      <td>100000.000000</td>\n      <td>99988.000000</td>\n      <td>99988.000000</td>\n      <td>99988.000000</td>\n      <td>99988.000000</td>\n      <td>0.0</td>\n      <td>0.0</td>\n      <td>1.000000e+05</td>\n      <td>9.997100e+04</td>\n    </tr>\n    <tr>\n      <td>mean</td>\n      <td>NaN</td>\n      <td>0.100447</td>\n      <td>0.191940</td>\n      <td>0.067348</td>\n      <td>0.561634</td>\n      <td>0.513645</td>\n      <td>-7.495994</td>\n      <td>123.017737</td>\n      <td>0.203126</td>\n      <td>0.685829</td>\n      <td>0.664370</td>\n      <td>5.264632</td>\n      <td>NaN</td>\n      <td>NaN</td>\n      <td>1.214549e+14</td>\n      <td>4.187765e+17</td>\n    </tr>\n    <tr>\n      <td>std</td>\n      <td>NaN</td>\n      <td>0.243220</td>\n      <td>0.159699</td>\n      <td>0.067289</td>\n      <td>0.157631</td>\n      <td>0.244927</td>\n      <td>3.723678</td>\n      <td>28.347900</td>\n      <td>0.263657</td>\n      <td>0.211004</td>\n      <td>0.472213</td>\n      <td>3.551152</td>\n      <td>NaN</td>\n      <td>NaN</td>\n      <td>7.131042e+15</td>\n      <td>2.963966e+14</td>\n    </tr>\n    <tr>\n      <td>min</td>\n      <td>NaN</td>\n      <td>0.000000</td>\n      <td>0.007030</td>\n      <td>0.021600</td>\n      <td>0.058200</td>\n      <td>0.017500</td>\n      <td>-60.000000</td>\n      <td>0.000000</td>\n      <td>0.000000</td>\n      <td>0.000020</td>\n      <td>0.000000</td>\n      <td>0.000000</td>\n      <td>NaN</td>\n      <td>NaN</td>\n      <td>7.137130e+05</td>\n      <td>4.182438e+17</td>\n    </tr>\n    <tr>\n      <td>25%</td>\n      <td>NaN</td>\n      <td>0.000000</td>\n      <td>0.092800</td>\n      <td>0.033200</td>\n      <td>0.457000</td>\n      <td>0.319000</td>\n      <td>-9.424000</td>\n      <td>101.692000</td>\n      <td>0.008498</td>\n      <td>0.547000</td>\n      <td>0.000000</td>\n      <td>2.000000</td>\n      <td>NaN</td>\n      <td>NaN</td>\n      <td>1.298655e+08</td>\n      <td>4.185215e+17</td>\n    </tr>\n    <tr>\n      <td>50%</td>\n      <td>NaN</td>\n      <td>0.000050</td>\n      <td>0.127000</td>\n      <td>0.043100</td>\n      <td>0.566000</td>\n      <td>0.510000</td>\n      <td>-6.650000</td>\n      <td>121.684000</td>\n      <td>0.074100</td>\n      <td>0.724000</td>\n      <td>1.000000</td>\n      <td>5.000000</td>\n      <td>NaN</td>\n      <td>NaN</td>\n      <td>4.165121e+08</td>\n      <td>4.187783e+17</td>\n    </tr>\n    <tr>\n      <td>75%</td>\n      <td>NaN</td>\n      <td>0.011700</td>\n      <td>0.250000</td>\n      <td>0.068800</td>\n      <td>0.674000</td>\n      <td>0.711000</td>\n      <td>-4.857000</td>\n      <td>139.962000</td>\n      <td>0.311000</td>\n      <td>0.855000</td>\n      <td>1.000000</td>\n      <td>8.000000</td>\n      <td>NaN</td>\n      <td>NaN</td>\n      <td>1.164556e+09</td>\n      <td>4.190366e+17</td>\n    </tr>\n    <tr>\n      <td>max</td>\n      <td>NaN</td>\n      <td>0.996000</td>\n      <td>0.993000</td>\n      <td>0.943000</td>\n      <td>0.980000</td>\n      <td>0.991000</td>\n      <td>2.769000</td>\n      <td>244.091000</td>\n      <td>0.996000</td>\n      <td>1.000000</td>\n      <td>1.000000</td>\n      <td>11.000000</td>\n      <td>NaN</td>\n      <td>NaN</td>\n      <td>4.192578e+17</td>\n      <td>4.192814e+17</td>\n    </tr>\n  </tbody>\n</table>\n</div>"
     },
     "metadata": {},
     "execution_count": 22
    }
   ],
   "source": [
    "df_features_1.describe()"
   ]
  },
  {
   "cell_type": "code",
   "execution_count": 37,
   "metadata": {},
   "outputs": [
    {
     "output_type": "execute_result",
     "data": {
      "text/plain": "                                    hashtag   vader_min   vader_max  \\\ngreatmusic             0.8 0.8 2.4      0.8         1.0         1.0   \nagainbecauseitissogood 0.7 0.7 0.7      0.7         1.0         1.0   \ndamngoodsong           0.3 0.7 1.6      0.4         1.0         1.0   \nnotbad                 0.3 0.3 0.3      0.3         0.0         0.0   \nsobadthathesoundsgood  0.3 0.7 1.0      0.5         0.0         1.0   \n...                                     ...         ...         ...   \nbad                    0.3 0.3 0.9      0.3         0.0         0.0   \nfeelsogood             0.7 0.7 0.7      0.7         1.0         1.0   \ngoodmornin             0.7 0.7 0.7      0.7         1.0         1.0   \nbadmotorfinger         0.3 0.3 0.3      0.3         0.0         0.0   \nverynicemusic          0.7 0.7 0.7      0.7         1.0         1.0   \n\n                                     vader_sum  vader_avg    afinn_min  \\\ngreatmusic             0.8 0.8 2.4         1.0        1.0       0.8875   \nagainbecauseitissogood 0.7 0.7 0.7         1.0        1.0       0.7375   \ndamngoodsong           0.3 0.7 1.6         1.0        1.0       0.2875   \nnotbad                 0.3 0.3 0.3         0.0        0.0       0.1875   \nsobadthathesoundsgood  0.3 0.7 1.0         1.0        0.5       0.1875   \n...                                        ...        ...          ...   \nbad                    0.3 0.3 0.9         0.0        0.0       0.1875   \nfeelsogood             0.7 0.7 0.7         1.0        1.0       0.7375   \ngoodmornin             0.7 0.7 0.7         1.0        1.0       0.7375   \nbadmotorfinger         0.3 0.3 0.3         0.0        0.0       0.1875   \nverynicemusic          0.7 0.7 0.7         1.0        1.0       0.7250   \n\n                                     afinn_max   afinn_sum   afinn_avg  \\\ngreatmusic             0.8 0.8 2.4      0.8875      0.8875      0.8875   \nagainbecauseitissogood 0.7 0.7 0.7      0.7375      0.7375      0.7375   \ndamngoodsong           0.3 0.7 1.6      0.7375      1.0250      0.5125   \nnotbad                 0.3 0.3 0.3      0.1875      0.1875      0.1875   \nsobadthathesoundsgood  0.3 0.7 1.0      0.7375      0.9250      0.4625   \n...                                        ...         ...         ...   \nbad                    0.3 0.3 0.9      0.1875      0.5625      0.1875   \nfeelsogood             0.7 0.7 0.7      0.7375      0.7375      0.7375   \ngoodmornin             0.7 0.7 0.7      0.7375      0.7375      0.7375   \nbadmotorfinger         0.3 0.3 0.3      0.1875      0.1875      0.1875   \nverynicemusic          0.7 0.7 0.7      0.7250      0.7250      0.7250   \n\n                                     ol_min   ol_max   ol_sum   ol_avg  \\\ngreatmusic             0.8 0.8 2.4      1.0      1.0      1.0      1.0   \nagainbecauseitissogood 0.7 0.7 0.7      1.0      1.0      1.0      1.0   \ndamngoodsong           0.3 0.7 1.6      0.0      1.0      1.0      0.5   \nnotbad                 0.3 0.3 0.3      0.0      0.0      0.0      0.0   \nsobadthathesoundsgood  0.3 0.7 1.0      0.0      1.0      1.0      0.5   \n...                                     ...      ...      ...      ...   \nbad                    0.3 0.3 0.9      0.0      0.0      0.0      0.0   \nfeelsogood             0.7 0.7 0.7      1.0      1.0      1.0      1.0   \ngoodmornin             0.7 0.7 0.7      1.0      1.0      1.0      1.0   \nbadmotorfinger         0.3 0.3 0.3      0.0      0.0      0.0      0.0   \nverynicemusic          0.7 0.7 0.7      1.0      1.0      1.0      1.0   \n\n                                     ss_min   ss_max   ss_sum   ss_avg  \ngreatmusic             0.8 0.8 2.4      0.8      0.8      0.8     0.80  \nagainbecauseitissogood 0.7 0.7 0.7      0.8      0.8      0.8     0.80  \ndamngoodsong           0.3 0.7 1.6      0.1      0.8      0.9     0.45  \nnotbad                 0.3 0.3 0.3      0.2      0.2      0.2     0.20  \nsobadthathesoundsgood  0.3 0.7 1.0      0.2      0.8      1.0     0.50  \n...                                     ...      ...      ...      ...  \nbad                    0.3 0.3 0.9      0.2      0.2      0.6     0.20  \nfeelsogood             0.7 0.7 0.7      0.8      0.8      0.8     0.80  \ngoodmornin             0.7 0.7 0.7      0.8      0.8      0.8     0.80  \nbadmotorfinger         0.3 0.3 0.3      0.2      0.2      0.2     0.20  \nverynicemusic          0.7 0.7 0.7      0.8      0.8      0.8     0.80  \n\n[239 rows x 17 columns]",
      "text/html": "<div>\n<style scoped>\n    .dataframe tbody tr th:only-of-type {\n        vertical-align: middle;\n    }\n\n    .dataframe tbody tr th {\n        vertical-align: top;\n    }\n\n    .dataframe thead th {\n        text-align: right;\n    }\n</style>\n<table border=\"1\" class=\"dataframe\">\n  <thead>\n    <tr style=\"text-align: right;\">\n      <th></th>\n      <th></th>\n      <th></th>\n      <th></th>\n      <th>hashtag</th>\n      <th>vader_min</th>\n      <th>vader_max</th>\n      <th>vader_sum</th>\n      <th>vader_avg</th>\n      <th>afinn_min</th>\n      <th>afinn_max</th>\n      <th>afinn_sum</th>\n      <th>afinn_avg</th>\n      <th>ol_min</th>\n      <th>ol_max</th>\n      <th>ol_sum</th>\n      <th>ol_avg</th>\n      <th>ss_min</th>\n      <th>ss_max</th>\n      <th>ss_sum</th>\n      <th>ss_avg</th>\n    </tr>\n  </thead>\n  <tbody>\n    <tr>\n      <td>greatmusic</td>\n      <td>0.8</td>\n      <td>0.8</td>\n      <td>2.4</td>\n      <td>0.8</td>\n      <td>1.0</td>\n      <td>1.0</td>\n      <td>1.0</td>\n      <td>1.0</td>\n      <td>0.8875</td>\n      <td>0.8875</td>\n      <td>0.8875</td>\n      <td>0.8875</td>\n      <td>1.0</td>\n      <td>1.0</td>\n      <td>1.0</td>\n      <td>1.0</td>\n      <td>0.8</td>\n      <td>0.8</td>\n      <td>0.8</td>\n      <td>0.80</td>\n    </tr>\n    <tr>\n      <td>againbecauseitissogood</td>\n      <td>0.7</td>\n      <td>0.7</td>\n      <td>0.7</td>\n      <td>0.7</td>\n      <td>1.0</td>\n      <td>1.0</td>\n      <td>1.0</td>\n      <td>1.0</td>\n      <td>0.7375</td>\n      <td>0.7375</td>\n      <td>0.7375</td>\n      <td>0.7375</td>\n      <td>1.0</td>\n      <td>1.0</td>\n      <td>1.0</td>\n      <td>1.0</td>\n      <td>0.8</td>\n      <td>0.8</td>\n      <td>0.8</td>\n      <td>0.80</td>\n    </tr>\n    <tr>\n      <td>damngoodsong</td>\n      <td>0.3</td>\n      <td>0.7</td>\n      <td>1.6</td>\n      <td>0.4</td>\n      <td>1.0</td>\n      <td>1.0</td>\n      <td>1.0</td>\n      <td>1.0</td>\n      <td>0.2875</td>\n      <td>0.7375</td>\n      <td>1.0250</td>\n      <td>0.5125</td>\n      <td>0.0</td>\n      <td>1.0</td>\n      <td>1.0</td>\n      <td>0.5</td>\n      <td>0.1</td>\n      <td>0.8</td>\n      <td>0.9</td>\n      <td>0.45</td>\n    </tr>\n    <tr>\n      <td>notbad</td>\n      <td>0.3</td>\n      <td>0.3</td>\n      <td>0.3</td>\n      <td>0.3</td>\n      <td>0.0</td>\n      <td>0.0</td>\n      <td>0.0</td>\n      <td>0.0</td>\n      <td>0.1875</td>\n      <td>0.1875</td>\n      <td>0.1875</td>\n      <td>0.1875</td>\n      <td>0.0</td>\n      <td>0.0</td>\n      <td>0.0</td>\n      <td>0.0</td>\n      <td>0.2</td>\n      <td>0.2</td>\n      <td>0.2</td>\n      <td>0.20</td>\n    </tr>\n    <tr>\n      <td>sobadthathesoundsgood</td>\n      <td>0.3</td>\n      <td>0.7</td>\n      <td>1.0</td>\n      <td>0.5</td>\n      <td>0.0</td>\n      <td>1.0</td>\n      <td>1.0</td>\n      <td>0.5</td>\n      <td>0.1875</td>\n      <td>0.7375</td>\n      <td>0.9250</td>\n      <td>0.4625</td>\n      <td>0.0</td>\n      <td>1.0</td>\n      <td>1.0</td>\n      <td>0.5</td>\n      <td>0.2</td>\n      <td>0.8</td>\n      <td>1.0</td>\n      <td>0.50</td>\n    </tr>\n    <tr>\n      <td>...</td>\n      <td>...</td>\n      <td>...</td>\n      <td>...</td>\n      <td>...</td>\n      <td>...</td>\n      <td>...</td>\n      <td>...</td>\n      <td>...</td>\n      <td>...</td>\n      <td>...</td>\n      <td>...</td>\n      <td>...</td>\n      <td>...</td>\n      <td>...</td>\n      <td>...</td>\n      <td>...</td>\n      <td>...</td>\n      <td>...</td>\n      <td>...</td>\n      <td>...</td>\n    </tr>\n    <tr>\n      <td>bad</td>\n      <td>0.3</td>\n      <td>0.3</td>\n      <td>0.9</td>\n      <td>0.3</td>\n      <td>0.0</td>\n      <td>0.0</td>\n      <td>0.0</td>\n      <td>0.0</td>\n      <td>0.1875</td>\n      <td>0.1875</td>\n      <td>0.5625</td>\n      <td>0.1875</td>\n      <td>0.0</td>\n      <td>0.0</td>\n      <td>0.0</td>\n      <td>0.0</td>\n      <td>0.2</td>\n      <td>0.2</td>\n      <td>0.6</td>\n      <td>0.20</td>\n    </tr>\n    <tr>\n      <td>feelsogood</td>\n      <td>0.7</td>\n      <td>0.7</td>\n      <td>0.7</td>\n      <td>0.7</td>\n      <td>1.0</td>\n      <td>1.0</td>\n      <td>1.0</td>\n      <td>1.0</td>\n      <td>0.7375</td>\n      <td>0.7375</td>\n      <td>0.7375</td>\n      <td>0.7375</td>\n      <td>1.0</td>\n      <td>1.0</td>\n      <td>1.0</td>\n      <td>1.0</td>\n      <td>0.8</td>\n      <td>0.8</td>\n      <td>0.8</td>\n      <td>0.80</td>\n    </tr>\n    <tr>\n      <td>goodmornin</td>\n      <td>0.7</td>\n      <td>0.7</td>\n      <td>0.7</td>\n      <td>0.7</td>\n      <td>1.0</td>\n      <td>1.0</td>\n      <td>1.0</td>\n      <td>1.0</td>\n      <td>0.7375</td>\n      <td>0.7375</td>\n      <td>0.7375</td>\n      <td>0.7375</td>\n      <td>1.0</td>\n      <td>1.0</td>\n      <td>1.0</td>\n      <td>1.0</td>\n      <td>0.8</td>\n      <td>0.8</td>\n      <td>0.8</td>\n      <td>0.80</td>\n    </tr>\n    <tr>\n      <td>badmotorfinger</td>\n      <td>0.3</td>\n      <td>0.3</td>\n      <td>0.3</td>\n      <td>0.3</td>\n      <td>0.0</td>\n      <td>0.0</td>\n      <td>0.0</td>\n      <td>0.0</td>\n      <td>0.1875</td>\n      <td>0.1875</td>\n      <td>0.1875</td>\n      <td>0.1875</td>\n      <td>0.0</td>\n      <td>0.0</td>\n      <td>0.0</td>\n      <td>0.0</td>\n      <td>0.2</td>\n      <td>0.2</td>\n      <td>0.2</td>\n      <td>0.20</td>\n    </tr>\n    <tr>\n      <td>verynicemusic</td>\n      <td>0.7</td>\n      <td>0.7</td>\n      <td>0.7</td>\n      <td>0.7</td>\n      <td>1.0</td>\n      <td>1.0</td>\n      <td>1.0</td>\n      <td>1.0</td>\n      <td>0.7250</td>\n      <td>0.7250</td>\n      <td>0.7250</td>\n      <td>0.7250</td>\n      <td>1.0</td>\n      <td>1.0</td>\n      <td>1.0</td>\n      <td>1.0</td>\n      <td>0.8</td>\n      <td>0.8</td>\n      <td>0.8</td>\n      <td>0.80</td>\n    </tr>\n  </tbody>\n</table>\n<p>239 rows × 17 columns</p>\n</div>"
     },
     "metadata": {},
     "execution_count": 37
    }
   ],
   "source": [
    "df_sentimnets = pd.read_csv(pathfile + 'sentiment_values.csv')\n",
    "df_sentimnets.dropna(axis = 0)"
   ]
  },
  {
   "cell_type": "code",
   "execution_count": null,
   "metadata": {},
   "outputs": [],
   "source": []
  }
 ]
}