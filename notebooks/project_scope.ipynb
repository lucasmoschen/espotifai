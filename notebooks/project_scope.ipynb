{
 "cells": [
  {
   "cell_type": "markdown",
   "metadata": {},
   "source": [
    "# Scope of Work and Preliminary EDA\n",
    "\n",
    "## [Espotifai](https://github.com/lucasresck/espotifai): an Automatic Playlist Recommender\n",
    "\n",
    "### Group: \n",
    "\n",
    "- Lucas Emanuel Resck Domingues\n",
    "- Lucas Machado Moschen\n",
    "\n",
    "School of Applied Mathematics, Getulio Vargas Foundation.\n",
    "\n",
    "### Project Statement\n",
    "\n",
    "**Question:** Which song should we recommend based on a playlist and user/context information?\n",
    "\n",
    "We can define playlist as a sequence of tracks (audio recordings). In this project we aim to study the playlist generation problem, that is, given a pool of tracks, a background knowledge about the user, and some metadata of songs and playlists, the goal is to create a sequence of tracks that satisfies some target as best as possible.\n",
    "\n",
    "### Preliminary EDA \n",
    "\n",
    "1. Inspect the available datasets:\n",
    "\n",
    "    The main dataset for this especific work should be The Million Playlist Dataset from RecSys Challenge 2018, but it's unavailable. So we searched for another datasets and API's in order to get data. If we have to use API, we will clean and treat the data.\n",
    "    \n",
    "    The options are:\n",
    "    \n",
    "    - Spotify API with SpotiPy library to create a dataset;\n",
    "    - Last.fm API to create dataset;\n",
    "    - [Million Song Dataset](http://millionsongdataset.com/) (subset with 10 thousand songs);\n",
    "    - [NowPlaying](https://dbis.uibk.ac.at/node/263): Dataset obtained with information from Twitter, when a tweet is tagged with #nowplaying, #listento or #listeningto.\n",
    "    - [Million Playlist Song Dataset](https://github.com/felipevieira/computacao-e-musica-lsd/blob/master/sbcm-2017/Datasets/MPSD%20v1.0.csv) (Subset with 10 thousand songs);\n",
    "    - [FMA: A Dataset For Music Analysis Data Set](https://github.com/mdeff/fma);\n",
    "    - Others datasets.\n",
    "    \n",
    "    \n",
    "2. Analyse the available features of the datasets and how it can help us to solve our question.\n",
    "\n",
    "    We imagine some interesting features that can help us in this work:\n",
    "    - Music genre;\n",
    "    - Location;\n",
    "    - Time of the day;\n",
    "    - etc.\n",
    "    \n",
    "\n",
    "3. Calculate some statistics about data.\n",
    "\n",
    "    - Percentage of listened genres;\n",
    "    - Percentage of genders;\n",
    "    - Percentege of countrys;\n",
    "    - Count of missing data;\n",
    "    - Distribution of artists auditions.\n",
    "    - etc.\n",
    "    \n",
    "\n",
    "4. Explore visually the influence of some categorical and quantitative variables on the features of the audios. For example:\n",
    "\n",
    "    - How age influences the musical genres heard? \n",
    "    - How the country influences it? \n",
    "    - How gender affects it? \n",
    "    - etc."
   ]
  },
  {
   "cell_type": "code",
   "execution_count": null,
   "metadata": {},
   "outputs": [],
   "source": []
  }
 ],
 "metadata": {
  "kernelspec": {
   "display_name": "Python 3",
   "language": "python",
   "name": "python3"
  },
  "language_info": {
   "codemirror_mode": {
    "name": "ipython",
    "version": 3
   },
   "file_extension": ".py",
   "mimetype": "text/x-python",
   "name": "python",
   "nbconvert_exporter": "python",
   "pygments_lexer": "ipython3",
   "version": "3.8.3"
  }
 },
 "nbformat": 4,
 "nbformat_minor": 2
}
