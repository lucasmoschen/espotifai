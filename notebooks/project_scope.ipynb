{
 "metadata": {
  "language_info": {
   "codemirror_mode": {
    "name": "ipython",
    "version": 3
   },
   "file_extension": ".py",
   "mimetype": "text/x-python",
   "name": "python",
   "nbconvert_exporter": "python",
   "pygments_lexer": "ipython3",
   "version": 3
  },
  "orig_nbformat": 2
 },
 "nbformat": 4,
 "nbformat_minor": 2,
 "cells": [
  {
   "cell_type": "markdown",
   "metadata": {},
   "source": [
    "# Scope of the work and Preliminary EDA\n",
    "\n",
    "## Automatic Playlist Recommender\n",
    "\n",
    "## Group: \n",
    "\n",
    "- Lucas Emanuel Resck Domingues\n",
    "- Lucas Machado Moschen\n",
    "\n",
    "## Project Statement\n",
    "\n",
    "**Question:** Which playlist should we recommend based on an individual and his/her listening behaviours? \n",
    "\n",
    "We can define playlist as a sequence of tracks (audio recordings) (REFERENCE). In this project we aim to study the playlist generation problem, that is, given a pool of tracks, a background knowledge about the user, and some metadata of songs and playlists,the goal is to create a sequence of tracks that satisfies some target as best as possible.\n",
    "\n",
    "## Preliminary EDA \n",
    "\n",
    "1. Inspect the available dataset:\n",
    "\n",
    "- Million Song Dataset (Subset with 10 thousand songs)\n",
    "\n",
    "- Spotify API with Spotipy\n",
    "\n",
    "- NowPlaying: Dataset obtained with information from Twitter, when a tweet is tagged with #nowplaying, #listento or #listeningto. \n",
    "\n",
    "- Last.fm API: Playslist made by users, track information and user information\n",
    "\n",
    "2. Analyse the available features of the datasets and how it can help us to solve our question. \n",
    "\n",
    "3. Explore visually the influence of some categorical and quantitative variables on the features of the audios. For example: \n",
    "\n",
    "- How age influences the musical genres heard? \n",
    "- How the country influences it? \n",
    "- How genre affects it? \n",
    "- etc. \n",
    "\n",
    "\n",
    "# TO DO\n",
    "\n",
    "Como vamos separar essas tarefas para que não tropecemos no trabalho um do outro? Divide and Conquer kk "
   ]
  },
  {
   "cell_type": "code",
   "execution_count": null,
   "metadata": {},
   "outputs": [],
   "source": []
  }
 ]
}