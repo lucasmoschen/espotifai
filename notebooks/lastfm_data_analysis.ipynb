{
 "cells": [
  {
   "cell_type": "markdown",
   "metadata": {},
   "source": [
    "# Last.fm Dataset\n",
    "\n",
    "## Data Analysis based on the retrivied data. \n",
    "\n",
    "Based on the Last.fm API and with help of the pylast package, I got information about user, artists, tracks and tags. The code to generate the users and to get the data from the website are in ```scripts```. The data used here is generated in the Notebook ```last_api.ipynb```. In these scripts and notebook I used the the pyLast library, because it was built to connect with the Last.fm API. \n",
    "\n",
    "To generate a list of usernames, I visited the Last.fm webpage of several artists. But I considered three users randomly in the top listenings from three different coutries: Brazil, USA and United Kingdom. Using just this username, I generated additional Last.fm usernames using the user.getFriends method. With some loops, we can get the network (or part of it). It's possible to have some bias unknown yet.  "
   ]
  },
  {
   "cell_type": "code",
   "execution_count": 1,
   "metadata": {},
   "outputs": [],
   "source": [
    "import pandas as pd \n",
    "import numpy as np \n",
    "import pylast\n",
    "\n",
    "import os \n",
    "import json \n",
    "\n",
    "import matplotlib.pyplot as plt \n",
    "from matplotlib import ticker\n",
    "import seaborn as sns \n",
    "sns.set()\n",
    "\n",
    "from datetime import datetime"
   ]
  },
  {
   "cell_type": "markdown",
   "metadata": {},
   "source": [
    "## Getting the generated data\n",
    "\n",
    "The Last FM takes one song per time and it takes roughly 15s to retrive all information I wanted. Fot the tags and artists it requires less time. In this sense, I got only a subset of each object considered, cause I want only to undestand the data and it's behaviour. As I generated the users randomly, it's expected not to interfeer so much on the analysis. \n",
    "\n",
    "The Last.fm dataset won't be the main because of this initial problem of getting the data, but it's good to get some information I'll list below. \n",
    "\n",
    "The considered datasets are: \n",
    "\n",
    "- **Users**: information like gender, when he/her has registered, country, top artists, top tracks, etc. \n",
    "- **Tracks**: information about reaching, playcounts, similar tracks, top tags, etc. \n",
    "- **Artists**: information about number of listeners, top tracks, top albums, etc.\n",
    "- **Tags**: information about registration, taggings, reaching, etc. This tags is done by user. "
   ]
  },
  {
   "cell_type": "code",
   "execution_count": 2,
   "metadata": {},
   "outputs": [],
   "source": [
    "FOLDER_PATH = '../data/lastfm-api/'\n",
    "\n",
    "user_info_path = FOLDER_PATH + '1k_users_info_lastfm.json'\n",
    "track_info_path = FOLDER_PATH + 'tracks_lastfm_info.json'\n",
    "artist_info_path = FOLDER_PATH + 'artists_lastfm_info.json'\n",
    "tag_info_path = FOLDER_PATH + 'tags_lastfm_info.json'\n",
    "\n",
    "def get_random_users(filepath: str, quantity: int = 1000, random_state: int = 200) -> pd.DataFrame:\n",
    "    \n",
    "    users = pd.read_csv(filepath, index_col='user_id')\n",
    "    chosen_users = users.sample(n = quantity, replace = False, random_state = random_state, axis = 'index')\n",
    "    chosen_users.index = list(range(0,len(chosen_users)))\n",
    "\n",
    "    return chosen_users\n",
    "\n",
    "users_df = pd.read_csv(FOLDER_PATH + 'users_lastfm.csv', index_col='user_id')\n",
    "track_df = pd.read_csv(FOLDER_PATH + 'tracks.csv', sep = '\\t', index_col='track_id')\n",
    "artist_df = pd.read_csv(FOLDER_PATH + 'artists.csv', sep = '\\t', index_col='artist_id')\n",
    "tag_df = pd.read_csv(FOLDER_PATH + 'tags.csv', sep = '\\t', index_col='tag_id')"
   ]
  },
  {
   "cell_type": "markdown",
   "metadata": {},
   "source": [
    "I import all the informations in dictionaries and considered the missing ones."
   ]
  },
  {
   "cell_type": "code",
   "execution_count": 3,
   "metadata": {
    "tags": []
   },
   "outputs": [
    {
     "name": "stdout",
     "output_type": "stream",
     "text": [
      "Number of users: 1000\n",
      "Number of users with no information: 1\n",
      "Number of tracks: 9902\n",
      "Number of tracks with no information: 311\n",
      "Number of artists: 1055\n",
      "Number of artists with no information: 0\n",
      "Number of tags: 1843\n",
      "Number of tags with no information: 4\n"
     ]
    }
   ],
   "source": [
    "with open(user_info_path, 'r') as f:\n",
    "    users_info = json.load(f)\n",
    "with open(track_info_path, 'r') as f: \n",
    "    tracks_info = json.load(f)\n",
    "with open(artist_info_path, 'r') as f:\n",
    "    artists_info = json.load(f)\n",
    "with open(tag_info_path, 'r') as f: \n",
    "    tags_info = json.load(f)    \n",
    "\n",
    "for key, value in {'users': users_info, 'tracks': tracks_info, 'artists': artists_info, 'tags': tags_info}.items(): \n",
    "    print(\"Number of {}: {}\".format(key, len(value)))\n",
    "    print(\"Number of {} with no information: {}\".format(key, \n",
    "          len({key for key in value.keys() if len(value[key]) == 0})))"
   ]
  },
  {
   "cell_type": "markdown",
   "metadata": {},
   "source": [
    "## User Dataset"
   ]
  },
  {
   "cell_type": "code",
   "execution_count": 4,
   "metadata": {
    "tags": []
   },
   "outputs": [],
   "source": [
    "info = []\n",
    "\n",
    "for key in users_info.keys():\n",
    "    if len(users_info[key]) == 0:\n",
    "        info.append([])\n",
    "        continue\n",
    "    c = users_info[key]['country'] \n",
    "    a = users_info[key]['age']\n",
    "    s = users_info[key]['subscriber']\n",
    "    r = users_info[key]['registered_since']\n",
    "    r = datetime.utcfromtimestamp(int(r))\n",
    "    g = users_info[key]['gender']\n",
    "    p = users_info[key]['playlists']\n",
    "    pl = users_info[key]['playcount']\n",
    "\n",
    "    info.append([int(key), c, a, s, r, g, p, pl])\n",
    "\n",
    "info_df = pd.DataFrame(info, columns = ['user_id','country', 'age', 'subscriber', \n",
    "                                        'registered_since', 'gender', 'playlists', 'playcount'])\n",
    "\n",
    "users_complete_df = users_df.merge(info_df, on = 'user_id')\n",
    "users_complete_df.playcount = users_complete_df.playcount.astype(int)"
   ]
  },
  {
   "cell_type": "code",
   "execution_count": 5,
   "metadata": {},
   "outputs": [
    {
     "name": "stdout",
     "output_type": "stream",
     "text": [
      "The information are: \n",
      "\n",
      "name\n",
      "subscriber\n",
      "playcount\n",
      "registered_since\n",
      "country\n",
      "age\n",
      "playlists\n",
      "gender\n",
      "loved_tracks\n",
      "recent_tracks\n",
      "top_tracks\n",
      "top_tags\n",
      "top_albums\n",
      "top_artists\n"
     ]
    }
   ],
   "source": [
    "print('The information are: \\n')\n",
    "for i in users_info['22330'].keys():\n",
    "    print(i)"
   ]
  },
  {
   "cell_type": "markdown",
   "metadata": {},
   "source": [
    "I observe all the users considered don't insert age information neither gender. Create playlists in Last.fm is not a common thing too! I get the unique values in the three columns"
   ]
  },
  {
   "cell_type": "code",
   "execution_count": 6,
   "metadata": {
    "tags": []
   },
   "outputs": [
    {
     "name": "stdout",
     "output_type": "stream",
     "text": [
      "Number of playlists: ['0']\n",
      "Genders from the users: ['n']\n",
      "Age from the users: [0.]\n"
     ]
    }
   ],
   "source": [
    "print('Number of playlists: {}'.format(users_complete_df['playlists'].unique()))\n",
    "print('Genders from the users: {}'.format(users_complete_df['gender'].unique()))\n",
    "print('Age from the users: {}'.format(users_complete_df['age'].unique()))"
   ]
  },
  {
   "cell_type": "markdown",
   "metadata": {},
   "source": [
    "How many subscribers and how is the refistration distribution? "
   ]
  },
  {
   "cell_type": "code",
   "execution_count": 11,
   "metadata": {},
   "outputs": [
    {
     "data": {
      "image/png": "[encoded data removed]",
      "text/plain": [
       "<Figure size 1728x432 with 3 Axes>"
      ]
     },
     "metadata": {
      "needs_background": "light"
     },
     "output_type": "display_data"
    }
   ],
   "source": [
    "fig, ax = plt.subplots(1, 3, figsize = (24,6))\n",
    "ax[2].pie(users_complete_df['subscriber'].value_counts(), labels = ['No', 'Yes'], labeldistance = None,\n",
    "       autopct='%1.1f%%', textprops = {'fontsize': 15})\n",
    "ax[2].set_title('Is subscriber?', fontsize = 15)\n",
    "ax[2].legend()\n",
    "\n",
    "years = [date.year for date in users_complete_df.registered_since]\n",
    "months = [date.month for date in users_complete_df.registered_since]\n",
    "\n",
    "sns.distplot(years, kde = False, bins = max(years) - min(years) + 1, norm_hist = True, ax = ax[0])\n",
    "ax[0].set_title('Year', fontsize = 15)\n",
    "sns.distplot(months, kde = False, bins = 12, norm_hist = True, ax = ax[1])\n",
    "ax[1].set_title('Month', fontsize = 15)\n",
    "ax[1].xaxis.set_major_locator(ticker.FixedLocator([1,2,3,4,5,6,7,8,9,10,11,12]))\n",
    "ax[1].xaxis.set_major_formatter(ticker.FixedFormatter(['Jan', 'Feb', 'Mar', 'Apr', 'May', 'Jun', \n",
    "                                                       'Jul', 'Aug', 'Sep', 'Oct', 'Nov', 'Dec']))\n",
    "fig.suptitle('When did the users register?', fontsize = 20)\n",
    "\n",
    "fig.savefig('../images/subscriber-registration.png')\n",
    "plt.show()"
   ]
  },
  {
   "cell_type": "markdown",
   "metadata": {},
   "source": [
    "In the following graphics: \n",
    "\n",
    "- For each $x \\mapsto f(x)$ if $x$ people have listened to more than $f(x)$ tracks!"
   ]
  },
  {
   "cell_type": "code",
   "execution_count": 9,
   "metadata": {},
   "outputs": [
    {
     "data": {
      "image/png": "[encoded data removed]",
      "text/plain": [
       "<Figure size 648x360 with 1 Axes>"
      ]
     },
     "metadata": {
      "needs_background": "light"
     },
     "output_type": "display_data"
    }
   ],
   "source": [
    "fig, ax = plt.subplots(figsize = (9,5))\n",
    "ax.set(xscale = 'log', yscale = 'log', xlim = (1,1000), ylim = (1, 6000000))\n",
    "sns.scatterplot(x = range(1, len(users_complete_df)+1), \n",
    "                y = users_complete_df.playcount.sort_values(ascending = False), s = 20, color = 'black')\n",
    "ax.set_title('Playcounts', fontsize = 14)\n",
    "ax.set_xlabel('number of people')\n",
    "plt.show()"
   ]
  },
  {
   "cell_type": "markdown",
   "metadata": {},
   "source": [
    "We can see the distribution of the countries in the sample. Brazil, USA and United Kingdom has clear advantage. "
   ]
  },
  {
   "cell_type": "code",
   "execution_count": 10,
   "metadata": {},
   "outputs": [
    {
     "data": {
      "image/png": "[encoded data removed]",
      "text/plain": [
       "<Figure size 1224x288 with 1 Axes>"
      ]
     },
     "metadata": {
      "needs_background": "light"
     },
     "output_type": "display_data"
    }
   ],
   "source": [
    "fig, ax = plt.subplots(figsize = (17,4))\n",
    "countries_df = users_complete_df.country.value_counts(True)[users_complete_df.country.value_counts().values > 2] \n",
    "sns.barplot(x = countries_df.index, \n",
    "            y = countries_df.values, \n",
    "            ax = ax)\n",
    "ax.set_xticklabels(labels = ax.get_xticklabels(), rotation = 60)\n",
    "ax.set_title('Users Countries', fontsize = 20)\n",
    "ax.set_xlabel('Countries')\n",
    "plt.show()"
   ]
  },
  {
   "cell_type": "markdown",
   "metadata": {},
   "source": [
    "### Information of loved and top items\n",
    "\n",
    "I separate the data from loved tracks for each user and I consider top tracks, artists and tags. The last three have an associated weight (counts of auditions of the object by the user). "
   ]
  },
  {
   "cell_type": "code",
   "execution_count": 11,
   "metadata": {},
   "outputs": [],
   "source": [
    "loved_tracks = []\n",
    "top_tracks = []\n",
    "top_artists = []\n",
    "top_tags = []\n",
    "for user_id in users_info.keys():\n",
    "    if len(users_info[user_id]) == 0:\n",
    "        continue\n",
    "    loved_tracks.extend(users_info[user_id]['loved_tracks'])\n",
    "    top_tracks.extend(users_info[user_id]['top_tracks'])\n",
    "    top_artists.extend(users_info[user_id]['top_artists'])\n",
    "    top_tags.extend(users_info[user_id]['top_tags'])\n",
    "\n",
    "loved_tracks_count = {}\n",
    "for loved in loved_tracks:\n",
    "    if loved in loved_tracks_count:\n",
    "        loved_tracks_count[loved] += 1\n",
    "    else: loved_tracks_count[loved] = 1\n",
    "\n",
    "top_tracks_count = {}\n",
    "for top in top_tracks:\n",
    "    if top[0] in top_tracks_count:\n",
    "        top_tracks_count[top[0]] += 1\n",
    "    else: top_tracks_count[top[0]] = 1\n",
    "\n",
    "top_artists_count = {}\n",
    "for top in top_artists:\n",
    "    if top[0] in top_artists_count:\n",
    "        top_artists_count[top[0]] += 1\n",
    "    else: top_artists_count[top[0]] = 1\n",
    "\n",
    "top_tags_count_weight = {}\n",
    "for top in top_tags:\n",
    "    if top[0] in top_tags_count_weight:\n",
    "        top_tags_count_weight[top[0]] += int(top[1])\n",
    "    else: top_tags_count_weight[top[0]] = int(top[1])\n",
    "\n",
    "top_tags_count = {}\n",
    "for top in top_tags:\n",
    "    if top[0] in top_tags_count:\n",
    "        top_tags_count[top[0]] += 1\n",
    "    else: top_tags_count[top[0]] = 1"
   ]
  },
  {
   "cell_type": "code",
   "execution_count": 12,
   "metadata": {},
   "outputs": [
    {
     "data": {
      "image/png": "[encoded data removed]",
      "text/plain": [
       "<Figure size 1152x288 with 3 Axes>"
      ]
     },
     "metadata": {
      "needs_background": "light"
     },
     "output_type": "display_data"
    }
   ],
   "source": [
    "fig, ax = plt.subplots(1,3,figsize = (16,4))\n",
    "sns.scatterplot(x = range(1,len(loved_tracks_count)+1), \n",
    "                y = sorted(loved_tracks_count.values(), reverse = True),\n",
    "                ax = ax[0])\n",
    "sns.scatterplot(x = range(1,len(top_tracks_count)+1), \n",
    "                y = sorted(top_tracks_count.values(), reverse = True),\n",
    "                ax = ax[1])\n",
    "sns.scatterplot(x = range(1,len(top_artists_count)+1), \n",
    "                y = sorted(top_artists_count.values(), reverse = True),\n",
    "                ax = ax[2])\n",
    "ax[0].set(xscale = 'log', yscale = 'log')\n",
    "ax[0].set_title('Loved Tracks', fontsize = 15)\n",
    "ax[0].set_ylabel('n° loved tracks')\n",
    "ax[0].set_xlabel('Number of people')\n",
    "\n",
    "ax[1].set(xscale = 'log', yscale = 'log')\n",
    "ax[1].set_title('Top Tracks', fontsize = 15)\n",
    "ax[1].set_ylabel('n° topped tracks')\n",
    "ax[1].set_xlabel('Number of people')\n",
    "\n",
    "ax[2].set(xscale = 'log', yscale = 'log')\n",
    "ax[2].set_title('Top Artists', fontsize = 15)\n",
    "ax[2].set_ylabel('n° topped artists')\n",
    "ax[2].set_xlabel('Number of people')\n",
    "\n",
    "plt.show()"
   ]
  },
  {
   "cell_type": "code",
   "execution_count": 13,
   "metadata": {},
   "outputs": [
    {
     "data": {
      "image/png": "[encoded data removed]",
      "text/plain": [
       "<Figure size 1296x432 with 3 Axes>"
      ]
     },
     "metadata": {
      "needs_background": "light"
     },
     "output_type": "display_data"
    }
   ],
   "source": [
    "fig, ax = plt.subplots(1,3,figsize = (18,6))\n",
    "sns.distplot(list(top_tags_count_weight.values()),\n",
    "             bins = [1, 10, 100, 1000, 10000, 100000],\n",
    "             kde = False, \n",
    "             norm_hist= False,\n",
    "             ax = ax[0], \n",
    "             )\n",
    "total = len(top_tags_count_weight.values())\n",
    "ax[0].set(xscale = 'log', yscale = 'log')\n",
    "ax[0].set_title('Histogram  (with weight)', fontsize = 15)\n",
    "ax[0].set_ylabel('Proportion of tags')\n",
    "ax[0].set_yticks([np.round(10**x, 3) for x in (-1,0,1,2,3)])\n",
    "ax[0].set_yticklabels([np.round(10**x/total, 3) for x in (-1,0,1,2,3)])\n",
    "ax[0].set_xlabel('Weight of tags')\n",
    "\n",
    "percentages = np.flip(sorted(top_tags_count_weight.values()))/sum(top_tags_count_weight.values())\n",
    "percentages = pd.DataFrame({10**b: sum(percentages[10**b - 1:10**(b+1) - 1]) for b in (0, 1, 2, 3)}, \n",
    "                        index = ['Percentage'])\n",
    "\n",
    "sns.barplot(data = percentages, ax = ax[1])\n",
    "ax[1].set_title('Distribuition Sorted by Weight', fontsize = 15)\n",
    "ax[1].set_ylabel('Frequency')\n",
    "ax[1].set_xlabel('Position of tags')\n",
    "ax[1].set_xticks([0,1,2,3])\n",
    "ax[1].set_xticklabels(['1-9', '10 - 99', '100 - 999', '+ 1000'])\n",
    "\n",
    "sns.distplot(list(top_tags_count.values()),\n",
    "             bins = [1, 3, 9, 27, 81, 243],\n",
    "             kde = False, \n",
    "             norm_hist= False,\n",
    "             ax = ax[2], \n",
    "             )\n",
    "total = len(top_tags_count_weight.values())\n",
    "ax[2].set(xscale = 'log', yscale = 'log')\n",
    "ax[2].set_title('Histogram (no weight)', fontsize = 15)\n",
    "ax[2].set_ylabel('Proportion of tags')\n",
    "ax[2].set_yticks([np.round(10**x, 3) for x in (-2,-1,0,1,2,3)])\n",
    "ax[2].set_yticklabels([np.round(10**x/total, 3) for x in (-2,-1,0,1,2,3)])\n",
    "ax[2].set_xlabel('Count of tags')\n",
    "\n",
    "fig.suptitle('Top Tags', fontsize = 18)\n",
    "\n",
    "plt.show()"
   ]
  },
  {
   "cell_type": "markdown",
   "metadata": {},
   "source": [
    "Considering the top tags for the users, we can get the 10 tags more used in general (weighted by the number of counts) and the 10 tags more used by individuals (no weight). "
   ]
  },
  {
   "cell_type": "code",
   "execution_count": 14,
   "metadata": {},
   "outputs": [
    {
     "data": {
      "text/html": [
       "<div>\n",
       "<style scoped>\n",
       "    .dataframe tbody tr th:only-of-type {\n",
       "        vertical-align: middle;\n",
       "    }\n",
       "\n",
       "    .dataframe tbody tr th {\n",
       "        vertical-align: top;\n",
       "    }\n",
       "\n",
       "    .dataframe thead th {\n",
       "        text-align: right;\n",
       "    }\n",
       "</style>\n",
       "<table border=\"1\" class=\"dataframe\">\n",
       "  <thead>\n",
       "    <tr style=\"text-align: right;\">\n",
       "      <th></th>\n",
       "      <th>tag_id</th>\n",
       "      <th>tag</th>\n",
       "      <th>weight_user</th>\n",
       "      <th>users_listeners</th>\n",
       "    </tr>\n",
       "  </thead>\n",
       "  <tbody>\n",
       "    <tr>\n",
       "      <th>187</th>\n",
       "      <td>188</td>\n",
       "      <td>All</td>\n",
       "      <td>52112</td>\n",
       "      <td>2</td>\n",
       "    </tr>\n",
       "    <tr>\n",
       "      <th>217</th>\n",
       "      <td>218</td>\n",
       "      <td>spotify</td>\n",
       "      <td>45867</td>\n",
       "      <td>2</td>\n",
       "    </tr>\n",
       "    <tr>\n",
       "      <th>647</th>\n",
       "      <td>648</td>\n",
       "      <td>katarakt</td>\n",
       "      <td>4351</td>\n",
       "      <td>1</td>\n",
       "    </tr>\n",
       "    <tr>\n",
       "      <th>552</th>\n",
       "      <td>553</td>\n",
       "      <td>essentials</td>\n",
       "      <td>2836</td>\n",
       "      <td>1</td>\n",
       "    </tr>\n",
       "    <tr>\n",
       "      <th>648</th>\n",
       "      <td>649</td>\n",
       "      <td>scare the kids</td>\n",
       "      <td>2138</td>\n",
       "      <td>1</td>\n",
       "    </tr>\n",
       "    <tr>\n",
       "      <th>94</th>\n",
       "      <td>95</td>\n",
       "      <td>albums I own</td>\n",
       "      <td>1960</td>\n",
       "      <td>5</td>\n",
       "    </tr>\n",
       "    <tr>\n",
       "      <th>48</th>\n",
       "      <td>49</td>\n",
       "      <td>pop</td>\n",
       "      <td>1892</td>\n",
       "      <td>86</td>\n",
       "    </tr>\n",
       "    <tr>\n",
       "      <th>47</th>\n",
       "      <td>48</td>\n",
       "      <td>noise</td>\n",
       "      <td>1544</td>\n",
       "      <td>18</td>\n",
       "    </tr>\n",
       "    <tr>\n",
       "      <th>450</th>\n",
       "      <td>451</td>\n",
       "      <td>heavy metal</td>\n",
       "      <td>1502</td>\n",
       "      <td>9</td>\n",
       "    </tr>\n",
       "    <tr>\n",
       "      <th>649</th>\n",
       "      <td>650</td>\n",
       "      <td>ponyhof</td>\n",
       "      <td>1472</td>\n",
       "      <td>1</td>\n",
       "    </tr>\n",
       "  </tbody>\n",
       "</table>\n",
       "</div>"
      ],
      "text/plain": [
       "     tag_id             tag  weight_user  users_listeners\n",
       "187     188             All        52112                2\n",
       "217     218         spotify        45867                2\n",
       "647     648        katarakt         4351                1\n",
       "552     553      essentials         2836                1\n",
       "648     649  scare the kids         2138                1\n",
       "94       95    albums I own         1960                5\n",
       "48       49             pop         1892               86\n",
       "47       48           noise         1544               18\n",
       "450     451     heavy metal         1502                9\n",
       "649     650         ponyhof         1472                1"
      ]
     },
     "metadata": {},
     "output_type": "display_data"
    },
    {
     "data": {
      "text/html": [
       "<div>\n",
       "<style scoped>\n",
       "    .dataframe tbody tr th:only-of-type {\n",
       "        vertical-align: middle;\n",
       "    }\n",
       "\n",
       "    .dataframe tbody tr th {\n",
       "        vertical-align: top;\n",
       "    }\n",
       "\n",
       "    .dataframe thead th {\n",
       "        text-align: right;\n",
       "    }\n",
       "</style>\n",
       "<table border=\"1\" class=\"dataframe\">\n",
       "  <thead>\n",
       "    <tr style=\"text-align: right;\">\n",
       "      <th></th>\n",
       "      <th>tag_id</th>\n",
       "      <th>tag</th>\n",
       "      <th>weight_user</th>\n",
       "      <th>users_listeners</th>\n",
       "    </tr>\n",
       "  </thead>\n",
       "  <tbody>\n",
       "    <tr>\n",
       "      <th>48</th>\n",
       "      <td>49</td>\n",
       "      <td>pop</td>\n",
       "      <td>1892</td>\n",
       "      <td>86</td>\n",
       "    </tr>\n",
       "    <tr>\n",
       "      <th>39</th>\n",
       "      <td>40</td>\n",
       "      <td>indie</td>\n",
       "      <td>667</td>\n",
       "      <td>72</td>\n",
       "    </tr>\n",
       "    <tr>\n",
       "      <th>49</th>\n",
       "      <td>50</td>\n",
       "      <td>rock</td>\n",
       "      <td>1425</td>\n",
       "      <td>72</td>\n",
       "    </tr>\n",
       "    <tr>\n",
       "      <th>67</th>\n",
       "      <td>68</td>\n",
       "      <td>electronic</td>\n",
       "      <td>845</td>\n",
       "      <td>67</td>\n",
       "    </tr>\n",
       "    <tr>\n",
       "      <th>50</th>\n",
       "      <td>51</td>\n",
       "      <td>alternative</td>\n",
       "      <td>753</td>\n",
       "      <td>61</td>\n",
       "    </tr>\n",
       "    <tr>\n",
       "      <th>105</th>\n",
       "      <td>106</td>\n",
       "      <td>experimental</td>\n",
       "      <td>889</td>\n",
       "      <td>48</td>\n",
       "    </tr>\n",
       "    <tr>\n",
       "      <th>59</th>\n",
       "      <td>60</td>\n",
       "      <td>female vocalists</td>\n",
       "      <td>1225</td>\n",
       "      <td>38</td>\n",
       "    </tr>\n",
       "    <tr>\n",
       "      <th>64</th>\n",
       "      <td>65</td>\n",
       "      <td>alternative rock</td>\n",
       "      <td>527</td>\n",
       "      <td>36</td>\n",
       "    </tr>\n",
       "    <tr>\n",
       "      <th>0</th>\n",
       "      <td>1</td>\n",
       "      <td>Hip-Hop</td>\n",
       "      <td>248</td>\n",
       "      <td>33</td>\n",
       "    </tr>\n",
       "    <tr>\n",
       "      <th>6</th>\n",
       "      <td>7</td>\n",
       "      <td>folk</td>\n",
       "      <td>283</td>\n",
       "      <td>32</td>\n",
       "    </tr>\n",
       "  </tbody>\n",
       "</table>\n",
       "</div>"
      ],
      "text/plain": [
       "     tag_id               tag  weight_user  users_listeners\n",
       "48       49               pop         1892               86\n",
       "39       40             indie          667               72\n",
       "49       50              rock         1425               72\n",
       "67       68        electronic          845               67\n",
       "50       51       alternative          753               61\n",
       "105     106      experimental          889               48\n",
       "59       60  female vocalists         1225               38\n",
       "64       65  alternative rock          527               36\n",
       "0         1           Hip-Hop          248               33\n",
       "6         7              folk          283               32"
      ]
     },
     "metadata": {},
     "output_type": "display_data"
    }
   ],
   "source": [
    "top_tags_count_df = pd.DataFrame({'tag_id': list(top_tags_count_weight.keys()), \n",
    "                                         'weight_user': list(top_tags_count_weight.values()), \n",
    "                                         'users_listeners': list(top_tags_count.values())}\n",
    "                                        )\n",
    "tags = tag_df.merge(top_tags_count_df, on = 'tag_id')\n",
    "\n",
    "display(tags.sort_values(by = 'weight_user', ascending = False).head(10))\n",
    "display(tags.sort_values(by = 'users_listeners', ascending = False).head(10))"
   ]
  },
  {
   "cell_type": "markdown",
   "metadata": {},
   "source": [
    "## Tag Dataset"
   ]
  },
  {
   "cell_type": "code",
   "execution_count": 15,
   "metadata": {},
   "outputs": [
    {
     "name": "stdout",
     "output_type": "stream",
     "text": [
      "The information are: \n",
      "\n",
      "name\n",
      "reached\n",
      "taggings\n",
      "published\n",
      "toptracks\n",
      "topartists\n",
      "topalbums\n"
     ]
    }
   ],
   "source": [
    "print('The information are: \\n')\n",
    "for i in tags_info['1'].keys():\n",
    "    print(i)"
   ]
  },
  {
   "cell_type": "markdown",
   "metadata": {},
   "source": [
    "We can see the tags topped by tagging by the user."
   ]
  },
  {
   "cell_type": "code",
   "execution_count": 16,
   "metadata": {},
   "outputs": [
    {
     "data": {
      "text/html": [
       "<div>\n",
       "<style scoped>\n",
       "    .dataframe tbody tr th:only-of-type {\n",
       "        vertical-align: middle;\n",
       "    }\n",
       "\n",
       "    .dataframe tbody tr th {\n",
       "        vertical-align: top;\n",
       "    }\n",
       "\n",
       "    .dataframe thead th {\n",
       "        text-align: right;\n",
       "    }\n",
       "</style>\n",
       "<table border=\"1\" class=\"dataframe\">\n",
       "  <thead>\n",
       "    <tr style=\"text-align: right;\">\n",
       "      <th></th>\n",
       "      <th>tag_id</th>\n",
       "      <th>tag</th>\n",
       "      <th>tag_reached</th>\n",
       "      <th>taggings</th>\n",
       "      <th>published</th>\n",
       "    </tr>\n",
       "  </thead>\n",
       "  <tbody>\n",
       "    <tr>\n",
       "      <th>49</th>\n",
       "      <td>50</td>\n",
       "      <td>rock</td>\n",
       "      <td>395583</td>\n",
       "      <td>3979593</td>\n",
       "      <td>None</td>\n",
       "    </tr>\n",
       "    <tr>\n",
       "      <th>67</th>\n",
       "      <td>68</td>\n",
       "      <td>electronic</td>\n",
       "      <td>254123</td>\n",
       "      <td>2371259</td>\n",
       "      <td>None</td>\n",
       "    </tr>\n",
       "    <tr>\n",
       "      <th>73</th>\n",
       "      <td>74</td>\n",
       "      <td>seen live</td>\n",
       "      <td>81737</td>\n",
       "      <td>2142301</td>\n",
       "      <td>None</td>\n",
       "    </tr>\n",
       "    <tr>\n",
       "      <th>50</th>\n",
       "      <td>51</td>\n",
       "      <td>alternative</td>\n",
       "      <td>261864</td>\n",
       "      <td>2095454</td>\n",
       "      <td>None</td>\n",
       "    </tr>\n",
       "    <tr>\n",
       "      <th>39</th>\n",
       "      <td>40</td>\n",
       "      <td>indie</td>\n",
       "      <td>253561</td>\n",
       "      <td>2017410</td>\n",
       "      <td>None</td>\n",
       "    </tr>\n",
       "  </tbody>\n",
       "</table>\n",
       "</div>"
      ],
      "text/plain": [
       "    tag_id          tag  tag_reached  taggings published\n",
       "49      50         rock       395583   3979593      None\n",
       "67      68   electronic       254123   2371259      None\n",
       "73      74    seen live        81737   2142301      None\n",
       "50      51  alternative       261864   2095454      None\n",
       "39      40        indie       253561   2017410      None"
      ]
     },
     "execution_count": 16,
     "metadata": {},
     "output_type": "execute_result"
    }
   ],
   "source": [
    "reached = {int(key): tags_info[key]['reached'] for key in tags_info.keys() if len(tags_info[key]) > 0}\n",
    "tagging = {int(key): tags_info[key]['taggings'] for key in tags_info.keys() if len(tags_info[key]) > 0}\n",
    "published = {int(key): tags_info[key]['published'] for key in tags_info.keys() if len(tags_info[key]) > 0}\n",
    "tags_extra_info = pd.DataFrame({'tag_id': list(reached.keys()), \n",
    "                             'tag_reached': list(reached.values()), \n",
    "                             'taggings': list(tagging.values()), \n",
    "                             'published': list(published.values())})\n",
    "\n",
    "tags_complete_df = tag_df.merge(tags_extra_info, on = 'tag_id')\n",
    "tags_complete_df.sort_values(by = 'taggings', ascending = False, inplace = True)\n",
    "tags_complete_df.head(5)"
   ]
  },
  {
   "cell_type": "markdown",
   "metadata": {},
   "source": [
    "None information about publishing is provided. Other columns are complete."
   ]
  },
  {
   "cell_type": "code",
   "execution_count": 17,
   "metadata": {},
   "outputs": [
    {
     "name": "stdout",
     "output_type": "stream",
     "text": [
      "<class 'pandas.core.frame.DataFrame'>\n",
      "Int64Index: 1839 entries, 49 to 1062\n",
      "Data columns (total 5 columns):\n",
      " #   Column       Non-Null Count  Dtype \n",
      "---  ------       --------------  ----- \n",
      " 0   tag_id       1839 non-null   int64 \n",
      " 1   tag          1839 non-null   object\n",
      " 2   tag_reached  1839 non-null   int64 \n",
      " 3   taggings     1839 non-null   int64 \n",
      " 4   published    0 non-null      object\n",
      "dtypes: int64(3), object(2)\n",
      "memory usage: 86.2+ KB\n"
     ]
    },
    {
     "data": {
      "text/plain": [
       "None"
      ]
     },
     "metadata": {},
     "output_type": "display_data"
    },
    {
     "data": {
      "text/html": [
       "<div>\n",
       "<style scoped>\n",
       "    .dataframe tbody tr th:only-of-type {\n",
       "        vertical-align: middle;\n",
       "    }\n",
       "\n",
       "    .dataframe tbody tr th {\n",
       "        vertical-align: top;\n",
       "    }\n",
       "\n",
       "    .dataframe thead th {\n",
       "        text-align: right;\n",
       "    }\n",
       "</style>\n",
       "<table border=\"1\" class=\"dataframe\">\n",
       "  <thead>\n",
       "    <tr style=\"text-align: right;\">\n",
       "      <th></th>\n",
       "      <th>tag_id</th>\n",
       "      <th>tag_reached</th>\n",
       "      <th>taggings</th>\n",
       "    </tr>\n",
       "  </thead>\n",
       "  <tbody>\n",
       "    <tr>\n",
       "      <th>count</th>\n",
       "      <td>1839.000000</td>\n",
       "      <td>1839.000000</td>\n",
       "      <td>1.839000e+03</td>\n",
       "    </tr>\n",
       "    <tr>\n",
       "      <th>mean</th>\n",
       "      <td>921.706362</td>\n",
       "      <td>7487.895052</td>\n",
       "      <td>4.825904e+04</td>\n",
       "    </tr>\n",
       "    <tr>\n",
       "      <th>std</th>\n",
       "      <td>532.714042</td>\n",
       "      <td>23491.221844</td>\n",
       "      <td>1.907456e+05</td>\n",
       "    </tr>\n",
       "    <tr>\n",
       "      <th>min</th>\n",
       "      <td>1.000000</td>\n",
       "      <td>0.000000</td>\n",
       "      <td>0.000000e+00</td>\n",
       "    </tr>\n",
       "    <tr>\n",
       "      <th>25%</th>\n",
       "      <td>460.500000</td>\n",
       "      <td>15.000000</td>\n",
       "      <td>4.800000e+01</td>\n",
       "    </tr>\n",
       "    <tr>\n",
       "      <th>50%</th>\n",
       "      <td>920.000000</td>\n",
       "      <td>448.000000</td>\n",
       "      <td>1.875000e+03</td>\n",
       "    </tr>\n",
       "    <tr>\n",
       "      <th>75%</th>\n",
       "      <td>1383.500000</td>\n",
       "      <td>4023.500000</td>\n",
       "      <td>1.936600e+04</td>\n",
       "    </tr>\n",
       "    <tr>\n",
       "      <th>max</th>\n",
       "      <td>1843.000000</td>\n",
       "      <td>395583.000000</td>\n",
       "      <td>3.979593e+06</td>\n",
       "    </tr>\n",
       "  </tbody>\n",
       "</table>\n",
       "</div>"
      ],
      "text/plain": [
       "            tag_id    tag_reached      taggings\n",
       "count  1839.000000    1839.000000  1.839000e+03\n",
       "mean    921.706362    7487.895052  4.825904e+04\n",
       "std     532.714042   23491.221844  1.907456e+05\n",
       "min       1.000000       0.000000  0.000000e+00\n",
       "25%     460.500000      15.000000  4.800000e+01\n",
       "50%     920.000000     448.000000  1.875000e+03\n",
       "75%    1383.500000    4023.500000  1.936600e+04\n",
       "max    1843.000000  395583.000000  3.979593e+06"
      ]
     },
     "metadata": {},
     "output_type": "display_data"
    }
   ],
   "source": [
    "display(tags_complete_df.info())\n",
    "display(tags_complete_df.describe())"
   ]
  },
  {
   "cell_type": "markdown",
   "metadata": {},
   "source": [
    "## Artist Dataset"
   ]
  },
  {
   "cell_type": "code",
   "execution_count": 18,
   "metadata": {},
   "outputs": [
    {
     "name": "stdout",
     "output_type": "stream",
     "text": [
      "The information are: \n",
      "\n",
      "name\n",
      "listeners\n",
      "plays\n",
      "published\n",
      "topalbums\n",
      "toptags\n",
      "toptracks\n",
      "similar\n"
     ]
    }
   ],
   "source": [
    "print('The information are: \\n')\n",
    "for i in artists_info['1'].keys():\n",
    "    print(i)"
   ]
  },
  {
   "cell_type": "code",
   "execution_count": 19,
   "metadata": {},
   "outputs": [],
   "source": [
    "info = []\n",
    "\n",
    "for key in artists_info.keys():\n",
    "    if len(artists_info[key]) == 0:\n",
    "        info.append([])\n",
    "        continue\n",
    "    l = artists_info[key]['listeners'] \n",
    "    p = artists_info[key]['plays']\n",
    "    pu = artists_info[key]['published']\n",
    "\n",
    "    info.append([int(key), l, p, pu])\n",
    "\n",
    "info_df = pd.DataFrame(info, columns = ['artist_id','listeners', 'plays', 'published'])\n",
    "\n",
    "artists_complete_df = artist_df.merge(info_df, on = 'artist_id')\n",
    "artists_complete_df.sort_values(by = 'listeners', ascending = False).head(10)\n",
    "\n",
    "artists_complete_df['year'] = artists_complete_df['published'].apply(lambda x: int(x[0:4]) if x else None)"
   ]
  },
  {
   "cell_type": "code",
   "execution_count": 20,
   "metadata": {},
   "outputs": [
    {
     "name": "stdout",
     "output_type": "stream",
     "text": [
      "<class 'pandas.core.frame.DataFrame'>\n",
      "Int64Index: 1055 entries, 0 to 1054\n",
      "Data columns (total 6 columns):\n",
      " #   Column       Non-Null Count  Dtype  \n",
      "---  ------       --------------  -----  \n",
      " 0   artist_id    1055 non-null   int64  \n",
      " 1   artist_name  1055 non-null   object \n",
      " 2   listeners    1055 non-null   int64  \n",
      " 3   plays        1055 non-null   int64  \n",
      " 4   published    1054 non-null   object \n",
      " 5   year         1054 non-null   float64\n",
      "dtypes: float64(1), int64(3), object(2)\n",
      "memory usage: 57.7+ KB\n"
     ]
    },
    {
     "data": {
      "text/plain": [
       "None"
      ]
     },
     "metadata": {},
     "output_type": "display_data"
    },
    {
     "data": {
      "text/html": [
       "<div>\n",
       "<style scoped>\n",
       "    .dataframe tbody tr th:only-of-type {\n",
       "        vertical-align: middle;\n",
       "    }\n",
       "\n",
       "    .dataframe tbody tr th {\n",
       "        vertical-align: top;\n",
       "    }\n",
       "\n",
       "    .dataframe thead th {\n",
       "        text-align: right;\n",
       "    }\n",
       "</style>\n",
       "<table border=\"1\" class=\"dataframe\">\n",
       "  <thead>\n",
       "    <tr style=\"text-align: right;\">\n",
       "      <th></th>\n",
       "      <th>listeners</th>\n",
       "      <th>plays</th>\n",
       "    </tr>\n",
       "  </thead>\n",
       "  <tbody>\n",
       "    <tr>\n",
       "      <th>count</th>\n",
       "      <td>1.055000e+03</td>\n",
       "      <td>1.055000e+03</td>\n",
       "    </tr>\n",
       "    <tr>\n",
       "      <th>mean</th>\n",
       "      <td>7.618084e+05</td>\n",
       "      <td>3.413387e+07</td>\n",
       "    </tr>\n",
       "    <tr>\n",
       "      <th>std</th>\n",
       "      <td>9.753264e+05</td>\n",
       "      <td>5.775166e+07</td>\n",
       "    </tr>\n",
       "    <tr>\n",
       "      <th>min</th>\n",
       "      <td>0.000000e+00</td>\n",
       "      <td>0.000000e+00</td>\n",
       "    </tr>\n",
       "    <tr>\n",
       "      <th>25%</th>\n",
       "      <td>9.122600e+04</td>\n",
       "      <td>3.136608e+06</td>\n",
       "    </tr>\n",
       "    <tr>\n",
       "      <th>50%</th>\n",
       "      <td>3.468340e+05</td>\n",
       "      <td>1.252607e+07</td>\n",
       "    </tr>\n",
       "    <tr>\n",
       "      <th>75%</th>\n",
       "      <td>1.010848e+06</td>\n",
       "      <td>3.625391e+07</td>\n",
       "    </tr>\n",
       "    <tr>\n",
       "      <th>max</th>\n",
       "      <td>5.575436e+06</td>\n",
       "      <td>5.541699e+08</td>\n",
       "    </tr>\n",
       "  </tbody>\n",
       "</table>\n",
       "</div>"
      ],
      "text/plain": [
       "          listeners         plays\n",
       "count  1.055000e+03  1.055000e+03\n",
       "mean   7.618084e+05  3.413387e+07\n",
       "std    9.753264e+05  5.775166e+07\n",
       "min    0.000000e+00  0.000000e+00\n",
       "25%    9.122600e+04  3.136608e+06\n",
       "50%    3.468340e+05  1.252607e+07\n",
       "75%    1.010848e+06  3.625391e+07\n",
       "max    5.575436e+06  5.541699e+08"
      ]
     },
     "metadata": {},
     "output_type": "display_data"
    }
   ],
   "source": [
    "display(artists_complete_df.info())\n",
    "display(artists_complete_df[['listeners', 'plays']].describe())"
   ]
  },
  {
   "cell_type": "markdown",
   "metadata": {},
   "source": [
    "We can see that there artists published before 2000, what it's wrong information. (28 artists actually)"
   ]
  },
  {
   "cell_type": "code",
   "execution_count": 21,
   "metadata": {},
   "outputs": [
    {
     "data": {
      "text/plain": [
       "(28, 6)"
      ]
     },
     "execution_count": 21,
     "metadata": {},
     "output_type": "execute_result"
    }
   ],
   "source": [
    "artists_complete_df[artists_complete_df.year < 2000].shape"
   ]
  },
  {
   "cell_type": "code",
   "execution_count": 22,
   "metadata": {},
   "outputs": [
    {
     "data": {
      "image/png": "[encoded data removed]",
      "text/plain": [
       "<Figure size 1296x432 with 3 Axes>"
      ]
     },
     "metadata": {
      "needs_background": "light"
     },
     "output_type": "display_data"
    }
   ],
   "source": [
    "fig, ax = plt.subplots(1,3, figsize = (18, 6))\n",
    "sns.distplot(artists_complete_df.year, kde = False, \n",
    "            bins = int(artists_complete_df.year.max() - artists_complete_df.year.min()) + 1,\n",
    "            ax = ax[0])\n",
    "ax[0].set_title('Published Year on Last.fm', fontsize = 15)\n",
    "sns.distplot(artists_complete_df.listeners, kde = False, \n",
    "            #bins = int(artists_complete_df.year.max() - artists_complete_df.year.min()) + 1,\n",
    "            ax = ax[1])\n",
    "ax[1].set_title('Distribution of Listeners on Last.fm', fontsize = 15)\n",
    "sns.distplot(artists_complete_df.plays, kde = False, \n",
    "            #bins = int(artists_complete_df.year.max() - artists_complete_df.year.min()) + 1,\n",
    "            ax = ax[2])\n",
    "ax[2].set_title('Distribution of Plays', fontsize = 15)\n",
    "plt.show()"
   ]
  },
  {
   "cell_type": "markdown",
   "metadata": {},
   "source": [
    "## Artists Similarity\n",
    "\n",
    "Last.fm API has information about similar artists, given an artist imputed. I generate 20 similar artists from each artist of the subset of artists known from the dataset. The method of the API returns a degree of similarity, from 0 to 1. Below we can see de result. It takes long to make this graphic, so I save it. You can see the result. There are a lot of nan values because we do not have every degree of similary. \n",
    "\n",
    "We can see there are a bigger relation in the roundness of the diagonal. This happens because the way the artist id was generated. For each user, we get its 20 top artists and numerate if the id does not exist. So, if two ids are closely, maybe it was generated by the same user, what is interesting, cause users may like similar artists.  "
   ]
  },
  {
   "cell_type": "code",
   "execution_count": 23,
   "metadata": {},
   "outputs": [],
   "source": [
    "max_artist_id = 0\n",
    "for key, value in artists_info.items():\n",
    "    for index in value['similar']:\n",
    "        if index[0] > max_artist_id: \n",
    "            max_artist_id = index[0]\n",
    "\n",
    "artist_matrix_similarity = np.empty(shape = (max_artist_id, max_artist_id))\n",
    "artist_matrix_similarity.fill(np.nan)\n",
    "for key, value in artists_info.items():\n",
    "    for index in value['similar']:\n",
    "        artist_matrix_similarity[int(key) - 1, index[0] - 1] = index[1]"
   ]
  },
  {
   "cell_type": "code",
   "execution_count": 24,
   "metadata": {
    "tags": []
   },
   "outputs": [],
   "source": [
    "#fig, ax = plt.subplots(figsize = (11,9))\n",
    "#sns.heatmap(artist_matrix_similarity[0:1000, 0:1000], vmin = 0, vmax = 1, cmap = 'YlGnBu', \n",
    "#                 cbar_kws = {'orientation': 'horizontal'})\n",
    "\n",
    "#fig.savefig('heatmap.png')\n",
    "#plt.show()"
   ]
  },
  {
   "cell_type": "markdown",
   "metadata": {},
   "source": [
    "### Subset of Artists Similary \n",
    "\n",
    "![Figura](../images/heatmap.png)"
   ]
  },
  {
   "cell_type": "markdown",
   "metadata": {},
   "source": [
    "## Track Dataset"
   ]
  },
  {
   "cell_type": "code",
   "execution_count": 25,
   "metadata": {},
   "outputs": [
    {
     "name": "stdout",
     "output_type": "stream",
     "text": [
      "The information are: \n",
      "\n",
      "name\n",
      "artist\n",
      "duration\n",
      "listeners\n",
      "playcount\n",
      "album\n",
      "published\n",
      "top_tags\n",
      "similar\n"
     ]
    }
   ],
   "source": [
    "print('The information are: \\n')\n",
    "for i in tracks_info['1'].keys():\n",
    "    print(i)"
   ]
  },
  {
   "cell_type": "code",
   "execution_count": 26,
   "metadata": {},
   "outputs": [
    {
     "data": {
      "text/html": [
       "<div>\n",
       "<style scoped>\n",
       "    .dataframe tbody tr th:only-of-type {\n",
       "        vertical-align: middle;\n",
       "    }\n",
       "\n",
       "    .dataframe tbody tr th {\n",
       "        vertical-align: top;\n",
       "    }\n",
       "\n",
       "    .dataframe thead th {\n",
       "        text-align: right;\n",
       "    }\n",
       "</style>\n",
       "<table border=\"1\" class=\"dataframe\">\n",
       "  <thead>\n",
       "    <tr style=\"text-align: right;\">\n",
       "      <th></th>\n",
       "      <th>track_id</th>\n",
       "      <th>artist_name</th>\n",
       "      <th>track_name</th>\n",
       "      <th>duration</th>\n",
       "      <th>listeners</th>\n",
       "      <th>playcount</th>\n",
       "      <th>published</th>\n",
       "      <th>year</th>\n",
       "    </tr>\n",
       "  </thead>\n",
       "  <tbody>\n",
       "    <tr>\n",
       "      <th>2435</th>\n",
       "      <td>2496</td>\n",
       "      <td>21 Savage</td>\n",
       "      <td>all my friends</td>\n",
       "      <td>211000.0</td>\n",
       "      <td>69754.0</td>\n",
       "      <td>483699.0</td>\n",
       "      <td>None</td>\n",
       "      <td>NaN</td>\n",
       "    </tr>\n",
       "  </tbody>\n",
       "</table>\n",
       "</div>"
      ],
      "text/plain": [
       "      track_id artist_name      track_name  duration  listeners  playcount  \\\n",
       "2435      2496   21 Savage  all my friends  211000.0    69754.0   483699.0   \n",
       "\n",
       "     published  year  \n",
       "2435      None   NaN  "
      ]
     },
     "execution_count": 26,
     "metadata": {},
     "output_type": "execute_result"
    }
   ],
   "source": [
    "info = []\n",
    "\n",
    "for key in tracks_info.keys():\n",
    "    if len(tracks_info[key]) == 0:\n",
    "        info.append([])\n",
    "        continue\n",
    "    d = tracks_info[key]['duration'] \n",
    "    l = tracks_info[key]['listeners']\n",
    "    p = tracks_info[key]['playcount']\n",
    "    pu = tracks_info[key]['published']\n",
    "    tags = tracks_info[key]['top_tags']\n",
    "\n",
    "    info.append([int(key), int(d), int(l), int(p), pu])\n",
    "\n",
    "info_df = pd.DataFrame(info, columns = ['track_id', 'duration', 'listeners', 'playcount', 'published'])\n",
    "\n",
    "tracks_complete_df = track_df.merge(info_df, on = 'track_id')\n",
    "tracks_complete_df['year'] = tracks_complete_df['published'].apply(lambda x: int(x[0:4]) if x else None)\n",
    "tracks_complete_df.sample()"
   ]
  },
  {
   "cell_type": "markdown",
   "metadata": {},
   "source": [
    "We can see that published information is unavailable for a lot of tracks"
   ]
  },
  {
   "cell_type": "code",
   "execution_count": 27,
   "metadata": {},
   "outputs": [
    {
     "name": "stdout",
     "output_type": "stream",
     "text": [
      "<class 'pandas.core.frame.DataFrame'>\n",
      "Int64Index: 9591 entries, 0 to 9590\n",
      "Data columns (total 8 columns):\n",
      " #   Column       Non-Null Count  Dtype  \n",
      "---  ------       --------------  -----  \n",
      " 0   track_id     9591 non-null   int64  \n",
      " 1   artist_name  9591 non-null   object \n",
      " 2   track_name   9591 non-null   object \n",
      " 3   duration     9591 non-null   float64\n",
      " 4   listeners    9591 non-null   float64\n",
      " 5   playcount    9591 non-null   float64\n",
      " 6   published    2087 non-null   object \n",
      " 7   year         2087 non-null   float64\n",
      "dtypes: float64(4), int64(1), object(3)\n",
      "memory usage: 674.4+ KB\n"
     ]
    },
    {
     "data": {
      "text/plain": [
       "None"
      ]
     },
     "metadata": {},
     "output_type": "display_data"
    },
    {
     "data": {
      "text/html": [
       "<div>\n",
       "<style scoped>\n",
       "    .dataframe tbody tr th:only-of-type {\n",
       "        vertical-align: middle;\n",
       "    }\n",
       "\n",
       "    .dataframe tbody tr th {\n",
       "        vertical-align: top;\n",
       "    }\n",
       "\n",
       "    .dataframe thead th {\n",
       "        text-align: right;\n",
       "    }\n",
       "</style>\n",
       "<table border=\"1\" class=\"dataframe\">\n",
       "  <thead>\n",
       "    <tr style=\"text-align: right;\">\n",
       "      <th></th>\n",
       "      <th>track_id</th>\n",
       "      <th>duration</th>\n",
       "      <th>listeners</th>\n",
       "      <th>playcount</th>\n",
       "      <th>year</th>\n",
       "    </tr>\n",
       "  </thead>\n",
       "  <tbody>\n",
       "    <tr>\n",
       "      <th>count</th>\n",
       "      <td>9591.000000</td>\n",
       "      <td>9.591000e+03</td>\n",
       "      <td>9.591000e+03</td>\n",
       "      <td>9.591000e+03</td>\n",
       "      <td>2087.000000</td>\n",
       "    </tr>\n",
       "    <tr>\n",
       "      <th>mean</th>\n",
       "      <td>4933.992389</td>\n",
       "      <td>2.095320e+05</td>\n",
       "      <td>1.156337e+05</td>\n",
       "      <td>8.723463e+05</td>\n",
       "      <td>2012.651174</td>\n",
       "    </tr>\n",
       "    <tr>\n",
       "      <th>std</th>\n",
       "      <td>2864.438821</td>\n",
       "      <td>1.349446e+05</td>\n",
       "      <td>2.069033e+05</td>\n",
       "      <td>1.744338e+06</td>\n",
       "      <td>4.101426</td>\n",
       "    </tr>\n",
       "    <tr>\n",
       "      <th>min</th>\n",
       "      <td>1.000000</td>\n",
       "      <td>0.000000e+00</td>\n",
       "      <td>0.000000e+00</td>\n",
       "      <td>0.000000e+00</td>\n",
       "      <td>2008.000000</td>\n",
       "    </tr>\n",
       "    <tr>\n",
       "      <th>25%</th>\n",
       "      <td>2457.500000</td>\n",
       "      <td>1.640000e+05</td>\n",
       "      <td>5.903500e+03</td>\n",
       "      <td>2.799300e+04</td>\n",
       "      <td>2009.000000</td>\n",
       "    </tr>\n",
       "    <tr>\n",
       "      <th>50%</th>\n",
       "      <td>4921.000000</td>\n",
       "      <td>2.150000e+05</td>\n",
       "      <td>3.330400e+04</td>\n",
       "      <td>1.978630e+05</td>\n",
       "      <td>2012.000000</td>\n",
       "    </tr>\n",
       "    <tr>\n",
       "      <th>75%</th>\n",
       "      <td>7419.500000</td>\n",
       "      <td>2.630000e+05</td>\n",
       "      <td>1.262990e+05</td>\n",
       "      <td>8.853590e+05</td>\n",
       "      <td>2017.000000</td>\n",
       "    </tr>\n",
       "    <tr>\n",
       "      <th>max</th>\n",
       "      <td>9902.000000</td>\n",
       "      <td>3.422000e+06</td>\n",
       "      <td>2.179201e+06</td>\n",
       "      <td>2.784013e+07</td>\n",
       "      <td>2020.000000</td>\n",
       "    </tr>\n",
       "  </tbody>\n",
       "</table>\n",
       "</div>"
      ],
      "text/plain": [
       "          track_id      duration     listeners     playcount         year\n",
       "count  9591.000000  9.591000e+03  9.591000e+03  9.591000e+03  2087.000000\n",
       "mean   4933.992389  2.095320e+05  1.156337e+05  8.723463e+05  2012.651174\n",
       "std    2864.438821  1.349446e+05  2.069033e+05  1.744338e+06     4.101426\n",
       "min       1.000000  0.000000e+00  0.000000e+00  0.000000e+00  2008.000000\n",
       "25%    2457.500000  1.640000e+05  5.903500e+03  2.799300e+04  2009.000000\n",
       "50%    4921.000000  2.150000e+05  3.330400e+04  1.978630e+05  2012.000000\n",
       "75%    7419.500000  2.630000e+05  1.262990e+05  8.853590e+05  2017.000000\n",
       "max    9902.000000  3.422000e+06  2.179201e+06  2.784013e+07  2020.000000"
      ]
     },
     "metadata": {},
     "output_type": "display_data"
    }
   ],
   "source": [
    "display(tracks_complete_df.info())\n",
    "display(tracks_complete_df.describe())"
   ]
  },
  {
   "cell_type": "markdown",
   "metadata": {},
   "source": [
    "### Artists Library for 50 Users\n",
    "\n",
    "We collect all the artists listen by a user and we build a matrix that the cel $ij$ is the number of playcounts of the user $j+1$ to the artist $i$ "
   ]
  },
  {
   "cell_type": "code",
   "execution_count": 28,
   "metadata": {
    "tags": []
   },
   "outputs": [
    {
     "data": {
      "image/png": "[encoded data removed]",
      "text/plain": [
       "<Figure size 432x288 with 1 Axes>"
      ]
     },
     "metadata": {
      "needs_background": "light"
     },
     "output_type": "display_data"
    }
   ],
   "source": [
    "with open('../data/lastfm-api/users50_library.json', 'r') as f:\n",
    "    users50_library = json.load(f)\n",
    "\n",
    "max_artist_id = 0\n",
    "number_artists = []\n",
    "for key, value in users50_library.items():\n",
    "    number_artists.append(len(value))\n",
    "    for artist in value:\n",
    "        if int(artist) > max_artist_id:\n",
    "            max_artist_id = int(artist)\n",
    "\n",
    "ax = sns.distplot(number_artists, kde = False)\n",
    "ax.set_title('Distribution of the number of listened artists')\n",
    "ax.set_xlabel('n° of listened artists')\n",
    "ax.set_ylabel('n° of users')\n",
    "plt.show()"
   ]
  },
  {
   "cell_type": "code",
   "execution_count": 29,
   "metadata": {},
   "outputs": [],
   "source": [
    "users50_library_array = np.zeros(shape = (max_artist_id, 50))\n",
    "for index, key in enumerate(users50_library):\n",
    "    for key_artist, value in users50_library[key].items():\n",
    "        users50_library_array[int(key_artist) - 1, index] = int(value) \n",
    "users50_library_df = pd.DataFrame(users50_library_array, index = range(1, len(users50_library_array) + 1), dtype = int)"
   ]
  },
  {
   "cell_type": "markdown",
   "metadata": {},
   "source": [
    "Below we see the the rows ordered by their sum. "
   ]
  },
  {
   "cell_type": "code",
   "execution_count": 30,
   "metadata": {},
   "outputs": [
    {
     "data": {
      "text/html": [
       "<div>\n",
       "<style scoped>\n",
       "    .dataframe tbody tr th:only-of-type {\n",
       "        vertical-align: middle;\n",
       "    }\n",
       "\n",
       "    .dataframe tbody tr th {\n",
       "        vertical-align: top;\n",
       "    }\n",
       "\n",
       "    .dataframe thead th {\n",
       "        text-align: right;\n",
       "    }\n",
       "</style>\n",
       "<table border=\"1\" class=\"dataframe\">\n",
       "  <thead>\n",
       "    <tr style=\"text-align: right;\">\n",
       "      <th></th>\n",
       "      <th>0</th>\n",
       "      <th>1</th>\n",
       "      <th>2</th>\n",
       "      <th>3</th>\n",
       "      <th>4</th>\n",
       "      <th>5</th>\n",
       "      <th>6</th>\n",
       "      <th>7</th>\n",
       "      <th>8</th>\n",
       "      <th>9</th>\n",
       "      <th>...</th>\n",
       "      <th>40</th>\n",
       "      <th>41</th>\n",
       "      <th>42</th>\n",
       "      <th>43</th>\n",
       "      <th>44</th>\n",
       "      <th>45</th>\n",
       "      <th>46</th>\n",
       "      <th>47</th>\n",
       "      <th>48</th>\n",
       "      <th>49</th>\n",
       "    </tr>\n",
       "  </thead>\n",
       "  <tbody>\n",
       "    <tr>\n",
       "      <th>479</th>\n",
       "      <td>0</td>\n",
       "      <td>0</td>\n",
       "      <td>0</td>\n",
       "      <td>0</td>\n",
       "      <td>0</td>\n",
       "      <td>0</td>\n",
       "      <td>0</td>\n",
       "      <td>0</td>\n",
       "      <td>0</td>\n",
       "      <td>6</td>\n",
       "      <td>...</td>\n",
       "      <td>0</td>\n",
       "      <td>0</td>\n",
       "      <td>0</td>\n",
       "      <td>0</td>\n",
       "      <td>0</td>\n",
       "      <td>13</td>\n",
       "      <td>0</td>\n",
       "      <td>0</td>\n",
       "      <td>0</td>\n",
       "      <td>21</td>\n",
       "    </tr>\n",
       "    <tr>\n",
       "      <th>4</th>\n",
       "      <td>991</td>\n",
       "      <td>955</td>\n",
       "      <td>15</td>\n",
       "      <td>749</td>\n",
       "      <td>0</td>\n",
       "      <td>0</td>\n",
       "      <td>367</td>\n",
       "      <td>1</td>\n",
       "      <td>0</td>\n",
       "      <td>478</td>\n",
       "      <td>...</td>\n",
       "      <td>50</td>\n",
       "      <td>204</td>\n",
       "      <td>167</td>\n",
       "      <td>552</td>\n",
       "      <td>428</td>\n",
       "      <td>587</td>\n",
       "      <td>2</td>\n",
       "      <td>1</td>\n",
       "      <td>16</td>\n",
       "      <td>74</td>\n",
       "    </tr>\n",
       "    <tr>\n",
       "      <th>79</th>\n",
       "      <td>62</td>\n",
       "      <td>1</td>\n",
       "      <td>110</td>\n",
       "      <td>0</td>\n",
       "      <td>591</td>\n",
       "      <td>0</td>\n",
       "      <td>2</td>\n",
       "      <td>45</td>\n",
       "      <td>10</td>\n",
       "      <td>1365</td>\n",
       "      <td>...</td>\n",
       "      <td>12</td>\n",
       "      <td>0</td>\n",
       "      <td>2</td>\n",
       "      <td>90</td>\n",
       "      <td>13</td>\n",
       "      <td>93</td>\n",
       "      <td>0</td>\n",
       "      <td>811</td>\n",
       "      <td>0</td>\n",
       "      <td>1944</td>\n",
       "    </tr>\n",
       "    <tr>\n",
       "      <th>3</th>\n",
       "      <td>1043</td>\n",
       "      <td>39</td>\n",
       "      <td>498</td>\n",
       "      <td>0</td>\n",
       "      <td>3618</td>\n",
       "      <td>0</td>\n",
       "      <td>0</td>\n",
       "      <td>5</td>\n",
       "      <td>0</td>\n",
       "      <td>324</td>\n",
       "      <td>...</td>\n",
       "      <td>353</td>\n",
       "      <td>0</td>\n",
       "      <td>930</td>\n",
       "      <td>422</td>\n",
       "      <td>459</td>\n",
       "      <td>537</td>\n",
       "      <td>396</td>\n",
       "      <td>360</td>\n",
       "      <td>4</td>\n",
       "      <td>903</td>\n",
       "    </tr>\n",
       "    <tr>\n",
       "      <th>7</th>\n",
       "      <td>459</td>\n",
       "      <td>84</td>\n",
       "      <td>0</td>\n",
       "      <td>1482</td>\n",
       "      <td>0</td>\n",
       "      <td>0</td>\n",
       "      <td>0</td>\n",
       "      <td>2</td>\n",
       "      <td>1</td>\n",
       "      <td>212</td>\n",
       "      <td>...</td>\n",
       "      <td>0</td>\n",
       "      <td>10</td>\n",
       "      <td>29</td>\n",
       "      <td>32</td>\n",
       "      <td>433</td>\n",
       "      <td>545</td>\n",
       "      <td>0</td>\n",
       "      <td>4</td>\n",
       "      <td>1</td>\n",
       "      <td>69</td>\n",
       "    </tr>\n",
       "  </tbody>\n",
       "</table>\n",
       "<p>5 rows × 50 columns</p>\n",
       "</div>"
      ],
      "text/plain": [
       "       0    1    2     3     4   5    6   7   8     9   ...   40   41   42  \\\n",
       "479     0    0    0     0     0   0    0   0   0     6  ...    0    0    0   \n",
       "4     991  955   15   749     0   0  367   1   0   478  ...   50  204  167   \n",
       "79     62    1  110     0   591   0    2  45  10  1365  ...   12    0    2   \n",
       "3    1043   39  498     0  3618   0    0   5   0   324  ...  353    0  930   \n",
       "7     459   84    0  1482     0   0    0   2   1   212  ...    0   10   29   \n",
       "\n",
       "      43   44   45   46   47  48    49  \n",
       "479    0    0   13    0    0   0    21  \n",
       "4    552  428  587    2    1  16    74  \n",
       "79    90   13   93    0  811   0  1944  \n",
       "3    422  459  537  396  360   4   903  \n",
       "7     32  433  545    0    4   1    69  \n",
       "\n",
       "[5 rows x 50 columns]"
      ]
     },
     "metadata": {},
     "output_type": "display_data"
    }
   ],
   "source": [
    "q = users50_library_df.loc[users50_library_df.sum(axis = 1).sort_values(ascending = False).index]\n",
    "display(q.head())"
   ]
  },
  {
   "cell_type": "markdown",
   "metadata": {},
   "source": [
    "The corresponded artists. "
   ]
  },
  {
   "cell_type": "code",
   "execution_count": 31,
   "metadata": {},
   "outputs": [
    {
     "data": {
      "text/html": [
       "<div>\n",
       "<style scoped>\n",
       "    .dataframe tbody tr th:only-of-type {\n",
       "        vertical-align: middle;\n",
       "    }\n",
       "\n",
       "    .dataframe tbody tr th {\n",
       "        vertical-align: top;\n",
       "    }\n",
       "\n",
       "    .dataframe thead th {\n",
       "        text-align: right;\n",
       "    }\n",
       "</style>\n",
       "<table border=\"1\" class=\"dataframe\">\n",
       "  <thead>\n",
       "    <tr style=\"text-align: right;\">\n",
       "      <th></th>\n",
       "      <th>artist_name</th>\n",
       "    </tr>\n",
       "  </thead>\n",
       "  <tbody>\n",
       "    <tr>\n",
       "      <th>479</th>\n",
       "      <td>Gloria Groove</td>\n",
       "    </tr>\n",
       "    <tr>\n",
       "      <th>4</th>\n",
       "      <td>Radiohead</td>\n",
       "    </tr>\n",
       "    <tr>\n",
       "      <th>79</th>\n",
       "      <td>Lady Gaga</td>\n",
       "    </tr>\n",
       "    <tr>\n",
       "      <th>3</th>\n",
       "      <td>Lana Del Rey</td>\n",
       "    </tr>\n",
       "    <tr>\n",
       "      <th>7</th>\n",
       "      <td>The Beatles</td>\n",
       "    </tr>\n",
       "  </tbody>\n",
       "</table>\n",
       "</div>"
      ],
      "text/plain": [
       "       artist_name\n",
       "479  Gloria Groove\n",
       "4        Radiohead\n",
       "79       Lady Gaga\n",
       "3     Lana Del Rey\n",
       "7      The Beatles"
      ]
     },
     "execution_count": 31,
     "metadata": {},
     "output_type": "execute_result"
    }
   ],
   "source": [
    "artist_df.loc[q.head().index]"
   ]
  },
  {
   "cell_type": "markdown",
   "metadata": {},
   "source": [
    "## Conclusion \n",
    "\n",
    "There are lot more information we could retrive, but we considered only a part of it, to test the initial models. It's a good API, but to get the links, it's really slow, what harms the Data Science pipelines. There is datasets already done with part of this information, but we prefered to generate cause it's more trustable and everyone can generate it. But remember it can take a long time. "
   ]
  }
 ],
 "metadata": {
  "kernelspec": {
   "display_name": "Python 3",
   "language": "python",
   "name": "python3"
  },
  "language_info": {
   "codemirror_mode": {
    "name": "ipython",
    "version": 3
   },
   "file_extension": ".py",
   "mimetype": "text/x-python",
   "name": "python",
   "nbconvert_exporter": "python",
   "pygments_lexer": "ipython3",
   "version": "3.7.3"
  }
 },
 "nbformat": 4,
 "nbformat_minor": 2
}
