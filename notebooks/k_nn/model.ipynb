{
 "cells": [
  {
   "cell_type": "markdown",
   "metadata": {},
   "source": [
    "# k-NN model"
   ]
  },
  {
   "cell_type": "markdown",
   "metadata": {},
   "source": [
    "Given a playlist, we want to add more tracks: it's the **playlist continuation** problem. Following [Kelen et al.](https://dl.acm.org/doi/abs/10.1145/3267471.3267477), the idea here is to define a similarity metric between two playlists, select the $k$ most similar playlists to ours, define a score metric for tracks continuing our playlist and choose the best tracks to continue it."
   ]
  },
  {
   "cell_type": "code",
   "execution_count": 1,
   "metadata": {},
   "outputs": [],
   "source": [
    "from scipy.sparse import lil_matrix\n",
    "from tqdm.notebook import tqdm\n",
    "import glob\n",
    "import numpy as np\n",
    "import pandas as pd\n",
    "\n",
    "from spotipy.oauth2 import SpotifyClientCredentials\n",
    "import spotipy\n",
    "\n",
    "auth_manager = SpotifyClientCredentials()\n",
    "sp = spotipy.Spotify(auth_manager=auth_manager)"
   ]
  },
  {
   "cell_type": "markdown",
   "metadata": {},
   "source": [
    "## Treatment"
   ]
  },
  {
   "cell_type": "markdown",
   "metadata": {},
   "source": [
    "Here we load and treat the tracks dataset."
   ]
  },
  {
   "cell_type": "code",
   "execution_count": 2,
   "metadata": {},
   "outputs": [
    {
     "data": {
      "text/plain": [
       "playlist_id\n",
       "002tR8Orc24qAjOUA1WZky    [4nRPcD4a5QGH95ZnwGvjwr, 66e6O0B9GmSRNAnzB0Bm7...\n",
       "005DlsAeMYKNkiH68qg42D    [1EzZKyFDupKMTkanau4nBz, 0sCNal67P5Nydob9zITXr...\n",
       "005TzWiU0IWtwpvJRl0E2U    [5sjINZsTACv5hmwv6nSrST, 2kH9pYAE74wdKG80AtL73...\n",
       "00CgYEsYFmBBMY2xMc8ll2    [1Y4URywn643uZPth46W1Y4, 3iKlGM4UeSOecjb7pj10n...\n",
       "00CxBYCkFSb8rXXI2HuEDw    [1uxzFavoQSzR6NhzeSbHdM, 7MoJIfitwutdf2B9RbJdd...\n",
       "                                                ...                        \n",
       "7ziIxFZYxrk5PGjmTIHw8U    [2IHaGyfxNoFPLJnaEg4GTs, 45e8T07myBjutIx2xh8Kq...\n",
       "7zlLMQZc0JP6yStjLopDk9    [1MJ5f5EYBC92ADD6xcz7nb, 2J4obtL5oOmstcOfq5UW3...\n",
       "7znebC1MKbXiQiUqxDGVMx    [2Fxmhks0bxGSBdJ92vM42m, 2qT1uLXPVPzGgFOx4jtEu...\n",
       "7zr3klk3xuOVCKyxV4USDO    [6x0jeG72v8tYQfpfox6dWh, 1zcWL2FZKee3ub0wbTfNG...\n",
       "7zsK5nJQzCjJaTnjiAcvd0    [3ZqZ3IbrVbFTdTvGcK0vpm, 1KqpIQGNINpG0hDdbB9Pi...\n",
       "Name: id, Length: 10638, dtype: object"
      ]
     },
     "execution_count": 2,
     "metadata": {},
     "output_type": "execute_result"
    }
   ],
   "source": [
    "tracks_dfs = (\n",
    "    pd.read_pickle(file)[['id', 'playlist_id']] for file in glob.glob('../../data/sp_tracks_ready_*.pkl')\n",
    ")\n",
    "tracks_df = pd.concat(tracks_dfs, ignore_index=True)\n",
    "tracks_df.dropna(inplace=True)\n",
    "\n",
    "grouped_tracks = tracks_df.groupby('playlist_id')['id'].apply(list)\n",
    "grouped_tracks"
   ]
  },
  {
   "cell_type": "markdown",
   "metadata": {},
   "source": [
    "Because we will use matrix multiplication, we have to index each track and each playlist id to index of the matrix. We do it here using dictionaries:"
   ]
  },
  {
   "cell_type": "code",
   "execution_count": 3,
   "metadata": {},
   "outputs": [],
   "source": [
    "track_ids_go = dict(zip(set(tracks_df.id), range(len(set(tracks_df.id)))))\n",
    "track_ids_back = dict(zip(track_ids_go.values(), track_ids_go.keys()))\n",
    "playlist_ids = dict(zip(set(tracks_df.playlist_id), range(len(set(tracks_df.playlist_id)))))"
   ]
  },
  {
   "cell_type": "markdown",
   "metadata": {},
   "source": [
    "We build the relevance matrix $R$. $R_{ij}=r_{ji}$ indicates if a track $j$ is relevant to the playlist $i$, that is, the track is in the playlist."
   ]
  },
  {
   "cell_type": "code",
   "execution_count": 4,
   "metadata": {},
   "outputs": [
    {
     "data": {
      "application/vnd.jupyter.widget-view+json": {
       "model_id": "446abf8b7ea04d4d940dfc599791cef3",
       "version_major": 2,
       "version_minor": 0
      },
      "text/plain": [
       "HBox(children=(FloatProgress(value=0.0, max=810282.0), HTML(value='')))"
      ]
     },
     "metadata": {},
     "output_type": "display_data"
    },
    {
     "name": "stdout",
     "output_type": "stream",
     "text": [
      "\n"
     ]
    }
   ],
   "source": [
    "R = lil_matrix((len(set(tracks_df.playlist_id)), len(set(tracks_df.id))))\n",
    "\n",
    "for index, row in tqdm(tracks_df.iterrows(), total=len(tracks_df)):\n",
    "    R[playlist_ids[row.playlist_id], track_ids_go[row.id]] = 1"
   ]
  },
  {
   "cell_type": "markdown",
   "metadata": {},
   "source": [
    "## The model"
   ]
  },
  {
   "cell_type": "markdown",
   "metadata": {},
   "source": [
    "The similarity between two playlists $u$ and $v$ is calculated by:\n",
    "$$s_{uv} = \\sum_{i \\in I} \\dfrac{r_{ui}r_{vi}}{||R_u||_2||R_v||_2}$$\n",
    "$I$ is the set of tracks and $R_u$ is the vector of relevances $r_{ui}$ for the playlist $u$.\n",
    "\n",
    "In fact, we basically count the number of tracks in the intersection of the playlists and normalize it."
   ]
  },
  {
   "cell_type": "code",
   "execution_count": 5,
   "metadata": {},
   "outputs": [],
   "source": [
    "def similarity(playlist_1, playlist_2):\n",
    "    \"\"\"Calculate the similarity between two playlists.\"\"\"\n",
    "    summation = len(set(playlist_1) & set(playlist_2))\n",
    "    return summation/(np.sqrt(len(playlist_1))*np.sqrt(len(playlist_2)))"
   ]
  },
  {
   "cell_type": "markdown",
   "metadata": {},
   "source": [
    "Given a playlist $u$ to be continuated, we calculate the similarity of it with all existent playlists and select the $k$ most similar playlists, that is, the set $N_k(u)$. So, we define a score for a track to be in the playlist:\n",
    "$$\\hat{r}_{ui} = \\dfrac{\\sum_{v \\in N_k(u)} s_{uv} \\cdot r_{vi}}{\\sum_{v \\in N_k(u)} s_{uv}}$$\n",
    "\n",
    "The intuition is that we are giving high scores to tracks that are in many playlists with great similarities to out playlist. We return the tracks ordered by score."
   ]
  },
  {
   "cell_type": "code",
   "execution_count": 6,
   "metadata": {},
   "outputs": [],
   "source": [
    "def continuation(playlist, k):\n",
    "    \"\"\"Continue a playlist based on k most similar playlists.\"\"\"\n",
    "    s_u = lil_matrix((1, len(playlist_ids)))\n",
    "    for alt_playlist_index, alt_playlist in grouped_tracks.items():\n",
    "        s_u[0, playlist_ids[alt_playlist_index]] = similarity(playlist, alt_playlist)\n",
    "    sorted_similarities_indices = np.flip(np.argsort(s_u.toarray()[0]))\n",
    "    top_k_similarities_indices = sorted_similarities_indices[:k]\n",
    "    scores = (s_u[0, top_k_similarities_indices]*R[top_k_similarities_indices, :]).toarray()[0]\n",
    "    sorted_scores_indices = np.flip(np.argsort(scores))\n",
    "    return [track_ids_back[index] for index in sorted_scores_indices]"
   ]
  },
  {
   "cell_type": "markdown",
   "metadata": {},
   "source": [
    "## Sanity check"
   ]
  },
  {
   "cell_type": "markdown",
   "metadata": {},
   "source": [
    "Before evaluating out model, it's worth it to do a sanity check. We will take the most listened songs from The Beatles and continue the playlist, with $k = 100$."
   ]
  },
  {
   "cell_type": "code",
   "execution_count": 7,
   "metadata": {},
   "outputs": [],
   "source": [
    "q = sp.search('The Beatles', type='artist')"
   ]
  },
  {
   "cell_type": "markdown",
   "metadata": {},
   "source": [
    "Our playlist to be continuated:"
   ]
  },
  {
   "cell_type": "code",
   "execution_count": 8,
   "metadata": {},
   "outputs": [
    {
     "data": {
      "text/plain": [
       "['Here Comes The Sun - Remastered 2009',\n",
       " 'Let It Be - Remastered 2009',\n",
       " 'Come Together - Remastered 2009',\n",
       " 'Yesterday - Remastered 2009',\n",
       " 'Hey Jude - Remastered 2015',\n",
       " 'Blackbird - Remastered 2009',\n",
       " 'Twist And Shout - Remastered 2009',\n",
       " 'I Want To Hold Your Hand - Remastered 2015',\n",
       " 'In My Life - Remastered 2009',\n",
       " 'Help! - Remastered 2009']"
      ]
     },
     "execution_count": 8,
     "metadata": {},
     "output_type": "execute_result"
    }
   ],
   "source": [
    "[track['name'] for track in sp.artist_top_tracks(q['artists']['items'][0]['id'])['tracks']]"
   ]
  },
  {
   "cell_type": "markdown",
   "metadata": {},
   "source": [
    "Continuating..."
   ]
  },
  {
   "cell_type": "code",
   "execution_count": 9,
   "metadata": {},
   "outputs": [],
   "source": [
    "result = continuation([track['id'] for track in sp.artist_top_tracks(q['artists']['items'][0]['id'])['tracks']], 100)"
   ]
  },
  {
   "cell_type": "markdown",
   "metadata": {},
   "source": [
    "So:"
   ]
  },
  {
   "cell_type": "code",
   "execution_count": 10,
   "metadata": {},
   "outputs": [],
   "source": [
    "q = sp.tracks(result[:50])"
   ]
  },
  {
   "cell_type": "code",
   "execution_count": 11,
   "metadata": {},
   "outputs": [
    {
     "data": {
      "text/plain": [
       "[('Here Comes The Sun - Remastered 2009', 'The Beatles'),\n",
       " ('Come Together - Remastered 2009', 'The Beatles'),\n",
       " ('Hey Jude - Remastered 2015', 'The Beatles'),\n",
       " ('Let It Be - Remastered 2009', 'The Beatles'),\n",
       " ('I Want To Hold Your Hand - Remastered 2015', 'The Beatles'),\n",
       " ('Blackbird - Remastered 2009', 'The Beatles'),\n",
       " ('Yesterday - Remastered 2009', 'The Beatles'),\n",
       " ('Help! - Remastered 2009', 'The Beatles'),\n",
       " ('Got To Get You Into My Life - Remastered 2009', 'The Beatles'),\n",
       " ('While My Guitar Gently Weeps - Remastered 2009', 'The Beatles'),\n",
       " ('Billie Jean', 'Michael Jackson'),\n",
       " ('Strawberry Fields Forever - Remastered 2009', 'The Beatles'),\n",
       " ('Eleanor Rigby - Remastered 2009', 'The Beatles'),\n",
       " ('All You Need Is Love - Remastered 2009', 'The Beatles'),\n",
       " ('Bohemian Rhapsody - 2011 Mix', 'Queen'),\n",
       " ('Twist And Shout - Remastered 2009', 'The Beatles'),\n",
       " ('Beat It - Single Version', 'Michael Jackson'),\n",
       " ('All Along the Watchtower', 'Jimi Hendrix'),\n",
       " ('Lucy In The Sky With Diamonds - Remastered 2009', 'The Beatles'),\n",
       " (\"Rocket Man (I Think It's Going To Be A Long, Long Time)\", 'Elton John'),\n",
       " ('Bohemian Rhapsody - 2011 Mix', 'Queen'),\n",
       " ('Across The Universe - Remastered 2009', 'The Beatles'),\n",
       " ('Yellow Submarine - Remastered 2009', 'The Beatles'),\n",
       " ('Under Pressure - Remastered', 'Queen'),\n",
       " (\"Can't Buy Me Love - Remastered 2009\", 'The Beatles'),\n",
       " ('Ob-La-Di, Ob-La-Da - Remastered 2009', 'The Beatles'),\n",
       " (\"Sgt. Pepper's Lonely Hearts Club Band - Remastered 2009\", 'The Beatles'),\n",
       " ('Oh! Darling - Remastered 2009', 'The Beatles'),\n",
       " (\"Maxwell's Silver Hammer - Remastered 2009\", 'The Beatles'),\n",
       " ('Love Of My Life - Remastered 2011', 'Queen'),\n",
       " ('I Am The Walrus - Remastered 2009', 'The Beatles'),\n",
       " ('In My Life - Remastered 2009', 'The Beatles'),\n",
       " ('We Will Rock You - Remastered', 'Queen'),\n",
       " ('Dear Prudence - Remastered 2009', 'The Beatles'),\n",
       " ('Imagine - Remastered 2010', 'John Lennon'),\n",
       " ('Norwegian Wood (This Bird Has Flown) - Remastered 2009', 'The Beatles'),\n",
       " ('Californication', 'Red Hot Chili Peppers'),\n",
       " ('Another One Bites The Dust - Remastered 2011', 'Queen'),\n",
       " ('Killer Queen - 2011 Mix', 'Queen'),\n",
       " ('A Kind Of Magic - Remastered 2011', 'Queen'),\n",
       " (\"Don't Stop Me Now - 2011 Mix\", 'Queen'),\n",
       " (\"When I'm Sixty Four - Remastered 2009\", 'The Beatles'),\n",
       " (\"Baba O'Riley\", 'The Who'),\n",
       " ('Radio Ga Ga - 2011 Mix', 'Queen'),\n",
       " ('The Show Must Go On - 2011 Mix', 'Queen'),\n",
       " ('Friends Will Be Friends - Remastered 2011', 'Queen'),\n",
       " ('We Are The Champions - Remastered 2011', 'Queen'),\n",
       " ('I Want It All - Single Version', 'Queen'),\n",
       " ('Hey Joe', 'Jimi Hendrix'),\n",
       " ('Tiny Dancer', 'Elton John')]"
      ]
     },
     "execution_count": 11,
     "metadata": {},
     "output_type": "execute_result"
    }
   ],
   "source": [
    "[(q['tracks'][i]['name'], q['tracks'][i]['artists'][0]['name']) for i in range(len(q['tracks']))]"
   ]
  },
  {
   "cell_type": "markdown",
   "metadata": {},
   "source": [
    "Well, it seems to be working."
   ]
  }
 ],
 "metadata": {
  "kernelspec": {
   "display_name": "Python 3",
   "language": "python",
   "name": "python3"
  },
  "language_info": {
   "codemirror_mode": {
    "name": "ipython",
    "version": 3
   },
   "file_extension": ".py",
   "mimetype": "text/x-python",
   "name": "python",
   "nbconvert_exporter": "python",
   "pygments_lexer": "ipython3",
   "version": "3.8.3"
  }
 },
 "nbformat": 4,
 "nbformat_minor": 4
}
