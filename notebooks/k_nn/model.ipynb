{
 "cells": [
  {
   "cell_type": "markdown",
   "metadata": {},
   "source": [
    "# k-NN model"
   ]
  },
  {
   "cell_type": "markdown",
   "metadata": {},
   "source": [
    "Given a playlist, we want to add more tracks: it's the **playlist continuation** problem. Following [Kelen et al.](https://dl.acm.org/doi/abs/10.1145/3267471.3267477), the idea here is to define a similarity metric between two playlists, select the $k$ most similar playlists to ours, define a score metric for tracks continuing our playlist and choose the best tracks to continue it."
   ]
  },
  {
   "cell_type": "code",
   "execution_count": 49,
   "metadata": {},
   "outputs": [],
   "source": [
    "from scipy.sparse import lil_matrix\n",
    "from tqdm.notebook import tqdm\n",
    "import glob\n",
    "import numpy as np\n",
    "import pandas as pd\n",
    "\n",
    "from spotipy.oauth2 import SpotifyClientCredentials\n",
    "import spotipy\n",
    "\n",
    "auth_manager = SpotifyClientCredentials()\n",
    "sp = spotipy.Spotify(auth_manager=auth_manager)"
   ]
  },
  {
   "cell_type": "markdown",
   "metadata": {},
   "source": [
    "## Treatment"
   ]
  },
  {
   "cell_type": "markdown",
   "metadata": {},
   "source": [
    "### Tracks"
   ]
  },
  {
   "cell_type": "markdown",
   "metadata": {},
   "source": [
    "Here we load and treat the tracks dataset."
   ]
  },
  {
   "cell_type": "code",
   "execution_count": 50,
   "metadata": {},
   "outputs": [
    {
     "data": {
      "text/html": [
       "<div>\n",
       "<style scoped>\n",
       "    .dataframe tbody tr th:only-of-type {\n",
       "        vertical-align: middle;\n",
       "    }\n",
       "\n",
       "    .dataframe tbody tr th {\n",
       "        vertical-align: top;\n",
       "    }\n",
       "\n",
       "    .dataframe thead th {\n",
       "        text-align: right;\n",
       "    }\n",
       "</style>\n",
       "<table border=\"1\" class=\"dataframe\">\n",
       "  <thead>\n",
       "    <tr style=\"text-align: right;\">\n",
       "      <th></th>\n",
       "      <th>id</th>\n",
       "      <th>playlist_id</th>\n",
       "      <th>artists_ids</th>\n",
       "    </tr>\n",
       "  </thead>\n",
       "  <tbody>\n",
       "    <tr>\n",
       "      <th>0</th>\n",
       "      <td>0DABCqd96Fo71aZj6fKYcy</td>\n",
       "      <td>5sfxnGkrpCteZQt59RCGcL</td>\n",
       "      <td>[2E4L9G4jTkc647FIq8rYGW, 11OUxHFoGgo2NDSdT6YiE...</td>\n",
       "    </tr>\n",
       "    <tr>\n",
       "      <th>1</th>\n",
       "      <td>4jDF1QHbRoPUVFEkQn6Pit</td>\n",
       "      <td>5sfxnGkrpCteZQt59RCGcL</td>\n",
       "      <td>[4GaCmhB3S6i5A7y5vRJzsL]</td>\n",
       "    </tr>\n",
       "    <tr>\n",
       "      <th>2</th>\n",
       "      <td>0Qb9dMomcRHV8BLogGUqi2</td>\n",
       "      <td>5sfxnGkrpCteZQt59RCGcL</td>\n",
       "      <td>[5tIMc0MdfB2OV6sULOmeao]</td>\n",
       "    </tr>\n",
       "    <tr>\n",
       "      <th>3</th>\n",
       "      <td>3vt0qjq7IK1mBzR0PK45Oq</td>\n",
       "      <td>5sfxnGkrpCteZQt59RCGcL</td>\n",
       "      <td>[7dc6hUwyuIhrZdh80eaCEE]</td>\n",
       "    </tr>\n",
       "    <tr>\n",
       "      <th>4</th>\n",
       "      <td>4Id3igZYteLReHqHz8InL0</td>\n",
       "      <td>5sfxnGkrpCteZQt59RCGcL</td>\n",
       "      <td>[4IVlorYhuVoIUWg6HVx6DK]</td>\n",
       "    </tr>\n",
       "    <tr>\n",
       "      <th>...</th>\n",
       "      <td>...</td>\n",
       "      <td>...</td>\n",
       "      <td>...</td>\n",
       "    </tr>\n",
       "    <tr>\n",
       "      <th>849392</th>\n",
       "      <td>5Fw17rh1qEC6YoT32BijNI</td>\n",
       "      <td>1UggNlAE0AZL9jg5LgfnK6</td>\n",
       "      <td>[6ueGR6SWhUJfvEhqkvMsVs]</td>\n",
       "    </tr>\n",
       "    <tr>\n",
       "      <th>849393</th>\n",
       "      <td>29HemHbSIVerWQQ1YNVzXU</td>\n",
       "      <td>1UggNlAE0AZL9jg5LgfnK6</td>\n",
       "      <td>[6TqQLejnHXMGr7KcegxUND]</td>\n",
       "    </tr>\n",
       "    <tr>\n",
       "      <th>849394</th>\n",
       "      <td>0CPGEvqZ8wZAEYTQVcF2NL</td>\n",
       "      <td>1UggNlAE0AZL9jg5LgfnK6</td>\n",
       "      <td>[4lPl9gqgox3JDiaJ1yklKh]</td>\n",
       "    </tr>\n",
       "    <tr>\n",
       "      <th>849395</th>\n",
       "      <td>1Oc6sieJIKnw1Sy93Vp0Lq</td>\n",
       "      <td>1UggNlAE0AZL9jg5LgfnK6</td>\n",
       "      <td>[0qM78DOdgnNPpq2CpTNgU5, 5BLDZvqf1kjdGL4jwFhAk5]</td>\n",
       "    </tr>\n",
       "    <tr>\n",
       "      <th>849396</th>\n",
       "      <td>4eFXaYD2is6c6Y645Qyyy1</td>\n",
       "      <td>1UggNlAE0AZL9jg5LgfnK6</td>\n",
       "      <td>[3p3jPcp8b7WL9XYj4xlsWj]</td>\n",
       "    </tr>\n",
       "  </tbody>\n",
       "</table>\n",
       "<p>810282 rows × 3 columns</p>\n",
       "</div>"
      ],
      "text/plain": [
       "                            id             playlist_id  \\\n",
       "0       0DABCqd96Fo71aZj6fKYcy  5sfxnGkrpCteZQt59RCGcL   \n",
       "1       4jDF1QHbRoPUVFEkQn6Pit  5sfxnGkrpCteZQt59RCGcL   \n",
       "2       0Qb9dMomcRHV8BLogGUqi2  5sfxnGkrpCteZQt59RCGcL   \n",
       "3       3vt0qjq7IK1mBzR0PK45Oq  5sfxnGkrpCteZQt59RCGcL   \n",
       "4       4Id3igZYteLReHqHz8InL0  5sfxnGkrpCteZQt59RCGcL   \n",
       "...                        ...                     ...   \n",
       "849392  5Fw17rh1qEC6YoT32BijNI  1UggNlAE0AZL9jg5LgfnK6   \n",
       "849393  29HemHbSIVerWQQ1YNVzXU  1UggNlAE0AZL9jg5LgfnK6   \n",
       "849394  0CPGEvqZ8wZAEYTQVcF2NL  1UggNlAE0AZL9jg5LgfnK6   \n",
       "849395  1Oc6sieJIKnw1Sy93Vp0Lq  1UggNlAE0AZL9jg5LgfnK6   \n",
       "849396  4eFXaYD2is6c6Y645Qyyy1  1UggNlAE0AZL9jg5LgfnK6   \n",
       "\n",
       "                                              artists_ids  \n",
       "0       [2E4L9G4jTkc647FIq8rYGW, 11OUxHFoGgo2NDSdT6YiE...  \n",
       "1                                [4GaCmhB3S6i5A7y5vRJzsL]  \n",
       "2                                [5tIMc0MdfB2OV6sULOmeao]  \n",
       "3                                [7dc6hUwyuIhrZdh80eaCEE]  \n",
       "4                                [4IVlorYhuVoIUWg6HVx6DK]  \n",
       "...                                                   ...  \n",
       "849392                           [6ueGR6SWhUJfvEhqkvMsVs]  \n",
       "849393                           [6TqQLejnHXMGr7KcegxUND]  \n",
       "849394                           [4lPl9gqgox3JDiaJ1yklKh]  \n",
       "849395   [0qM78DOdgnNPpq2CpTNgU5, 5BLDZvqf1kjdGL4jwFhAk5]  \n",
       "849396                           [3p3jPcp8b7WL9XYj4xlsWj]  \n",
       "\n",
       "[810282 rows x 3 columns]"
      ]
     },
     "execution_count": 50,
     "metadata": {},
     "output_type": "execute_result"
    }
   ],
   "source": [
    "tracks_dfs = (\n",
    "    pd.read_pickle(file)[['id', 'playlist_id', 'artists_ids']] for file in glob.glob('../../data/old_data/sp_tracks_ready_*.pkl')\n",
    ")\n",
    "tracks_df = pd.concat(tracks_dfs, ignore_index=True)\n",
    "tracks_df.dropna(inplace=True)\n",
    "tracks_df"
   ]
  },
  {
   "cell_type": "code",
   "execution_count": 51,
   "metadata": {},
   "outputs": [
    {
     "data": {
      "text/plain": [
       "playlist_id\n",
       "002tR8Orc24qAjOUA1WZky    [4nRPcD4a5QGH95ZnwGvjwr, 66e6O0B9GmSRNAnzB0Bm7...\n",
       "005DlsAeMYKNkiH68qg42D    [1EzZKyFDupKMTkanau4nBz, 0sCNal67P5Nydob9zITXr...\n",
       "005TzWiU0IWtwpvJRl0E2U    [5sjINZsTACv5hmwv6nSrST, 2kH9pYAE74wdKG80AtL73...\n",
       "00CgYEsYFmBBMY2xMc8ll2    [1Y4URywn643uZPth46W1Y4, 3iKlGM4UeSOecjb7pj10n...\n",
       "00CxBYCkFSb8rXXI2HuEDw    [1uxzFavoQSzR6NhzeSbHdM, 7MoJIfitwutdf2B9RbJdd...\n",
       "                                                ...                        \n",
       "7ziIxFZYxrk5PGjmTIHw8U    [2IHaGyfxNoFPLJnaEg4GTs, 45e8T07myBjutIx2xh8Kq...\n",
       "7zlLMQZc0JP6yStjLopDk9    [1MJ5f5EYBC92ADD6xcz7nb, 2J4obtL5oOmstcOfq5UW3...\n",
       "7znebC1MKbXiQiUqxDGVMx    [2Fxmhks0bxGSBdJ92vM42m, 2qT1uLXPVPzGgFOx4jtEu...\n",
       "7zr3klk3xuOVCKyxV4USDO    [6x0jeG72v8tYQfpfox6dWh, 1zcWL2FZKee3ub0wbTfNG...\n",
       "7zsK5nJQzCjJaTnjiAcvd0    [3ZqZ3IbrVbFTdTvGcK0vpm, 1KqpIQGNINpG0hDdbB9Pi...\n",
       "Name: id, Length: 10638, dtype: object"
      ]
     },
     "execution_count": 51,
     "metadata": {},
     "output_type": "execute_result"
    }
   ],
   "source": [
    "playlists = tracks_df.groupby('playlist_id')['id'].apply(list)\n",
    "playlists"
   ]
  },
  {
   "cell_type": "markdown",
   "metadata": {},
   "source": [
    "We treat the artists for each track:"
   ]
  },
  {
   "cell_type": "code",
   "execution_count": 52,
   "metadata": {},
   "outputs": [
    {
     "data": {
      "text/plain": [
       "track_id\n",
       "0DABCqd96Fo71aZj6fKYcy    [2E4L9G4jTkc647FIq8rYGW, 11OUxHFoGgo2NDSdT6YiE...\n",
       "4jDF1QHbRoPUVFEkQn6Pit                             [4GaCmhB3S6i5A7y5vRJzsL]\n",
       "0Qb9dMomcRHV8BLogGUqi2                             [5tIMc0MdfB2OV6sULOmeao]\n",
       "3vt0qjq7IK1mBzR0PK45Oq                             [7dc6hUwyuIhrZdh80eaCEE]\n",
       "4Id3igZYteLReHqHz8InL0                             [4IVlorYhuVoIUWg6HVx6DK]\n",
       "                                                ...                        \n",
       "5Fw17rh1qEC6YoT32BijNI                             [6ueGR6SWhUJfvEhqkvMsVs]\n",
       "29HemHbSIVerWQQ1YNVzXU                             [6TqQLejnHXMGr7KcegxUND]\n",
       "0CPGEvqZ8wZAEYTQVcF2NL                             [4lPl9gqgox3JDiaJ1yklKh]\n",
       "1Oc6sieJIKnw1Sy93Vp0Lq     [0qM78DOdgnNPpq2CpTNgU5, 5BLDZvqf1kjdGL4jwFhAk5]\n",
       "4eFXaYD2is6c6Y645Qyyy1                             [3p3jPcp8b7WL9XYj4xlsWj]\n",
       "Name: artists_ids, Length: 810282, dtype: object"
      ]
     },
     "execution_count": 52,
     "metadata": {},
     "output_type": "execute_result"
    }
   ],
   "source": [
    "artists = tracks_df.set_index('id').artists_ids\n",
    "artists.index.name = 'track_id'\n",
    "artists_ids = dict(zip(artists.index, range(len(artists))))\n",
    "artists"
   ]
  },
  {
   "cell_type": "markdown",
   "metadata": {},
   "source": [
    "## Training and test data"
   ]
  },
  {
   "cell_type": "code",
   "execution_count": 53,
   "metadata": {},
   "outputs": [],
   "source": [
    "# Only playlists between 5 and 250 tracks\n",
    "query = playlists.apply(lambda x: len(x))\n",
    "playlists = playlists[(query >= 5) & (query <= 250)]"
   ]
  },
  {
   "cell_type": "code",
   "execution_count": 54,
   "metadata": {},
   "outputs": [],
   "source": [
    "n_test = int(np.ceil(len(playlists)*0.2))\n",
    "query = playlists.apply(lambda x: len(x))\n",
    "playlists_test = playlists[(query > 25)].sample(n_test)"
   ]
  },
  {
   "cell_type": "code",
   "execution_count": 55,
   "metadata": {},
   "outputs": [],
   "source": [
    "playlists_training = playlists.drop(index = playlists_test.index)"
   ]
  },
  {
   "cell_type": "markdown",
   "metadata": {},
   "source": [
    "## The model"
   ]
  },
  {
   "cell_type": "markdown",
   "metadata": {},
   "source": [
    "### Relevance matrix $R$"
   ]
  },
  {
   "cell_type": "markdown",
   "metadata": {},
   "source": [
    "We build the relevance matrix $R$. $R_{ij}=r_{ji}$ indicates if a track $j$ is relevant to the playlist $i$, that is, the track is in the playlist."
   ]
  },
  {
   "cell_type": "code",
   "execution_count": 56,
   "metadata": {},
   "outputs": [],
   "source": [
    "all_tracks = []\n",
    "for playlist in playlists_training.to_list():\n",
    "    all_tracks.extend(playlist)\n",
    "all_tracks = list(set(all_tracks))"
   ]
  },
  {
   "cell_type": "markdown",
   "metadata": {},
   "source": [
    "Because we will use matrix multiplication, we have to index each track and each playlist id to index of the matrix. We do it here using dictionaries:"
   ]
  },
  {
   "cell_type": "code",
   "execution_count": 57,
   "metadata": {},
   "outputs": [],
   "source": [
    "track_ids_go = dict(zip(all_tracks, range(len(all_tracks))))\n",
    "track_ids_back = dict(zip(track_ids_go.values(), track_ids_go.keys()))\n",
    "playlist_ids = dict(zip(set(playlists_training.index), range(len(set(playlists_training.index)))))"
   ]
  },
  {
   "cell_type": "code",
   "execution_count": 58,
   "metadata": {},
   "outputs": [
    {
     "data": {
      "application/vnd.jupyter.widget-view+json": {
       "model_id": "d221519ac48b497d97cb64acdec7e134",
       "version_major": 2,
       "version_minor": 0
      },
      "text/plain": [
       "HBox(children=(FloatProgress(value=0.0, max=7242.0), HTML(value='')))"
      ]
     },
     "metadata": {},
     "output_type": "display_data"
    },
    {
     "name": "stdout",
     "output_type": "stream",
     "text": [
      "\n"
     ]
    }
   ],
   "source": [
    "m = len(set(playlists_training.index))\n",
    "n = len(set(all_tracks))\n",
    "R = lil_matrix((m, n))\n",
    "\n",
    "for playlist_id, playlist in tqdm(playlists_training.iteritems(), total=len(playlists_training)):\n",
    "    for track_id in playlist:\n",
    "        R[playlist_ids[playlist_id], track_ids_go[track_id]] = 1"
   ]
  },
  {
   "cell_type": "markdown",
   "metadata": {},
   "source": [
    "### Similarity"
   ]
  },
  {
   "cell_type": "markdown",
   "metadata": {},
   "source": [
    "The similarity between two playlists $u$ and $v$ is calculated by:\n",
    "$$s_{uv} = \\sum_{i \\in I} \\dfrac{r_{ui}r_{vi}}{||R_u||_2||R_v||_2}$$\n",
    "$I$ is the set of tracks and $R_u$ is the vector of relevances $r_{ui}$ for the playlist $u$.\n",
    "\n",
    "In fact, we basically count the number of tracks in the intersection of the playlists and normalize it."
   ]
  },
  {
   "cell_type": "code",
   "execution_count": 59,
   "metadata": {},
   "outputs": [],
   "source": [
    "def similarity(playlist_1, playlist_2):\n",
    "    \"\"\"Calculate the similarity between two playlists.\"\"\"\n",
    "    summation = len(set(playlist_1) & set(playlist_2))\n",
    "    return summation/(np.sqrt(len(playlist_1))*np.sqrt(len(playlist_2)))"
   ]
  },
  {
   "cell_type": "markdown",
   "metadata": {},
   "source": [
    "### Track score"
   ]
  },
  {
   "cell_type": "markdown",
   "metadata": {},
   "source": [
    "Given a playlist $u$ to be continuated, we calculate the similarity of it with all existent playlists and select the $k$ most similar playlists, that is, the set $N_k(u)$. So, we define a score for a track to be in the playlist:\n",
    "$$\\hat{r}_{ui} = \\dfrac{\\sum_{v \\in N_k(u)} s_{uv} \\cdot r_{vi}}{\\sum_{v \\in N_k(u)} s_{uv}}$$\n",
    "\n",
    "The intuition is that we are giving high scores to tracks that are in many playlists with great similarities to out playlist. We return the tracks ordered by score."
   ]
  },
  {
   "cell_type": "code",
   "execution_count": 60,
   "metadata": {},
   "outputs": [],
   "source": [
    "def continuation(playlist, k):\n",
    "    \"\"\"Continue a playlist based on k most similar playlists.\"\"\"\n",
    "    s_u = lil_matrix((1, m))\n",
    "    for alt_playlist_index, alt_playlist in playlists_training.items():\n",
    "        s_u[0, playlist_ids[alt_playlist_index]] = similarity(playlist, alt_playlist)\n",
    "    sorted_similarities_indices = np.flip(np.argsort(s_u.toarray()[0]))\n",
    "    top_k_similarities_indices = sorted_similarities_indices[:k]\n",
    "    scores = (s_u[0, top_k_similarities_indices]*R[top_k_similarities_indices, :]).toarray()[0]\n",
    "    sorted_scores_indices = np.flip(np.argsort(scores)[-500:])\n",
    "    return [track_ids_back[index] for index in sorted_scores_indices]"
   ]
  },
  {
   "cell_type": "markdown",
   "metadata": {},
   "source": [
    "## Evaluation"
   ]
  },
  {
   "cell_type": "markdown",
   "metadata": {},
   "source": [
    "### R-precision metric"
   ]
  },
  {
   "cell_type": "markdown",
   "metadata": {},
   "source": [
    "As described in it's work, [Chen et al.](https://dl.acm.org/doi/10.1145/3240323.3240342) suggest a metric for playlist continuation evaluation. They call it **R-precision**. It measures how many of the real tracks the model suggested correctly. In a variant, we will not consider the artists this time."
   ]
  },
  {
   "cell_type": "markdown",
   "metadata": {},
   "source": [
    "$$\\textrm{R-precision} = \\dfrac{||}{}$$"
   ]
  },
  {
   "cell_type": "code",
   "execution_count": 61,
   "metadata": {},
   "outputs": [],
   "source": [
    "def r_precision(S_t, G_t, S_a, G_a):\n",
    "    return (len(set(S_t) & set(G_t)) + 0.25 * len(set(S_a) & set(G_a))) / len(G_t)"
   ]
  },
  {
   "cell_type": "code",
   "execution_count": 62,
   "metadata": {},
   "outputs": [],
   "source": [
    "def evaluation(playlist_not_hidden, playlist_hidden, continuation):\n",
    "    continuation = continuation.copy()\n",
    "    for track in set(playlist_not_hidden):\n",
    "        if track in continuation:\n",
    "            continuation.remove(track)\n",
    "    continuation = continuation[:len(playlist_hidden)]\n",
    "    \n",
    "    G_a = []\n",
    "    for track in playlist_hidden:\n",
    "        G_a.extend(artists.iloc[artists_ids[track]])\n",
    "    S_a = []\n",
    "    for track in continuation:\n",
    "        S_a.extend(artists.iloc[artists_ids[track]])\n",
    "        \n",
    "    metric = r_precision(continuation, playlist_hidden, S_a, G_a)\n",
    "    return metric"
   ]
  },
  {
   "cell_type": "code",
   "execution_count": 97,
   "metadata": {},
   "outputs": [
    {
     "data": {
      "application/vnd.jupyter.widget-view+json": {
       "model_id": "825e1ce05da44e28922ce009666607e1",
       "version_major": 2,
       "version_minor": 0
      },
      "text/plain": [
       "HBox(children=(FloatProgress(value=0.0, max=1811.0), HTML(value='')))"
      ]
     },
     "metadata": {},
     "output_type": "display_data"
    },
    {
     "name": "stdout",
     "output_type": "stream",
     "text": [
      "\n",
      "The R-precision for our model is about 0.07761541803690636.\n",
      "A random model performs 0.001648345006687441.\n"
     ]
    }
   ],
   "source": [
    "k = len(playlists_training)\n",
    "\n",
    "sum_metric = 0\n",
    "sum_random = 0\n",
    "for playlist in tqdm(playlists_test):\n",
    "    playlist_not_hidden = playlist[:25]\n",
    "    playlist_hidden = playlist[25:]\n",
    "    continuated = continuation(playlist_not_hidden, k)\n",
    "    metric = evaluation(playlist_not_hidden, playlist_hidden, continuated)\n",
    "    random_metric = evaluation(playlist_not_hidden, playlist_hidden, random.sample(all_tracks, 500))\n",
    "    sum_metric += metric\n",
    "    sum_random += random_metric\n",
    "print('The R-precision for our model is about {}.'.format(sum_metric/len(playlists_test)))\n",
    "print('A random model performs {}.'.format(sum_random/len(playlists_test)))"
   ]
  },
  {
   "cell_type": "markdown",
   "metadata": {},
   "source": [
    "## Sanity check"
   ]
  },
  {
   "cell_type": "markdown",
   "metadata": {},
   "source": [
    "Before evaluating out model, it's worth it to do a sanity check. We will take the most listened songs from The Beatles and continue the playlist, with $k = 100$."
   ]
  },
  {
   "cell_type": "code",
   "execution_count": 119,
   "metadata": {},
   "outputs": [],
   "source": [
    "q = sp.search('Pink Floyd', type='artist')"
   ]
  },
  {
   "cell_type": "markdown",
   "metadata": {},
   "source": [
    "Our playlist to be continuated:"
   ]
  },
  {
   "cell_type": "code",
   "execution_count": 120,
   "metadata": {},
   "outputs": [
    {
     "data": {
      "text/plain": [
       "['Wish You Were Here',\n",
       " 'Another Brick in the Wall, Pt. 2',\n",
       " 'Comfortably Numb',\n",
       " 'Money',\n",
       " 'Time',\n",
       " 'Breathe (In the Air)',\n",
       " 'Hey You',\n",
       " 'Shine On You Crazy Diamond (Pts. 1-5)',\n",
       " 'The Great Gig in the Sky',\n",
       " 'Brain Damage']"
      ]
     },
     "execution_count": 120,
     "metadata": {},
     "output_type": "execute_result"
    }
   ],
   "source": [
    "[track['name'] for track in sp.artist_top_tracks(q['artists']['items'][0]['id'])['tracks']]"
   ]
  },
  {
   "cell_type": "markdown",
   "metadata": {},
   "source": [
    "Continuating..."
   ]
  },
  {
   "cell_type": "code",
   "execution_count": 121,
   "metadata": {},
   "outputs": [],
   "source": [
    "temp = sp.artist_top_tracks(q['artists']['items'][0]['id'])['tracks']\n",
    "result = continuation([track['id'] for track in temp], 1000)"
   ]
  },
  {
   "cell_type": "markdown",
   "metadata": {},
   "source": [
    "So:"
   ]
  },
  {
   "cell_type": "code",
   "execution_count": 122,
   "metadata": {},
   "outputs": [],
   "source": [
    "q = sp.tracks(result[:50])"
   ]
  },
  {
   "cell_type": "code",
   "execution_count": 123,
   "metadata": {},
   "outputs": [
    {
     "data": {
      "text/plain": [
       "[('Wish You Were Here', 'Pink Floyd'),\n",
       " ('Comfortably Numb', 'Pink Floyd'),\n",
       " ('My Sweet Lord - 2014 Mix', 'George Harrison'),\n",
       " ('Bohemian Rhapsody - 2011 Mix', 'Queen'),\n",
       " ('Walk On the Wild Side', 'Lou Reed'),\n",
       " ('American Idiot', 'Green Day'),\n",
       " ('Hey Jude - Remastered 2015', 'The Beatles'),\n",
       " ('My Generation - Stereo Version', 'The Who'),\n",
       " ('Another Brick in the Wall, Pt. 2', 'Pink Floyd'),\n",
       " ('Whole Lotta Love - 1990 Remaster', 'Led Zeppelin'),\n",
       " ('Float On', 'Modest Mouse'),\n",
       " ('Purple Haze', 'Jimi Hendrix'),\n",
       " (\"Can't Stop\", 'Red Hot Chili Peppers'),\n",
       " ('Last Nite', 'The Strokes'),\n",
       " ('Take It Easy - 2013 Remaster', 'Eagles'),\n",
       " ('A Horse with No Name', 'America'),\n",
       " ('Come Together - Remastered 2009', 'The Beatles'),\n",
       " (\"Rocket Man (I Think It's Going To Be A Long, Long Time)\", 'Elton John'),\n",
       " ('Down On The Corner', 'Creedence Clearwater Revival'),\n",
       " ('Kashmir - 1990 Remaster', 'Led Zeppelin'),\n",
       " ('Fortunate Son', 'Creedence Clearwater Revival'),\n",
       " ('Immigrant Song - 2012 Remaster', 'Led Zeppelin'),\n",
       " ('Go Your Own Way - 2004 Remaster', 'Fleetwood Mac'),\n",
       " ('Turn! Turn! Turn! (To Everything There Is a Season)', 'The Byrds'),\n",
       " (\"Baba O'Riley\", 'The Who')]"
      ]
     },
     "execution_count": 123,
     "metadata": {},
     "output_type": "execute_result"
    }
   ],
   "source": [
    "[(q['tracks'][i]['name'], q['tracks'][i]['artists'][0]['name']) for i in range(len(q['tracks']))][:25]"
   ]
  },
  {
   "cell_type": "markdown",
   "metadata": {},
   "source": [
    "Well, it seems to be working."
   ]
  }
 ],
 "metadata": {
  "kernelspec": {
   "display_name": "Python 3",
   "language": "python",
   "name": "python3"
  },
  "language_info": {
   "codemirror_mode": {
    "name": "ipython",
    "version": 3
   },
   "file_extension": ".py",
   "mimetype": "text/x-python",
   "name": "python",
   "nbconvert_exporter": "python",
   "pygments_lexer": "ipython3",
   "version": "3.8.3"
  }
 },
 "nbformat": 4,
 "nbformat_minor": 4
}
