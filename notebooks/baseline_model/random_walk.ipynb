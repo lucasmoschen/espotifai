{
 "cells": [
  {
   "cell_type": "markdown",
   "metadata": {},
   "source": [
    "# Baseline model: Random Walk\n",
    "\n",
    "## Based on the article [Timo van Niedek & Arjen P. de Vries](https://dl.acm.org/doi/pdf/10.1145/3267471.3267483)\n",
    "\n",
    "The ideia is to represent the playlist dataset as a bipartite graph. We use multiple random walks over it. The playlist title are used for prefiltering and ranking titles. This is the simplest way to use similarity between tracks. "
   ]
  },
  {
   "cell_type": "code",
   "execution_count": 1,
   "metadata": {},
   "outputs": [],
   "source": [
    "# Importing libraries \n",
    "import pandas as pd \n",
    "import numpy as np \n",
    "\n",
    "from scipy.sparse import lil_matrix\n",
    "from sklearn.model_selection import train_test_split\n",
    "from multiprocessing import Pool\n",
    "\n",
    "import seaborn as sns\n",
    "import matplotlib.pyplot as plt\n",
    "\n",
    "from tqdm.notebook import tqdm\n",
    "import glob\n",
    "import os"
   ]
  },
  {
   "cell_type": "markdown",
   "metadata": {},
   "source": [
    "## Playlist and Tracks Dataframes \n",
    "\n",
    "Here we get the playlists and the tracks. I get playlists with at least 5 tracks and at minimum 500 tracks, because it's uncommon out of these bounds. We will get only a small part of the users (200) because this is a baseline model, it's pretty simple and it's not optimezed. "
   ]
  },
  {
   "cell_type": "code",
   "execution_count": 2,
   "metadata": {},
   "outputs": [],
   "source": [
    "# Users Sample\n",
    "sample = 100   \n",
    "playlists_df = pd.read_pickle('../../data/sp_playlists.pkl')[['owner_id', 'id', 'tracks']]\n",
    "# Reproducibility\n",
    "seed = np.random.RandomState(100)  \n",
    "chosen_users = seed.choice(playlists_df.owner_id.unique(), size = sample, replace = False)\n",
    "playlists_df = playlists_df[playlists_df.owner_id.isin(chosen_users)]\n",
    "playlists_df.rename(columns = {'id': 'playlist_id', 'tracks': 'n_tracks'}, inplace = True)\n",
    "\n",
    "playlists_df.n_tracks = playlists_df.n_tracks.apply(lambda x: x['total'])\n",
    "\n",
    "# Getting Playlists with at least 5 tracks and maximum of 500 tracks\n",
    "playlists_df = playlists_df[(playlists_df.n_tracks >= 5) & (playlists_df.n_tracks <= 500)]\n",
    "\n",
    "del playlists_df['n_tracks']\n",
    "del playlists_df['owner_id']"
   ]
  },
  {
   "cell_type": "code",
   "execution_count": 3,
   "metadata": {
    "tags": []
   },
   "outputs": [
    {
     "data": {
      "application/vnd.jupyter.widget-view+json": {
       "model_id": "0b61c4b0b45d42c49f57af2fa55186bf",
       "version_major": 2,
       "version_minor": 0
      },
      "text/plain": [
       "HBox(children=(FloatProgress(value=0.0, max=128.0), HTML(value='')))"
      ]
     },
     "metadata": {},
     "output_type": "display_data"
    },
    {
     "name": "stdout",
     "output_type": "stream",
     "text": [
      "\n"
     ]
    }
   ],
   "source": [
    "tracks_df = pd.DataFrame()\n",
    "for file in tqdm(glob.glob('../../data/sp_tracks_ready_*.pkl')):\n",
    "    a = pd.read_pickle(file)[['id', 'playlist_id', 'artists_ids']]\n",
    "    a = a[a.playlist_id.isin(playlists_df.playlist_id)]\n",
    "    tracks_df = pd.concat([tracks_df, a], ignore_index = True)\n",
    "\n",
    "del playlists_df\n",
    "del a"
   ]
  },
  {
   "cell_type": "markdown",
   "metadata": {},
   "source": [
    "It will make easier to work with union and intersection in the accuracy metric. "
   ]
  },
  {
   "cell_type": "code",
   "execution_count": 4,
   "metadata": {},
   "outputs": [],
   "source": [
    "tracks_df = tracks_df[~tracks_df.artists_ids.isnull()] \n",
    "tracks_df['artists_ids'] = tracks_df.artists_ids.apply(set)"
   ]
  },
  {
   "cell_type": "markdown",
   "metadata": {},
   "source": [
    "## Model\n",
    "\n",
    "### Bipartite Graph\n",
    "\n",
    "We build a Bipartite Graph, through a sparse matrix, where the lines are the playlists (like groups) and the columns are the tracks. If the track is in the playlist, we mark 1. \n",
    "\n",
    "### Random Walk\n",
    "\n",
    "Starting with a playlist, or a sequence of tracks, we can obtain a completation using a random walk with restart. For each song we walk in the graph and count the tracks we passed through. We get the tracks with high counts. The parameter $N_q = N/|P|$ is how many walks we will give, except by a parameter $\\alpha$, the probability of restart. "
   ]
  },
  {
   "cell_type": "code",
   "execution_count": 5,
   "metadata": {},
   "outputs": [],
   "source": [
    "class RandomWalkPlaylists:\n",
    "    \n",
    "    def __init__(self, tracks: pd.DataFrame, playlists: pd.DataFrame): \n",
    "        '''Implementation of the Simmilarity Model described above. \n",
    "           The metric used are describe in PATS article. \n",
    "           - tracks: all the tracks in your world. \n",
    "           - playlists: the training playlists.\n",
    "        '''\n",
    "        \n",
    "        self.tracks = tracks\n",
    "        self.tracks_index = self.tracks[['id']].drop_duplicates('id').reset_index()\n",
    "        self.playlists = playlists.drop_duplicates().reset_index()\n",
    "\n",
    "    def fit(self): \n",
    "\n",
    "        self.graph = self._build_graph()\n",
    "\n",
    "    def _get_index(self, objects_ids, t_or_p):\n",
    "        if t_or_p == 't': \n",
    "            indexes = self.tracks_index[self.tracks_index.id.isin(objects_ids)].index\n",
    "        elif t_or_p == 'p':\n",
    "            indexes = self.playlists[self.playlists.playlist_id.isin(objects_ids)].index\n",
    "        return list(indexes)\n",
    "    \n",
    "    def _get_object_id(self, index, t_or_p):\n",
    "        if t_or_p == 't': \n",
    "            object_id = self.tracks_index.loc[index]\n",
    "        elif t_or_p == 'p':\n",
    "            object_id = self.playlists.loc[index]\n",
    "        return object_id.id\n",
    "    \n",
    "    def _build_graph(self): \n",
    "        \n",
    "        T = len(self.tracks_index)\n",
    "        P = len(self.playlists)\n",
    "        \n",
    "        graph = lil_matrix((P, T), dtype = int)\n",
    "        \n",
    "        for playlist_id in tqdm(self.playlists.playlist_id): \n",
    "            playlist_index = self._get_index({playlist_id}, 'p')\n",
    "            tracks_ids = self.tracks[self.tracks.playlist_id == playlist_id].id\n",
    "            indexes = self._get_index(tracks_ids, 't')\n",
    "            \n",
    "            graph[playlist_index, indexes] = -1\n",
    "        \n",
    "        return graph\n",
    "    \n",
    "    def _random_playlist(self, graph, track_index): \n",
    "        \n",
    "        # We have a one column matrix. I get the lines(playlists)\n",
    "        nonzerolines = graph[:,track_index].nonzero()[0]\n",
    "        if len(nonzerolines) == 0: \n",
    "            return None\n",
    "        return np.random.choice(nonzerolines)\n",
    "    \n",
    "    def _random_track(self, graph, playlist_index): \n",
    "        \n",
    "        # We have a one line matrix. I get the columns (tracks)\n",
    "        nonzerocolumns = graph[playlist_index,:].nonzero()[1]\n",
    "        if len(nonzerocolumns) == 0:\n",
    "            return None\n",
    "        return np.random.choice(nonzerocolumns)\n",
    "            \n",
    "    def _simple_random_walk(self, graph, track, alpha: float, Nq: int): \n",
    "        '''Function to wandom walk given a track.'''\n",
    "        n = 0\n",
    "        # counting set\n",
    "        V = {}       \n",
    "        while n < Nq: \n",
    "            t_curr = track\n",
    "            n_curr = 0\n",
    "            N_curr = np.random.geometric(alpha)\n",
    "            while n_curr < N_curr or n + n_curr < Nq:\n",
    "                p_curr = self._random_playlist(graph, t_curr)\n",
    "                n_curr += 1\n",
    "                if not p_curr:\n",
    "                    continue\n",
    "                t_curr = self._random_track(graph, p_curr)\n",
    "                if not t_curr: \n",
    "                    continue\n",
    "                if t_curr in V:  \n",
    "                    V[t_curr] += 1\n",
    "                else:\n",
    "                    V[t_curr] = 1\n",
    "            n += n_curr\n",
    "        return V\n",
    "            \n",
    "    def multiple_random_walks(self, graph, playlist_not_hidden, alpha: float, N: int):\n",
    "        '''Function to do random walk for every track. \n",
    "            - alpha: probabilitity of restart again in the search. \n",
    "            - N: maximum number of operations. \n",
    "        '''\n",
    "        query_tracks = self._get_index(playlist_not_hidden.id, 't')\n",
    "        n = len(query_tracks)\n",
    "        if n == 0:\n",
    "            return None\n",
    "        Nq = N/n\n",
    "        V = {}\n",
    "        for track in query_tracks:\n",
    "            Vq = self._simple_random_walk(graph, track, alpha, Nq)\n",
    "            V.update(Vq)\n",
    "            \n",
    "        return V\n",
    "\n",
    "    def predict(self, playlist_not_hidden, alpha: float, N: int, number_of_tracks): \n",
    "\n",
    "        V = self.multiple_random_walks(self.graph, playlist_not_hidden, alpha, N)\n",
    "        if V is None:\n",
    "            return None\n",
    "        chosen = sorted(V.items(), key = lambda x: x[1], reverse = True)[0:number_of_tracks]\n",
    "        chosen = [c[0] for c in chosen]\n",
    "        chosen_tracks = self._get_object_id(chosen, 't')\n",
    "        return self.tracks[self.tracks.id.isin(chosen_tracks)].drop_duplicates('id')\n",
    "\n",
    "    def accuracy_metric(self, predicted, true, n, j):\n",
    "\n",
    "        G_a = set() \n",
    "        for artist_id in predicted.artists_ids:\n",
    "            G_a = G_a.union(artist_id)\n",
    "\n",
    "        S_a = set()\n",
    "        for artist_id in true.artists_ids:\n",
    "            S_a = S_a.union(artist_id)\n",
    "\n",
    "        ytrue = set(true.id)\n",
    "        yhat = set(predicted.id)\n",
    "\n",
    "        acc = (len(ytrue & yhat) + 0.25*len(S_a & G_a))/(n - j)\n",
    "        return acc\n",
    "    \n",
    "    def evaluate_model(self, playlists_test, alpha: float, N: int, rate: 0.7): \n",
    "\n",
    "        accuracy = []\n",
    "\n",
    "        for playlist_id in tqdm(playlists_test): \n",
    "\n",
    "            playlist = self.tracks[self.tracks.playlist_id == playlist_id]\n",
    "            n = len(playlist)\n",
    "            if n <= 5:\n",
    "                continue\n",
    "            playlist_not_hidden = playlist.iloc[0: int(n*rate)]\n",
    "            playlist_hidden = playlist.iloc[int(n*rate):]\n",
    "\n",
    "            predicted = self.predict(playlist_not_hidden, alpha, N, n - int(n*rate))\n",
    "            acc = self.accuracy_metric(predicted, playlist_hidden, n, int(n*rate))\n",
    "            accuracy.append(acc)\n",
    "        \n",
    "        return np.mean(accuracy)"
   ]
  },
  {
   "cell_type": "markdown",
   "metadata": {},
   "source": [
    "## Evaluation \n",
    "\n",
    "### R-precision metric\n",
    "\n",
    "As described in their work, [Chen et al.](https://dl.acm.org/doi/10.1145/3240323.3240342) suggests a metric for playlist continuation evaluation. They call it **R-precision**. It measures how many of the real tracks (and their artists) the model suggested correctly.\n",
    "\n",
    "A playlist as input to the model has two parts: its part on display to the model and it's hidden part. The hidden part is what the model try to predict and is called *ground truth*.\n",
    "\n",
    "$$\\textrm{R-precision} = \\dfrac{|S_T \\cap G_T| + 0.25 \\cdot |S_A \\cap G_A|}{|G_T|}$$\n",
    "\n",
    "$G_T$ is the set of unique track IDs from ground truth, that is, the unique hidden tracks. $S_T$ is the suggested tracks from our model. $G_A$ is the set of unique artists IDs from ground truth and $S_A$ is the set of predicted artists. The metric can be interpreted as accuracy (although it can be greater than 1), but giving some score for wrong tracks with right artists."
   ]
  },
  {
   "cell_type": "markdown",
   "metadata": {},
   "source": [
    "```\n",
    "def accuracy_metric(predicted, true, n, j):\n",
    "\n",
    "    G_a = set() \n",
    "    for artist_id in predicted.artists_ids:\n",
    "        G_a = G_a.union(artist_id)\n",
    "\n",
    "    S_a = set()\n",
    "    for artist_id in true.artists_ids:\n",
    "        S_a = S_a.union(artist_id)\n",
    "\n",
    "    ytrue = set(true.id)\n",
    "    yhat = set(predicted.id)\n",
    "\n",
    "    acc = (len(ytrue & yhat) - j + 0.25*len(S_a & G_a))/(n - j)\n",
    "    return acc\n",
    "``` "
   ]
  },
  {
   "cell_type": "markdown",
   "metadata": {},
   "source": [
    "## Training the model\n",
    "\n",
    "First, I will get `playlist_id` for train and test. I drop the duplicates cause I'm not interested in playlists with repeated tracks. We will use only a small subset because it's a simple model without optimizations. "
   ]
  },
  {
   "cell_type": "code",
   "execution_count": 6,
   "metadata": {},
   "outputs": [],
   "source": [
    "tracks_subset = tracks_df.drop_duplicates(['id', 'playlist_id'])\n",
    "playlists = tracks_subset.drop_duplicates('playlist_id').playlist_id\n",
    "tracks_subset = tracks_subset[tracks_subset.playlist_id.isin(playlists)]\n",
    "tv, test = train_test_split(playlists, random_state = 100)\n",
    "train, validate = train_test_split(tv, random_state = 200)"
   ]
  },
  {
   "cell_type": "code",
   "execution_count": 7,
   "metadata": {
    "tags": []
   },
   "outputs": [
    {
     "data": {
      "application/vnd.jupyter.widget-view+json": {
       "model_id": "9d024c63f87b40bf8ea310d7eed95394",
       "version_major": 2,
       "version_minor": 0
      },
      "text/plain": [
       "HBox(children=(FloatProgress(value=0.0, max=1655.0), HTML(value='')))"
      ]
     },
     "metadata": {},
     "output_type": "display_data"
    },
    {
     "name": "stdout",
     "output_type": "stream",
     "text": [
      "\n"
     ]
    }
   ],
   "source": [
    "model = RandomWalkPlaylists(tracks_subset, train) \n",
    "model.fit()"
   ]
  },
  {
   "cell_type": "markdown",
   "metadata": {},
   "source": [
    "## Using the parameter $\\alpha$. \n",
    "\n",
    "Depending the chosen $N$, the time grows exponencially! I will keep it 1000 because low it performs worst and more than that, the computation is pretty expensive. "
   ]
  },
  {
   "cell_type": "code",
   "execution_count": 8,
   "metadata": {
    "tags": []
   },
   "outputs": [
    {
     "name": "stdout",
     "output_type": "stream",
     "text": [
      "\n"
     ]
    },
    {
     "data": {
      "application/vnd.jupyter.widget-view+json": {
       "model_id": "d21765e373684e5995563fe5841a28c3",
       "version_major": 2,
       "version_minor": 0
      },
      "text/plain": [
       "HBox(children=(FloatProgress(value=0.0, max=552.0), HTML(value='')))"
      ]
     },
     "metadata": {},
     "output_type": "display_data"
    },
    {
     "name": "stdout",
     "output_type": "stream",
     "text": [
      "\n",
      "\n",
      "\n",
      "\n"
     ]
    }
   ],
   "source": [
    "alphas = [0.5, 0.6, 0.7, 0.8, 0.9]\n",
    "\n",
    "parameters = [[validate, alpha, 1000, 0.7] for alpha in alphas]\n",
    "\n",
    "with Pool(4) as pool:\n",
    "    evaluation = pool.starmap(model.evaluate_model, parameters)"
   ]
  },
  {
   "cell_type": "code",
   "execution_count": 9,
   "metadata": {},
   "outputs": [
    {
     "data": {
      "image/png": "[encoded data removed]",
      "text/plain": [
       "<Figure size 720x360 with 1 Axes>"
      ]
     },
     "metadata": {
      "needs_background": "light"
     },
     "output_type": "display_data"
    }
   ],
   "source": [
    "fig, ax = plt.subplots(figsize = (10, 5))\n",
    "ax.plot(alphas, evaluation)\n",
    "ax.set_title('Evaluation on the Validation Set')\n",
    "ax.set_ylabel('R-precision')\n",
    "ax.set_xlabel('alpha')\n",
    "plt.grid(alpha = 0.5, color = 'grey', linestyle = '--')\n",
    "plt.show()"
   ]
  },
  {
   "cell_type": "markdown",
   "metadata": {},
   "source": [
    "### Varying the ratio parameter\n",
    "\n",
    "The ratio parameter indicates how much of the playlist we know before."
   ]
  },
  {
   "cell_type": "code",
   "execution_count": 10,
   "metadata": {},
   "outputs": [],
   "source": [
    "alpha_best = alphas[np.argmax(evaluation)]"
   ]
  },
  {
   "cell_type": "code",
   "execution_count": 8,
   "metadata": {},
   "outputs": [],
   "source": [
    "model_best = RandomWalkPlaylists(tracks_subset, tv) "
   ]
  },
  {
   "cell_type": "code",
   "execution_count": 9,
   "metadata": {},
   "outputs": [
    {
     "data": {
      "application/vnd.jupyter.widget-view+json": {
       "model_id": "835c94d2226942439d5990cc9e81d888",
       "version_major": 2,
       "version_minor": 0
      },
      "text/plain": [
       "HBox(children=(FloatProgress(value=0.0, max=1655.0), HTML(value='')))"
      ]
     },
     "metadata": {},
     "output_type": "display_data"
    },
    {
     "name": "stdout",
     "output_type": "stream",
     "text": [
      "\n"
     ]
    }
   ],
   "source": [
    "model_best.fit()"
   ]
  },
  {
   "cell_type": "code",
   "execution_count": 11,
   "metadata": {},
   "outputs": [
    {
     "name": "stdout",
     "output_type": "stream",
     "text": [
      "\n",
      "\n",
      "\n",
      "\n"
     ]
    }
   ],
   "source": [
    "ratios = [0.4, 0.6, 0.8, 0.9]\n",
    "\n",
    "parameters = [[test, alpha_best, 1000, ratio] for ratio in ratios]\n",
    "\n",
    "with Pool(4) as pool:\n",
    "    evaluation = pool.starmap(model_best.evaluate_model, parameters)"
   ]
  },
  {
   "cell_type": "code",
   "execution_count": 12,
   "metadata": {},
   "outputs": [
    {
     "data": {
      "image/png": "[encoded data removed]",
      "text/plain": [
       "<Figure size 720x360 with 1 Axes>"
      ]
     },
     "metadata": {
      "needs_background": "light"
     },
     "output_type": "display_data"
    }
   ],
   "source": [
    "fig, ax = plt.subplots(figsize = (10, 5))\n",
    "ax.plot(ratios, evaluation)\n",
    "ax.set_title('Evaluation on the Test Set')\n",
    "ax.set_ylabel('R-precision')\n",
    "ax.set_xlabel('ratio')\n",
    "plt.grid(alpha = 0.5, color = 'grey', linestyle = '--')\n",
    "plt.show()"
   ]
  }
 ],
 "metadata": {
  "kernelspec": {
   "display_name": "Python (espotifai)",
   "language": "python",
   "name": "espotify"
  },
  "language_info": {
   "codemirror_mode": {
    "name": "ipython",
    "version": 3
   },
   "file_extension": ".py",
   "mimetype": "text/x-python",
   "name": "python",
   "nbconvert_exporter": "python",
   "pygments_lexer": "ipython3",
   "version": "3.8.5"
  }
 },
 "nbformat": 4,
 "nbformat_minor": 2
}
